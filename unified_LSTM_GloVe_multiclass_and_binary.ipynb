{
  "nbformat": 4,
  "nbformat_minor": 0,
  "metadata": {
    "accelerator": "GPU",
    "colab": {
      "name": " unified LSTM-GloVe-multiclass-and-binary.ipynb",
      "provenance": [],
      "collapsed_sections": [],
      "machine_shape": "hm",
      "include_colab_link": true
    },
    "kernelspec": {
      "display_name": "Python 3",
      "language": "python",
      "name": "python3"
    },
    "language_info": {
      "codemirror_mode": {
        "name": "ipython",
        "version": 3
      },
      "file_extension": ".py",
      "mimetype": "text/x-python",
      "name": "python",
      "nbconvert_exporter": "python",
      "pygments_lexer": "ipython3",
      "version": "3.6.7"
    },
    "widgets": {
      "application/vnd.jupyter.widget-state+json": {
        "24645c4404f74e89baa0382d7055389b": {
          "model_module": "@jupyter-widgets/controls",
          "model_name": "HBoxModel",
          "state": {
            "_view_name": "HBoxView",
            "_dom_classes": [],
            "_model_name": "HBoxModel",
            "_view_module": "@jupyter-widgets/controls",
            "_model_module_version": "1.5.0",
            "_view_count": null,
            "_view_module_version": "1.5.0",
            "box_style": "",
            "layout": "IPY_MODEL_f66e15e32b634757b013d07b81853018",
            "_model_module": "@jupyter-widgets/controls",
            "children": [
              "IPY_MODEL_d0f8f16fda4e460dacf69d1774c54bbc",
              "IPY_MODEL_8e34ace40c27440281fd6c87dae708af"
            ]
          }
        },
        "f66e15e32b634757b013d07b81853018": {
          "model_module": "@jupyter-widgets/base",
          "model_name": "LayoutModel",
          "state": {
            "_view_name": "LayoutView",
            "grid_template_rows": null,
            "right": null,
            "justify_content": null,
            "_view_module": "@jupyter-widgets/base",
            "overflow": null,
            "_model_module_version": "1.2.0",
            "_view_count": null,
            "flex_flow": null,
            "width": null,
            "min_width": null,
            "border": null,
            "align_items": null,
            "bottom": null,
            "_model_module": "@jupyter-widgets/base",
            "top": null,
            "grid_column": null,
            "overflow_y": null,
            "overflow_x": null,
            "grid_auto_flow": null,
            "grid_area": null,
            "grid_template_columns": null,
            "flex": null,
            "_model_name": "LayoutModel",
            "justify_items": null,
            "grid_row": null,
            "max_height": null,
            "align_content": null,
            "visibility": null,
            "align_self": null,
            "height": null,
            "min_height": null,
            "padding": null,
            "grid_auto_rows": null,
            "grid_gap": null,
            "max_width": null,
            "order": null,
            "_view_module_version": "1.2.0",
            "grid_template_areas": null,
            "object_position": null,
            "object_fit": null,
            "grid_auto_columns": null,
            "margin": null,
            "display": null,
            "left": null
          }
        },
        "d0f8f16fda4e460dacf69d1774c54bbc": {
          "model_module": "@jupyter-widgets/controls",
          "model_name": "FloatProgressModel",
          "state": {
            "_view_name": "ProgressView",
            "style": "IPY_MODEL_89701557d5ef4b8b96a2c45fd0c550ed",
            "_dom_classes": [],
            "description": "",
            "_model_name": "FloatProgressModel",
            "bar_style": "success",
            "max": 12000,
            "_view_module": "@jupyter-widgets/controls",
            "_model_module_version": "1.5.0",
            "value": 12000,
            "_view_count": null,
            "_view_module_version": "1.5.0",
            "orientation": "horizontal",
            "min": 0,
            "description_tooltip": null,
            "_model_module": "@jupyter-widgets/controls",
            "layout": "IPY_MODEL_891ff1f612604d5396dd514e29e1774a"
          }
        },
        "8e34ace40c27440281fd6c87dae708af": {
          "model_module": "@jupyter-widgets/controls",
          "model_name": "HTMLModel",
          "state": {
            "_view_name": "HTMLView",
            "style": "IPY_MODEL_9e61bfffca0f4eff84d64293125ece54",
            "_dom_classes": [],
            "description": "",
            "_model_name": "HTMLModel",
            "placeholder": "​",
            "_view_module": "@jupyter-widgets/controls",
            "_model_module_version": "1.5.0",
            "value": " 16285/? [00:49&lt;00:00, 329.00it/s]",
            "_view_count": null,
            "_view_module_version": "1.5.0",
            "description_tooltip": null,
            "_model_module": "@jupyter-widgets/controls",
            "layout": "IPY_MODEL_21b1ca1756b9440aba405d0f915253d4"
          }
        },
        "89701557d5ef4b8b96a2c45fd0c550ed": {
          "model_module": "@jupyter-widgets/controls",
          "model_name": "ProgressStyleModel",
          "state": {
            "_view_name": "StyleView",
            "_model_name": "ProgressStyleModel",
            "description_width": "initial",
            "_view_module": "@jupyter-widgets/base",
            "_model_module_version": "1.5.0",
            "_view_count": null,
            "_view_module_version": "1.2.0",
            "bar_color": null,
            "_model_module": "@jupyter-widgets/controls"
          }
        },
        "891ff1f612604d5396dd514e29e1774a": {
          "model_module": "@jupyter-widgets/base",
          "model_name": "LayoutModel",
          "state": {
            "_view_name": "LayoutView",
            "grid_template_rows": null,
            "right": null,
            "justify_content": null,
            "_view_module": "@jupyter-widgets/base",
            "overflow": null,
            "_model_module_version": "1.2.0",
            "_view_count": null,
            "flex_flow": null,
            "width": null,
            "min_width": null,
            "border": null,
            "align_items": null,
            "bottom": null,
            "_model_module": "@jupyter-widgets/base",
            "top": null,
            "grid_column": null,
            "overflow_y": null,
            "overflow_x": null,
            "grid_auto_flow": null,
            "grid_area": null,
            "grid_template_columns": null,
            "flex": null,
            "_model_name": "LayoutModel",
            "justify_items": null,
            "grid_row": null,
            "max_height": null,
            "align_content": null,
            "visibility": null,
            "align_self": null,
            "height": null,
            "min_height": null,
            "padding": null,
            "grid_auto_rows": null,
            "grid_gap": null,
            "max_width": null,
            "order": null,
            "_view_module_version": "1.2.0",
            "grid_template_areas": null,
            "object_position": null,
            "object_fit": null,
            "grid_auto_columns": null,
            "margin": null,
            "display": null,
            "left": null
          }
        },
        "9e61bfffca0f4eff84d64293125ece54": {
          "model_module": "@jupyter-widgets/controls",
          "model_name": "DescriptionStyleModel",
          "state": {
            "_view_name": "StyleView",
            "_model_name": "DescriptionStyleModel",
            "description_width": "",
            "_view_module": "@jupyter-widgets/base",
            "_model_module_version": "1.5.0",
            "_view_count": null,
            "_view_module_version": "1.2.0",
            "_model_module": "@jupyter-widgets/controls"
          }
        },
        "21b1ca1756b9440aba405d0f915253d4": {
          "model_module": "@jupyter-widgets/base",
          "model_name": "LayoutModel",
          "state": {
            "_view_name": "LayoutView",
            "grid_template_rows": null,
            "right": null,
            "justify_content": null,
            "_view_module": "@jupyter-widgets/base",
            "overflow": null,
            "_model_module_version": "1.2.0",
            "_view_count": null,
            "flex_flow": null,
            "width": null,
            "min_width": null,
            "border": null,
            "align_items": null,
            "bottom": null,
            "_model_module": "@jupyter-widgets/base",
            "top": null,
            "grid_column": null,
            "overflow_y": null,
            "overflow_x": null,
            "grid_auto_flow": null,
            "grid_area": null,
            "grid_template_columns": null,
            "flex": null,
            "_model_name": "LayoutModel",
            "justify_items": null,
            "grid_row": null,
            "max_height": null,
            "align_content": null,
            "visibility": null,
            "align_self": null,
            "height": null,
            "min_height": null,
            "padding": null,
            "grid_auto_rows": null,
            "grid_gap": null,
            "max_width": null,
            "order": null,
            "_view_module_version": "1.2.0",
            "grid_template_areas": null,
            "object_position": null,
            "object_fit": null,
            "grid_auto_columns": null,
            "margin": null,
            "display": null,
            "left": null
          }
        },
        "f2b000fb80924defb5ccbfdb26ec913e": {
          "model_module": "@jupyter-widgets/controls",
          "model_name": "HBoxModel",
          "state": {
            "_view_name": "HBoxView",
            "_dom_classes": [],
            "_model_name": "HBoxModel",
            "_view_module": "@jupyter-widgets/controls",
            "_model_module_version": "1.5.0",
            "_view_count": null,
            "_view_module_version": "1.5.0",
            "box_style": "",
            "layout": "IPY_MODEL_93ef22c9e6624ef790b3a699af5cd205",
            "_model_module": "@jupyter-widgets/controls",
            "children": [
              "IPY_MODEL_f42e6f6da4184bd1aa3aa6a54f342959",
              "IPY_MODEL_4e6ec6d3accc4fee8d9fa84a9fe25384"
            ]
          }
        },
        "93ef22c9e6624ef790b3a699af5cd205": {
          "model_module": "@jupyter-widgets/base",
          "model_name": "LayoutModel",
          "state": {
            "_view_name": "LayoutView",
            "grid_template_rows": null,
            "right": null,
            "justify_content": null,
            "_view_module": "@jupyter-widgets/base",
            "overflow": null,
            "_model_module_version": "1.2.0",
            "_view_count": null,
            "flex_flow": null,
            "width": null,
            "min_width": null,
            "border": null,
            "align_items": null,
            "bottom": null,
            "_model_module": "@jupyter-widgets/base",
            "top": null,
            "grid_column": null,
            "overflow_y": null,
            "overflow_x": null,
            "grid_auto_flow": null,
            "grid_area": null,
            "grid_template_columns": null,
            "flex": null,
            "_model_name": "LayoutModel",
            "justify_items": null,
            "grid_row": null,
            "max_height": null,
            "align_content": null,
            "visibility": null,
            "align_self": null,
            "height": null,
            "min_height": null,
            "padding": null,
            "grid_auto_rows": null,
            "grid_gap": null,
            "max_width": null,
            "order": null,
            "_view_module_version": "1.2.0",
            "grid_template_areas": null,
            "object_position": null,
            "object_fit": null,
            "grid_auto_columns": null,
            "margin": null,
            "display": null,
            "left": null
          }
        },
        "f42e6f6da4184bd1aa3aa6a54f342959": {
          "model_module": "@jupyter-widgets/controls",
          "model_name": "FloatProgressModel",
          "state": {
            "_view_name": "ProgressView",
            "style": "IPY_MODEL_4761220d857c4b99a3955790924bac21",
            "_dom_classes": [],
            "description": "",
            "_model_name": "FloatProgressModel",
            "bar_style": "success",
            "max": 12000,
            "_view_module": "@jupyter-widgets/controls",
            "_model_module_version": "1.5.0",
            "value": 12000,
            "_view_count": null,
            "_view_module_version": "1.5.0",
            "orientation": "horizontal",
            "min": 0,
            "description_tooltip": null,
            "_model_module": "@jupyter-widgets/controls",
            "layout": "IPY_MODEL_8eb7c3f1154546288de43d9a58411b72"
          }
        },
        "4e6ec6d3accc4fee8d9fa84a9fe25384": {
          "model_module": "@jupyter-widgets/controls",
          "model_name": "HTMLModel",
          "state": {
            "_view_name": "HTMLView",
            "style": "IPY_MODEL_4692e9d6703847988fdec46eaf7b040d",
            "_dom_classes": [],
            "description": "",
            "_model_name": "HTMLModel",
            "placeholder": "​",
            "_view_module": "@jupyter-widgets/controls",
            "_model_module_version": "1.5.0",
            "value": " 20242/? [00:47&lt;00:00, 429.43it/s]",
            "_view_count": null,
            "_view_module_version": "1.5.0",
            "description_tooltip": null,
            "_model_module": "@jupyter-widgets/controls",
            "layout": "IPY_MODEL_51775b0ebcbf43b59dc279d2e5c4bdea"
          }
        },
        "4761220d857c4b99a3955790924bac21": {
          "model_module": "@jupyter-widgets/controls",
          "model_name": "ProgressStyleModel",
          "state": {
            "_view_name": "StyleView",
            "_model_name": "ProgressStyleModel",
            "description_width": "initial",
            "_view_module": "@jupyter-widgets/base",
            "_model_module_version": "1.5.0",
            "_view_count": null,
            "_view_module_version": "1.2.0",
            "bar_color": null,
            "_model_module": "@jupyter-widgets/controls"
          }
        },
        "8eb7c3f1154546288de43d9a58411b72": {
          "model_module": "@jupyter-widgets/base",
          "model_name": "LayoutModel",
          "state": {
            "_view_name": "LayoutView",
            "grid_template_rows": null,
            "right": null,
            "justify_content": null,
            "_view_module": "@jupyter-widgets/base",
            "overflow": null,
            "_model_module_version": "1.2.0",
            "_view_count": null,
            "flex_flow": null,
            "width": null,
            "min_width": null,
            "border": null,
            "align_items": null,
            "bottom": null,
            "_model_module": "@jupyter-widgets/base",
            "top": null,
            "grid_column": null,
            "overflow_y": null,
            "overflow_x": null,
            "grid_auto_flow": null,
            "grid_area": null,
            "grid_template_columns": null,
            "flex": null,
            "_model_name": "LayoutModel",
            "justify_items": null,
            "grid_row": null,
            "max_height": null,
            "align_content": null,
            "visibility": null,
            "align_self": null,
            "height": null,
            "min_height": null,
            "padding": null,
            "grid_auto_rows": null,
            "grid_gap": null,
            "max_width": null,
            "order": null,
            "_view_module_version": "1.2.0",
            "grid_template_areas": null,
            "object_position": null,
            "object_fit": null,
            "grid_auto_columns": null,
            "margin": null,
            "display": null,
            "left": null
          }
        },
        "4692e9d6703847988fdec46eaf7b040d": {
          "model_module": "@jupyter-widgets/controls",
          "model_name": "DescriptionStyleModel",
          "state": {
            "_view_name": "StyleView",
            "_model_name": "DescriptionStyleModel",
            "description_width": "",
            "_view_module": "@jupyter-widgets/base",
            "_model_module_version": "1.5.0",
            "_view_count": null,
            "_view_module_version": "1.2.0",
            "_model_module": "@jupyter-widgets/controls"
          }
        },
        "51775b0ebcbf43b59dc279d2e5c4bdea": {
          "model_module": "@jupyter-widgets/base",
          "model_name": "LayoutModel",
          "state": {
            "_view_name": "LayoutView",
            "grid_template_rows": null,
            "right": null,
            "justify_content": null,
            "_view_module": "@jupyter-widgets/base",
            "overflow": null,
            "_model_module_version": "1.2.0",
            "_view_count": null,
            "flex_flow": null,
            "width": null,
            "min_width": null,
            "border": null,
            "align_items": null,
            "bottom": null,
            "_model_module": "@jupyter-widgets/base",
            "top": null,
            "grid_column": null,
            "overflow_y": null,
            "overflow_x": null,
            "grid_auto_flow": null,
            "grid_area": null,
            "grid_template_columns": null,
            "flex": null,
            "_model_name": "LayoutModel",
            "justify_items": null,
            "grid_row": null,
            "max_height": null,
            "align_content": null,
            "visibility": null,
            "align_self": null,
            "height": null,
            "min_height": null,
            "padding": null,
            "grid_auto_rows": null,
            "grid_gap": null,
            "max_width": null,
            "order": null,
            "_view_module_version": "1.2.0",
            "grid_template_areas": null,
            "object_position": null,
            "object_fit": null,
            "grid_auto_columns": null,
            "margin": null,
            "display": null,
            "left": null
          }
        }
      }
    }
  },
  "cells": [
    {
      "cell_type": "markdown",
      "metadata": {
        "id": "view-in-github",
        "colab_type": "text"
      },
      "source": [
        "<a href=\"https://colab.research.google.com/github/linhnguyen222/DPS-Silo/blob/master/unified_LSTM_GloVe_multiclass_and_binary.ipynb\" target=\"_parent\"><img src=\"https://colab.research.google.com/assets/colab-badge.svg\" alt=\"Open In Colab\"/></a>"
      ]
    },
    {
      "cell_type": "markdown",
      "metadata": {
        "id": "vauYW92gImDV"
      },
      "source": [
        "###LSTM using GLOVE for full sentence multiclass and binary classification"
      ]
    },
    {
      "cell_type": "code",
      "metadata": {
        "id": "a6975jfopf4u"
      },
      "source": [
        "import numpy as np\n",
        "import tensorflow as tf\n",
        "import keras\n",
        "import pathlib \n",
        "from pathlib import Path\n",
        "import numpy as np\n",
        "import pandas as pd\n",
        "#from pytorch_pretrained_bert import BertTokenizer\n",
        "import torch\n",
        "from pandas import DataFrame\n"
      ],
      "execution_count": 135,
      "outputs": []
    },
    {
      "cell_type": "markdown",
      "metadata": {
        "id": "GkDk6v1wGwRd"
      },
      "source": [
        "###Setting the helper functions to read in the data.\n",
        "\n"
      ]
    },
    {
      "cell_type": "code",
      "metadata": {
        "id": "Oa5_m4OUpoz-"
      },
      "source": [
        "def read_data(directory):\n",
        "    ids = []\n",
        "    texts = []\n",
        "    labels = []\n",
        "    for f in directory.glob('*.txt'):\n",
        "        id = f.name.replace('article', '').replace('.txt','')\n",
        "        ids.append(id)\n",
        "        texts.append(f.read_text())\n",
        "        labels.append(parse_label(f.as_posix().replace('.txt', '.labels.tsv')))\n",
        "    # labels can be empty \n",
        "    return ids, texts, labels\n",
        "\n",
        "def clean_text(articles, ids):\n",
        "    texts = []\n",
        "    for article, id in zip(articles, ids):\n",
        "        sentences = article.split('\\n')\n",
        "        start = 0\n",
        "        end = -1\n",
        "        res = []\n",
        "        for sentence in sentences:\n",
        "           start = end + 1\n",
        "           end = start + len(sentence)  # length of sequence \n",
        "           if sentence != \"\": # if not empty line\n",
        "               res.append([id, sentence, start, end])\n",
        "        texts.append(res)\n",
        "    return texts\n",
        "\n",
        "\n",
        "def make_dataset(directory):\n",
        "    ids, texts, labels = read_data(directory)\n",
        "    texts = clean_text(texts, ids)\n",
        "    res = []\n",
        "    for text, label in zip(texts, labels):\n",
        "        # making positive examples\n",
        "        tmp = [] \n",
        "        pos_ind = [0] * len(text)\n",
        "        for l in label:\n",
        "            for i, sen in enumerate(text):\n",
        "                if l[0] >= sen[2] and l[0] < sen[3] and l[1] > sen[3]:\n",
        "                    l[4] = 1\n",
        "                    tmp.append(sen + [l[0], sen[3], l[2], l[3], l[4]])\n",
        "                    pos_ind[i] = 1\n",
        "                    l[0] = sen[3] + 1\n",
        "                elif l[0] != l[1] and l[0] >= sen[2] and l[0] < sen[3] and l[1] <= sen[3]: \n",
        "                    tmp.append(sen + l)\n",
        "                    pos_ind[i] = 1\n",
        "        # making negative examples\n",
        "        dummy = [0, 0, 'O', 0, 0]\n",
        "        for k, sen in enumerate(text):\n",
        "            if pos_ind[k] != 1:\n",
        "                tmp.append(sen+dummy)\n",
        "        res.append(tmp)     \n",
        "    return res\n",
        "\n",
        "def parse_label(label_path):\n",
        "    labels = []\n",
        "    f= Path(label_path)\n",
        "    \n",
        "    if not f.exists():\n",
        "        return labels\n",
        "\n",
        "    for line in open(label_path):\n",
        "        parts = line.strip().split('\\t')\n",
        "        labels.append([int(parts[2]), int(parts[3]), parts[1], 0, 0])\n",
        "    labels = sorted(labels) \n",
        "\n",
        "    if labels:\n",
        "        length = max([label[1] for label in labels]) \n",
        "        visit = np.zeros(length)\n",
        "        res = []\n",
        "        for label in labels:\n",
        "            if sum(visit[label[0]:label[1]]):\n",
        "                label[3] = 1\n",
        "            else:\n",
        "               visit[label[0]:label[1]] = 1\n",
        "            res.append(label)\n",
        "        return res \n",
        "    else:\n",
        "        return labels"
      ],
      "execution_count": 136,
      "outputs": []
    },
    {
      "cell_type": "code",
      "metadata": {
        "colab": {
          "base_uri": "https://localhost:8080/"
        },
        "id": "dccTXbGOJSRh",
        "outputId": "2a115098-327c-41d3-d3e1-692f375e8956"
      },
      "source": [
        "from google.colab import drive\n",
        "# drive.mount('/content/drive')\n",
        "drive.mount(\"/content/drive\", force_remount=True)"
      ],
      "execution_count": 137,
      "outputs": [
        {
          "output_type": "stream",
          "text": [
            "Mounted at /content/drive\n"
          ],
          "name": "stdout"
        }
      ]
    },
    {
      "cell_type": "code",
      "metadata": {
        "id": "UhvBvXJnI5q-"
      },
      "source": [
        "dataset=make_dataset(Path('/content/drive/My Drive/DSP/data/protechn_corpus_eval/train'))\n"
      ],
      "execution_count": 138,
      "outputs": []
    },
    {
      "cell_type": "code",
      "metadata": {
        "id": "fSa_IIE11Naq"
      },
      "source": [
        "#train dataframe\n",
        "empty=[]\n",
        "for i in dataset:\n",
        "    \n",
        "    temp=DataFrame(i, columns=['id', 'full_sent', 'start_sent', 'end_sent', 'start_prop', 'end_prop','prop', 'ex1', 'ex2' ])\n",
        "    empty.append(temp)\n",
        "\n",
        "df=pd.concat(empty)  \n",
        "df = df.drop(['ex1'],axis =1).drop(['ex2'],axis =1)\n",
        "df.prop.value_counts()\n",
        "df=df.reset_index()\n",
        "#del df['index']\n",
        "\n",
        "#df.head()\n"
      ],
      "execution_count": 139,
      "outputs": []
    },
    {
      "cell_type": "code",
      "metadata": {
        "id": "eUxwhGE31QAy",
        "colab": {
          "base_uri": "https://localhost:8080/"
        },
        "outputId": "58b9f383-6288-45c7-d5cc-659fbc595520"
      },
      "source": [
        "print(\"Size of train set is: \", df.shape[0])"
      ],
      "execution_count": 140,
      "outputs": [
        {
          "output_type": "stream",
          "text": [
            "Size of train set is:  15752\n"
          ],
          "name": "stdout"
        }
      ]
    },
    {
      "cell_type": "code",
      "metadata": {
        "id": "m48MdXqW0OvH"
      },
      "source": [
        "dataset_test=make_dataset(Path('/content/drive/My Drive/DSP/data/protechn_corpus_eval/test'))\n"
      ],
      "execution_count": 141,
      "outputs": []
    },
    {
      "cell_type": "code",
      "metadata": {
        "id": "B6idN3f_1H4f"
      },
      "source": [
        "\n",
        "#test dataframe\n",
        "empty=[]\n",
        "for i in dataset_test:\n",
        "    \n",
        "    temp=DataFrame(i, columns=['id', 'full_sent', 'start_sent', 'end_sent', 'start_prop', 'end_prop','prop', 'ex1', 'ex2' ])\n",
        "    empty.append(temp)\n",
        "\n",
        "df_test=pd.concat(empty)  \n",
        "df_test = df_test.drop(['ex1'],axis =1).drop(['ex2'],axis =1)\n",
        "df_test.prop.value_counts()\n",
        "df_test=df_test.reset_index()\n",
        "#del df['index']\n",
        "\n",
        "#df_test.head()\n"
      ],
      "execution_count": 142,
      "outputs": []
    },
    {
      "cell_type": "code",
      "metadata": {
        "id": "NAceEv591V1N"
      },
      "source": [
        "#We code the labels to integers\n",
        "\"\"\"\n",
        "possible_labels=df.prop.unique()\n",
        "label_dict={}\n",
        "for index, possible_label in enumerate(possible_labels):\n",
        "    label_dict[possible_label]=index\n",
        "print(label_dict)\n",
        "\"\"\"\n",
        "label_dict={'O': 0, 'Black-and-White_Fallacy': 1, 'Loaded_Language': 2, 'Flag-Waving': 3, \n",
        " 'Name_Calling,Labeling': 4, 'Slogans': 5, 'Causal_Oversimplification': 6, 'Whataboutism': 7,\n",
        " 'Exaggeration,Minimisation': 8, 'Doubt': 9, 'Appeal_to_Authority': 10, 'Repetition': 11, 'Appeal_to_fear-prejudice': 12,\n",
        " 'Thought-terminating_Cliches': 13, 'Bandwagon': 14, 'Red_Herring': 15, 'Reductio_ad_hitlerum': 16,\n",
        " 'Obfuscation,Intentional_Vagueness,Confusion': 17, 'Straw_Men': 18}\n",
        "\n",
        "label_dict\n",
        "#For both test and train set\n",
        "df['label']=df.prop.replace(label_dict)\n",
        "df_test['label']=df_test.prop.replace(label_dict)\n"
      ],
      "execution_count": 143,
      "outputs": []
    },
    {
      "cell_type": "code",
      "metadata": {
        "colab": {
          "base_uri": "https://localhost:8080/",
          "height": 198
        },
        "id": "zrR0TpG2D0UI",
        "outputId": "0223189f-bd4e-4d75-a95c-af93aa517914"
      },
      "source": [
        "#train set\n",
        "df.head()"
      ],
      "execution_count": 144,
      "outputs": [
        {
          "output_type": "execute_result",
          "data": {
            "text/html": [
              "<div>\n",
              "<style scoped>\n",
              "    .dataframe tbody tr th:only-of-type {\n",
              "        vertical-align: middle;\n",
              "    }\n",
              "\n",
              "    .dataframe tbody tr th {\n",
              "        vertical-align: top;\n",
              "    }\n",
              "\n",
              "    .dataframe thead th {\n",
              "        text-align: right;\n",
              "    }\n",
              "</style>\n",
              "<table border=\"1\" class=\"dataframe\">\n",
              "  <thead>\n",
              "    <tr style=\"text-align: right;\">\n",
              "      <th></th>\n",
              "      <th>index</th>\n",
              "      <th>id</th>\n",
              "      <th>full_sent</th>\n",
              "      <th>start_sent</th>\n",
              "      <th>end_sent</th>\n",
              "      <th>start_prop</th>\n",
              "      <th>end_prop</th>\n",
              "      <th>prop</th>\n",
              "      <th>label</th>\n",
              "    </tr>\n",
              "  </thead>\n",
              "  <tbody>\n",
              "    <tr>\n",
              "      <th>0</th>\n",
              "      <td>0</td>\n",
              "      <td>7618745059</td>\n",
              "      <td>“They interpreted the law in my case to say it...</td>\n",
              "      <td>1695</td>\n",
              "      <td>1873</td>\n",
              "      <td>1831</td>\n",
              "      <td>1872</td>\n",
              "      <td>Whataboutism</td>\n",
              "      <td>7</td>\n",
              "    </tr>\n",
              "    <tr>\n",
              "      <th>1</th>\n",
              "      <td>1</td>\n",
              "      <td>7618745059</td>\n",
              "      <td>Two guys on my ship did the same thing and wer...</td>\n",
              "      <td>1905</td>\n",
              "      <td>1977</td>\n",
              "      <td>1925</td>\n",
              "      <td>1976</td>\n",
              "      <td>Whataboutism</td>\n",
              "      <td>7</td>\n",
              "    </tr>\n",
              "    <tr>\n",
              "      <th>2</th>\n",
              "      <td>2</td>\n",
              "      <td>7618745059</td>\n",
              "      <td>“They used me as an example because of [the ba...</td>\n",
              "      <td>2312</td>\n",
              "      <td>2454</td>\n",
              "      <td>2312</td>\n",
              "      <td>2388</td>\n",
              "      <td>Causal_Oversimplification</td>\n",
              "      <td>6</td>\n",
              "    </tr>\n",
              "    <tr>\n",
              "      <th>3</th>\n",
              "      <td>3</td>\n",
              "      <td>7618745059</td>\n",
              "      <td>The government actively destroyed his life an ...</td>\n",
              "      <td>2710</td>\n",
              "      <td>2819</td>\n",
              "      <td>2725</td>\n",
              "      <td>2782</td>\n",
              "      <td>Exaggeration,Minimisation</td>\n",
              "      <td>8</td>\n",
              "    </tr>\n",
              "    <tr>\n",
              "      <th>4</th>\n",
              "      <td>4</td>\n",
              "      <td>7618745059</td>\n",
              "      <td>Ex-Sailor Pardoned By Trump Says He’s SUING Ob...</td>\n",
              "      <td>0</td>\n",
              "      <td>59</td>\n",
              "      <td>0</td>\n",
              "      <td>0</td>\n",
              "      <td>O</td>\n",
              "      <td>0</td>\n",
              "    </tr>\n",
              "  </tbody>\n",
              "</table>\n",
              "</div>"
            ],
            "text/plain": [
              "   index          id  ...                       prop  label\n",
              "0      0  7618745059  ...               Whataboutism      7\n",
              "1      1  7618745059  ...               Whataboutism      7\n",
              "2      2  7618745059  ...  Causal_Oversimplification      6\n",
              "3      3  7618745059  ...  Exaggeration,Minimisation      8\n",
              "4      4  7618745059  ...                          O      0\n",
              "\n",
              "[5 rows x 9 columns]"
            ]
          },
          "metadata": {
            "tags": []
          },
          "execution_count": 144
        }
      ]
    },
    {
      "cell_type": "code",
      "metadata": {
        "colab": {
          "base_uri": "https://localhost:8080/"
        },
        "id": "tNbKpvSTj2RM",
        "outputId": "dc99820d-6ac1-45ed-c581-d8d2096b1d4e"
      },
      "source": [
        "df.isnull().sum()"
      ],
      "execution_count": 145,
      "outputs": [
        {
          "output_type": "execute_result",
          "data": {
            "text/plain": [
              "index         0\n",
              "id            0\n",
              "full_sent     0\n",
              "start_sent    0\n",
              "end_sent      0\n",
              "start_prop    0\n",
              "end_prop      0\n",
              "prop          0\n",
              "label         0\n",
              "dtype: int64"
            ]
          },
          "metadata": {
            "tags": []
          },
          "execution_count": 145
        }
      ]
    },
    {
      "cell_type": "code",
      "metadata": {
        "colab": {
          "base_uri": "https://localhost:8080/",
          "height": 198
        },
        "id": "pkOZb81GDxFw",
        "outputId": "15ef4a50-9b80-4c38-9714-7c57177fdfa0"
      },
      "source": [
        "#test set\n",
        "df_test.head()"
      ],
      "execution_count": 146,
      "outputs": [
        {
          "output_type": "execute_result",
          "data": {
            "text/html": [
              "<div>\n",
              "<style scoped>\n",
              "    .dataframe tbody tr th:only-of-type {\n",
              "        vertical-align: middle;\n",
              "    }\n",
              "\n",
              "    .dataframe tbody tr th {\n",
              "        vertical-align: top;\n",
              "    }\n",
              "\n",
              "    .dataframe thead th {\n",
              "        text-align: right;\n",
              "    }\n",
              "</style>\n",
              "<table border=\"1\" class=\"dataframe\">\n",
              "  <thead>\n",
              "    <tr style=\"text-align: right;\">\n",
              "      <th></th>\n",
              "      <th>index</th>\n",
              "      <th>id</th>\n",
              "      <th>full_sent</th>\n",
              "      <th>start_sent</th>\n",
              "      <th>end_sent</th>\n",
              "      <th>start_prop</th>\n",
              "      <th>end_prop</th>\n",
              "      <th>prop</th>\n",
              "      <th>label</th>\n",
              "    </tr>\n",
              "  </thead>\n",
              "  <tbody>\n",
              "    <tr>\n",
              "      <th>0</th>\n",
              "      <td>0</td>\n",
              "      <td>111111133</td>\n",
              "      <td>CNN in turn dropped its lawsuit on the matter,...</td>\n",
              "      <td>301</td>\n",
              "      <td>415</td>\n",
              "      <td>358</td>\n",
              "      <td>367</td>\n",
              "      <td>Loaded_Language</td>\n",
              "      <td>2</td>\n",
              "    </tr>\n",
              "    <tr>\n",
              "      <th>1</th>\n",
              "      <td>1</td>\n",
              "      <td>111111133</td>\n",
              "      <td>But while it yielded to Mr. Acosta — whose tes...</td>\n",
              "      <td>417</td>\n",
              "      <td>673</td>\n",
              "      <td>460</td>\n",
              "      <td>465</td>\n",
              "      <td>Loaded_Language</td>\n",
              "      <td>2</td>\n",
              "    </tr>\n",
              "    <tr>\n",
              "      <th>2</th>\n",
              "      <td>2</td>\n",
              "      <td>111111133</td>\n",
              "      <td>But while it yielded to Mr. Acosta — whose tes...</td>\n",
              "      <td>417</td>\n",
              "      <td>673</td>\n",
              "      <td>504</td>\n",
              "      <td>507</td>\n",
              "      <td>Loaded_Language</td>\n",
              "      <td>2</td>\n",
              "    </tr>\n",
              "    <tr>\n",
              "      <th>3</th>\n",
              "      <td>3</td>\n",
              "      <td>111111133</td>\n",
              "      <td>The White House sought to blame Mr. Acosta for...</td>\n",
              "      <td>967</td>\n",
              "      <td>1167</td>\n",
              "      <td>1070</td>\n",
              "      <td>1077</td>\n",
              "      <td>Loaded_Language</td>\n",
              "      <td>2</td>\n",
              "    </tr>\n",
              "    <tr>\n",
              "      <th>4</th>\n",
              "      <td>4</td>\n",
              "      <td>111111133</td>\n",
              "      <td>Codifying the behavior of journalists struck s...</td>\n",
              "      <td>1168</td>\n",
              "      <td>1391</td>\n",
              "      <td>1224</td>\n",
              "      <td>1244</td>\n",
              "      <td>Loaded_Language</td>\n",
              "      <td>2</td>\n",
              "    </tr>\n",
              "  </tbody>\n",
              "</table>\n",
              "</div>"
            ],
            "text/plain": [
              "   index         id  ...             prop  label\n",
              "0      0  111111133  ...  Loaded_Language      2\n",
              "1      1  111111133  ...  Loaded_Language      2\n",
              "2      2  111111133  ...  Loaded_Language      2\n",
              "3      3  111111133  ...  Loaded_Language      2\n",
              "4      4  111111133  ...  Loaded_Language      2\n",
              "\n",
              "[5 rows x 9 columns]"
            ]
          },
          "metadata": {
            "tags": []
          },
          "execution_count": 146
        }
      ]
    },
    {
      "cell_type": "code",
      "metadata": {
        "colab": {
          "base_uri": "https://localhost:8080/"
        },
        "id": "TnkiqkDDju9s",
        "outputId": "33dc02e6-594c-4958-8fce-031aac2e933a"
      },
      "source": [
        "df_test.isnull().sum()"
      ],
      "execution_count": 147,
      "outputs": [
        {
          "output_type": "execute_result",
          "data": {
            "text/plain": [
              "index         0\n",
              "id            0\n",
              "full_sent     0\n",
              "start_sent    0\n",
              "end_sent      0\n",
              "start_prop    0\n",
              "end_prop      0\n",
              "prop          0\n",
              "label         0\n",
              "dtype: int64"
            ]
          },
          "metadata": {
            "tags": []
          },
          "execution_count": 147
        }
      ]
    },
    {
      "cell_type": "code",
      "metadata": {
        "id": "tdjTtOC80FaE"
      },
      "source": [
        "df_all = pd.concat([df, df_test])\n",
        "\n"
      ],
      "execution_count": 148,
      "outputs": []
    },
    {
      "cell_type": "code",
      "metadata": {
        "colab": {
          "base_uri": "https://localhost:8080/"
        },
        "id": "1CQx0mQL2Vz5",
        "outputId": "188a6eaf-e0f2-4865-8ab7-e7a17f232e21"
      },
      "source": [
        "print(df_all.shape[0])"
      ],
      "execution_count": 149,
      "outputs": [
        {
          "output_type": "stream",
          "text": [
            "20242\n"
          ],
          "name": "stdout"
        }
      ]
    },
    {
      "cell_type": "code",
      "metadata": {
        "id": "PFBbEFQz60aX"
      },
      "source": [
        "del df_all['index']\n",
        "df_all=df_all.reset_index()\n",
        "del df_all['index']\n",
        "\n"
      ],
      "execution_count": 150,
      "outputs": []
    },
    {
      "cell_type": "code",
      "metadata": {
        "colab": {
          "base_uri": "https://localhost:8080/"
        },
        "id": "mjFv-M6k5c7D",
        "outputId": "c19fcbaf-18ea-4083-aae6-ad86da07c75a"
      },
      "source": [
        "#check to see indexes are set in order even after the size of train is over (after 15752)\n",
        "print(df_all.iloc[15750:15759])"
      ],
      "execution_count": 151,
      "outputs": [
        {
          "output_type": "stream",
          "text": [
            "              id  ... label\n",
            "15750  752287274  ...     0\n",
            "15751  752287274  ...     0\n",
            "15752  111111133  ...     2\n",
            "15753  111111133  ...     2\n",
            "15754  111111133  ...     2\n",
            "15755  111111133  ...     2\n",
            "15756  111111133  ...     2\n",
            "15757  111111133  ...     2\n",
            "15758  111111133  ...     2\n",
            "\n",
            "[9 rows x 8 columns]\n"
          ],
          "name": "stdout"
        }
      ]
    },
    {
      "cell_type": "markdown",
      "metadata": {
        "id": "6q_74S4YCIzy"
      },
      "source": [
        "###Here we handle the problem that some sentences have more than 1 label. First group by the dataframe on the basis of similar full_length sentences (unique full sentences which some of which might have more than 1 label)."
      ]
    },
    {
      "cell_type": "code",
      "metadata": {
        "id": "b3cWnJ9FCM0n"
      },
      "source": [
        "groupedbysent = df_all.groupby('full_sent')\n"
      ],
      "execution_count": 152,
      "outputs": []
    },
    {
      "cell_type": "markdown",
      "metadata": {
        "id": "VY8bPUN5MoWA"
      },
      "source": [
        "###We make up a new set with unique sentences (no sentence reptition -with varying labels- from this point onward).\n"
      ]
    },
    {
      "cell_type": "code",
      "metadata": {
        "id": "mrDibLK0DY59"
      },
      "source": [
        "all_tokenized_labels=[]\n",
        "#we make up a new set with unique sentences (no reptition from this point on)\n",
        "new=df_all['full_sent'].unique()\n",
        "\n",
        "for i in range (len(groupedbysent)):\n",
        "    #get the group of each unique sentence and set it as group variable\n",
        "    group=groupedbysent.get_group(new[i])\n",
        "    group_labels=group['label']\n",
        "    temp=[]\n",
        "    for j in range (group_labels.size):\n",
        "        temp.append(group_labels.iloc[j])\n",
        "    all_tokenized_labels.append(temp)\n",
        "    \n",
        "      #one hot format\n",
        "      #evey single sentence can belong to classes among existing 19 classes\n",
        "all_encoded=np.zeros((len(groupedbysent), 19)) \n",
        "\n",
        "for i in range (len(groupedbysent)):    \n",
        "    for  idx, val in enumerate (all_tokenized_labels[i]):\n",
        "        all_encoded[i][val]=1  "
      ],
      "execution_count": 153,
      "outputs": []
    },
    {
      "cell_type": "code",
      "metadata": {
        "colab": {
          "base_uri": "https://localhost:8080/"
        },
        "id": "c_bOkSZkand7",
        "outputId": "65ac90db-f41c-4517-f792-0b3585571cbc"
      },
      "source": [
        "all_tokenized_labels[0]"
      ],
      "execution_count": 154,
      "outputs": [
        {
          "output_type": "execute_result",
          "data": {
            "text/plain": [
              "[7, 0, 0, 7, 7]"
            ]
          },
          "metadata": {
            "tags": []
          },
          "execution_count": 154
        }
      ]
    },
    {
      "cell_type": "markdown",
      "metadata": {
        "id": "zkKodycahgXa"
      },
      "source": [
        "###It can be checked if the labels are correctly exctracted for every single sentence:"
      ]
    },
    {
      "cell_type": "code",
      "metadata": {
        "colab": {
          "base_uri": "https://localhost:8080/"
        },
        "id": "mE662lnya9xH",
        "outputId": "724f141f-f03a-4b57-dec7-0706216fa6e2"
      },
      "source": [
        "#for example we can check this for the first sentence\n",
        "print(\"The first sentence of the dataset is: \", new[0])"
      ],
      "execution_count": 155,
      "outputs": [
        {
          "output_type": "stream",
          "text": [
            "The first sentence of the dataset is:  “They interpreted the law in my case to say it was criminal,” Saucier told Fox News, referring to prosecuting authorities in his case, “but they didn’t prosecute Hillary Clinton.\n"
          ],
          "name": "stdout"
        }
      ]
    },
    {
      "cell_type": "code",
      "metadata": {
        "id": "__puVcIzbFHd"
      },
      "source": [
        "#g=groupedbysent.get_group('“They interpreted the law in my case to say it was criminal,” Saucier told Fox News, referring to prosecuting authorities in his case, “but they didn’t prosecute Hillary Clinton.')"
      ],
      "execution_count": 156,
      "outputs": []
    },
    {
      "cell_type": "code",
      "metadata": {
        "colab": {
          "base_uri": "https://localhost:8080/"
        },
        "id": "BVZA_jXLe2LT",
        "outputId": "4e30d22e-af9b-416c-935b-1022a5e5c1d0"
      },
      "source": [
        "#check how many times a particular sentence is repeated in the whole dataset. \n",
        "#also return all its corresponding labels \n",
        "count=0\n",
        "particular_sent_labels=[]\n",
        "for i in range (df_all.shape[0]):\n",
        "  if df_all['full_sent'][i]== '“They interpreted the law in my case to say it was criminal,” Saucier told Fox News, referring to prosecuting authorities in his case, “but they didn’t prosecute Hillary Clinton.':\n",
        "    count +=1\n",
        "    particular_sent_labels.append(df_all['label'][i])\n",
        "\n",
        "print(\"The sentence is repeated this many times in dataset: \", count)\n",
        "print(\"Its multi labels accordingly are: \", particular_sent_labels)"
      ],
      "execution_count": 157,
      "outputs": [
        {
          "output_type": "stream",
          "text": [
            "The sentence is repeated this many times in dataset:  5\n",
            "Its multi labels accordingly are:  [7, 0, 0, 7, 7]\n"
          ],
          "name": "stdout"
        }
      ]
    },
    {
      "cell_type": "markdown",
      "metadata": {
        "id": "Xx479IyvMxTK"
      },
      "source": [
        "###The new data set now contains each sentence once. The \"all_encoded\" contains the labels of each unique sentence. This has less data points than the original dataset as now every sentence is uniqe and repeated only once."
      ]
    },
    {
      "cell_type": "code",
      "metadata": {
        "colab": {
          "base_uri": "https://localhost:8080/"
        },
        "id": "rwiYb3POD9-S",
        "outputId": "deba2766-0746-4c98-adf4-b3cab35b5a3e"
      },
      "source": [
        "print(len(all_encoded))\n",
        "print(len(new))"
      ],
      "execution_count": 158,
      "outputs": [
        {
          "output_type": "stream",
          "text": [
            "16285\n",
            "16285\n"
          ],
          "name": "stdout"
        }
      ]
    },
    {
      "cell_type": "code",
      "metadata": {
        "colab": {
          "base_uri": "https://localhost:8080/"
        },
        "id": "IwFno_nFGfXn",
        "outputId": "e798c946-71f8-48e1-c95b-fa5615a95847"
      },
      "source": [
        "print(all_encoded[116])\n",
        "print(new[116])\n",
        "#print(df_all.iloc[1,1])\n",
        "#print(df_all.iloc[0,6])"
      ],
      "execution_count": 159,
      "outputs": [
        {
          "output_type": "stream",
          "text": [
            "[0. 0. 0. 0. 1. 0. 0. 1. 0. 0. 0. 0. 0. 0. 0. 0. 0. 0. 0.]\n",
            "“He is just looking for attention and doesn’t want people to look at his past record and relationships - a total low-life!”\n"
          ],
          "name": "stdout"
        }
      ]
    },
    {
      "cell_type": "code",
      "metadata": {
        "id": "WFrO8fAzpRCv"
      },
      "source": [
        "import re\n",
        "from tqdm import tqdm_notebook\n",
        "\n",
        "from nltk.corpus import stopwords\n",
        "\n",
        "from tensorflow.keras import regularizers, initializers, optimizers, callbacks\n",
        "from tensorflow.keras.preprocessing.sequence import pad_sequences\n",
        "from tensorflow.keras.preprocessing.text import Tokenizer\n",
        "from keras.utils.np_utils import to_categorical\n",
        "from tensorflow.keras.layers import *\n",
        "from tensorflow.keras.models import Model"
      ],
      "execution_count": 160,
      "outputs": []
    },
    {
      "cell_type": "markdown",
      "metadata": {
        "id": "z7kF4Cn4Lt3P"
      },
      "source": [
        "###In the following steps,  the key model parameters are defined and data is split. “MAX_NB_WORDS” sets the maximum number of words to consider as features for tokenizer. “MAX_SEQUENCE_LENGTH” cuts off texts after this number of words (among the MAX_NB_WORDS most common words). “VALIDATION_SPLIT” sets a portion of data for validation and not used in training. “EMBEDDING_DIM” defines the size of the “vector space”. “GLOVE_DIR” defines the GloVe file directory. Split the data into the texts and the labels."
      ]
    },
    {
      "cell_type": "code",
      "metadata": {
        "id": "N2hKN93cpRCx"
      },
      "source": [
        "MAX_NB_WORDS = 100000    # max no. of words for tokenizer\n",
        "MAX_SEQUENCE_LENGTH = 200 # max length of each entry (sentence), including padding\n",
        "VALIDATION_SPLIT = 0.2   # data for validation (not used in training)\n",
        "EMBEDDING_DIM = 100      # embedding dimensions for word vectors (word2vec/GloVe)\n",
        "GLOVE_DIR = \"glove/glove.6B.\"+str(EMBEDDING_DIM)+\"d.txt\""
      ],
      "execution_count": 161,
      "outputs": []
    },
    {
      "cell_type": "code",
      "metadata": {
        "id": "pGdXObugpRCx"
      },
      "source": [
        "#train=df_all.iloc[:15752]\n",
        "#test=df_all.iloc[15752:]\n",
        "#comments_train = train['full_sent']\n",
        "#comments_test = test['full_sent']\n",
        "#comments_train = list(comments_train)\n",
        "#comments_train=new[:14000]\n",
        "#comments_test=new[14000:]"
      ],
      "execution_count": 162,
      "outputs": []
    },
    {
      "cell_type": "code",
      "metadata": {
        "colab": {
          "base_uri": "https://localhost:8080/"
        },
        "id": "U0QYEtL1lpaL",
        "outputId": "2a861b76-e56f-4924-d694-7fcda85f1cbe"
      },
      "source": [
        "print(comments_train[0])"
      ],
      "execution_count": 163,
      "outputs": [
        {
          "output_type": "stream",
          "text": [
            "“They interpreted the law in my case to say it was criminal,” Saucier told Fox News, referring to prosecuting authorities in his case, “but they didn’t prosecute Hillary Clinton.\n"
          ],
          "name": "stdout"
        }
      ]
    },
    {
      "cell_type": "code",
      "metadata": {
        "id": "qseKPePYpRCy"
      },
      "source": [
        "#labels=['binary']\n",
        "#y = train[labels].values\n",
        "y=all_encoded\n"
      ],
      "execution_count": 250,
      "outputs": []
    },
    {
      "cell_type": "markdown",
      "metadata": {
        "id": "ObXt_opaHeuu"
      },
      "source": [
        "###In the following step, we remove stopwords, punctuation and make sentences  lowercase.\n"
      ]
    },
    {
      "cell_type": "code",
      "metadata": {
        "id": "gGNBLVVQpRCy"
      },
      "source": [
        "def clean_text(text, remove_stopwords = True):\n",
        "    output = \"\"\n",
        "    text = str(text).replace(\"\\n\", \"\")\n",
        "    text = re.sub(r'[^\\w\\s]','',text).lower()\n",
        "    if remove_stopwords:\n",
        "        text = text.split(\" \")\n",
        "        for word in text:\n",
        "            if word not in stopwords.words(\"english\"):\n",
        "                output = output + \" \" + word\n",
        "    else:\n",
        "        output = text\n",
        "    return str(output.strip())[1:-3].replace(\"  \", \" \")"
      ],
      "execution_count": 165,
      "outputs": []
    },
    {
      "cell_type": "code",
      "metadata": {
        "colab": {
          "base_uri": "https://localhost:8080/"
        },
        "id": "ISGO1YPVq6ej",
        "outputId": "e56fbe6b-9f9e-4738-de59-2f3cf872f1c1"
      },
      "source": [
        "#print(\"size of train set is: \", len(comments_train))\n",
        "#print(\"size of test set is: \", len(comments_test))"
      ],
      "execution_count": 166,
      "outputs": [
        {
          "output_type": "stream",
          "text": [
            "size of train set is:  14000\n",
            "size of test set is:  2285\n"
          ],
          "name": "stdout"
        }
      ]
    },
    {
      "cell_type": "code",
      "metadata": {
        "colab": {
          "base_uri": "https://localhost:8080/"
        },
        "id": "--0ft4uOrS64",
        "outputId": "072e2321-8605-4606-def9-14fd802723c8"
      },
      "source": [
        "import nltk\n",
        "nltk.download(\"stopwords\")"
      ],
      "execution_count": 167,
      "outputs": [
        {
          "output_type": "stream",
          "text": [
            "[nltk_data] Downloading package stopwords to /root/nltk_data...\n",
            "[nltk_data]   Package stopwords is already up-to-date!\n"
          ],
          "name": "stdout"
        },
        {
          "output_type": "execute_result",
          "data": {
            "text/plain": [
              "True"
            ]
          },
          "metadata": {
            "tags": []
          },
          "execution_count": 167
        }
      ]
    },
    {
      "cell_type": "code",
      "metadata": {
        "colab": {
          "base_uri": "https://localhost:8080/",
          "height": 118,
          "referenced_widgets": [
            "24645c4404f74e89baa0382d7055389b",
            "f66e15e32b634757b013d07b81853018",
            "d0f8f16fda4e460dacf69d1774c54bbc",
            "8e34ace40c27440281fd6c87dae708af",
            "89701557d5ef4b8b96a2c45fd0c550ed",
            "891ff1f612604d5396dd514e29e1774a",
            "9e61bfffca0f4eff84d64293125ece54",
            "21b1ca1756b9440aba405d0f915253d4"
          ]
        },
        "id": "qRaRQ2iDpRCy",
        "outputId": "2c099a3a-4765-4a38-caa2-115a07a63712"
      },
      "source": [
        "texts = [] \n",
        "\n",
        "for line in tqdm_notebook(new, total=12000): \n",
        "    texts.append(clean_text(line))"
      ],
      "execution_count": 248,
      "outputs": [
        {
          "output_type": "stream",
          "text": [
            "/usr/local/lib/python3.6/dist-packages/ipykernel_launcher.py:3: TqdmDeprecationWarning: This function will be removed in tqdm==5.0.0\n",
            "Please use `tqdm.notebook.tqdm` instead of `tqdm.tqdm_notebook`\n",
            "  This is separate from the ipykernel package so we can avoid doing imports until\n"
          ],
          "name": "stderr"
        },
        {
          "output_type": "display_data",
          "data": {
            "application/vnd.jupyter.widget-view+json": {
              "model_id": "24645c4404f74e89baa0382d7055389b",
              "version_minor": 0,
              "version_major": 2
            },
            "text/plain": [
              "HBox(children=(FloatProgress(value=0.0, max=12000.0), HTML(value='')))"
            ]
          },
          "metadata": {
            "tags": []
          }
        },
        {
          "output_type": "stream",
          "text": [
            "\n"
          ],
          "name": "stdout"
        }
      ]
    },
    {
      "cell_type": "code",
      "metadata": {
        "colab": {
          "base_uri": "https://localhost:8080/"
        },
        "id": "mqv012iFpRCy",
        "outputId": "36701185-2bd1-426c-8c1c-bfa4d6906b52"
      },
      "source": [
        "print('Sample data:', texts[1], y[1])"
      ],
      "execution_count": 251,
      "outputs": [
        {
          "output_type": "stream",
          "text": [
            "Sample data: wo guys ship thing werent treated crimin [1. 0. 0. 0. 0. 0. 0. 1. 0. 0. 0. 0. 0. 0. 0. 0. 0. 0. 0.]\n"
          ],
          "name": "stdout"
        }
      ]
    },
    {
      "cell_type": "markdown",
      "metadata": {
        "id": "uNpDRAVMmp7s"
      },
      "source": [
        "###We create a tokenizer, configured to only take into account the MAX_NB_WORDS most common words. Next the word index is built. The word index that was computed can be recovered.\n"
      ]
    },
    {
      "cell_type": "code",
      "metadata": {
        "id": "accX0A6apRCy"
      },
      "source": [
        "tokenizer = Tokenizer(num_words=MAX_NB_WORDS)\n",
        "tokenizer.fit_on_texts(texts)"
      ],
      "execution_count": 252,
      "outputs": []
    },
    {
      "cell_type": "code",
      "metadata": {
        "colab": {
          "base_uri": "https://localhost:8080/"
        },
        "id": "aKiS0FKBpRCy",
        "outputId": "5db42217-2abb-497e-87dc-69e461b41e05"
      },
      "source": [
        "sequences = tokenizer.texts_to_sequences(texts)\n",
        "word_index = tokenizer.word_index\n",
        "print('Vocabulary size:', len(word_index))"
      ],
      "execution_count": 253,
      "outputs": [
        {
          "output_type": "stream",
          "text": [
            "Vocabulary size: 26981\n"
          ],
          "name": "stdout"
        }
      ]
    },
    {
      "cell_type": "markdown",
      "metadata": {
        "id": "yO6wEJGhHrrV"
      },
      "source": [
        "###Turns the lists of integers into a 2D integer tensor of shape (samples, maxlen). Pad after each sequence."
      ]
    },
    {
      "cell_type": "code",
      "metadata": {
        "colab": {
          "base_uri": "https://localhost:8080/"
        },
        "id": "XSwSu1XCpRCz",
        "outputId": "70aa9e60-56b5-4212-bea6-3b5b99a6488d"
      },
      "source": [
        "data = pad_sequences(sequences, padding = 'post', maxlen = MAX_SEQUENCE_LENGTH)\n",
        "\n",
        "print('Shape of data tensor:', data.shape)\n",
        "print('Shape of label tensor:', y.shape)"
      ],
      "execution_count": 254,
      "outputs": [
        {
          "output_type": "stream",
          "text": [
            "Shape of data tensor: (16285, 200)\n",
            "Shape of label tensor: (16285, 19)\n"
          ],
          "name": "stdout"
        }
      ]
    },
    {
      "cell_type": "code",
      "metadata": {
        "id": "lgHIepBGpRCz"
      },
      "source": [
        "#Shuffle the data in train set\n",
        "indices = np.arange(data.shape[0])\n",
        "np.random.shuffle(indices)\n",
        "data = data[indices]\n",
        "labels = y[indices]"
      ],
      "execution_count": 255,
      "outputs": []
    },
    {
      "cell_type": "code",
      "metadata": {
        "id": "h0L0PftnpRCz"
      },
      "source": [
        "#create train and validation split\n",
        "num_validation_samples = int(VALIDATION_SPLIT*data.shape[0])\n",
        "x_train = data[: -num_validation_samples]\n",
        "y_train = labels[: -num_validation_samples]\n",
        "x_val = data[-num_validation_samples: ]\n",
        "y_val = labels[-num_validation_samples: ]"
      ],
      "execution_count": 256,
      "outputs": []
    },
    {
      "cell_type": "code",
      "metadata": {
        "colab": {
          "base_uri": "https://localhost:8080/"
        },
        "id": "6Bp0r7l5pRCz",
        "outputId": "c806ccab-0cac-4ca7-8805-eed1856c47fb"
      },
      "source": [
        "print('Number of entries in each category:')\n",
        "print('training: ', y_train.sum(axis=0))\n",
        "print('validation: ', y_val.sum(axis=0))"
      ],
      "execution_count": 257,
      "outputs": [
        {
          "output_type": "stream",
          "text": [
            "Number of entries in each category:\n",
            "training:  [9256.  111. 1553.  241.  787.  123.  185.   60.  364.  474.  141.  478.\n",
            "  278.   75.   13.   32.   52.   12.   12.]\n",
            "validation:  [2.308e+03 2.300e+01 3.900e+02 5.400e+01 2.130e+02 2.800e+01 4.200e+01\n",
            " 1.900e+01 9.600e+01 1.330e+02 3.500e+01 1.160e+02 5.700e+01 1.500e+01\n",
            " 2.000e+00 8.000e+00 6.000e+00 5.000e+00 2.000e+00]\n"
          ],
          "name": "stdout"
        }
      ]
    },
    {
      "cell_type": "code",
      "metadata": {
        "colab": {
          "base_uri": "https://localhost:8080/"
        },
        "id": "JAJ2xornpRCz",
        "outputId": "c4394d10-464b-41eb-ad84-6e039a01f272"
      },
      "source": [
        "print('Tokenized sentences: \\n', data[11])\n",
        "print('One hot label: \\n', labels[11])"
      ],
      "execution_count": 261,
      "outputs": [
        {
          "output_type": "stream",
          "text": [
            "Tokenized sentences: \n",
            " [ 5535   837   188  2355  1909   694  4409 25449  5170  3155  1205     0\n",
            "     0     0     0     0     0     0     0     0     0     0     0     0\n",
            "     0     0     0     0     0     0     0     0     0     0     0     0\n",
            "     0     0     0     0     0     0     0     0     0     0     0     0\n",
            "     0     0     0     0     0     0     0     0     0     0     0     0\n",
            "     0     0     0     0     0     0     0     0     0     0     0     0\n",
            "     0     0     0     0     0     0     0     0     0     0     0     0\n",
            "     0     0     0     0     0     0     0     0     0     0     0     0\n",
            "     0     0     0     0     0     0     0     0     0     0     0     0\n",
            "     0     0     0     0     0     0     0     0     0     0     0     0\n",
            "     0     0     0     0     0     0     0     0     0     0     0     0\n",
            "     0     0     0     0     0     0     0     0     0     0     0     0\n",
            "     0     0     0     0     0     0     0     0     0     0     0     0\n",
            "     0     0     0     0     0     0     0     0     0     0     0     0\n",
            "     0     0     0     0     0     0     0     0     0     0     0     0\n",
            "     0     0     0     0     0     0     0     0     0     0     0     0\n",
            "     0     0     0     0     0     0     0     0]\n",
            "One hot label: \n",
            " [0. 0. 1. 0. 0. 0. 0. 0. 0. 0. 0. 0. 0. 0. 0. 0. 0. 0. 0.]\n"
          ],
          "name": "stdout"
        }
      ]
    },
    {
      "cell_type": "code",
      "metadata": {
        "colab": {
          "base_uri": "https://localhost:8080/"
        },
        "id": "O4xhnAkgxinc",
        "outputId": "6844ef82-d6b2-4c01-aa4f-3496e29a55f5"
      },
      "source": [
        "print(\"size of train set is: \", len(x_train))\n",
        "print(\"size of test set is: \", len(x_val))"
      ],
      "execution_count": 262,
      "outputs": [
        {
          "output_type": "stream",
          "text": [
            "size of train set is:  13028\n",
            "size of test set is:  3257\n"
          ],
          "name": "stdout"
        }
      ]
    },
    {
      "cell_type": "markdown",
      "metadata": {
        "id": "Rkg9JJ8lqsWm"
      },
      "source": [
        "###Pre-trained GloVe vectors from Stanford is used to create an index of words mapped to known embeddings, by parsing the data dump of pre-trained embeddings.Then  word embeddings are loaded into an embeddings_index.\n"
      ]
    },
    {
      "cell_type": "code",
      "metadata": {
        "id": "3pKL3XW9v8u6"
      },
      "source": [
        "data_root = pathlib.Path('/content/drive/My Drive/DSP/torchtextclassification-nov20-2020/')\n"
      ],
      "execution_count": 263,
      "outputs": []
    },
    {
      "cell_type": "code",
      "metadata": {
        "colab": {
          "base_uri": "https://localhost:8080/"
        },
        "id": "XmzkBHpApRCz",
        "outputId": "def34e48-e3db-41c1-890d-18d122e22dce"
      },
      "source": [
        "embeddings_index = {}\n",
        "f = open(data_root/'glove.6B.100d.txt')\n",
        "print('Loading GloVe from:', GLOVE_DIR,'...', end='')\n",
        "for line in f:\n",
        "    values = line.split()\n",
        "    word = values[0]\n",
        "    embeddings_index[word] = np.asarray(values[1:], dtype='float32')\n",
        "f.close()\n",
        "print(\"Done.\\n Proceeding with Embedding Matrix...\", end=\"\")\n",
        "\n",
        "embedding_matrix = np.random.random((len(word_index) + 1, EMBEDDING_DIM))\n",
        "for word, i in word_index.items():\n",
        "    embedding_vector = embeddings_index.get(word)\n",
        "    if embedding_vector is not None:\n",
        "        embedding_matrix[i] = embedding_vector\n",
        "print(\" Completed!\")"
      ],
      "execution_count": 264,
      "outputs": [
        {
          "output_type": "stream",
          "text": [
            "Loading GloVe from: glove/glove.6B.100d.txt ...Done.\n",
            " Proceeding with Embedding Matrix... Completed!\n"
          ],
          "name": "stdout"
        }
      ]
    },
    {
      "cell_type": "markdown",
      "metadata": {
        "id": "Qp9VzO79q5sc"
      },
      "source": [
        "###The embedding layers are created. It specifies the maximum input length to the Embedding layer and makes use of the output from the previous embedding layer which outputs a 3-D tensor into the LSTM layer.Use a Global Max Pooling layer to to reshape the 3D tensor into a 2D one. The dropout layer is set to drop out 10% of the nodes. The Dense layer is defined to produce a output dimension of 50. We feed the output into a Dropout layer again. Finally, we feed the output into a “Sigmoid” layer."
      ]
    },
    {
      "cell_type": "code",
      "metadata": {
        "id": "Wibh332DpRCz"
      },
      "source": [
        "sequence_input = Input(shape=(MAX_SEQUENCE_LENGTH,), dtype='int32')\n",
        "embedding_layer = Embedding(len(word_index) + 1,\n",
        "                           EMBEDDING_DIM,\n",
        "                           weights = [embedding_matrix],\n",
        "                           input_length = MAX_SEQUENCE_LENGTH,\n",
        "                           trainable=False,\n",
        "                           name = 'embeddings')\n",
        "embedded_sequences = embedding_layer(sequence_input)"
      ],
      "execution_count": 265,
      "outputs": []
    },
    {
      "cell_type": "markdown",
      "metadata": {
        "id": "bulzjKBcmq_l"
      },
      "source": [
        " ####Activation is set to sigmoid, because the labels are  independent"
      ]
    },
    {
      "cell_type": "code",
      "metadata": {
        "id": "hIdYF09BpRCz"
      },
      "source": [
        "x = LSTM(60, return_sequences=True,name='lstm_layer')(embedded_sequences)\n",
        "x = GlobalMaxPool1D()(x)\n",
        "x = Dropout(0.1)(x)\n",
        "x = Dense(50, activation=\"relu\")(x)\n",
        "x = Dropout(0.1)(x)\n",
        "preds = Dense(19, activation=\"sigmoid\")(x)"
      ],
      "execution_count": 266,
      "outputs": []
    },
    {
      "cell_type": "code",
      "metadata": {
        "colab": {
          "base_uri": "https://localhost:8080/"
        },
        "id": "S8A07JsqpRCz",
        "outputId": "fc483594-8148-4a56-f9a2-31464ff58318"
      },
      "source": [
        "model = Model(sequence_input, preds)\n",
        "model.compile(loss = 'categorical_crossentropy',\n",
        "             optimizer='adam',\n",
        "             metrics = ['accuracy'])\n",
        "model.summary()"
      ],
      "execution_count": 267,
      "outputs": [
        {
          "output_type": "stream",
          "text": [
            "Model: \"functional_5\"\n",
            "_________________________________________________________________\n",
            "Layer (type)                 Output Shape              Param #   \n",
            "=================================================================\n",
            "input_5 (InputLayer)         [(None, 200)]             0         \n",
            "_________________________________________________________________\n",
            "embeddings (Embedding)       (None, 200, 100)          2698200   \n",
            "_________________________________________________________________\n",
            "lstm_layer (LSTM)            (None, 200, 60)           38640     \n",
            "_________________________________________________________________\n",
            "global_max_pooling1d_3 (Glob (None, 60)                0         \n",
            "_________________________________________________________________\n",
            "dropout_6 (Dropout)          (None, 60)                0         \n",
            "_________________________________________________________________\n",
            "dense_6 (Dense)              (None, 50)                3050      \n",
            "_________________________________________________________________\n",
            "dropout_7 (Dropout)          (None, 50)                0         \n",
            "_________________________________________________________________\n",
            "dense_7 (Dense)              (None, 19)                969       \n",
            "=================================================================\n",
            "Total params: 2,740,859\n",
            "Trainable params: 42,659\n",
            "Non-trainable params: 2,698,200\n",
            "_________________________________________________________________\n"
          ],
          "name": "stdout"
        }
      ]
    },
    {
      "cell_type": "code",
      "metadata": {
        "colab": {
          "base_uri": "https://localhost:8080/",
          "height": 758
        },
        "id": "_N_AgmOTpRCz",
        "outputId": "5220997a-b4eb-4677-8956-3b1c788bc414"
      },
      "source": [
        "tf.keras.utils.plot_model(model)"
      ],
      "execution_count": 268,
      "outputs": [
        {
          "output_type": "execute_result",
          "data": {
            "image/png": "[encoded data removed]",
            "text/plain": [
              "<IPython.core.display.Image object>"
            ]
          },
          "metadata": {
            "tags": []
          },
          "execution_count": 268
        }
      ]
    },
    {
      "cell_type": "code",
      "metadata": {
        "colab": {
          "base_uri": "https://localhost:8080/"
        },
        "id": "pPMSOfaVpRCz",
        "outputId": "8a069930-2259-4447-b5b2-b44b62217770"
      },
      "source": [
        "print('Training progress:')\n",
        "history = model.fit(x_train, y_train, epochs = 100, batch_size=32, validation_data=(x_val, y_val))"
      ],
      "execution_count": 269,
      "outputs": [
        {
          "output_type": "stream",
          "text": [
            "Training progress:\n",
            "Epoch 1/100\n",
            "408/408 [==============================] - 5s 13ms/step - loss: 1.6939 - accuracy: 0.7042 - val_loss: 1.4506 - val_accuracy: 0.7086\n",
            "Epoch 2/100\n",
            "408/408 [==============================] - 5s 12ms/step - loss: 1.4711 - accuracy: 0.7111 - val_loss: 1.4183 - val_accuracy: 0.7086\n",
            "Epoch 3/100\n",
            "408/408 [==============================] - 5s 12ms/step - loss: 1.4291 - accuracy: 0.7151 - val_loss: 1.3951 - val_accuracy: 0.7111\n",
            "Epoch 4/100\n",
            "408/408 [==============================] - 5s 12ms/step - loss: 1.3921 - accuracy: 0.7224 - val_loss: 1.3803 - val_accuracy: 0.7206\n",
            "Epoch 5/100\n",
            "408/408 [==============================] - 5s 12ms/step - loss: 1.3600 - accuracy: 0.7284 - val_loss: 1.3799 - val_accuracy: 0.7197\n",
            "Epoch 6/100\n",
            "408/408 [==============================] - 5s 12ms/step - loss: 1.3299 - accuracy: 0.7337 - val_loss: 1.3867 - val_accuracy: 0.7175\n",
            "Epoch 7/100\n",
            "408/408 [==============================] - 5s 12ms/step - loss: 1.2926 - accuracy: 0.7396 - val_loss: 1.3782 - val_accuracy: 0.7231\n",
            "Epoch 8/100\n",
            "408/408 [==============================] - 5s 12ms/step - loss: 1.2645 - accuracy: 0.7442 - val_loss: 1.3843 - val_accuracy: 0.7188\n",
            "Epoch 9/100\n",
            "408/408 [==============================] - 5s 12ms/step - loss: 1.2362 - accuracy: 0.7495 - val_loss: 1.3791 - val_accuracy: 0.7169\n",
            "Epoch 10/100\n",
            "408/408 [==============================] - 5s 12ms/step - loss: 1.1961 - accuracy: 0.7572 - val_loss: 1.4372 - val_accuracy: 0.7255\n",
            "Epoch 11/100\n",
            "408/408 [==============================] - 5s 12ms/step - loss: 1.1672 - accuracy: 0.7644 - val_loss: 1.4239 - val_accuracy: 0.7138\n",
            "Epoch 12/100\n",
            "408/408 [==============================] - 5s 12ms/step - loss: 1.1275 - accuracy: 0.7688 - val_loss: 1.4483 - val_accuracy: 0.7092\n",
            "Epoch 13/100\n",
            "408/408 [==============================] - 5s 12ms/step - loss: 1.0972 - accuracy: 0.7736 - val_loss: 1.4822 - val_accuracy: 0.7068\n",
            "Epoch 14/100\n",
            "408/408 [==============================] - 5s 12ms/step - loss: 1.0669 - accuracy: 0.7794 - val_loss: 1.5262 - val_accuracy: 0.7074\n",
            "Epoch 15/100\n",
            "408/408 [==============================] - 5s 12ms/step - loss: 1.0343 - accuracy: 0.7868 - val_loss: 1.5580 - val_accuracy: 0.6979\n",
            "Epoch 16/100\n",
            "408/408 [==============================] - 5s 12ms/step - loss: 1.0058 - accuracy: 0.7913 - val_loss: 1.6405 - val_accuracy: 0.6795\n",
            "Epoch 17/100\n",
            "408/408 [==============================] - 5s 12ms/step - loss: 0.9769 - accuracy: 0.7938 - val_loss: 1.6856 - val_accuracy: 0.6951\n",
            "Epoch 18/100\n",
            "408/408 [==============================] - 5s 12ms/step - loss: 0.9608 - accuracy: 0.7969 - val_loss: 1.7134 - val_accuracy: 0.6804\n",
            "Epoch 19/100\n",
            "408/408 [==============================] - 5s 12ms/step - loss: 0.9399 - accuracy: 0.8028 - val_loss: 1.7103 - val_accuracy: 0.6865\n",
            "Epoch 20/100\n",
            "408/408 [==============================] - 5s 12ms/step - loss: 0.9091 - accuracy: 0.8106 - val_loss: 1.7142 - val_accuracy: 0.6635\n",
            "Epoch 21/100\n",
            "408/408 [==============================] - 5s 12ms/step - loss: 0.8904 - accuracy: 0.8096 - val_loss: 1.8416 - val_accuracy: 0.6868\n",
            "Epoch 22/100\n",
            "408/408 [==============================] - 5s 12ms/step - loss: 0.8807 - accuracy: 0.8123 - val_loss: 1.7690 - val_accuracy: 0.6712\n",
            "Epoch 23/100\n",
            "408/408 [==============================] - 5s 12ms/step - loss: 0.8598 - accuracy: 0.8155 - val_loss: 1.9036 - val_accuracy: 0.6752\n",
            "Epoch 24/100\n",
            "408/408 [==============================] - 5s 12ms/step - loss: 0.8330 - accuracy: 0.8230 - val_loss: 1.9480 - val_accuracy: 0.6868\n",
            "Epoch 25/100\n",
            "408/408 [==============================] - 5s 12ms/step - loss: 0.8296 - accuracy: 0.8189 - val_loss: 1.9413 - val_accuracy: 0.6727\n",
            "Epoch 26/100\n",
            "408/408 [==============================] - 5s 12ms/step - loss: 0.8161 - accuracy: 0.8243 - val_loss: 1.9932 - val_accuracy: 0.6862\n",
            "Epoch 27/100\n",
            "408/408 [==============================] - 5s 12ms/step - loss: 0.7984 - accuracy: 0.8257 - val_loss: 1.9664 - val_accuracy: 0.6696\n",
            "Epoch 28/100\n",
            "408/408 [==============================] - 5s 12ms/step - loss: 0.7782 - accuracy: 0.8349 - val_loss: 1.9922 - val_accuracy: 0.6438\n",
            "Epoch 29/100\n",
            "408/408 [==============================] - 5s 12ms/step - loss: 0.7748 - accuracy: 0.8358 - val_loss: 2.1036 - val_accuracy: 0.6653\n",
            "Epoch 30/100\n",
            "408/408 [==============================] - 5s 12ms/step - loss: 0.7521 - accuracy: 0.8397 - val_loss: 2.1784 - val_accuracy: 0.6607\n",
            "Epoch 31/100\n",
            "408/408 [==============================] - 5s 12ms/step - loss: 0.7476 - accuracy: 0.8417 - val_loss: 2.1213 - val_accuracy: 0.6564\n",
            "Epoch 32/100\n",
            "408/408 [==============================] - 5s 12ms/step - loss: 0.7316 - accuracy: 0.8389 - val_loss: 2.2168 - val_accuracy: 0.6663\n",
            "Epoch 33/100\n",
            "408/408 [==============================] - 5s 12ms/step - loss: 0.7215 - accuracy: 0.8433 - val_loss: 2.2123 - val_accuracy: 0.6595\n",
            "Epoch 34/100\n",
            "408/408 [==============================] - 5s 12ms/step - loss: 0.7202 - accuracy: 0.8397 - val_loss: 2.3094 - val_accuracy: 0.6675\n",
            "Epoch 35/100\n",
            "408/408 [==============================] - 5s 12ms/step - loss: 0.7061 - accuracy: 0.8459 - val_loss: 2.2806 - val_accuracy: 0.6294\n",
            "Epoch 36/100\n",
            "408/408 [==============================] - 5s 12ms/step - loss: 0.6973 - accuracy: 0.8481 - val_loss: 2.3749 - val_accuracy: 0.6549\n",
            "Epoch 37/100\n",
            "408/408 [==============================] - 5s 12ms/step - loss: 0.6803 - accuracy: 0.8509 - val_loss: 2.4096 - val_accuracy: 0.6297\n",
            "Epoch 38/100\n",
            "408/408 [==============================] - 5s 12ms/step - loss: 0.6758 - accuracy: 0.8487 - val_loss: 2.4520 - val_accuracy: 0.6494\n",
            "Epoch 39/100\n",
            "408/408 [==============================] - 5s 12ms/step - loss: 0.6720 - accuracy: 0.8520 - val_loss: 2.3965 - val_accuracy: 0.6285\n",
            "Epoch 40/100\n",
            "408/408 [==============================] - 5s 12ms/step - loss: 0.6590 - accuracy: 0.8549 - val_loss: 2.3905 - val_accuracy: 0.6380\n",
            "Epoch 41/100\n",
            "408/408 [==============================] - 5s 12ms/step - loss: 0.6529 - accuracy: 0.8567 - val_loss: 2.4335 - val_accuracy: 0.6448\n",
            "Epoch 42/100\n",
            "408/408 [==============================] - 5s 12ms/step - loss: 0.6414 - accuracy: 0.8589 - val_loss: 2.4502 - val_accuracy: 0.6368\n",
            "Epoch 43/100\n",
            "408/408 [==============================] - 5s 12ms/step - loss: 0.6348 - accuracy: 0.8592 - val_loss: 2.6319 - val_accuracy: 0.6316\n",
            "Epoch 44/100\n",
            "408/408 [==============================] - 5s 12ms/step - loss: 0.6326 - accuracy: 0.8574 - val_loss: 2.5601 - val_accuracy: 0.6230\n",
            "Epoch 45/100\n",
            "408/408 [==============================] - 5s 12ms/step - loss: 0.6199 - accuracy: 0.8590 - val_loss: 2.6906 - val_accuracy: 0.6632\n",
            "Epoch 46/100\n",
            "408/408 [==============================] - 5s 12ms/step - loss: 0.6509 - accuracy: 0.8548 - val_loss: 2.5424 - val_accuracy: 0.6306\n",
            "Epoch 47/100\n",
            "408/408 [==============================] - 5s 12ms/step - loss: 0.6206 - accuracy: 0.8606 - val_loss: 2.6711 - val_accuracy: 0.6466\n",
            "Epoch 48/100\n",
            "408/408 [==============================] - 5s 12ms/step - loss: 0.5878 - accuracy: 0.8694 - val_loss: 2.6228 - val_accuracy: 0.6251\n",
            "Epoch 49/100\n",
            "408/408 [==============================] - 5s 12ms/step - loss: 0.5990 - accuracy: 0.8661 - val_loss: 2.7403 - val_accuracy: 0.6288\n",
            "Epoch 50/100\n",
            "408/408 [==============================] - 5s 12ms/step - loss: 0.5949 - accuracy: 0.8677 - val_loss: 2.6941 - val_accuracy: 0.6217\n",
            "Epoch 51/100\n",
            "408/408 [==============================] - 5s 12ms/step - loss: 0.5785 - accuracy: 0.8733 - val_loss: 2.8591 - val_accuracy: 0.6448\n",
            "Epoch 52/100\n",
            "408/408 [==============================] - 5s 12ms/step - loss: 0.5754 - accuracy: 0.8773 - val_loss: 2.8893 - val_accuracy: 0.6417\n",
            "Epoch 53/100\n",
            "408/408 [==============================] - 5s 12ms/step - loss: 0.5718 - accuracy: 0.8737 - val_loss: 2.7919 - val_accuracy: 0.6239\n",
            "Epoch 54/100\n",
            "408/408 [==============================] - 5s 12ms/step - loss: 0.5782 - accuracy: 0.8644 - val_loss: 2.7984 - val_accuracy: 0.6377\n",
            "Epoch 55/100\n",
            "408/408 [==============================] - 5s 12ms/step - loss: 0.5633 - accuracy: 0.8733 - val_loss: 2.9722 - val_accuracy: 0.6405\n",
            "Epoch 56/100\n",
            "408/408 [==============================] - 5s 12ms/step - loss: 0.5583 - accuracy: 0.8767 - val_loss: 2.8345 - val_accuracy: 0.5981\n",
            "Epoch 57/100\n",
            "408/408 [==============================] - 5s 12ms/step - loss: 0.5524 - accuracy: 0.8782 - val_loss: 2.9904 - val_accuracy: 0.6466\n",
            "Epoch 58/100\n",
            "408/408 [==============================] - 5s 12ms/step - loss: 0.5478 - accuracy: 0.8780 - val_loss: 3.0092 - val_accuracy: 0.6245\n",
            "Epoch 59/100\n",
            "408/408 [==============================] - 5s 13ms/step - loss: 0.5650 - accuracy: 0.8736 - val_loss: 2.8996 - val_accuracy: 0.6018\n",
            "Epoch 60/100\n",
            "408/408 [==============================] - 5s 13ms/step - loss: 0.5355 - accuracy: 0.8763 - val_loss: 2.9379 - val_accuracy: 0.6313\n",
            "Epoch 61/100\n",
            "408/408 [==============================] - 5s 12ms/step - loss: 0.5409 - accuracy: 0.8795 - val_loss: 2.9739 - val_accuracy: 0.6306\n",
            "Epoch 62/100\n",
            "408/408 [==============================] - 5s 12ms/step - loss: 0.5146 - accuracy: 0.8824 - val_loss: 3.1016 - val_accuracy: 0.6239\n",
            "Epoch 63/100\n",
            "408/408 [==============================] - 5s 12ms/step - loss: 0.5133 - accuracy: 0.8849 - val_loss: 3.0550 - val_accuracy: 0.6039\n",
            "Epoch 64/100\n",
            "408/408 [==============================] - 5s 12ms/step - loss: 0.5271 - accuracy: 0.8824 - val_loss: 3.0736 - val_accuracy: 0.6423\n",
            "Epoch 65/100\n",
            "408/408 [==============================] - 5s 12ms/step - loss: 0.5137 - accuracy: 0.8865 - val_loss: 3.1265 - val_accuracy: 0.6224\n",
            "Epoch 66/100\n",
            "408/408 [==============================] - 5s 12ms/step - loss: 0.5027 - accuracy: 0.8860 - val_loss: 3.1698 - val_accuracy: 0.6469\n",
            "Epoch 67/100\n",
            "408/408 [==============================] - 5s 12ms/step - loss: 0.5142 - accuracy: 0.8884 - val_loss: 2.9810 - val_accuracy: 0.6285\n",
            "Epoch 68/100\n",
            "408/408 [==============================] - 5s 12ms/step - loss: 0.5151 - accuracy: 0.8854 - val_loss: 3.0027 - val_accuracy: 0.6150\n",
            "Epoch 69/100\n",
            "408/408 [==============================] - 5s 12ms/step - loss: 0.4975 - accuracy: 0.8880 - val_loss: 3.1571 - val_accuracy: 0.6220\n",
            "Epoch 70/100\n",
            "408/408 [==============================] - 5s 12ms/step - loss: 0.4907 - accuracy: 0.8892 - val_loss: 3.2266 - val_accuracy: 0.6402\n",
            "Epoch 71/100\n",
            "408/408 [==============================] - 5s 12ms/step - loss: 0.5032 - accuracy: 0.8861 - val_loss: 3.1319 - val_accuracy: 0.6227\n",
            "Epoch 72/100\n",
            "408/408 [==============================] - 5s 12ms/step - loss: 0.5087 - accuracy: 0.8864 - val_loss: 3.0559 - val_accuracy: 0.6445\n",
            "Epoch 73/100\n",
            "408/408 [==============================] - 5s 12ms/step - loss: 0.4927 - accuracy: 0.8874 - val_loss: 3.1325 - val_accuracy: 0.6239\n",
            "Epoch 74/100\n",
            "408/408 [==============================] - 5s 12ms/step - loss: 0.4790 - accuracy: 0.8936 - val_loss: 3.2831 - val_accuracy: 0.6405\n",
            "Epoch 75/100\n",
            "408/408 [==============================] - 5s 12ms/step - loss: 0.4760 - accuracy: 0.8902 - val_loss: 3.2179 - val_accuracy: 0.6242\n",
            "Epoch 76/100\n",
            "408/408 [==============================] - 5s 12ms/step - loss: 0.4772 - accuracy: 0.8918 - val_loss: 3.2151 - val_accuracy: 0.6165\n",
            "Epoch 77/100\n",
            "408/408 [==============================] - 5s 12ms/step - loss: 0.4733 - accuracy: 0.8971 - val_loss: 3.2205 - val_accuracy: 0.6254\n",
            "Epoch 78/100\n",
            "408/408 [==============================] - 5s 12ms/step - loss: 0.4645 - accuracy: 0.8973 - val_loss: 3.3991 - val_accuracy: 0.6383\n",
            "Epoch 79/100\n",
            "408/408 [==============================] - 5s 12ms/step - loss: 0.4699 - accuracy: 0.8937 - val_loss: 3.1190 - val_accuracy: 0.6085\n",
            "Epoch 80/100\n",
            "408/408 [==============================] - 5s 12ms/step - loss: 0.4648 - accuracy: 0.8948 - val_loss: 3.1875 - val_accuracy: 0.6392\n",
            "Epoch 81/100\n",
            "408/408 [==============================] - 5s 12ms/step - loss: 0.4582 - accuracy: 0.8972 - val_loss: 3.2997 - val_accuracy: 0.6429\n",
            "Epoch 82/100\n",
            "408/408 [==============================] - 5s 12ms/step - loss: 0.4607 - accuracy: 0.8952 - val_loss: 3.3199 - val_accuracy: 0.6362\n",
            "Epoch 83/100\n",
            "408/408 [==============================] - 5s 12ms/step - loss: 0.4513 - accuracy: 0.8999 - val_loss: 3.4927 - val_accuracy: 0.6494\n",
            "Epoch 84/100\n",
            "408/408 [==============================] - 5s 12ms/step - loss: 0.4535 - accuracy: 0.8988 - val_loss: 3.2421 - val_accuracy: 0.6113\n",
            "Epoch 85/100\n",
            "408/408 [==============================] - 5s 12ms/step - loss: 0.4642 - accuracy: 0.8965 - val_loss: 3.3222 - val_accuracy: 0.6257\n",
            "Epoch 86/100\n",
            "408/408 [==============================] - 5s 12ms/step - loss: 0.4607 - accuracy: 0.8955 - val_loss: 3.2289 - val_accuracy: 0.6162\n",
            "Epoch 87/100\n",
            "408/408 [==============================] - 5s 12ms/step - loss: 0.4400 - accuracy: 0.9022 - val_loss: 3.2366 - val_accuracy: 0.6128\n",
            "Epoch 88/100\n",
            "408/408 [==============================] - 5s 12ms/step - loss: 0.4341 - accuracy: 0.9031 - val_loss: 3.3261 - val_accuracy: 0.6288\n",
            "Epoch 89/100\n",
            "408/408 [==============================] - 5s 12ms/step - loss: 0.4368 - accuracy: 0.9013 - val_loss: 3.2748 - val_accuracy: 0.6184\n",
            "Epoch 90/100\n",
            "408/408 [==============================] - 5s 12ms/step - loss: 0.4506 - accuracy: 0.9005 - val_loss: 3.2675 - val_accuracy: 0.6273\n",
            "Epoch 91/100\n",
            "408/408 [==============================] - 5s 12ms/step - loss: 0.4391 - accuracy: 0.9021 - val_loss: 3.1365 - val_accuracy: 0.5889\n",
            "Epoch 92/100\n",
            "408/408 [==============================] - 5s 12ms/step - loss: 0.4421 - accuracy: 0.9015 - val_loss: 3.3180 - val_accuracy: 0.5996\n",
            "Epoch 93/100\n",
            "408/408 [==============================] - 5s 12ms/step - loss: 0.4363 - accuracy: 0.9026 - val_loss: 3.3598 - val_accuracy: 0.6233\n",
            "Epoch 94/100\n",
            "408/408 [==============================] - 5s 12ms/step - loss: 0.4182 - accuracy: 0.9076 - val_loss: 3.3524 - val_accuracy: 0.6134\n",
            "Epoch 95/100\n",
            "408/408 [==============================] - 5s 12ms/step - loss: 0.4311 - accuracy: 0.9053 - val_loss: 3.4147 - val_accuracy: 0.6193\n",
            "Epoch 96/100\n",
            "408/408 [==============================] - 5s 12ms/step - loss: 0.4248 - accuracy: 0.9047 - val_loss: 3.4997 - val_accuracy: 0.6435\n",
            "Epoch 97/100\n",
            "408/408 [==============================] - 5s 12ms/step - loss: 0.4112 - accuracy: 0.9102 - val_loss: 3.3324 - val_accuracy: 0.6088\n",
            "Epoch 98/100\n",
            "408/408 [==============================] - 5s 12ms/step - loss: 0.4315 - accuracy: 0.9034 - val_loss: 3.5819 - val_accuracy: 0.6540\n",
            "Epoch 99/100\n",
            "408/408 [==============================] - 5s 12ms/step - loss: 0.4280 - accuracy: 0.9051 - val_loss: 3.3994 - val_accuracy: 0.6138\n",
            "Epoch 100/100\n",
            "408/408 [==============================] - 5s 12ms/step - loss: 0.4136 - accuracy: 0.9084 - val_loss: 3.3557 - val_accuracy: 0.6153\n"
          ],
          "name": "stdout"
        }
      ]
    },
    {
      "cell_type": "code",
      "metadata": {
        "id": "s6oQDXpDpRCz",
        "colab": {
          "base_uri": "https://localhost:8080/",
          "height": 295
        },
        "outputId": "81aa8e20-4738-4492-ee6c-507a0b8f1deb"
      },
      "source": [
        "import matplotlib.pyplot as plt \n",
        "loss = history.history['loss']\n",
        "val_loss = history.history['val_loss']\n",
        "\n",
        "epochs = range(1, len(loss)+1)\n",
        "\n",
        "plt.plot(epochs, loss, label='Training loss')\n",
        "plt.plot(epochs, val_loss, label='Validation loss')\n",
        "plt.title('Training and validation loss')\n",
        "plt.xlabel('Epochs')\n",
        "plt.ylabel('Loss')\n",
        "plt.legend()\n",
        "plt.show();"
      ],
      "execution_count": 270,
      "outputs": [
        {
          "output_type": "display_data",
          "data": {
            "image/png": "[encoded data removed]",
            "text/plain": [
              "<Figure size 432x288 with 1 Axes>"
            ]
          },
          "metadata": {
            "tags": [],
            "needs_background": "light"
          }
        }
      ]
    },
    {
      "cell_type": "code",
      "metadata": {
        "id": "inF8C5vnpRCz",
        "colab": {
          "base_uri": "https://localhost:8080/",
          "height": 295
        },
        "outputId": "6f00b77f-2938-4156-973b-658632d2bcde"
      },
      "source": [
        "accuracy = history.history['accuracy']\n",
        "val_accuracy = history.history['val_accuracy']\n",
        "\n",
        "plt.plot(epochs, accuracy, label='Training accuracy')\n",
        "plt.plot(epochs, val_accuracy, label='Validation accuracy')\n",
        "plt.title('Training and validation accuracy')\n",
        "plt.ylabel('Accuracy')\n",
        "plt.xlabel('Epochs')\n",
        "plt.legend()\n",
        "plt.show();"
      ],
      "execution_count": 271,
      "outputs": [
        {
          "output_type": "display_data",
          "data": {
            "image/png": "[encoded data removed]",
            "text/plain": [
              "<Figure size 432x288 with 1 Axes>"
            ]
          },
          "metadata": {
            "tags": [],
            "needs_background": "light"
          }
        }
      ]
    },
    {
      "cell_type": "code",
      "metadata": {
        "colab": {
          "base_uri": "https://localhost:8080/"
        },
        "id": "uWtuGLVmtg-u",
        "outputId": "d8bf76ba-afff-409c-8222-ec3f869e4cfb"
      },
      "source": [
        "pred = model.predict(x_val)\n",
        "print(\"size of predicted array is: \", len(pred))\n",
        "print(\"size of Y_test array is: \", len(y_val))"
      ],
      "execution_count": 272,
      "outputs": [
        {
          "output_type": "stream",
          "text": [
            "size of predicted array is:  3257\n",
            "size of Y_test array is:  3257\n"
          ],
          "name": "stdout"
        }
      ]
    },
    {
      "cell_type": "code",
      "metadata": {
        "colab": {
          "base_uri": "https://localhost:8080/"
        },
        "id": "CJsSuJ6fwNzn",
        "outputId": "c799c15a-a8a1-4c03-96b3-b5d8c7d57f47"
      },
      "source": [
        "print(y_val[0])\n"
      ],
      "execution_count": 273,
      "outputs": [
        {
          "output_type": "stream",
          "text": [
            "[0. 0. 1. 0. 0. 0. 0. 0. 0. 0. 0. 0. 0. 0. 0. 0. 0. 0. 0.]\n"
          ],
          "name": "stdout"
        }
      ]
    },
    {
      "cell_type": "code",
      "metadata": {
        "colab": {
          "base_uri": "https://localhost:8080/"
        },
        "id": "hrPF8nGttyVS",
        "outputId": "6ff1fd55-3549-416f-9573-427efdc4125a"
      },
      "source": [
        "print(pred[400])\n"
      ],
      "execution_count": 274,
      "outputs": [
        {
          "output_type": "stream",
          "text": [
            "[5.6127668e-05 2.5572442e-08 8.1657338e-01 2.0552385e-03 2.3351289e-05\n",
            " 9.3884855e-09 1.2457698e-06 2.0812027e-05 1.6624093e-01 1.4164613e-03\n",
            " 1.7853026e-06 2.0137383e-04 1.0019810e-03 5.0616662e-09 4.2697668e-11\n",
            " 7.5929231e-05 2.0884762e-08 7.2547664e-08 3.9217185e-14]\n"
          ],
          "name": "stdout"
        }
      ]
    },
    {
      "cell_type": "code",
      "metadata": {
        "colab": {
          "base_uri": "https://localhost:8080/"
        },
        "id": "3mVcsIbjwTOc",
        "outputId": "f426208a-319b-474c-fd7c-0643c4d9c7a2"
      },
      "source": [
        "np.argmax(pred[400])"
      ],
      "execution_count": 275,
      "outputs": [
        {
          "output_type": "execute_result",
          "data": {
            "text/plain": [
              "2"
            ]
          },
          "metadata": {
            "tags": []
          },
          "execution_count": 275
        }
      ]
    },
    {
      "cell_type": "markdown",
      "metadata": {
        "id": "gglffkAxwasX"
      },
      "source": [
        "We find the index of the highest value (predicted class). \n"
      ]
    },
    {
      "cell_type": "code",
      "metadata": {
        "id": "X3BB1usowbac"
      },
      "source": [
        "pred1=[]\n",
        "for i in range (len(pred)):\n",
        "  pred1.append(np.argmax(pred[i]))"
      ],
      "execution_count": 276,
      "outputs": []
    },
    {
      "cell_type": "code",
      "metadata": {
        "id": "j5DX52pbwgZL"
      },
      "source": [
        "Y_test1=[]\n",
        "for i in range (len(pred)):\n",
        "  Y_test1.append(np.argmax(y_val[i]))"
      ],
      "execution_count": 277,
      "outputs": []
    },
    {
      "cell_type": "code",
      "metadata": {
        "colab": {
          "base_uri": "https://localhost:8080/"
        },
        "id": "2UfJ6fY6wkHJ",
        "outputId": "e0385923-5fec-4204-9966-59751ddc6144"
      },
      "source": [
        "from sklearn.metrics import precision_recall_fscore_support as score\n",
        "\n",
        "#predicted = [1,2,3,4,5,1,2,1,1,4,5] \n",
        "#y_test = [1,2,3,4,5,1,2,1,1,4,1]\n",
        "\n",
        "precision, recall, fscore, support = score(Y_test1, pred1 )\n",
        "\n",
        "print('precision: {}'.format(precision))\n",
        "print('recall: {}'.format(recall))\n",
        "print('fscore: {}'.format(fscore))\n",
        "print('support: {}'.format(support))\n",
        "\n"
      ],
      "execution_count": 278,
      "outputs": [
        {
          "output_type": "stream",
          "text": [
            "precision: [0.7831274  0.09090909 0.31609195 0.09756098 0.16564417 0.\n",
            " 0.         0.         0.03125    0.07692308 0.04545455 0.11538462\n",
            " 0.04651163 0.125      0.         0.         0.25       0.\n",
            " 0.        ]\n",
            "recall: [0.79636049 0.05       0.28947368 0.10526316 0.17532468 0.\n",
            " 0.         0.         0.01724138 0.09677419 0.04761905 0.13043478\n",
            " 0.05263158 0.11111111 0.         0.         0.33333333 0.\n",
            " 0.        ]\n",
            "fscore: [0.78968851 0.06451613 0.3021978  0.10126582 0.170347   0.\n",
            " 0.         0.         0.02222222 0.08571429 0.04651163 0.12244898\n",
            " 0.04938272 0.11764706 0.         0.         0.28571429 0.\n",
            " 0.        ]\n",
            "support: [2308   20  380   38  154   17   29    9   58   93   21   69   38    9\n",
            "    0    6    3    4    1]\n"
          ],
          "name": "stdout"
        },
        {
          "output_type": "stream",
          "text": [
            "/usr/local/lib/python3.6/dist-packages/sklearn/metrics/_classification.py:1272: UndefinedMetricWarning: Precision and F-score are ill-defined and being set to 0.0 in labels with no predicted samples. Use `zero_division` parameter to control this behavior.\n",
            "  _warn_prf(average, modifier, msg_start, len(result))\n",
            "/usr/local/lib/python3.6/dist-packages/sklearn/metrics/_classification.py:1272: UndefinedMetricWarning: Recall and F-score are ill-defined and being set to 0.0 in labels with no true samples. Use `zero_division` parameter to control this behavior.\n",
            "  _warn_prf(average, modifier, msg_start, len(result))\n"
          ],
          "name": "stderr"
        }
      ]
    },
    {
      "cell_type": "code",
      "metadata": {
        "id": "nj5qfGmtwkrH"
      },
      "source": [
        "df1 = pd.DataFrame({ 'precision': precision, 'recall':recall, 'Fscore':fscore, 'support':support })\n"
      ],
      "execution_count": 279,
      "outputs": []
    },
    {
      "cell_type": "code",
      "metadata": {
        "colab": {
          "base_uri": "https://localhost:8080/"
        },
        "id": "b0keoh_lwmcp",
        "outputId": "1a6b6ccc-9f25-42ff-832d-13853c578e2e"
      },
      "source": [
        "from tabulate import tabulate\n",
        "print(tabulate(df1, headers='keys', tablefmt='psql'))\n"
      ],
      "execution_count": 280,
      "outputs": [
        {
          "output_type": "stream",
          "text": [
            "+----+-------------+-----------+-----------+-----------+\n",
            "|    |   precision |    recall |    Fscore |   support |\n",
            "|----+-------------+-----------+-----------+-----------|\n",
            "|  0 |   0.783127  | 0.79636   | 0.789689  |      2308 |\n",
            "|  1 |   0.0909091 | 0.05      | 0.0645161 |        20 |\n",
            "|  2 |   0.316092  | 0.289474  | 0.302198  |       380 |\n",
            "|  3 |   0.097561  | 0.105263  | 0.101266  |        38 |\n",
            "|  4 |   0.165644  | 0.175325  | 0.170347  |       154 |\n",
            "|  5 |   0         | 0         | 0         |        17 |\n",
            "|  6 |   0         | 0         | 0         |        29 |\n",
            "|  7 |   0         | 0         | 0         |         9 |\n",
            "|  8 |   0.03125   | 0.0172414 | 0.0222222 |        58 |\n",
            "|  9 |   0.0769231 | 0.0967742 | 0.0857143 |        93 |\n",
            "| 10 |   0.0454545 | 0.047619  | 0.0465116 |        21 |\n",
            "| 11 |   0.115385  | 0.130435  | 0.122449  |        69 |\n",
            "| 12 |   0.0465116 | 0.0526316 | 0.0493827 |        38 |\n",
            "| 13 |   0.125     | 0.111111  | 0.117647  |         9 |\n",
            "| 14 |   0         | 0         | 0         |         0 |\n",
            "| 15 |   0         | 0         | 0         |         6 |\n",
            "| 16 |   0.25      | 0.333333  | 0.285714  |         3 |\n",
            "| 17 |   0         | 0         | 0         |         4 |\n",
            "| 18 |   0         | 0         | 0         |         1 |\n",
            "+----+-------------+-----------+-----------+-----------+\n"
          ],
          "name": "stdout"
        }
      ]
    },
    {
      "cell_type": "code",
      "metadata": {
        "id": "DH-fG9H0zjLe"
      },
      "source": [
        "from sklearn.metrics import f1_score"
      ],
      "execution_count": 281,
      "outputs": []
    },
    {
      "cell_type": "code",
      "metadata": {
        "colab": {
          "base_uri": "https://localhost:8080/"
        },
        "id": "eu8ju4amz29v",
        "outputId": "d5b693a4-b422-490b-a86c-88c4ed76e176"
      },
      "source": [
        "f1_score(Y_test1, pred1, average='weighted')"
      ],
      "execution_count": 282,
      "outputs": [
        {
          "output_type": "execute_result",
          "data": {
            "text/plain": [
              "0.6113867522615675"
            ]
          },
          "metadata": {
            "tags": []
          },
          "execution_count": 282
        }
      ]
    },
    {
      "cell_type": "markdown",
      "metadata": {
        "id": "yE1QhrvjhHkd"
      },
      "source": [
        "###Binary classification of propaganda versus non propaganda sentences"
      ]
    },
    {
      "cell_type": "code",
      "metadata": {
        "id": "VdHts5JWhLrO"
      },
      "source": [
        "for i in range (0, df_all.shape[0]):\n",
        "    if df_all.iloc[i]['label']==0  :\n",
        "        \n",
        "        df_all.at[i, 'binary']= 0 \n",
        "    else:\n",
        "        #False\n",
        "        df_all.at[i, 'binary']= 1 \n",
        "        "
      ],
      "execution_count": 283,
      "outputs": []
    },
    {
      "cell_type": "code",
      "metadata": {
        "colab": {
          "base_uri": "https://localhost:8080/"
        },
        "id": "YEFbSQHNm_X6",
        "outputId": "a23b4874-0e44-48a8-b4f1-313a3fc974f4"
      },
      "source": [
        "print(df_all.shape[0])"
      ],
      "execution_count": 284,
      "outputs": [
        {
          "output_type": "stream",
          "text": [
            "20242\n"
          ],
          "name": "stdout"
        }
      ]
    },
    {
      "cell_type": "code",
      "metadata": {
        "id": "_xkmFB9gnCT3"
      },
      "source": [
        "comments_train_binary=df_all['full_sent']"
      ],
      "execution_count": 285,
      "outputs": []
    },
    {
      "cell_type": "code",
      "metadata": {
        "colab": {
          "base_uri": "https://localhost:8080/"
        },
        "id": "i2D11eVonM4h",
        "outputId": "8d1d7bea-04a5-4fb1-ab2a-f19c7675220d"
      },
      "source": [
        "\"\"\"comments_train_binary=all_sentences[:16000]\n",
        "comments_test_binary=all_sentences[16000:]\n",
        "print(\"size of train set is: \", len(comments_train_binary))\n",
        "print(\"size of test set is: \", len(comments_test_binary))\"\"\""
      ],
      "execution_count": 231,
      "outputs": [
        {
          "output_type": "stream",
          "text": [
            "size of train set is:  16000\n",
            "size of test set is:  4242\n"
          ],
          "name": "stdout"
        }
      ]
    },
    {
      "cell_type": "code",
      "metadata": {
        "id": "I17REf5OnaJ6"
      },
      "source": [
        "y=df_all['binary']"
      ],
      "execution_count": 286,
      "outputs": []
    },
    {
      "cell_type": "code",
      "metadata": {
        "colab": {
          "base_uri": "https://localhost:8080/",
          "height": 118,
          "referenced_widgets": [
            "f2b000fb80924defb5ccbfdb26ec913e",
            "93ef22c9e6624ef790b3a699af5cd205",
            "f42e6f6da4184bd1aa3aa6a54f342959",
            "4e6ec6d3accc4fee8d9fa84a9fe25384",
            "4761220d857c4b99a3955790924bac21",
            "8eb7c3f1154546288de43d9a58411b72",
            "4692e9d6703847988fdec46eaf7b040d",
            "51775b0ebcbf43b59dc279d2e5c4bdea"
          ]
        },
        "id": "UDUStKcknfLj",
        "outputId": "b97e2671-0a36-442c-97b2-62cb3ac48e76"
      },
      "source": [
        "texts = [] \n",
        "\n",
        "for line in tqdm_notebook(comments_train_binary, total=12000): \n",
        "    texts.append(clean_text(line))"
      ],
      "execution_count": 287,
      "outputs": [
        {
          "output_type": "stream",
          "text": [
            "/usr/local/lib/python3.6/dist-packages/ipykernel_launcher.py:3: TqdmDeprecationWarning: This function will be removed in tqdm==5.0.0\n",
            "Please use `tqdm.notebook.tqdm` instead of `tqdm.tqdm_notebook`\n",
            "  This is separate from the ipykernel package so we can avoid doing imports until\n"
          ],
          "name": "stderr"
        },
        {
          "output_type": "display_data",
          "data": {
            "application/vnd.jupyter.widget-view+json": {
              "model_id": "f2b000fb80924defb5ccbfdb26ec913e",
              "version_minor": 0,
              "version_major": 2
            },
            "text/plain": [
              "HBox(children=(FloatProgress(value=0.0, max=12000.0), HTML(value='')))"
            ]
          },
          "metadata": {
            "tags": []
          }
        },
        {
          "output_type": "stream",
          "text": [
            "\n"
          ],
          "name": "stdout"
        }
      ]
    },
    {
      "cell_type": "code",
      "metadata": {
        "colab": {
          "base_uri": "https://localhost:8080/"
        },
        "id": "65H81a6InhNH",
        "outputId": "a7e5f6fe-35a3-481d-acc7-9bc7c7525743"
      },
      "source": [
        "print('Sample data:', texts[1], y[1])"
      ],
      "execution_count": 288,
      "outputs": [
        {
          "output_type": "stream",
          "text": [
            "Sample data: wo guys ship thing werent treated crimin 1.0\n"
          ],
          "name": "stdout"
        }
      ]
    },
    {
      "cell_type": "code",
      "metadata": {
        "id": "S9WP27iRnjhG"
      },
      "source": [
        "tokenizer = Tokenizer(num_words=MAX_NB_WORDS)\n",
        "tokenizer.fit_on_texts(texts)"
      ],
      "execution_count": 289,
      "outputs": []
    },
    {
      "cell_type": "code",
      "metadata": {
        "colab": {
          "base_uri": "https://localhost:8080/"
        },
        "id": "6lA5l_RMnw4a",
        "outputId": "946b1563-a95b-4b59-e1ef-0cd690955dc4"
      },
      "source": [
        "sequences = tokenizer.texts_to_sequences(texts)\n",
        "word_index = tokenizer.word_index\n",
        "print('Vocabulary size:', len(word_index))"
      ],
      "execution_count": 290,
      "outputs": [
        {
          "output_type": "stream",
          "text": [
            "Vocabulary size: 26981\n"
          ],
          "name": "stdout"
        }
      ]
    },
    {
      "cell_type": "code",
      "metadata": {
        "colab": {
          "base_uri": "https://localhost:8080/"
        },
        "id": "XEeppEDynyqm",
        "outputId": "e66362de-ba70-4fbc-a272-e880488aa7d1"
      },
      "source": [
        "data = pad_sequences(sequences, padding = 'post', maxlen = MAX_SEQUENCE_LENGTH)\n",
        "\n",
        "print('Shape of data tensor:', data.shape)\n",
        "print('Shape of label tensor:', y.shape)"
      ],
      "execution_count": 291,
      "outputs": [
        {
          "output_type": "stream",
          "text": [
            "Shape of data tensor: (20242, 200)\n",
            "Shape of label tensor: (20242,)\n"
          ],
          "name": "stdout"
        }
      ]
    },
    {
      "cell_type": "code",
      "metadata": {
        "colab": {
          "base_uri": "https://localhost:8080/"
        },
        "id": "02RRnFxs2U7F",
        "outputId": "3b5a479b-2862-4d5d-9c4b-c795f7d7efaa"
      },
      "source": [
        "np_array=np.asarray(y)\n",
        "y = np_array.reshape(20242,1)\n",
        "y.shape\n"
      ],
      "execution_count": 305,
      "outputs": [
        {
          "output_type": "execute_result",
          "data": {
            "text/plain": [
              "(20242, 1)"
            ]
          },
          "metadata": {
            "tags": []
          },
          "execution_count": 305
        }
      ]
    },
    {
      "cell_type": "code",
      "metadata": {
        "id": "DMtZvXGPn0gO"
      },
      "source": [
        "#Shuffle the data in train set\n",
        "indices = np.arange(data.shape[0])\n",
        "np.random.shuffle(indices)\n",
        "data = data[indices]\n",
        "labels = y[indices]"
      ],
      "execution_count": 306,
      "outputs": []
    },
    {
      "cell_type": "code",
      "metadata": {
        "id": "NbfaLErRn7WQ"
      },
      "source": [
        "#create train and validation split\n",
        "num_validation_samples = int(VALIDATION_SPLIT*data.shape[0])\n",
        "x_train = data[: -num_validation_samples]\n",
        "y_train = labels[: -num_validation_samples]\n",
        "x_val = data[-num_validation_samples: ]\n",
        "y_val = labels[-num_validation_samples: ]"
      ],
      "execution_count": 307,
      "outputs": []
    },
    {
      "cell_type": "code",
      "metadata": {
        "colab": {
          "base_uri": "https://localhost:8080/"
        },
        "id": "36iUmXlEn9fK",
        "outputId": "0989b4d2-0d44-42c2-86cf-d840a817936b"
      },
      "source": [
        "print('Tokenized sentences: \\n', data[10])\n",
        "print('One hot label: \\n', labels[10])"
      ],
      "execution_count": 308,
      "outputs": [
        {
          "output_type": "stream",
          "text": [
            "Tokenized sentences: \n",
            " [  417    10  2506  3964  7192   357   341   118  3231 14136    73   118\n",
            "  1129  1162  1012  4172     0     0     0     0     0     0     0     0\n",
            "     0     0     0     0     0     0     0     0     0     0     0     0\n",
            "     0     0     0     0     0     0     0     0     0     0     0     0\n",
            "     0     0     0     0     0     0     0     0     0     0     0     0\n",
            "     0     0     0     0     0     0     0     0     0     0     0     0\n",
            "     0     0     0     0     0     0     0     0     0     0     0     0\n",
            "     0     0     0     0     0     0     0     0     0     0     0     0\n",
            "     0     0     0     0     0     0     0     0     0     0     0     0\n",
            "     0     0     0     0     0     0     0     0     0     0     0     0\n",
            "     0     0     0     0     0     0     0     0     0     0     0     0\n",
            "     0     0     0     0     0     0     0     0     0     0     0     0\n",
            "     0     0     0     0     0     0     0     0     0     0     0     0\n",
            "     0     0     0     0     0     0     0     0     0     0     0     0\n",
            "     0     0     0     0     0     0     0     0     0     0     0     0\n",
            "     0     0     0     0     0     0     0     0     0     0     0     0\n",
            "     0     0     0     0     0     0     0     0]\n",
            "One hot label: \n",
            " [0.]\n"
          ],
          "name": "stdout"
        }
      ]
    },
    {
      "cell_type": "code",
      "metadata": {
        "colab": {
          "base_uri": "https://localhost:8080/"
        },
        "id": "rwaW2NtY1kw0",
        "outputId": "f1725034-d9e8-4b8a-844e-99e92f509a7e"
      },
      "source": [
        "print(\"size of train set is: \", len(x_train))\n",
        "print(\"size of test set is: \", len(x_val))"
      ],
      "execution_count": 309,
      "outputs": [
        {
          "output_type": "stream",
          "text": [
            "size of train set is:  16194\n",
            "size of test set is:  4048\n"
          ],
          "name": "stdout"
        }
      ]
    },
    {
      "cell_type": "code",
      "metadata": {
        "colab": {
          "base_uri": "https://localhost:8080/"
        },
        "id": "tfy4KbwtoAfQ",
        "outputId": "00f9d131-2ef9-4170-fed2-6d4324891f72"
      },
      "source": [
        "embeddings_index = {}\n",
        "f = open(data_root/'glove.6B.100d.txt')\n",
        "print('Loading GloVe from:', GLOVE_DIR,'...', end='')\n",
        "for line in f:\n",
        "    values = line.split()\n",
        "    word = values[0]\n",
        "    embeddings_index[word] = np.asarray(values[1:], dtype='float32')\n",
        "f.close()\n",
        "print(\"Done.\\n Proceeding with Embedding Matrix...\", end=\"\")\n",
        "\n",
        "embedding_matrix = np.random.random((len(word_index) + 1, EMBEDDING_DIM))\n",
        "for word, i in word_index.items():\n",
        "    embedding_vector = embeddings_index.get(word)\n",
        "    if embedding_vector is not None:\n",
        "        embedding_matrix[i] = embedding_vector\n",
        "print(\" Completed!\")"
      ],
      "execution_count": 310,
      "outputs": [
        {
          "output_type": "stream",
          "text": [
            "Loading GloVe from: glove/glove.6B.100d.txt ...Done.\n",
            " Proceeding with Embedding Matrix... Completed!\n"
          ],
          "name": "stdout"
        }
      ]
    },
    {
      "cell_type": "code",
      "metadata": {
        "id": "DJBXLCZsoDkE"
      },
      "source": [
        "sequence_input = Input(shape=(MAX_SEQUENCE_LENGTH,), dtype='int32')\n",
        "embedding_layer = Embedding(len(word_index) + 1,\n",
        "                           EMBEDDING_DIM,\n",
        "                           weights = [embedding_matrix],\n",
        "                           input_length = MAX_SEQUENCE_LENGTH,\n",
        "                           trainable=False,\n",
        "                           name = 'embeddings')\n",
        "embedded_sequences = embedding_layer(sequence_input)"
      ],
      "execution_count": 311,
      "outputs": []
    },
    {
      "cell_type": "code",
      "metadata": {
        "id": "3aBsEuqeoIPB"
      },
      "source": [
        "x = LSTM(60, return_sequences=True,name='lstm_layer')(embedded_sequences)\n",
        "x = GlobalMaxPool1D()(x)\n",
        "x = Dropout(0.1)(x)\n",
        "x = Dense(50, activation=\"relu\")(x)\n",
        "x = Dropout(0.1)(x)\n",
        "preds = Dense(1, activation=\"sigmoid\")(x)"
      ],
      "execution_count": 315,
      "outputs": []
    },
    {
      "cell_type": "code",
      "metadata": {
        "colab": {
          "base_uri": "https://localhost:8080/"
        },
        "id": "sh8Ly5TioP47",
        "outputId": "8a1cbec0-886f-4385-93f4-1ab0c69bea5e"
      },
      "source": [
        "model = Model(sequence_input, preds)\n",
        "model.compile(loss = 'binary_crossentropy',\n",
        "             optimizer='adam',\n",
        "             metrics = ['accuracy'])\n",
        "model.summary()"
      ],
      "execution_count": 316,
      "outputs": [
        {
          "output_type": "stream",
          "text": [
            "Model: \"functional_11\"\n",
            "_________________________________________________________________\n",
            "Layer (type)                 Output Shape              Param #   \n",
            "=================================================================\n",
            "input_7 (InputLayer)         [(None, 200)]             0         \n",
            "_________________________________________________________________\n",
            "embeddings (Embedding)       (None, 200, 100)          2698200   \n",
            "_________________________________________________________________\n",
            "lstm_layer (LSTM)            (None, 200, 60)           38640     \n",
            "_________________________________________________________________\n",
            "global_max_pooling1d_6 (Glob (None, 60)                0         \n",
            "_________________________________________________________________\n",
            "dropout_12 (Dropout)         (None, 60)                0         \n",
            "_________________________________________________________________\n",
            "dense_12 (Dense)             (None, 50)                3050      \n",
            "_________________________________________________________________\n",
            "dropout_13 (Dropout)         (None, 50)                0         \n",
            "_________________________________________________________________\n",
            "dense_13 (Dense)             (None, 1)                 51        \n",
            "=================================================================\n",
            "Total params: 2,739,941\n",
            "Trainable params: 41,741\n",
            "Non-trainable params: 2,698,200\n",
            "_________________________________________________________________\n"
          ],
          "name": "stdout"
        }
      ]
    },
    {
      "cell_type": "code",
      "metadata": {
        "colab": {
          "base_uri": "https://localhost:8080/"
        },
        "id": "e4_5Noyi14S1",
        "outputId": "3c9d1a29-a13a-4051-b00c-67b99c40d217"
      },
      "source": [
        "print('Training progress:')\n",
        "history = model.fit(x_train, y_train, epochs = 100, batch_size=32, validation_data=(x_val, y_val))"
      ],
      "execution_count": 317,
      "outputs": [
        {
          "output_type": "stream",
          "text": [
            "Training progress:\n",
            "Epoch 1/100\n",
            "507/507 [==============================] - 7s 14ms/step - loss: 0.6463 - accuracy: 0.6566 - val_loss: 0.6395 - val_accuracy: 0.6630\n",
            "Epoch 2/100\n",
            "507/507 [==============================] - 6s 12ms/step - loss: 0.6431 - accuracy: 0.6578 - val_loss: 0.6449 - val_accuracy: 0.6630\n",
            "Epoch 3/100\n",
            "507/507 [==============================] - 6s 12ms/step - loss: 0.6415 - accuracy: 0.6578 - val_loss: 0.6404 - val_accuracy: 0.6630\n",
            "Epoch 4/100\n",
            "507/507 [==============================] - 6s 12ms/step - loss: 0.6374 - accuracy: 0.6578 - val_loss: 0.6424 - val_accuracy: 0.6630\n",
            "Epoch 5/100\n",
            "507/507 [==============================] - 6s 12ms/step - loss: 0.6327 - accuracy: 0.6582 - val_loss: 0.6405 - val_accuracy: 0.6630\n",
            "Epoch 6/100\n",
            "507/507 [==============================] - 6s 12ms/step - loss: 0.6251 - accuracy: 0.6618 - val_loss: 0.6456 - val_accuracy: 0.6623\n",
            "Epoch 7/100\n",
            "507/507 [==============================] - 6s 12ms/step - loss: 0.6111 - accuracy: 0.6693 - val_loss: 0.6566 - val_accuracy: 0.6272\n",
            "Epoch 8/100\n",
            "507/507 [==============================] - 6s 12ms/step - loss: 0.5942 - accuracy: 0.6863 - val_loss: 0.6667 - val_accuracy: 0.6351\n",
            "Epoch 9/100\n",
            "507/507 [==============================] - 6s 12ms/step - loss: 0.5756 - accuracy: 0.6997 - val_loss: 0.6841 - val_accuracy: 0.6294\n",
            "Epoch 10/100\n",
            "507/507 [==============================] - 6s 12ms/step - loss: 0.5557 - accuracy: 0.7151 - val_loss: 0.6994 - val_accuracy: 0.6159\n",
            "Epoch 11/100\n",
            "507/507 [==============================] - 6s 12ms/step - loss: 0.5350 - accuracy: 0.7300 - val_loss: 0.7084 - val_accuracy: 0.5981\n",
            "Epoch 12/100\n",
            "507/507 [==============================] - 6s 12ms/step - loss: 0.5204 - accuracy: 0.7439 - val_loss: 0.7172 - val_accuracy: 0.5850\n",
            "Epoch 13/100\n",
            "507/507 [==============================] - 6s 12ms/step - loss: 0.5007 - accuracy: 0.7555 - val_loss: 0.7358 - val_accuracy: 0.6122\n",
            "Epoch 14/100\n",
            "507/507 [==============================] - 6s 12ms/step - loss: 0.4835 - accuracy: 0.7627 - val_loss: 0.7543 - val_accuracy: 0.5897\n",
            "Epoch 15/100\n",
            "507/507 [==============================] - 6s 12ms/step - loss: 0.4682 - accuracy: 0.7769 - val_loss: 0.7729 - val_accuracy: 0.6084\n",
            "Epoch 16/100\n",
            "507/507 [==============================] - 6s 12ms/step - loss: 0.4522 - accuracy: 0.7847 - val_loss: 0.8314 - val_accuracy: 0.6235\n",
            "Epoch 17/100\n",
            "507/507 [==============================] - 6s 12ms/step - loss: 0.4381 - accuracy: 0.7944 - val_loss: 0.8254 - val_accuracy: 0.5808\n",
            "Epoch 18/100\n",
            "507/507 [==============================] - 6s 12ms/step - loss: 0.4298 - accuracy: 0.7971 - val_loss: 0.8090 - val_accuracy: 0.5749\n",
            "Epoch 19/100\n",
            "507/507 [==============================] - 6s 12ms/step - loss: 0.4135 - accuracy: 0.8106 - val_loss: 0.8751 - val_accuracy: 0.6038\n",
            "Epoch 20/100\n",
            "507/507 [==============================] - 6s 12ms/step - loss: 0.4061 - accuracy: 0.8118 - val_loss: 0.8702 - val_accuracy: 0.5783\n",
            "Epoch 21/100\n",
            "507/507 [==============================] - 6s 12ms/step - loss: 0.3937 - accuracy: 0.8191 - val_loss: 0.8798 - val_accuracy: 0.5917\n",
            "Epoch 22/100\n",
            "507/507 [==============================] - 6s 12ms/step - loss: 0.3872 - accuracy: 0.8196 - val_loss: 0.9263 - val_accuracy: 0.6030\n",
            "Epoch 23/100\n",
            "507/507 [==============================] - 6s 12ms/step - loss: 0.3787 - accuracy: 0.8238 - val_loss: 0.9248 - val_accuracy: 0.5699\n",
            "Epoch 24/100\n",
            "507/507 [==============================] - 6s 12ms/step - loss: 0.3700 - accuracy: 0.8322 - val_loss: 0.9444 - val_accuracy: 0.5778\n",
            "Epoch 25/100\n",
            "507/507 [==============================] - 6s 12ms/step - loss: 0.3616 - accuracy: 0.8348 - val_loss: 0.9538 - val_accuracy: 0.5704\n",
            "Epoch 26/100\n",
            "507/507 [==============================] - 6s 12ms/step - loss: 0.3559 - accuracy: 0.8377 - val_loss: 0.9509 - val_accuracy: 0.5776\n",
            "Epoch 27/100\n",
            "507/507 [==============================] - 6s 12ms/step - loss: 0.3485 - accuracy: 0.8394 - val_loss: 0.9533 - val_accuracy: 0.5682\n",
            "Epoch 28/100\n",
            "507/507 [==============================] - 6s 12ms/step - loss: 0.3445 - accuracy: 0.8436 - val_loss: 0.9864 - val_accuracy: 0.5850\n",
            "Epoch 29/100\n",
            "507/507 [==============================] - 6s 12ms/step - loss: 0.3334 - accuracy: 0.8504 - val_loss: 0.9881 - val_accuracy: 0.5608\n",
            "Epoch 30/100\n",
            "507/507 [==============================] - 6s 12ms/step - loss: 0.3304 - accuracy: 0.8491 - val_loss: 1.0363 - val_accuracy: 0.5721\n",
            "Epoch 31/100\n",
            "507/507 [==============================] - 6s 12ms/step - loss: 0.3287 - accuracy: 0.8530 - val_loss: 1.1033 - val_accuracy: 0.5872\n",
            "Epoch 32/100\n",
            "507/507 [==============================] - 6s 12ms/step - loss: 0.3167 - accuracy: 0.8546 - val_loss: 1.0896 - val_accuracy: 0.5665\n",
            "Epoch 33/100\n",
            "507/507 [==============================] - 6s 12ms/step - loss: 0.3133 - accuracy: 0.8557 - val_loss: 1.0812 - val_accuracy: 0.5519\n",
            "Epoch 34/100\n",
            "507/507 [==============================] - 6s 12ms/step - loss: 0.3107 - accuracy: 0.8585 - val_loss: 1.0737 - val_accuracy: 0.5882\n",
            "Epoch 35/100\n",
            "507/507 [==============================] - 6s 12ms/step - loss: 0.3070 - accuracy: 0.8643 - val_loss: 1.1278 - val_accuracy: 0.5810\n",
            "Epoch 36/100\n",
            "507/507 [==============================] - 6s 12ms/step - loss: 0.2982 - accuracy: 0.8641 - val_loss: 1.0767 - val_accuracy: 0.5818\n",
            "Epoch 37/100\n",
            "507/507 [==============================] - 6s 12ms/step - loss: 0.2955 - accuracy: 0.8664 - val_loss: 1.1890 - val_accuracy: 0.5813\n",
            "Epoch 38/100\n",
            "507/507 [==============================] - 6s 12ms/step - loss: 0.2905 - accuracy: 0.8665 - val_loss: 1.1042 - val_accuracy: 0.5749\n",
            "Epoch 39/100\n",
            "507/507 [==============================] - 6s 12ms/step - loss: 0.2895 - accuracy: 0.8679 - val_loss: 1.1065 - val_accuracy: 0.5642\n",
            "Epoch 40/100\n",
            "507/507 [==============================] - 6s 12ms/step - loss: 0.2921 - accuracy: 0.8666 - val_loss: 1.2641 - val_accuracy: 0.6018\n",
            "Epoch 41/100\n",
            "507/507 [==============================] - 6s 12ms/step - loss: 0.2806 - accuracy: 0.8720 - val_loss: 1.2125 - val_accuracy: 0.5840\n",
            "Epoch 42/100\n",
            "507/507 [==============================] - 6s 12ms/step - loss: 0.2824 - accuracy: 0.8742 - val_loss: 1.1794 - val_accuracy: 0.5828\n",
            "Epoch 43/100\n",
            "507/507 [==============================] - 6s 12ms/step - loss: 0.2755 - accuracy: 0.8737 - val_loss: 1.1831 - val_accuracy: 0.5966\n",
            "Epoch 44/100\n",
            "507/507 [==============================] - 6s 12ms/step - loss: 0.2702 - accuracy: 0.8766 - val_loss: 1.2299 - val_accuracy: 0.5746\n",
            "Epoch 45/100\n",
            "507/507 [==============================] - 6s 12ms/step - loss: 0.2756 - accuracy: 0.8746 - val_loss: 1.2444 - val_accuracy: 0.5875\n",
            "Epoch 46/100\n",
            "507/507 [==============================] - 6s 12ms/step - loss: 0.2645 - accuracy: 0.8781 - val_loss: 1.3375 - val_accuracy: 0.5852\n",
            "Epoch 47/100\n",
            "507/507 [==============================] - 6s 12ms/step - loss: 0.2664 - accuracy: 0.8775 - val_loss: 1.3301 - val_accuracy: 0.5840\n",
            "Epoch 48/100\n",
            "507/507 [==============================] - 6s 12ms/step - loss: 0.2670 - accuracy: 0.8781 - val_loss: 1.3072 - val_accuracy: 0.5852\n",
            "Epoch 49/100\n",
            "507/507 [==============================] - 6s 12ms/step - loss: 0.2640 - accuracy: 0.8806 - val_loss: 1.3780 - val_accuracy: 0.5837\n",
            "Epoch 50/100\n",
            "507/507 [==============================] - 6s 12ms/step - loss: 0.2545 - accuracy: 0.8817 - val_loss: 1.3897 - val_accuracy: 0.5716\n",
            "Epoch 51/100\n",
            "507/507 [==============================] - 6s 13ms/step - loss: 0.2562 - accuracy: 0.8821 - val_loss: 1.2646 - val_accuracy: 0.5739\n",
            "Epoch 52/100\n",
            "507/507 [==============================] - 6s 13ms/step - loss: 0.2547 - accuracy: 0.8833 - val_loss: 1.3740 - val_accuracy: 0.5882\n",
            "Epoch 53/100\n",
            "507/507 [==============================] - 6s 12ms/step - loss: 0.2489 - accuracy: 0.8832 - val_loss: 1.4425 - val_accuracy: 0.5716\n",
            "Epoch 54/100\n",
            "507/507 [==============================] - 6s 12ms/step - loss: 0.2472 - accuracy: 0.8850 - val_loss: 1.4214 - val_accuracy: 0.5810\n",
            "Epoch 55/100\n",
            "507/507 [==============================] - 6s 12ms/step - loss: 0.2439 - accuracy: 0.8837 - val_loss: 1.4012 - val_accuracy: 0.5828\n",
            "Epoch 56/100\n",
            "507/507 [==============================] - 6s 12ms/step - loss: 0.2438 - accuracy: 0.8860 - val_loss: 1.4406 - val_accuracy: 0.5889\n",
            "Epoch 57/100\n",
            "507/507 [==============================] - 6s 12ms/step - loss: 0.2382 - accuracy: 0.8894 - val_loss: 1.4672 - val_accuracy: 0.5833\n",
            "Epoch 58/100\n",
            "507/507 [==============================] - 6s 12ms/step - loss: 0.2443 - accuracy: 0.8884 - val_loss: 1.5030 - val_accuracy: 0.5929\n",
            "Epoch 59/100\n",
            "507/507 [==============================] - 6s 12ms/step - loss: 0.2344 - accuracy: 0.8883 - val_loss: 1.4854 - val_accuracy: 0.5820\n",
            "Epoch 60/100\n",
            "507/507 [==============================] - 6s 12ms/step - loss: 0.2372 - accuracy: 0.8885 - val_loss: 1.5078 - val_accuracy: 0.5744\n",
            "Epoch 61/100\n",
            "507/507 [==============================] - 6s 12ms/step - loss: 0.2352 - accuracy: 0.8876 - val_loss: 1.5197 - val_accuracy: 0.5788\n",
            "Epoch 62/100\n",
            "507/507 [==============================] - 6s 12ms/step - loss: 0.2291 - accuracy: 0.8907 - val_loss: 1.5128 - val_accuracy: 0.5921\n",
            "Epoch 63/100\n",
            "507/507 [==============================] - 6s 12ms/step - loss: 0.2294 - accuracy: 0.8918 - val_loss: 1.6206 - val_accuracy: 0.5884\n",
            "Epoch 64/100\n",
            "507/507 [==============================] - 6s 12ms/step - loss: 0.2363 - accuracy: 0.8901 - val_loss: 1.5098 - val_accuracy: 0.5884\n",
            "Epoch 65/100\n",
            "507/507 [==============================] - 6s 12ms/step - loss: 0.2307 - accuracy: 0.8924 - val_loss: 1.6112 - val_accuracy: 0.5833\n",
            "Epoch 66/100\n",
            "507/507 [==============================] - 6s 12ms/step - loss: 0.2258 - accuracy: 0.8906 - val_loss: 1.5021 - val_accuracy: 0.5852\n",
            "Epoch 67/100\n",
            "507/507 [==============================] - 6s 12ms/step - loss: 0.2259 - accuracy: 0.8914 - val_loss: 1.6048 - val_accuracy: 0.5751\n",
            "Epoch 68/100\n",
            "507/507 [==============================] - 6s 12ms/step - loss: 0.2252 - accuracy: 0.8914 - val_loss: 1.5813 - val_accuracy: 0.5709\n",
            "Epoch 69/100\n",
            "507/507 [==============================] - 6s 12ms/step - loss: 0.2235 - accuracy: 0.8903 - val_loss: 1.6188 - val_accuracy: 0.5840\n",
            "Epoch 70/100\n",
            "507/507 [==============================] - 6s 12ms/step - loss: 0.2178 - accuracy: 0.8950 - val_loss: 1.6752 - val_accuracy: 0.5795\n",
            "Epoch 71/100\n",
            "507/507 [==============================] - 6s 12ms/step - loss: 0.2206 - accuracy: 0.8946 - val_loss: 1.6385 - val_accuracy: 0.5783\n",
            "Epoch 72/100\n",
            "507/507 [==============================] - 6s 12ms/step - loss: 0.2152 - accuracy: 0.8957 - val_loss: 1.7207 - val_accuracy: 0.5687\n",
            "Epoch 73/100\n",
            "507/507 [==============================] - 6s 12ms/step - loss: 0.2163 - accuracy: 0.8934 - val_loss: 1.7078 - val_accuracy: 0.5605\n",
            "Epoch 74/100\n",
            "507/507 [==============================] - 6s 12ms/step - loss: 0.2182 - accuracy: 0.8956 - val_loss: 1.6796 - val_accuracy: 0.5660\n",
            "Epoch 75/100\n",
            "507/507 [==============================] - 6s 12ms/step - loss: 0.2156 - accuracy: 0.8957 - val_loss: 1.7827 - val_accuracy: 0.5835\n",
            "Epoch 76/100\n",
            "507/507 [==============================] - 6s 12ms/step - loss: 0.2175 - accuracy: 0.8946 - val_loss: 1.6829 - val_accuracy: 0.5645\n",
            "Epoch 77/100\n",
            "507/507 [==============================] - 6s 12ms/step - loss: 0.2106 - accuracy: 0.8966 - val_loss: 1.6108 - val_accuracy: 0.5761\n",
            "Epoch 78/100\n",
            "507/507 [==============================] - 6s 12ms/step - loss: 0.2098 - accuracy: 0.8980 - val_loss: 1.7829 - val_accuracy: 0.5788\n",
            "Epoch 79/100\n",
            "507/507 [==============================] - 6s 12ms/step - loss: 0.2126 - accuracy: 0.8961 - val_loss: 1.8130 - val_accuracy: 0.5709\n",
            "Epoch 80/100\n",
            "507/507 [==============================] - 6s 12ms/step - loss: 0.2093 - accuracy: 0.8975 - val_loss: 1.9044 - val_accuracy: 0.5919\n",
            "Epoch 81/100\n",
            "507/507 [==============================] - 6s 12ms/step - loss: 0.2087 - accuracy: 0.8981 - val_loss: 1.8421 - val_accuracy: 0.5892\n",
            "Epoch 82/100\n",
            "507/507 [==============================] - 6s 12ms/step - loss: 0.2101 - accuracy: 0.8972 - val_loss: 1.8596 - val_accuracy: 0.5889\n",
            "Epoch 83/100\n",
            "507/507 [==============================] - 6s 12ms/step - loss: 0.2093 - accuracy: 0.8992 - val_loss: 1.9141 - val_accuracy: 0.5976\n",
            "Epoch 84/100\n",
            "507/507 [==============================] - 6s 12ms/step - loss: 0.2042 - accuracy: 0.9011 - val_loss: 1.7457 - val_accuracy: 0.5652\n",
            "Epoch 85/100\n",
            "507/507 [==============================] - 6s 12ms/step - loss: 0.2105 - accuracy: 0.8964 - val_loss: 1.7754 - val_accuracy: 0.5825\n",
            "Epoch 86/100\n",
            "507/507 [==============================] - 6s 12ms/step - loss: 0.2051 - accuracy: 0.9013 - val_loss: 1.9010 - val_accuracy: 0.5709\n",
            "Epoch 87/100\n",
            "507/507 [==============================] - 6s 12ms/step - loss: 0.1991 - accuracy: 0.9018 - val_loss: 1.9575 - val_accuracy: 0.5833\n",
            "Epoch 88/100\n",
            "507/507 [==============================] - 6s 12ms/step - loss: 0.2094 - accuracy: 0.8962 - val_loss: 1.8360 - val_accuracy: 0.5719\n",
            "Epoch 89/100\n",
            "507/507 [==============================] - 6s 12ms/step - loss: 0.1995 - accuracy: 0.9001 - val_loss: 1.9384 - val_accuracy: 0.5697\n",
            "Epoch 90/100\n",
            "507/507 [==============================] - 6s 12ms/step - loss: 0.2019 - accuracy: 0.8983 - val_loss: 1.9212 - val_accuracy: 0.5618\n",
            "Epoch 91/100\n",
            "507/507 [==============================] - 6s 12ms/step - loss: 0.2040 - accuracy: 0.9001 - val_loss: 2.0478 - val_accuracy: 0.5867\n",
            "Epoch 92/100\n",
            "507/507 [==============================] - 6s 12ms/step - loss: 0.1936 - accuracy: 0.8997 - val_loss: 2.0135 - val_accuracy: 0.5899\n",
            "Epoch 93/100\n",
            "507/507 [==============================] - 6s 12ms/step - loss: 0.1974 - accuracy: 0.9010 - val_loss: 1.9073 - val_accuracy: 0.5842\n",
            "Epoch 94/100\n",
            "507/507 [==============================] - 6s 12ms/step - loss: 0.2000 - accuracy: 0.8998 - val_loss: 2.0351 - val_accuracy: 0.5749\n",
            "Epoch 95/100\n",
            "507/507 [==============================] - 6s 12ms/step - loss: 0.1986 - accuracy: 0.9001 - val_loss: 2.1146 - val_accuracy: 0.5884\n",
            "Epoch 96/100\n",
            "507/507 [==============================] - 6s 12ms/step - loss: 0.1929 - accuracy: 0.9018 - val_loss: 1.9249 - val_accuracy: 0.5692\n",
            "Epoch 97/100\n",
            "507/507 [==============================] - 6s 12ms/step - loss: 0.1985 - accuracy: 0.9011 - val_loss: 2.0207 - val_accuracy: 0.5833\n",
            "Epoch 98/100\n",
            "507/507 [==============================] - 6s 12ms/step - loss: 0.1950 - accuracy: 0.9024 - val_loss: 2.1620 - val_accuracy: 0.5835\n",
            "Epoch 99/100\n",
            "507/507 [==============================] - 6s 12ms/step - loss: 0.1973 - accuracy: 0.9018 - val_loss: 2.2663 - val_accuracy: 0.6015\n",
            "Epoch 100/100\n",
            "507/507 [==============================] - 6s 12ms/step - loss: 0.2007 - accuracy: 0.8979 - val_loss: 1.9570 - val_accuracy: 0.5771\n"
          ],
          "name": "stdout"
        }
      ]
    },
    {
      "cell_type": "code",
      "metadata": {
        "colab": {
          "base_uri": "https://localhost:8080/",
          "height": 295
        },
        "id": "Rp1yg_xm4Amc",
        "outputId": "19a4c00b-fe8b-418f-eed5-02e83c2785cd"
      },
      "source": [
        "import matplotlib.pyplot as plt \n",
        "loss = history.history['loss']\n",
        "val_loss = history.history['val_loss']\n",
        "\n",
        "epochs = range(1, len(loss)+1)\n",
        "\n",
        "plt.plot(epochs, loss, label='Training loss')\n",
        "plt.plot(epochs, val_loss, label='Validation loss')\n",
        "plt.title('Training and validation loss')\n",
        "plt.xlabel('Epochs')\n",
        "plt.ylabel('Loss')\n",
        "plt.legend()\n",
        "plt.show();"
      ],
      "execution_count": 318,
      "outputs": [
        {
          "output_type": "display_data",
          "data": {
            "image/png": "[encoded data removed]",
            "text/plain": [
              "<Figure size 432x288 with 1 Axes>"
            ]
          },
          "metadata": {
            "tags": [],
            "needs_background": "light"
          }
        }
      ]
    },
    {
      "cell_type": "code",
      "metadata": {
        "colab": {
          "base_uri": "https://localhost:8080/",
          "height": 295
        },
        "id": "QEutrIW84EJb",
        "outputId": "1b9d4835-3658-4f8f-cd5b-4a2c2fe2f9f1"
      },
      "source": [
        "accuracy = history.history['accuracy']\n",
        "val_accuracy = history.history['val_accuracy']\n",
        "\n",
        "plt.plot(epochs, accuracy, label='Training accuracy')\n",
        "plt.plot(epochs, val_accuracy, label='Validation accuracy')\n",
        "plt.title('Training and validation accuracy')\n",
        "plt.ylabel('Accuracy')\n",
        "plt.xlabel('Epochs')\n",
        "plt.legend()\n",
        "plt.show();"
      ],
      "execution_count": 319,
      "outputs": [
        {
          "output_type": "display_data",
          "data": {
            "image/png": "[encoded data removed]",
            "text/plain": [
              "<Figure size 432x288 with 1 Axes>"
            ]
          },
          "metadata": {
            "tags": [],
            "needs_background": "light"
          }
        }
      ]
    },
    {
      "cell_type": "code",
      "metadata": {
        "colab": {
          "base_uri": "https://localhost:8080/"
        },
        "id": "p43FPQEi4KGb",
        "outputId": "f5c02623-02e5-4971-d963-92581191ed7e"
      },
      "source": [
        "pred = model.predict(x_val)\n",
        "print(\"size of predicted array is: \", len(pred))\n",
        "print(\"size of Y_test array is: \", len(y_val))"
      ],
      "execution_count": 332,
      "outputs": [
        {
          "output_type": "stream",
          "text": [
            "size of predicted array is:  4048\n",
            "size of Y_test array is:  4048\n"
          ],
          "name": "stdout"
        }
      ]
    },
    {
      "cell_type": "code",
      "metadata": {
        "colab": {
          "base_uri": "https://localhost:8080/"
        },
        "id": "a1L4A-DR4M-1",
        "outputId": "0afb5128-c999-419a-9162-417343a4b5b7"
      },
      "source": [
        "print(y_val[0])\n"
      ],
      "execution_count": 346,
      "outputs": [
        {
          "output_type": "stream",
          "text": [
            "[0.]\n"
          ],
          "name": "stdout"
        }
      ]
    },
    {
      "cell_type": "code",
      "metadata": {
        "colab": {
          "base_uri": "https://localhost:8080/"
        },
        "id": "TRBkkja-4Pyq",
        "outputId": "6a5e313e-f58c-42cd-fc18-67789d98fa0e"
      },
      "source": [
        "print(pred[11])\n"
      ],
      "execution_count": 360,
      "outputs": [
        {
          "output_type": "stream",
          "text": [
            "[0.00010278]\n"
          ],
          "name": "stdout"
        }
      ]
    },
    {
      "cell_type": "code",
      "metadata": {
        "id": "YdTx0rEg9QTY"
      },
      "source": [
        "pred1=[]\n",
        "for i in range (len(pred)):\n",
        "  if pred[i]>0.5:\n",
        "    pred1.append(1)\n",
        "  else:\n",
        "    pred1.append(0)"
      ],
      "execution_count": 361,
      "outputs": []
    },
    {
      "cell_type": "code",
      "metadata": {
        "id": "XclQJ3Gd4Zg7"
      },
      "source": [
        "Y_test1=[]\n",
        "for i in range (len(pred)):\n",
        "  if y_val[i]>0.5:\n",
        "    Y_test1.append(1)\n",
        "  else:\n",
        "    Y_test1.append(0)"
      ],
      "execution_count": 362,
      "outputs": []
    },
    {
      "cell_type": "code",
      "metadata": {
        "colab": {
          "base_uri": "https://localhost:8080/"
        },
        "id": "SZ9VDo7W9c8a",
        "outputId": "505d4de7-f3dd-4701-cdf7-3fcc7ff1aeef"
      },
      "source": [
        "print(len(pred1))\n",
        "print(len(Y_test1))"
      ],
      "execution_count": 363,
      "outputs": [
        {
          "output_type": "stream",
          "text": [
            "4048\n",
            "4048\n"
          ],
          "name": "stdout"
        }
      ]
    },
    {
      "cell_type": "code",
      "metadata": {
        "colab": {
          "base_uri": "https://localhost:8080/"
        },
        "id": "duLNhSJ17Btm",
        "outputId": "c3c21966-2aa7-4d38-bee4-849e2ce43306"
      },
      "source": [
        "print(Y_test1[1])"
      ],
      "execution_count": 355,
      "outputs": [
        {
          "output_type": "stream",
          "text": [
            "1\n"
          ],
          "name": "stdout"
        }
      ]
    },
    {
      "cell_type": "code",
      "metadata": {
        "colab": {
          "base_uri": "https://localhost:8080/"
        },
        "id": "EyTXuKI14cy2",
        "outputId": "154a2106-ca2c-4bb9-beed-89dd8ba3cdb5"
      },
      "source": [
        "from sklearn.metrics import precision_recall_fscore_support as score\n",
        "\n",
        "#predicted = [1,2,3,4,5,1,2,1,1,4,5] \n",
        "#y_test = [1,2,3,4,5,1,2,1,1,4,1]\n",
        "\n",
        "precision, recall, fscore, support = score(Y_test1, pred1)\n",
        "\n",
        "print('precision: {}'.format(precision))\n",
        "print('recall: {}'.format(recall))\n",
        "print('fscore: {}'.format(fscore))\n",
        "print('support: {}'.format(support))\n",
        "\n"
      ],
      "execution_count": 364,
      "outputs": [
        {
          "output_type": "stream",
          "text": [
            "precision: [0.66632444 0.34547069]\n",
            "recall: [0.72540984 0.28519062]\n",
            "fscore: [0.69461291 0.3124498 ]\n",
            "support: [2684 1364]\n"
          ],
          "name": "stdout"
        }
      ]
    },
    {
      "cell_type": "code",
      "metadata": {
        "id": "BjhIBJdo4fpq"
      },
      "source": [
        "df1 = pd.DataFrame({ 'precision': precision, 'recall':recall, 'Fscore':fscore, 'support':support })\n"
      ],
      "execution_count": 365,
      "outputs": []
    },
    {
      "cell_type": "code",
      "metadata": {
        "colab": {
          "base_uri": "https://localhost:8080/"
        },
        "id": "zUGcuQeU4jgZ",
        "outputId": "df5b4cdc-3b6d-4a33-ee02-32fb744c6dd2"
      },
      "source": [
        "from tabulate import tabulate\n",
        "print(tabulate(df1, headers='keys', tablefmt='psql'))\n"
      ],
      "execution_count": 366,
      "outputs": [
        {
          "output_type": "stream",
          "text": [
            "+----+-------------+----------+----------+-----------+\n",
            "|    |   precision |   recall |   Fscore |   support |\n",
            "|----+-------------+----------+----------+-----------|\n",
            "|  0 |    0.666324 | 0.72541  | 0.694613 |      2684 |\n",
            "|  1 |    0.345471 | 0.285191 | 0.31245  |      1364 |\n",
            "+----+-------------+----------+----------+-----------+\n"
          ],
          "name": "stdout"
        }
      ]
    }
  ]
}