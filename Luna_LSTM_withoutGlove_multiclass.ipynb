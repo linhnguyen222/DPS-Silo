{
  "nbformat": 4,
  "nbformat_minor": 0,
  "metadata": {
    "accelerator": "GPU",
    "colab": {
      "name": "Luna-LSTM-withoutGlove-multiclass.ipynb",
      "provenance": [],
      "collapsed_sections": [],
      "toc_visible": true,
      "machine_shape": "hm",
      "authorship_tag": "ABX9TyOX+iNGn//2nueYZu/HPKV7",
      "include_colab_link": true
    },
    "kernelspec": {
      "display_name": "Python 3",
      "name": "python3"
    }
  },
  "cells": [
    {
      "cell_type": "markdown",
      "metadata": {
        "id": "view-in-github",
        "colab_type": "text"
      },
      "source": [
        "<a href=\"https://colab.research.google.com/github/linhnguyen222/DPS-Silo/blob/master/Luna_LSTM_withoutGlove_multiclass.ipynb\" target=\"_parent\"><img src=\"https://colab.research.google.com/assets/colab-badge.svg\" alt=\"Open In Colab\"/></a>"
      ]
    },
    {
      "cell_type": "markdown",
      "metadata": {
        "id": "5prJpEesvg7-"
      },
      "source": [
        "###LSTM for full sentence multiclass and binary classification.\n",
        "For numericalizing sentences, this notebook utilized a dictionary that maps each unique word to a uniqe integer."
      ]
    },
    {
      "cell_type": "code",
      "metadata": {
        "id": "K8aaofSKa41u"
      },
      "source": [
        "import pandas as pd\n",
        "import numpy as np\n",
        "from tqdm import tqdm, trange\n",
        "from pathlib import Path\n",
        "from pandas import DataFrame\n"
      ],
      "execution_count": 1,
      "outputs": []
    },
    {
      "cell_type": "code",
      "metadata": {
        "colab": {
          "base_uri": "https://localhost:8080/"
        },
        "id": "EUXEeZsXW9lq",
        "outputId": "784c783b-dafd-46ff-d3c0-13d63b086cae"
      },
      "source": [
        "from google.colab import drive\n",
        "# drive.mount('/content/drive')\n",
        "drive.mount(\"/content/drive\", force_remount=True)\n",
        "traindirectory = '/content/drive/My Drive/DSP//BERT-NER/ner_dataset.csv'\n"
      ],
      "execution_count": 2,
      "outputs": [
        {
          "output_type": "stream",
          "text": [
            "Mounted at /content/drive\n"
          ],
          "name": "stdout"
        }
      ]
    },
    {
      "cell_type": "code",
      "metadata": {
        "id": "41b_rSARa1hR"
      },
      "source": [
        "def read_data(directory):\n",
        "    ids = []\n",
        "    texts = []\n",
        "    labels = []\n",
        "    for f in directory.glob('*.txt'):\n",
        "        id = f.name.replace('article', '').replace('.txt','')\n",
        "        ids.append(id)\n",
        "        texts.append(f.read_text())\n",
        "        labels.append(parse_label(f.as_posix().replace('.txt', '.labels.tsv')))\n",
        "    # labels can be empty \n",
        "    return ids, texts, labels\n",
        "\n",
        "def clean_text(articles, ids):\n",
        "    texts = []\n",
        "    for article, id in zip(articles, ids):\n",
        "        sentences = article.split('\\n')\n",
        "        start = 0\n",
        "        end = -1\n",
        "        res = []\n",
        "        for sentence in sentences:\n",
        "           start = end + 1\n",
        "           end = start + len(sentence)  # length of sequence \n",
        "           if sentence != \"\": # if not empty line\n",
        "               res.append([id, sentence, start, end])\n",
        "        texts.append(res)\n",
        "    return texts\n",
        "\n",
        "\n",
        "def make_dataset(directory):\n",
        "    ids, texts, labels = read_data(directory)\n",
        "    texts = clean_text(texts, ids)\n",
        "    res = []\n",
        "    for text, label in zip(texts, labels):\n",
        "        # making positive examples\n",
        "        tmp = [] \n",
        "        pos_ind = [0] * len(text)\n",
        "        for l in label:\n",
        "            for i, sen in enumerate(text):\n",
        "                if l[0] >= sen[2] and l[0] < sen[3] and l[1] > sen[3]:\n",
        "                    l[4] = 1\n",
        "                    tmp.append(sen + [l[0], sen[3], l[2], l[3], l[4]])\n",
        "                    pos_ind[i] = 1\n",
        "                    l[0] = sen[3] + 1\n",
        "                elif l[0] != l[1] and l[0] >= sen[2] and l[0] < sen[3] and l[1] <= sen[3]: \n",
        "                    tmp.append(sen + l)\n",
        "                    pos_ind[i] = 1\n",
        "        # making negative examples\n",
        "        dummy = [0, 0, 'O', 0, 0]\n",
        "        for k, sen in enumerate(text):\n",
        "            if pos_ind[k] != 1:\n",
        "                tmp.append(sen+dummy)\n",
        "        res.append(tmp)     \n",
        "    return res\n",
        "\n",
        "def parse_label(label_path):\n",
        "    labels = []\n",
        "    f= Path(label_path)\n",
        "    \n",
        "    if not f.exists():\n",
        "        return labels\n",
        "\n",
        "    for line in open(label_path):\n",
        "        parts = line.strip().split('\\t')\n",
        "        labels.append([int(parts[2]), int(parts[3]), parts[1], 0, 0])\n",
        "    labels = sorted(labels) \n",
        "\n",
        "    if labels:\n",
        "        length = max([label[1] for label in labels]) \n",
        "        visit = np.zeros(length)\n",
        "        res = []\n",
        "        for label in labels:\n",
        "            if sum(visit[label[0]:label[1]]):\n",
        "                label[3] = 1\n",
        "            else:\n",
        "               visit[label[0]:label[1]] = 1\n",
        "            res.append(label)\n",
        "        return res \n",
        "    else:\n",
        "        return labels"
      ],
      "execution_count": 3,
      "outputs": []
    },
    {
      "cell_type": "code",
      "metadata": {
        "id": "0OjuUEHFcCyx"
      },
      "source": [
        "#train set\n",
        "dataset=make_dataset(Path('/content/drive/My Drive/DSP/data/protechn_corpus_eval/train'))"
      ],
      "execution_count": 10,
      "outputs": []
    },
    {
      "cell_type": "code",
      "metadata": {
        "id": "C2Vlw0hjXbRq"
      },
      "source": [
        "\n",
        "#df = pd.read_csv(Path(\"/content/export-train-seq\"))\n",
        "#df.head()     \n",
        "\n",
        "\n",
        "empty=[]\n",
        "for i in dataset:\n",
        "    \n",
        "    temp=DataFrame(i, columns=['id', 'full_sent', 'start_sent', 'end_sent', 'start_prop', 'end_prop','prop', 'ex1', 'ex2' ])\n",
        "    empty.append(temp)\n",
        "\n",
        "df=pd.concat(empty) \n",
        "\n",
        "df = df.drop(['ex1'],axis =1).drop(['ex2'],axis =1)\n",
        "df.head()\n",
        "df.prop.value_counts()\n",
        "possible_labels=df.prop.unique()\n",
        "df=df.reset_index()\n",
        "del df['index']\n",
        "\n"
      ],
      "execution_count": 11,
      "outputs": []
    },
    {
      "cell_type": "code",
      "metadata": {
        "colab": {
          "base_uri": "https://localhost:8080/",
          "height": 198
        },
        "id": "-pJ1a4mpdd9O",
        "outputId": "c08ae255-dbec-414c-a6ed-8213bed0a775"
      },
      "source": [
        "df.head()"
      ],
      "execution_count": 12,
      "outputs": [
        {
          "output_type": "execute_result",
          "data": {
            "text/html": [
              "<div>\n",
              "<style scoped>\n",
              "    .dataframe tbody tr th:only-of-type {\n",
              "        vertical-align: middle;\n",
              "    }\n",
              "\n",
              "    .dataframe tbody tr th {\n",
              "        vertical-align: top;\n",
              "    }\n",
              "\n",
              "    .dataframe thead th {\n",
              "        text-align: right;\n",
              "    }\n",
              "</style>\n",
              "<table border=\"1\" class=\"dataframe\">\n",
              "  <thead>\n",
              "    <tr style=\"text-align: right;\">\n",
              "      <th></th>\n",
              "      <th>id</th>\n",
              "      <th>full_sent</th>\n",
              "      <th>start_sent</th>\n",
              "      <th>end_sent</th>\n",
              "      <th>start_prop</th>\n",
              "      <th>end_prop</th>\n",
              "      <th>prop</th>\n",
              "    </tr>\n",
              "  </thead>\n",
              "  <tbody>\n",
              "    <tr>\n",
              "      <th>0</th>\n",
              "      <td>7618745059</td>\n",
              "      <td>“They interpreted the law in my case to say it...</td>\n",
              "      <td>1695</td>\n",
              "      <td>1873</td>\n",
              "      <td>1831</td>\n",
              "      <td>1872</td>\n",
              "      <td>Whataboutism</td>\n",
              "    </tr>\n",
              "    <tr>\n",
              "      <th>1</th>\n",
              "      <td>7618745059</td>\n",
              "      <td>Two guys on my ship did the same thing and wer...</td>\n",
              "      <td>1905</td>\n",
              "      <td>1977</td>\n",
              "      <td>1925</td>\n",
              "      <td>1976</td>\n",
              "      <td>Whataboutism</td>\n",
              "    </tr>\n",
              "    <tr>\n",
              "      <th>2</th>\n",
              "      <td>7618745059</td>\n",
              "      <td>“They used me as an example because of [the ba...</td>\n",
              "      <td>2312</td>\n",
              "      <td>2454</td>\n",
              "      <td>2312</td>\n",
              "      <td>2388</td>\n",
              "      <td>Causal_Oversimplification</td>\n",
              "    </tr>\n",
              "    <tr>\n",
              "      <th>3</th>\n",
              "      <td>7618745059</td>\n",
              "      <td>The government actively destroyed his life an ...</td>\n",
              "      <td>2710</td>\n",
              "      <td>2819</td>\n",
              "      <td>2725</td>\n",
              "      <td>2782</td>\n",
              "      <td>Exaggeration,Minimisation</td>\n",
              "    </tr>\n",
              "    <tr>\n",
              "      <th>4</th>\n",
              "      <td>7618745059</td>\n",
              "      <td>Ex-Sailor Pardoned By Trump Says He’s SUING Ob...</td>\n",
              "      <td>0</td>\n",
              "      <td>59</td>\n",
              "      <td>0</td>\n",
              "      <td>0</td>\n",
              "      <td>O</td>\n",
              "    </tr>\n",
              "  </tbody>\n",
              "</table>\n",
              "</div>"
            ],
            "text/plain": [
              "           id  ...                       prop\n",
              "0  7618745059  ...               Whataboutism\n",
              "1  7618745059  ...               Whataboutism\n",
              "2  7618745059  ...  Causal_Oversimplification\n",
              "3  7618745059  ...  Exaggeration,Minimisation\n",
              "4  7618745059  ...                          O\n",
              "\n",
              "[5 rows x 7 columns]"
            ]
          },
          "metadata": {
            "tags": []
          },
          "execution_count": 12
        }
      ]
    },
    {
      "cell_type": "code",
      "metadata": {
        "colab": {
          "base_uri": "https://localhost:8080/"
        },
        "id": "y7cKKRjgdgFe",
        "outputId": "ef3c2cb0-9fb8-40dc-f439-c3205d62d6e3"
      },
      "source": [
        "print (\"size of train set is: \", df.shape[0])"
      ],
      "execution_count": 24,
      "outputs": [
        {
          "output_type": "stream",
          "text": [
            "size of train set is:  20242\n"
          ],
          "name": "stdout"
        }
      ]
    },
    {
      "cell_type": "code",
      "metadata": {
        "id": "0agqB0RZr7fo"
      },
      "source": [
        "dataset_test=make_dataset(Path('/content/drive/My Drive/DSP/data/protechn_corpus_eval/test'))\n"
      ],
      "execution_count": 25,
      "outputs": []
    },
    {
      "cell_type": "code",
      "metadata": {
        "id": "2nCkhpJEsMX7"
      },
      "source": [
        "\n",
        "#test dataframe\n",
        "empty=[]\n",
        "for i in dataset_test:\n",
        "    \n",
        "    temp=DataFrame(i, columns=['id', 'full_sent', 'start_sent', 'end_sent', 'start_prop', 'end_prop','prop', 'ex1', 'ex2' ])\n",
        "    empty.append(temp)\n",
        "\n",
        "df_test=pd.concat(empty)  \n",
        "df_test = df_test.drop(['ex1'],axis =1).drop(['ex2'],axis =1)\n",
        "df_test.prop.value_counts()\n",
        "df_test=df_test.reset_index()"
      ],
      "execution_count": 26,
      "outputs": []
    },
    {
      "cell_type": "code",
      "metadata": {
        "id": "iRwGijPcsWT1"
      },
      "source": [
        "df = pd.concat([df, df_test])\n"
      ],
      "execution_count": 16,
      "outputs": []
    },
    {
      "cell_type": "code",
      "metadata": {
        "id": "z1_ELwnqz0Ce"
      },
      "source": [
        "del df['index']\n",
        "df=df.reset_index()\n",
        "del df['index']\n",
        "\n"
      ],
      "execution_count": 21,
      "outputs": []
    },
    {
      "cell_type": "code",
      "metadata": {
        "colab": {
          "base_uri": "https://localhost:8080/"
        },
        "id": "6jskWEMqc6FY",
        "outputId": "e9e49c01-de2a-4c41-8124-10617a9adfce"
      },
      "source": [
        "\n",
        "label_dict={'O': 0, 'Black-and-White_Fallacy': 1, 'Loaded_Language': 2, 'Flag-Waving': 3, \n",
        " 'Name_Calling,Labeling': 4, 'Slogans': 5, 'Causal_Oversimplification': 6, 'Whataboutism': 7,\n",
        " 'Exaggeration,Minimisation': 8, 'Doubt': 9, 'Appeal_to_Authority': 10, 'Repetition': 11, 'Appeal_to_fear-prejudice': 12,\n",
        " 'Thought-terminating_Cliches': 13, 'Bandwagon': 14, 'Red_Herring': 15, 'Reductio_ad_hitlerum': 16,\n",
        " 'Obfuscation,Intentional_Vagueness,Confusion': 17, 'Straw_Men': 18}\n",
        "\n",
        "\n",
        "label_dict\n",
        "df['label']=df.prop.replace(label_dict)\n",
        "df.head()\n",
        "df['binary']=10\n",
        "df.at[1,'binary']=11\n",
        "df.iloc[11]['label']==0"
      ],
      "execution_count": 22,
      "outputs": [
        {
          "output_type": "execute_result",
          "data": {
            "text/plain": [
              "True"
            ]
          },
          "metadata": {
            "tags": []
          },
          "execution_count": 22
        }
      ]
    },
    {
      "cell_type": "code",
      "metadata": {
        "id": "qsoiAwhsdG6l"
      },
      "source": [
        "\n",
        "#this works\n",
        "for i in range (0, df.shape[0]):\n",
        "    if df.iloc[i]['label']==0  :\n",
        "        \n",
        "        df.at[i, 'binary']= 0 \n",
        "    else:\n",
        "        #False\n",
        "        df.at[i, 'binary']= 1 \n",
        "        \n",
        "df['sentence_length']=0\n",
        "\n",
        "for i in range (0, df.shape[0]):\n",
        "    df.at[i,'sentence_length']=df.iloc[i]['end_sent']-df.iloc[i]['start_sent'] \n",
        "        \n",
        "        \n",
        "     \n",
        "df['prop_length']=0\n",
        "for i in range (0, df.shape[0]):\n",
        "    df.at[i,'prop_length']=df.iloc[i]['end_prop']-df.iloc[i]['start_prop'] \n",
        "        \n",
        "        "
      ],
      "execution_count": 23,
      "outputs": []
    },
    {
      "cell_type": "code",
      "metadata": {
        "colab": {
          "base_uri": "https://localhost:8080/",
          "height": 302
        },
        "id": "bhQvSMJ9dnbo",
        "outputId": "25a606e3-8f8b-488e-c334-a234031550a3"
      },
      "source": [
        "df.head()"
      ],
      "execution_count": 27,
      "outputs": [
        {
          "output_type": "execute_result",
          "data": {
            "text/html": [
              "<div>\n",
              "<style scoped>\n",
              "    .dataframe tbody tr th:only-of-type {\n",
              "        vertical-align: middle;\n",
              "    }\n",
              "\n",
              "    .dataframe tbody tr th {\n",
              "        vertical-align: top;\n",
              "    }\n",
              "\n",
              "    .dataframe thead th {\n",
              "        text-align: right;\n",
              "    }\n",
              "</style>\n",
              "<table border=\"1\" class=\"dataframe\">\n",
              "  <thead>\n",
              "    <tr style=\"text-align: right;\">\n",
              "      <th></th>\n",
              "      <th>id</th>\n",
              "      <th>full_sent</th>\n",
              "      <th>start_sent</th>\n",
              "      <th>end_sent</th>\n",
              "      <th>start_prop</th>\n",
              "      <th>end_prop</th>\n",
              "      <th>prop</th>\n",
              "      <th>label</th>\n",
              "      <th>binary</th>\n",
              "      <th>sentence_length</th>\n",
              "      <th>prop_length</th>\n",
              "    </tr>\n",
              "  </thead>\n",
              "  <tbody>\n",
              "    <tr>\n",
              "      <th>0</th>\n",
              "      <td>7618745059</td>\n",
              "      <td>“They interpreted the law in my case to say it...</td>\n",
              "      <td>1695</td>\n",
              "      <td>1873</td>\n",
              "      <td>1831</td>\n",
              "      <td>1872</td>\n",
              "      <td>Whataboutism</td>\n",
              "      <td>7</td>\n",
              "      <td>1</td>\n",
              "      <td>178</td>\n",
              "      <td>41</td>\n",
              "    </tr>\n",
              "    <tr>\n",
              "      <th>1</th>\n",
              "      <td>7618745059</td>\n",
              "      <td>Two guys on my ship did the same thing and wer...</td>\n",
              "      <td>1905</td>\n",
              "      <td>1977</td>\n",
              "      <td>1925</td>\n",
              "      <td>1976</td>\n",
              "      <td>Whataboutism</td>\n",
              "      <td>7</td>\n",
              "      <td>1</td>\n",
              "      <td>72</td>\n",
              "      <td>51</td>\n",
              "    </tr>\n",
              "    <tr>\n",
              "      <th>2</th>\n",
              "      <td>7618745059</td>\n",
              "      <td>“They used me as an example because of [the ba...</td>\n",
              "      <td>2312</td>\n",
              "      <td>2454</td>\n",
              "      <td>2312</td>\n",
              "      <td>2388</td>\n",
              "      <td>Causal_Oversimplification</td>\n",
              "      <td>6</td>\n",
              "      <td>1</td>\n",
              "      <td>142</td>\n",
              "      <td>76</td>\n",
              "    </tr>\n",
              "    <tr>\n",
              "      <th>3</th>\n",
              "      <td>7618745059</td>\n",
              "      <td>The government actively destroyed his life an ...</td>\n",
              "      <td>2710</td>\n",
              "      <td>2819</td>\n",
              "      <td>2725</td>\n",
              "      <td>2782</td>\n",
              "      <td>Exaggeration,Minimisation</td>\n",
              "      <td>8</td>\n",
              "      <td>1</td>\n",
              "      <td>109</td>\n",
              "      <td>57</td>\n",
              "    </tr>\n",
              "    <tr>\n",
              "      <th>4</th>\n",
              "      <td>7618745059</td>\n",
              "      <td>Ex-Sailor Pardoned By Trump Says He’s SUING Ob...</td>\n",
              "      <td>0</td>\n",
              "      <td>59</td>\n",
              "      <td>0</td>\n",
              "      <td>0</td>\n",
              "      <td>O</td>\n",
              "      <td>0</td>\n",
              "      <td>0</td>\n",
              "      <td>59</td>\n",
              "      <td>0</td>\n",
              "    </tr>\n",
              "  </tbody>\n",
              "</table>\n",
              "</div>"
            ],
            "text/plain": [
              "           id  ... prop_length\n",
              "0  7618745059  ...          41\n",
              "1  7618745059  ...          51\n",
              "2  7618745059  ...          76\n",
              "3  7618745059  ...          57\n",
              "4  7618745059  ...           0\n",
              "\n",
              "[5 rows x 11 columns]"
            ]
          },
          "metadata": {
            "tags": []
          },
          "execution_count": 27
        }
      ]
    },
    {
      "cell_type": "code",
      "metadata": {
        "colab": {
          "base_uri": "https://localhost:8080/"
        },
        "id": "qlPjHLUS5idj",
        "outputId": "3a483284-1111-41bc-cc02-6d8bd9537a46"
      },
      "source": [
        "print(df.shape[0])"
      ],
      "execution_count": 28,
      "outputs": [
        {
          "output_type": "stream",
          "text": [
            "20242\n"
          ],
          "name": "stdout"
        }
      ]
    },
    {
      "cell_type": "markdown",
      "metadata": {
        "id": "8GBglKvZfFIN"
      },
      "source": [
        "####Here we handle the problem that some sentences have more than 1 label. We first group by the dataframe on the basis of similar full_length sentences. "
      ]
    },
    {
      "cell_type": "code",
      "metadata": {
        "id": "6BSDPoGNfDk8"
      },
      "source": [
        "groupedbysent = df.groupby('full_sent')\n"
      ],
      "execution_count": 29,
      "outputs": []
    },
    {
      "cell_type": "code",
      "metadata": {
        "id": "_tCzlSaBd_bu"
      },
      "source": [
        "all_tokenized_labels=[]\n",
        "new=df['full_sent'].unique()\n",
        "\n",
        "for i in range (len(groupedbysent)):\n",
        "    group=groupedbysent.get_group(new[i])\n",
        "    group_labels=group['label']\n",
        "    temp=[]\n",
        "    for j in range (group_labels.size):\n",
        "        temp.append(group_labels.iloc[j])\n",
        "    all_tokenized_labels.append(temp)\n",
        "    \n",
        "        \n",
        "      \n",
        "all_encoded=np.zeros((len(groupedbysent), 19)) \n",
        "\n",
        "for i in range (len(groupedbysent)):    \n",
        "    for  idx, val in enumerate (all_tokenized_labels[i]):\n",
        "        all_encoded[i][val]=1  "
      ],
      "execution_count": 30,
      "outputs": []
    },
    {
      "cell_type": "code",
      "metadata": {
        "colab": {
          "base_uri": "https://localhost:8080/"
        },
        "id": "ke8GzAv-jiey",
        "outputId": "3a326158-881d-429e-dc6a-44825a81d92a"
      },
      "source": [
        "import nltk\n",
        "nltk.download(\"stopwords\")"
      ],
      "execution_count": 31,
      "outputs": [
        {
          "output_type": "stream",
          "text": [
            "[nltk_data] Downloading package stopwords to /root/nltk_data...\n",
            "[nltk_data]   Unzipping corpora/stopwords.zip.\n"
          ],
          "name": "stdout"
        },
        {
          "output_type": "execute_result",
          "data": {
            "text/plain": [
              "True"
            ]
          },
          "metadata": {
            "tags": []
          },
          "execution_count": 31
        }
      ]
    },
    {
      "cell_type": "code",
      "metadata": {
        "colab": {
          "base_uri": "https://localhost:8080/",
          "height": 17
        },
        "id": "JM3kmWwLjURa",
        "outputId": "e90fd6a2-7518-4b52-846f-f8b33dea64bc"
      },
      "source": [
        "import numpy as np \n",
        "import pandas as pd\n",
        "import matplotlib.pyplot as plt\n",
        "import seaborn as sns\n",
        "from keras.preprocessing.text import Tokenizer\n",
        "from keras.preprocessing.sequence import pad_sequences\n",
        "from keras.models import Sequential\n",
        "from keras.layers import Dense, Embedding, LSTM, SpatialDropout1D\n",
        "from sklearn.model_selection import train_test_split\n",
        "from keras.utils.np_utils import to_categorical\n",
        "from keras.callbacks import EarlyStopping\n",
        "from keras.layers import Dropout\n",
        "import re\n",
        "from nltk.corpus import stopwords\n",
        "from nltk import word_tokenize\n",
        "STOPWORDS = set(stopwords.words('english'))\n",
        "from bs4 import BeautifulSoup\n",
        "import plotly.graph_objs as go\n",
        "#import plotly.plotly as py\n",
        "import cufflinks\n",
        "from IPython.core.interactiveshell import InteractiveShell\n",
        "import plotly.figure_factory as ff\n",
        "InteractiveShell.ast_node_interactivity = 'all'\n",
        "from plotly.offline import iplot\n",
        "cufflinks.go_offline()\n",
        "cufflinks.set_config_file(world_readable=True, theme='pearl')"
      ],
      "execution_count": 32,
      "outputs": [
        {
          "output_type": "display_data",
          "data": {
            "text/html": [
              "        <script type=\"text/javascript\">\n",
              "        window.PlotlyConfig = {MathJaxConfig: 'local'};\n",
              "        if (window.MathJax) {MathJax.Hub.Config({SVG: {font: \"STIX-Web\"}});}\n",
              "        if (typeof require !== 'undefined') {\n",
              "        require.undef(\"plotly\");\n",
              "        requirejs.config({\n",
              "            paths: {\n",
              "                'plotly': ['https://cdn.plot.ly/plotly-latest.min']\n",
              "            }\n",
              "        });\n",
              "        require(['plotly'], function(Plotly) {\n",
              "            window._Plotly = Plotly;\n",
              "        });\n",
              "        }\n",
              "        </script>\n",
              "        "
            ]
          },
          "metadata": {
            "tags": []
          }
        }
      ]
    },
    {
      "cell_type": "code",
      "metadata": {
        "colab": {
          "base_uri": "https://localhost:8080/"
        },
        "id": "WT7WgB2-jNkY",
        "outputId": "8cbb6847-8f36-41df-cd11-c281dd3b2882"
      },
      "source": [
        "# The maximum number of words to be used. (most frequent)\n",
        "MAX_NB_WORDS = 50000\n",
        "# Max number of words in each  sent.\n",
        "MAX_SEQUENCE_LENGTH = 135\n",
        "# This is fixed.\n",
        "EMBEDDING_DIM = 100\n",
        "tokenizer = Tokenizer(num_words=MAX_NB_WORDS, filters='!\"#$%&()*+,-./:;<=>?@[\\]^_`{|}~', lower=True)\n",
        "#tokenizer.fit_on_texts(df['full_sent'].values)\n",
        "df = df.drop_duplicates(subset = [\"full_sent\"])\n",
        "\n",
        "tokenizer.fit_on_texts(df['full_sent'].values)\n",
        "word_index = tokenizer.word_index\n",
        "print('Found %s unique tokens.' % len(word_index))"
      ],
      "execution_count": 33,
      "outputs": [
        {
          "output_type": "stream",
          "text": [
            "Found 23000 unique tokens.\n"
          ],
          "name": "stdout"
        }
      ]
    },
    {
      "cell_type": "code",
      "metadata": {
        "colab": {
          "base_uri": "https://localhost:8080/"
        },
        "id": "gUB-TRV8j6O0",
        "outputId": "4ff5b6aa-e29a-4808-bd61-30afd1ad241c"
      },
      "source": [
        "X = tokenizer.texts_to_sequences(df['full_sent'].values)\n",
        "X = pad_sequences(X, maxlen=MAX_SEQUENCE_LENGTH)\n",
        "print('Shape of data tensor:', X.shape)\n"
      ],
      "execution_count": 38,
      "outputs": [
        {
          "output_type": "stream",
          "text": [
            "Shape of data tensor: (16285, 135)\n"
          ],
          "name": "stdout"
        }
      ]
    },
    {
      "cell_type": "code",
      "metadata": {
        "colab": {
          "base_uri": "https://localhost:8080/"
        },
        "id": "sW3sQ_4W6Y8_",
        "outputId": "54f6bed0-02ff-4178-933c-d22b79443ea5"
      },
      "source": [
        "print(X[:30,100:130])\n"
      ],
      "execution_count": 35,
      "outputs": [
        {
          "output_type": "stream",
          "text": [
            "[[    0     0     0     0     0  1586  7675     1   125     5    88   126\n",
            "      3   130    12    11   388    16  1506   102   557   117  3376     3\n",
            "   4588   277     5    21   126  2303]\n",
            " [    0     0     0     0     0     0     0     0     0     0     0     0\n",
            "      0     0     0     0     0     0     0     0     0    98  3620    10\n",
            "     88  5083    91     1   157   444]\n",
            " [    0     0     0     0     0     0     0     0     0     0     0  1586\n",
            "    299   108    14    30   615    82     2     1  4209    74   421   162\n",
            "     16    15   516  4589    21   153]\n",
            " [    0     0     0     0     0     0     0     0     0     0     0     0\n",
            "      0     0     0     1   112  3377  1461    21   153    30   119    12\n",
            "     42    32  1141     9    21   416]\n",
            " [    0     0     0     0     0     0     0     0     0     0     0     0\n",
            "      0     0     0     0     0     0     0     0     0     0     0     0\n",
            "   1296  2989  3621    17    44   176]\n",
            " [    0     0     0     0     0     0     0     6   164  2188  2989    28\n",
            "      8    45     2   401    51     3   921     6  2990    25    65   278\n",
            "     44     8  1703     3  1202     6]\n",
            " [    0     0     0  5693  1506    28   922     6   121     5   183   846\n",
            "      9   356   803     2  1171  4212     2     1  4591    10    40    15\n",
            "    940   176    15    11   866     3]\n",
            " [    0     0     0     0     0     0  1506    29     7    15  6484    15\n",
            "     35  5084     5   356     1   803    40    15    29    15   468     3\n",
            "    379    79     3    21   416     3]\n",
            " [    0     0     0     0     0     0     0     0    15    24    62  5085\n",
            "     55    26   166   208   241     7    21  2022    11  1587  1647  2829\n",
            "     17  9454    39  1171   194  1814]\n",
            " [ 1506  3899     7     1   157   208    28  1704    55  1949     3  1506\n",
            "      9    21   534  2426     3    20  7677    13   421   162     5    54\n",
            "    566     2     6   923   402  1142]\n",
            " [   10   437     7     1   729    40    15  6487     3  1202   756     5\n",
            "   9455    37   333     1   100    95   173     2   242   164   150   408\n",
            "   1068   755     4   164    65  1143]\n",
            " [    0     0     0     0     0     0     0     0     0     0  1506    28\n",
            "    643     5  5086  5695   740     5   269     3   356   803  1018     1\n",
            "   7678  6488   111    12    11  5696]\n",
            " [  782  1407    15    11     6  7680  2989    28    35   292   225   179\n",
            "     26   941    17   356   803  1507     1 12843  7681   500     4  7682\n",
            "   9457     4   105  9458   242    17]\n",
            " [    0     0     0     0     0     0     0     0     0     0     0     0\n",
            "      0     0     0     0     0     0     0     0     0     0     0     0\n",
            "      0     0     0     0     0     0]\n",
            " [    0     0     0     0     0     0     0     0     0     0     0     0\n",
            "      0     0     0     0     0     0     0     0     0     0     0     0\n",
            "      0     0     0     0     0     0]\n",
            " [    0     0     0     0    33   195    71     3  1705     1   475    16\n",
            "   4592    29     7     6  1408    39     1  3623   729    11   403     3\n",
            "      1   173     2   242     4   325]\n",
            " [    0     0     0     0     0     0     0     0     0     0     0     0\n",
            "      0     0     0     0     0     0    50     8  2427     6   766   362\n",
            "   1172     7   155 12845    94     1]\n",
            " [    0     0     0     0     0     0     0     0     0     0     0     0\n",
            "      0     0     0     0     0     0     0     0     0     0     0  2428\n",
            "    126    11  2427   307  3624    17]\n",
            " [   16  1506    29  2303    31  1242     3  1755  2305     4   512   683\n",
            "     16  1506    24    35  4594  7684     4     8     5  3900   382     3\n",
            "      1  1648     2  4595    52   422]\n",
            " [    0     0     0     0     0     0     0     0     0     0     0     0\n",
            "      0     0     0     0     0     0     0     0     0     0     0     0\n",
            "      0    32   421   162     8  1203]\n",
            " [    0     0     0     0     0     0     0     0     0     0     0     0\n",
            "      0     0     0     0     0     0     0     0     0     0     0     4\n",
            "      7     8    43  1506     8    58]\n",
            " [ 2546   469    15  2024     3   254 12847    39     6   438  1868  5699\n",
            "    357     3  3901     5     6   742   622     3   165  1367    13     1\n",
            "    310   103     4  1173     6   461]\n",
            " [    0     0    15  1267    15   366     3  3901     5   184     3   482\n",
            "     93  4213   470     4    82    15   468     3    64   307 12848   822\n",
            "      4    60 12849    81    93  3164]\n",
            " [    0     0     0     0     0     0     0     0     0     0     0     0\n",
            "      0     0     0     5     1   311     2    38  4214  2830  2189    21\n",
            "   1588     3   128     6   329   271]\n",
            " [    0     0     0     0     0     0     0     0     0     0     0     0\n",
            "      0     0     0     0     0     0    15    62 12850    30   310   103\n",
            "    731  9459     4  5087   383     6]\n",
            " [    0     0     0     0     0     0     0     0     0     0     0     0\n",
            "      0     0     0     0     0     0     0     0     0     0     0    15\n",
            "     29    15   468     3  2190    21]\n",
            " [    0     0     0     0     0     0     0     0     0     0     0     0\n",
            "      0     0     0     5     1   469   255    15 12851  7685    14  9462\n",
            "   5088     4    29     1   197   398]\n",
            " [    0     0     0     0     0     0     0     0     0     0     0     0\n",
            "      0     0     0     0     0    15    62    29  7685    35  1097     6\n",
            "   7688   380     5   147    15   867]\n",
            " [    0     0     0     0     0     0     0  2830  1756     3   823    12\n",
            "     17    32    98   270   279    15   102     1   103   173    15    35\n",
            "   3902  3625    12   389     5   445]\n",
            " [    0     0     0     0     0     0     0     0     0     0     0     0\n",
            "      0     0     0     0     0     0     0     0     0  1462   139    28\n",
            "    468     3  1173  1019  6491   740]]\n"
          ],
          "name": "stdout"
        }
      ]
    },
    {
      "cell_type": "code",
      "metadata": {
        "colab": {
          "base_uri": "https://localhost:8080/"
        },
        "id": "qhmJx5EakA1n",
        "outputId": "e43469a9-f0de-402b-ebd3-5e56d48c3b06"
      },
      "source": [
        "#Y = pd.get_dummies(df['label']).values\n",
        "\n",
        "#Y=np.load(Path(\"/content/new_label.npy\"))\n",
        "Y=all_encoded\n",
        "print('Shape of label tensor:', Y.shape)"
      ],
      "execution_count": 39,
      "outputs": [
        {
          "output_type": "stream",
          "text": [
            "Shape of label tensor: (16285, 19)\n"
          ],
          "name": "stdout"
        }
      ]
    },
    {
      "cell_type": "code",
      "metadata": {
        "colab": {
          "base_uri": "https://localhost:8080/"
        },
        "id": "WqyIG3A-kHmH",
        "outputId": "17042f8c-d16a-47c5-8be8-f88017ac7a9c"
      },
      "source": [
        "X_train, X_test, Y_train, Y_test = train_test_split(X,Y, test_size = 0.10, random_state = 42)\n",
        "print(X_train.shape,Y_train.shape)\n",
        "print(X_test.shape,Y_test.shape)"
      ],
      "execution_count": 40,
      "outputs": [
        {
          "output_type": "stream",
          "text": [
            "(14656, 135) (14656, 19)\n",
            "(1629, 135) (1629, 19)\n"
          ],
          "name": "stdout"
        }
      ]
    },
    {
      "cell_type": "code",
      "metadata": {
        "colab": {
          "base_uri": "https://localhost:8080/"
        },
        "id": "kJJjYT4ckIF2",
        "outputId": "ad3257d5-d36a-435f-e77e-56b09e989172"
      },
      "source": [
        "model = Sequential()\n",
        "model.add(Embedding(MAX_NB_WORDS, EMBEDDING_DIM, input_length=X.shape[1]))\n",
        "model.add(SpatialDropout1D(0.2))\n",
        "model.add(LSTM(200, dropout=0.2, recurrent_dropout=0.2))\n",
        "model.add(Dense(19, activation='sigmoid'))\n",
        "model.compile(loss='categorical_crossentropy', optimizer='adam', metrics=['accuracy'])\n",
        "print(model.summary())"
      ],
      "execution_count": 41,
      "outputs": [
        {
          "output_type": "stream",
          "text": [
            "WARNING:tensorflow:Layer lstm will not use cuDNN kernel since it doesn't meet the cuDNN kernel criteria. It will use generic GPU kernel as fallback when running on GPU\n",
            "Model: \"sequential\"\n",
            "_________________________________________________________________\n",
            "Layer (type)                 Output Shape              Param #   \n",
            "=================================================================\n",
            "embedding (Embedding)        (None, 135, 100)          5000000   \n",
            "_________________________________________________________________\n",
            "spatial_dropout1d (SpatialDr (None, 135, 100)          0         \n",
            "_________________________________________________________________\n",
            "lstm (LSTM)                  (None, 200)               240800    \n",
            "_________________________________________________________________\n",
            "dense (Dense)                (None, 19)                3819      \n",
            "=================================================================\n",
            "Total params: 5,244,619\n",
            "Trainable params: 5,244,619\n",
            "Non-trainable params: 0\n",
            "_________________________________________________________________\n",
            "None\n"
          ],
          "name": "stdout"
        }
      ]
    },
    {
      "cell_type": "code",
      "metadata": {
        "colab": {
          "base_uri": "https://localhost:8080/"
        },
        "id": "yw606fBOkMHv",
        "outputId": "7f1194b0-bb44-495a-eea8-541ed9606a4c"
      },
      "source": [
        "epochs = 10\n",
        "batch_size = 64\n",
        "\n",
        "history = model.fit(X_train, Y_train, epochs=epochs, batch_size=batch_size,validation_split=0.1,callbacks=[EarlyStopping(monitor='val_loss',\n",
        "                                                                                                                         patience=3, min_delta=0.0001)])"
      ],
      "execution_count": 43,
      "outputs": [
        {
          "output_type": "stream",
          "text": [
            "Epoch 1/10\n",
            "207/207 [==============================] - 95s 460ms/step - loss: 1.5466 - accuracy: 0.7090 - val_loss: 1.5532 - val_accuracy: 0.7156\n",
            "Epoch 2/10\n",
            "207/207 [==============================] - 95s 458ms/step - loss: 1.4203 - accuracy: 0.7135 - val_loss: 1.5406 - val_accuracy: 0.7087\n",
            "Epoch 3/10\n",
            "207/207 [==============================] - 95s 458ms/step - loss: 1.2186 - accuracy: 0.7537 - val_loss: 1.5626 - val_accuracy: 0.7067\n",
            "Epoch 4/10\n",
            "207/207 [==============================] - 95s 459ms/step - loss: 1.0194 - accuracy: 0.8044 - val_loss: 1.6284 - val_accuracy: 0.6903\n",
            "Epoch 5/10\n",
            "207/207 [==============================] - 95s 460ms/step - loss: 0.8862 - accuracy: 0.8298 - val_loss: 1.7644 - val_accuracy: 0.6849\n"
          ],
          "name": "stdout"
        }
      ]
    },
    {
      "cell_type": "code",
      "metadata": {
        "colab": {
          "base_uri": "https://localhost:8080/"
        },
        "id": "rujRyKHukQlo",
        "outputId": "93ade414-0a01-4132-bc7b-4d133c31e19c"
      },
      "source": [
        "accr = model.evaluate(X_test,Y_test)\n",
        "print('Test set\\n  Loss: {:0.3f}\\n  Accuracy: {:0.3f}'.format(accr[0],accr[1]))"
      ],
      "execution_count": 44,
      "outputs": [
        {
          "output_type": "stream",
          "text": [
            "51/51 [==============================] - 2s 35ms/step - loss: 1.8295 - accuracy: 0.6839\n",
            "Test set\n",
            "  Loss: 1.829\n",
            "  Accuracy: 0.684\n"
          ],
          "name": "stdout"
        }
      ]
    },
    {
      "cell_type": "code",
      "metadata": {
        "colab": {
          "base_uri": "https://localhost:8080/",
          "height": 281
        },
        "id": "etfm6rWUn8Ff",
        "outputId": "f0d4ebe5-1980-411d-aefe-330da8bf3f2b"
      },
      "source": [
        "plt.title('Loss')\n",
        "plt.plot(history.history['loss'], label='train')\n",
        "plt.plot(history.history['val_loss'], label='test')\n",
        "plt.legend()\n",
        "plt.show();"
      ],
      "execution_count": 45,
      "outputs": [
        {
          "output_type": "display_data",
          "data": {
            "image/png": "[encoded data removed]",
            "text/plain": [
              "<Figure size 432x288 with 1 Axes>"
            ]
          },
          "metadata": {
            "tags": [],
            "needs_background": "light"
          }
        }
      ]
    },
    {
      "cell_type": "code",
      "metadata": {
        "colab": {
          "base_uri": "https://localhost:8080/",
          "height": 281
        },
        "id": "YsF29YPfAKxL",
        "outputId": "1be69cf5-a446-4351-e318-8e98a1b37731"
      },
      "source": [
        "plt.title('Accuracy')\n",
        "plt.plot(history.history['accuracy'], label='train')\n",
        "plt.plot(history.history['val_accuracy'], label='test')\n",
        "plt.legend()\n",
        "plt.show();"
      ],
      "execution_count": 46,
      "outputs": [
        {
          "output_type": "display_data",
          "data": {
            "image/png": "[encoded data removed]",
            "text/plain": [
              "<Figure size 432x288 with 1 Axes>"
            ]
          },
          "metadata": {
            "tags": [],
            "needs_background": "light"
          }
        }
      ]
    },
    {
      "cell_type": "code",
      "metadata": {
        "colab": {
          "base_uri": "https://localhost:8080/"
        },
        "id": "NQAJM6Pt9KCS",
        "outputId": "a78b4265-3912-45e9-d2fd-18bb35b3f409"
      },
      "source": [
        "new_complaint = ['The police and law and government should decide']\n",
        "seq = tokenizer.texts_to_sequences(new_complaint)\n",
        "padded = pad_sequences(seq, maxlen=MAX_SEQUENCE_LENGTH)\n",
        "pred = model.predict(padded)\n",
        "#labels = ['Credit reporting, credit repair services, or other personal consumer reports', 'Debt collection', 'Mortgage', 'Credit card or prepaid card', 'Student loan', 'Bank account or service', 'Checking or savings account', 'Consumer Loan', 'Payday loan, title loan, or personal loan', 'Vehicle loan or lease', 'Money transfer, virtual currency, or money service', 'Money transfers', 'Prepaid card']\n",
        "\n",
        "labels=['O', 'Black-and-White_Fallacy', 'Loaded_Language', 'Flag-Waving', \n",
        " 'Name_Calling,Labeling', 'Slogans', 'Causal_Oversimplification', 'Whataboutism',\n",
        " 'Exaggeration,Minimisation', 'Doubt', 'Appeal_to_Authority', 'Repetition', 'Appeal_to_fear-prejudice',\n",
        " 'Thought-terminating_Cliches', 'Bandwagon', 'Red_Herring', 'Reductio_ad_hitlerum',\n",
        " 'Obfuscation,Intentional_Vagueness,Confusion', 'Straw_Men']\n",
        "\n",
        "\n",
        "\n",
        "print(pred, labels[np.argmax(pred)])"
      ],
      "execution_count": 58,
      "outputs": [
        {
          "output_type": "stream",
          "text": [
            "[[0.13653502 0.00507157 0.05112172 0.00351307 0.02031097 0.00482181\n",
            "  0.00668627 0.00190907 0.01044572 0.00969169 0.00271101 0.01060509\n",
            "  0.00964457 0.00272946 0.00079464 0.00111665 0.00226751 0.00037204\n",
            "  0.00085822]] O\n"
          ],
          "name": "stdout"
        }
      ]
    },
    {
      "cell_type": "code",
      "metadata": {
        "colab": {
          "base_uri": "https://localhost:8080/"
        },
        "id": "tkUivP3wVEf5",
        "outputId": "544e27d6-2593-454a-e0b2-4d1118bf57eb"
      },
      "source": [
        "pred = model.predict(X_test)\n",
        "print(\"size of predicted array is: \", len(pred))\n",
        "print(\"size of Y_test array is: \", len(Y_test))"
      ],
      "execution_count": 59,
      "outputs": [
        {
          "output_type": "stream",
          "text": [
            "size of predicted array is:  1629\n",
            "size of Y_test array is:  1629\n"
          ],
          "name": "stdout"
        }
      ]
    },
    {
      "cell_type": "code",
      "metadata": {
        "colab": {
          "base_uri": "https://localhost:8080/"
        },
        "id": "9WwiZzw-AnYV",
        "outputId": "727bffbe-83ce-4f6f-f900-b4e3c0471afb"
      },
      "source": [
        "print(Y_test[0])\n"
      ],
      "execution_count": 60,
      "outputs": [
        {
          "output_type": "stream",
          "text": [
            "[1. 0. 0. 0. 0. 0. 0. 0. 0. 0. 0. 0. 0. 0. 0. 0. 0. 0. 0.]\n"
          ],
          "name": "stdout"
        }
      ]
    },
    {
      "cell_type": "code",
      "metadata": {
        "colab": {
          "base_uri": "https://localhost:8080/"
        },
        "id": "0aqOy5G0ApYY",
        "outputId": "1acfdcb9-7e14-4102-cc7e-f57233417a47"
      },
      "source": [
        "print(pred[400])\n"
      ],
      "execution_count": 61,
      "outputs": [
        {
          "output_type": "stream",
          "text": [
            "[0.13942143 0.00332735 0.01955515 0.00729201 0.00302475 0.00314102\n",
            " 0.00600651 0.00178728 0.00411921 0.01218196 0.00107581 0.00419551\n",
            " 0.00375864 0.0021581  0.00045046 0.00074865 0.00194696 0.00033471\n",
            " 0.00060879]\n"
          ],
          "name": "stdout"
        }
      ]
    },
    {
      "cell_type": "code",
      "metadata": {
        "colab": {
          "base_uri": "https://localhost:8080/"
        },
        "id": "5A2MMvfzFjBK",
        "outputId": "75674fa1-d552-4cc8-c46b-127167123472"
      },
      "source": [
        "np.argmax(pred[400])"
      ],
      "execution_count": 62,
      "outputs": [
        {
          "output_type": "execute_result",
          "data": {
            "text/plain": [
              "0"
            ]
          },
          "metadata": {
            "tags": []
          },
          "execution_count": 62
        }
      ]
    },
    {
      "cell_type": "markdown",
      "metadata": {
        "id": "YMyRW97EICuR"
      },
      "source": [
        "We find the index of the highest value (predicted class). \n",
        "\n"
      ]
    },
    {
      "cell_type": "code",
      "metadata": {
        "id": "hRnNrVaiD4sB"
      },
      "source": [
        "pred1=[]\n",
        "for i in range (len(pred)):\n",
        "  pred1.append(np.argmax(pred[i]))"
      ],
      "execution_count": 63,
      "outputs": []
    },
    {
      "cell_type": "code",
      "metadata": {
        "id": "Dld3TjKcWPYj"
      },
      "source": [
        "Y_test1=[]\n",
        "for i in range (len(pred)):\n",
        "  Y_test1.append(np.argmax(Y_test[i]))\n"
      ],
      "execution_count": 64,
      "outputs": []
    },
    {
      "cell_type": "code",
      "metadata": {
        "colab": {
          "base_uri": "https://localhost:8080/"
        },
        "id": "tv9s3NttGyT4",
        "outputId": "bb5c4072-1665-4d3d-d8e0-c82b64199e48"
      },
      "source": [
        "from sklearn.metrics import precision_recall_fscore_support as score\n",
        "\n",
        "#predicted = [1,2,3,4,5,1,2,1,1,4,5] \n",
        "#y_test = [1,2,3,4,5,1,2,1,1,4,1]\n",
        "\n",
        "precision, recall, fscore, support = score(Y_test1, pred1 )\n",
        "\n",
        "print('precision: {}'.format(precision))\n",
        "print('recall: {}'.format(recall))\n",
        "print('fscore: {}'.format(fscore))\n",
        "print('support: {}'.format(support))\n",
        "\n"
      ],
      "execution_count": 65,
      "outputs": [
        {
          "output_type": "stream",
          "text": [
            "precision: [0.76031294 0.         0.30952381 0.25       0.06896552 0.\n",
            " 0.         0.         0.         0.         0.         0.\n",
            " 0.5        0.         0.         0.         0.         0.\n",
            " 0.        ]\n",
            "recall: [0.91917455 0.         0.1875     0.0625     0.07272727 0.\n",
            " 0.         0.         0.         0.         0.         0.\n",
            " 0.03846154 0.         0.         0.         0.         0.\n",
            " 0.        ]\n",
            "fscore: [0.83223044 0.         0.23353293 0.1        0.07079646 0.\n",
            " 0.         0.         0.         0.         0.         0.\n",
            " 0.07142857 0.         0.         0.         0.         0.\n",
            " 0.        ]\n",
            "support: [1163    7  208   16   55    9   15    8   24   36    8   38   26    5\n",
            "    2    2    5    1    1]\n"
          ],
          "name": "stdout"
        },
        {
          "output_type": "stream",
          "text": [
            "/usr/local/lib/python3.6/dist-packages/sklearn/metrics/_classification.py:1272: UndefinedMetricWarning:\n",
            "\n",
            "Precision and F-score are ill-defined and being set to 0.0 in labels with no predicted samples. Use `zero_division` parameter to control this behavior.\n",
            "\n"
          ],
          "name": "stderr"
        }
      ]
    },
    {
      "cell_type": "code",
      "metadata": {
        "id": "MEMbh6xDHccA"
      },
      "source": [
        "df1 = pd.DataFrame({ 'precision': precision, 'recall':recall, 'Fscore':fscore, 'support':support })\n"
      ],
      "execution_count": 66,
      "outputs": []
    },
    {
      "cell_type": "code",
      "metadata": {
        "colab": {
          "base_uri": "https://localhost:8080/"
        },
        "id": "KWbFWummHdM6",
        "outputId": "31679426-3a2d-4008-cda1-9ba4d4cab354"
      },
      "source": [
        "from tabulate import tabulate\n",
        "print(tabulate(df1, headers='keys', tablefmt='psql'))\n"
      ],
      "execution_count": 67,
      "outputs": [
        {
          "output_type": "stream",
          "text": [
            "+----+-------------+-----------+-----------+-----------+\n",
            "|    |   precision |    recall |    Fscore |   support |\n",
            "|----+-------------+-----------+-----------+-----------|\n",
            "|  0 |   0.760313  | 0.919175  | 0.83223   |      1163 |\n",
            "|  1 |   0         | 0         | 0         |         7 |\n",
            "|  2 |   0.309524  | 0.1875    | 0.233533  |       208 |\n",
            "|  3 |   0.25      | 0.0625    | 0.1       |        16 |\n",
            "|  4 |   0.0689655 | 0.0727273 | 0.0707965 |        55 |\n",
            "|  5 |   0         | 0         | 0         |         9 |\n",
            "|  6 |   0         | 0         | 0         |        15 |\n",
            "|  7 |   0         | 0         | 0         |         8 |\n",
            "|  8 |   0         | 0         | 0         |        24 |\n",
            "|  9 |   0         | 0         | 0         |        36 |\n",
            "| 10 |   0         | 0         | 0         |         8 |\n",
            "| 11 |   0         | 0         | 0         |        38 |\n",
            "| 12 |   0.5       | 0.0384615 | 0.0714286 |        26 |\n",
            "| 13 |   0         | 0         | 0         |         5 |\n",
            "| 14 |   0         | 0         | 0         |         2 |\n",
            "| 15 |   0         | 0         | 0         |         2 |\n",
            "| 16 |   0         | 0         | 0         |         5 |\n",
            "| 17 |   0         | 0         | 0         |         1 |\n",
            "| 18 |   0         | 0         | 0         |         1 |\n",
            "+----+-------------+-----------+-----------+-----------+\n"
          ],
          "name": "stdout"
        }
      ]
    },
    {
      "cell_type": "code",
      "metadata": {
        "id": "n9bDXf0kDpQi"
      },
      "source": [
        "from sklearn.metrics import f1_score"
      ],
      "execution_count": 68,
      "outputs": []
    },
    {
      "cell_type": "code",
      "metadata": {
        "colab": {
          "base_uri": "https://localhost:8080/"
        },
        "id": "mQ-I5nKVDpx7",
        "outputId": "824fcc05-aee3-4c64-c402-811494c6e369"
      },
      "source": [
        "f1_score(Y_test1, pred1, average='weighted')"
      ],
      "execution_count": 69,
      "outputs": [
        {
          "output_type": "execute_result",
          "data": {
            "text/plain": [
              "0.6284897483261538"
            ]
          },
          "metadata": {
            "tags": []
          },
          "execution_count": 69
        }
      ]
    }
  ]
}