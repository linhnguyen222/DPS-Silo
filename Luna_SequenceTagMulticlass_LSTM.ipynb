{
  "nbformat": 4,
  "nbformat_minor": 0,
  "metadata": {
    "colab": {
      "name": "Luna_SequenceTagMulticlass_LSTM.ipynb",
      "provenance": [],
      "collapsed_sections": [],
      "machine_shape": "hm",
      "authorship_tag": "ABX9TyNYGqyB22KWT1nmbvI0L4D1",
      "include_colab_link": true
    },
    "kernelspec": {
      "name": "python3",
      "display_name": "Python 3"
    },
    "accelerator": "GPU"
  },
  "cells": [
    {
      "cell_type": "markdown",
      "metadata": {
        "id": "view-in-github",
        "colab_type": "text"
      },
      "source": [
        "<a href=\"https://colab.research.google.com/github/linhnguyen222/DPS-Silo/blob/master/Luna_SequenceTagMulticlass_LSTM.ipynb\" target=\"_parent\"><img src=\"https://colab.research.google.com/assets/colab-badge.svg\" alt=\"Open In Colab\"/></a>"
      ]
    },
    {
      "cell_type": "markdown",
      "metadata": {
        "id": "dhCLMONDlKuI"
      },
      "source": [
        "###Multi-class Sequence Tagging for sentence classification"
      ]
    },
    {
      "cell_type": "code",
      "metadata": {
        "id": "cUWlk0prGfb-",
        "colab": {
          "base_uri": "https://localhost:8080/"
        },
        "outputId": "7a3afebd-9bdc-4ef8-d26f-5adea982ccd2"
      },
      "source": [
        "from psutil import virtual_memory\n",
        "ram_gb = virtual_memory().total / 1e9\n",
        "print('Your runtime has {:.1f} gigabytes of available RAM\\n'.format(ram_gb))\n",
        "\n",
        "if ram_gb < 20:\n",
        "  print('To enable a high-RAM runtime, select the Runtime > \"Change runtime type\"')\n",
        "  print('menu, and then select High-RAM in the Runtime shape dropdown. Then, ')\n",
        "  print('re-execute this cell.')\n",
        "else:\n",
        "  print('You are using a high-RAM runtime!')"
      ],
      "execution_count": 1,
      "outputs": [
        {
          "output_type": "stream",
          "text": [
            "Your runtime has 27.4 gigabytes of available RAM\n",
            "\n",
            "You are using a high-RAM runtime!\n"
          ],
          "name": "stdout"
        }
      ]
    },
    {
      "cell_type": "code",
      "metadata": {
        "id": "81nDPb7ZGiZ_",
        "colab": {
          "base_uri": "https://localhost:8080/"
        },
        "outputId": "915dc337-3de9-46a2-dd6e-f592de57005d"
      },
      "source": [
        "gpu_info = !nvidia-smi\n",
        "gpu_info = '\\n'.join(gpu_info)\n",
        "if gpu_info.find('failed') >= 0:\n",
        "  print('Select the Runtime > \"Change runtime type\" menu to enable a GPU accelerator, ')\n",
        "  print('and then re-execute this cell.')\n",
        "else:\n",
        "  print(gpu_info)"
      ],
      "execution_count": 2,
      "outputs": [
        {
          "output_type": "stream",
          "text": [
            "Fri Dec 11 15:25:05 2020       \n",
            "+-----------------------------------------------------------------------------+\n",
            "| NVIDIA-SMI 455.45.01    Driver Version: 418.67       CUDA Version: 10.1     |\n",
            "|-------------------------------+----------------------+----------------------+\n",
            "| GPU  Name        Persistence-M| Bus-Id        Disp.A | Volatile Uncorr. ECC |\n",
            "| Fan  Temp  Perf  Pwr:Usage/Cap|         Memory-Usage | GPU-Util  Compute M. |\n",
            "|                               |                      |               MIG M. |\n",
            "|===============================+======================+======================|\n",
            "|   0  Tesla V100-SXM2...  Off  | 00000000:00:04.0 Off |                    0 |\n",
            "| N/A   34C    P0    24W / 300W |      0MiB / 16130MiB |      0%      Default |\n",
            "|                               |                      |                 ERR! |\n",
            "+-------------------------------+----------------------+----------------------+\n",
            "                                                                               \n",
            "+-----------------------------------------------------------------------------+\n",
            "| Processes:                                                                  |\n",
            "|  GPU   GI   CI        PID   Type   Process name                  GPU Memory |\n",
            "|        ID   ID                                                   Usage      |\n",
            "|=============================================================================|\n",
            "|  No running processes found                                                 |\n",
            "+-----------------------------------------------------------------------------+\n"
          ],
          "name": "stdout"
        }
      ]
    },
    {
      "cell_type": "code",
      "metadata": {
        "id": "-2I7zW1qJ57m",
        "colab": {
          "base_uri": "https://localhost:8080/"
        },
        "outputId": "420d35c3-61bc-431c-a7bd-d79c3ad66d0e"
      },
      "source": [
        "!pip -q install trax==1.3.1\n",
        "\n",
        "import trax \n",
        "from trax import layers as tl\n",
        "import os \n",
        "import numpy as np\n",
        "import pandas as pd\n",
        "from pathlib import Path\n",
        "\n",
        "\n",
        "#from pytorch_pretrained_bert import BertTokenizer\n",
        "import torch\n",
        "from pandas import DataFrame\n",
        "import random as rnd\n",
        "\n",
        "# set random seeds to make this notebook easier to replicate\n",
        "trax.supervised.trainer_lib.init_random_number_generators(33)"
      ],
      "execution_count": 3,
      "outputs": [
        {
          "output_type": "stream",
          "text": [
            "\u001b[K     |████████████████████████████████| 348kB 14.5MB/s \n",
            "\u001b[K     |████████████████████████████████| 1.5MB 22.8MB/s \n",
            "\u001b[K     |████████████████████████████████| 174kB 67.5MB/s \n",
            "\u001b[K     |████████████████████████████████| 2.6MB 66.6MB/s \n",
            "\u001b[K     |████████████████████████████████| 358kB 54.5MB/s \n",
            "\u001b[K     |████████████████████████████████| 5.3MB 61.6MB/s \n",
            "\u001b[K     |████████████████████████████████| 194kB 62.7MB/s \n",
            "\u001b[K     |████████████████████████████████| 368kB 56.4MB/s \n",
            "\u001b[K     |████████████████████████████████| 983kB 55.0MB/s \n",
            "\u001b[K     |████████████████████████████████| 348kB 56.0MB/s \n",
            "\u001b[K     |████████████████████████████████| 81kB 11.6MB/s \n",
            "\u001b[K     |████████████████████████████████| 655kB 52.3MB/s \n",
            "\u001b[K     |████████████████████████████████| 71kB 10.1MB/s \n",
            "\u001b[K     |████████████████████████████████| 1.4MB 55.2MB/s \n",
            "\u001b[K     |████████████████████████████████| 1.1MB 52.0MB/s \n",
            "\u001b[K     |████████████████████████████████| 3.7MB 45.8MB/s \n",
            "\u001b[K     |████████████████████████████████| 245kB 62.2MB/s \n",
            "\u001b[K     |████████████████████████████████| 51kB 7.4MB/s \n",
            "\u001b[K     |████████████████████████████████| 2.9MB 58.4MB/s \n",
            "\u001b[K     |████████████████████████████████| 890kB 55.5MB/s \n",
            "\u001b[?25h  Building wheel for bz2file (setup.py) ... \u001b[?25l\u001b[?25hdone\n",
            "  Building wheel for pypng (setup.py) ... \u001b[?25l\u001b[?25hdone\n",
            "  Building wheel for sacremoses (setup.py) ... \u001b[?25l\u001b[?25hdone\n",
            "\u001b[31mERROR: kfac 0.2.3 has requirement tensorflow-probability==0.8, but you'll have tensorflow-probability 0.7.0 which is incompatible.\u001b[0m\n"
          ],
          "name": "stdout"
        },
        {
          "output_type": "stream",
          "text": [
            "WARNING:root:Argument blacklist is deprecated. Please use denylist.\n",
            "WARNING:root:Argument blacklist is deprecated. Please use denylist.\n",
            "WARNING:root:Argument blacklist is deprecated. Please use denylist.\n",
            "WARNING:root:Argument blacklist is deprecated. Please use denylist.\n",
            "WARNING:root:Argument blacklist is deprecated. Please use denylist.\n",
            "WARNING:root:Argument blacklist is deprecated. Please use denylist.\n",
            "WARNING:root:Argument blacklist is deprecated. Please use denylist.\n",
            "WARNING:root:Argument blacklist is deprecated. Please use denylist.\n",
            "WARNING:root:Argument blacklist is deprecated. Please use denylist.\n",
            "WARNING:root:Argument blacklist is deprecated. Please use denylist.\n",
            "WARNING:root:Argument blacklist is deprecated. Please use denylist.\n",
            "WARNING:root:Argument blacklist is deprecated. Please use denylist.\n",
            "WARNING:root:Argument blacklist is deprecated. Please use denylist.\n",
            "WARNING:root:Argument blacklist is deprecated. Please use denylist.\n",
            "WARNING:root:Argument blacklist is deprecated. Please use denylist.\n",
            "WARNING:root:Argument blacklist is deprecated. Please use denylist.\n",
            "WARNING:root:Argument blacklist is deprecated. Please use denylist.\n",
            "WARNING:root:Argument blacklist is deprecated. Please use denylist.\n",
            "WARNING:root:Argument blacklist is deprecated. Please use denylist.\n",
            "WARNING:root:Argument blacklist is deprecated. Please use denylist.\n",
            "WARNING:root:Argument blacklist is deprecated. Please use denylist.\n",
            "WARNING:root:Argument blacklist is deprecated. Please use denylist.\n",
            "WARNING:root:Argument blacklist is deprecated. Please use denylist.\n",
            "WARNING:root:Argument blacklist is deprecated. Please use denylist.\n",
            "WARNING:root:Argument blacklist is deprecated. Please use denylist.\n"
          ],
          "name": "stderr"
        },
        {
          "output_type": "execute_result",
          "data": {
            "text/plain": [
              "DeviceArray([ 0, 33], dtype=uint32)"
            ]
          },
          "metadata": {
            "tags": []
          },
          "execution_count": 3
        }
      ]
    },
    {
      "cell_type": "code",
      "metadata": {
        "id": "iD7i2z5wGnq2",
        "colab": {
          "base_uri": "https://localhost:8080/"
        },
        "outputId": "6a837e00-af0a-4e50-d476-9d9771c0c8cf"
      },
      "source": [
        "from google.colab import drive\n",
        "# drive.mount('/content/drive')\n",
        "drive.mount(\"/content/drive\", force_remount=True)\n",
        "traindirectory = '/content/drive/My Drive/DSP/data/protechn_corpus_eval/train'\n",
        "testdirectory = '/content/drive/My Drive/DSP/data/protechn_corpus_eval/test'\n"
      ],
      "execution_count": 4,
      "outputs": [
        {
          "output_type": "stream",
          "text": [
            "Mounted at /content/drive\n"
          ],
          "name": "stdout"
        }
      ]
    },
    {
      "cell_type": "code",
      "metadata": {
        "id": "bJojhYR3GvpL"
      },
      "source": [
        "def read_data(directory):\n",
        "    ids = []\n",
        "    texts = []\n",
        "    labels = []\n",
        "    for f in directory.glob('*.txt'):\n",
        "        id = f.name.replace('article', '').replace('.txt','')\n",
        "        ids.append(id)\n",
        "        texts.append(f.read_text())\n",
        "        labels.append(parse_label(f.as_posix().replace('.txt', '.labels.tsv')))\n",
        "    # labels can be empty \n",
        "    return ids, texts, labels\n",
        "\n",
        "def clean_text(articles, ids):\n",
        "    texts = []\n",
        "    for article, id in zip(articles, ids):\n",
        "        sentences = article.split('\\n')\n",
        "        start = 0\n",
        "        end = -1\n",
        "        res = []\n",
        "        for sentence in sentences:\n",
        "           start = end + 1\n",
        "           end = start + len(sentence)  # length of sequence \n",
        "           if sentence != \"\": # if not empty line\n",
        "               res.append([id, sentence, start, end])\n",
        "        texts.append(res)\n",
        "    return texts\n",
        "\n",
        "\n",
        "def make_dataset(directory):\n",
        "    ids, texts, labels = read_data(directory)\n",
        "    texts = clean_text(texts, ids)\n",
        "    res = []\n",
        "    for text, label in zip(texts, labels):\n",
        "        # making positive examples\n",
        "        tmp = [] \n",
        "        pos_ind = [0] * len(text)\n",
        "        for l in label:\n",
        "            for i, sen in enumerate(text):\n",
        "                if l[0] >= sen[2] and l[0] < sen[3] and l[1] > sen[3]:\n",
        "                    l[4] = 1\n",
        "                    tmp.append(sen + [l[0], sen[3], l[2], l[3], l[4]])\n",
        "                    pos_ind[i] = 1\n",
        "                    l[0] = sen[3] + 1\n",
        "                elif l[0] != l[1] and l[0] >= sen[2] and l[0] < sen[3] and l[1] <= sen[3]: \n",
        "                    tmp.append(sen + l)\n",
        "                    pos_ind[i] = 1\n",
        "        # making negative examples\n",
        "        dummy = [0, 0, 'O', 0, 0]\n",
        "        for k, sen in enumerate(text):\n",
        "            if pos_ind[k] != 1:\n",
        "                tmp.append(sen+dummy)\n",
        "        res.append(tmp)     \n",
        "    return res"
      ],
      "execution_count": 5,
      "outputs": []
    },
    {
      "cell_type": "code",
      "metadata": {
        "id": "vJUHkt2YG6hf"
      },
      "source": [
        "def parse_label(label_path):\n",
        "    labels = []\n",
        "    f= Path(label_path)\n",
        "    \n",
        "    if not f.exists():\n",
        "        return labels\n",
        "\n",
        "    for line in open(label_path):\n",
        "        parts = line.strip().split('\\t')\n",
        "        labels.append([int(parts[2]), int(parts[3]), parts[1], 0, 0])\n",
        "    labels = sorted(labels) \n",
        "\n",
        "    if labels:\n",
        "        length = max([label[1] for label in labels]) \n",
        "        visit = np.zeros(length)\n",
        "        res = []\n",
        "        for label in labels:\n",
        "            if sum(visit[label[0]:label[1]]):\n",
        "                label[3] = 1\n",
        "            else:\n",
        "               visit[label[0]:label[1]] = 1\n",
        "            res.append(label)\n",
        "        return res \n",
        "    else:\n",
        "        return labels"
      ],
      "execution_count": 6,
      "outputs": []
    },
    {
      "cell_type": "code",
      "metadata": {
        "id": "yQuzpVmVHGFL"
      },
      "source": [
        "#train set\n",
        "dataset=make_dataset(Path('/content/drive/My Drive/DSP/data/protechn_corpus_eval/train'))\n"
      ],
      "execution_count": 7,
      "outputs": []
    },
    {
      "cell_type": "markdown",
      "metadata": {
        "id": "qcmdKtNWdRCg"
      },
      "source": [
        "\n",
        "####We form dataframe structure from the dataset read above and we name the columns."
      ]
    },
    {
      "cell_type": "code",
      "metadata": {
        "id": "fyBwoiuOHOvL",
        "colab": {
          "base_uri": "https://localhost:8080/",
          "height": 198
        },
        "outputId": "8eb24608-dfcf-461f-c67d-026d2eef7645"
      },
      "source": [
        "#train dataframe\n",
        "empty=[]\n",
        "for i in dataset:\n",
        "    \n",
        "    temp=DataFrame(i, columns=['id', 'full_sent', 'start_sent', 'end_sent', 'start_prop', 'end_prop','prop', 'ex1', 'ex2' ])\n",
        "    empty.append(temp)\n",
        "\n",
        "df=pd.concat(empty)  \n",
        "df = df.drop(['ex1'],axis =1).drop(['ex2'],axis =1)\n",
        "df.prop.value_counts()\n",
        "df=df.reset_index()\n",
        "#del df['index']\n",
        "\n",
        "df.head()\n"
      ],
      "execution_count": 8,
      "outputs": [
        {
          "output_type": "execute_result",
          "data": {
            "text/html": [
              "<div>\n",
              "<style scoped>\n",
              "    .dataframe tbody tr th:only-of-type {\n",
              "        vertical-align: middle;\n",
              "    }\n",
              "\n",
              "    .dataframe tbody tr th {\n",
              "        vertical-align: top;\n",
              "    }\n",
              "\n",
              "    .dataframe thead th {\n",
              "        text-align: right;\n",
              "    }\n",
              "</style>\n",
              "<table border=\"1\" class=\"dataframe\">\n",
              "  <thead>\n",
              "    <tr style=\"text-align: right;\">\n",
              "      <th></th>\n",
              "      <th>index</th>\n",
              "      <th>id</th>\n",
              "      <th>full_sent</th>\n",
              "      <th>start_sent</th>\n",
              "      <th>end_sent</th>\n",
              "      <th>start_prop</th>\n",
              "      <th>end_prop</th>\n",
              "      <th>prop</th>\n",
              "    </tr>\n",
              "  </thead>\n",
              "  <tbody>\n",
              "    <tr>\n",
              "      <th>0</th>\n",
              "      <td>0</td>\n",
              "      <td>7618745059</td>\n",
              "      <td>“They interpreted the law in my case to say it...</td>\n",
              "      <td>1695</td>\n",
              "      <td>1873</td>\n",
              "      <td>1831</td>\n",
              "      <td>1872</td>\n",
              "      <td>Whataboutism</td>\n",
              "    </tr>\n",
              "    <tr>\n",
              "      <th>1</th>\n",
              "      <td>1</td>\n",
              "      <td>7618745059</td>\n",
              "      <td>Two guys on my ship did the same thing and wer...</td>\n",
              "      <td>1905</td>\n",
              "      <td>1977</td>\n",
              "      <td>1925</td>\n",
              "      <td>1976</td>\n",
              "      <td>Whataboutism</td>\n",
              "    </tr>\n",
              "    <tr>\n",
              "      <th>2</th>\n",
              "      <td>2</td>\n",
              "      <td>7618745059</td>\n",
              "      <td>“They used me as an example because of [the ba...</td>\n",
              "      <td>2312</td>\n",
              "      <td>2454</td>\n",
              "      <td>2312</td>\n",
              "      <td>2388</td>\n",
              "      <td>Causal_Oversimplification</td>\n",
              "    </tr>\n",
              "    <tr>\n",
              "      <th>3</th>\n",
              "      <td>3</td>\n",
              "      <td>7618745059</td>\n",
              "      <td>The government actively destroyed his life an ...</td>\n",
              "      <td>2710</td>\n",
              "      <td>2819</td>\n",
              "      <td>2725</td>\n",
              "      <td>2782</td>\n",
              "      <td>Exaggeration,Minimisation</td>\n",
              "    </tr>\n",
              "    <tr>\n",
              "      <th>4</th>\n",
              "      <td>4</td>\n",
              "      <td>7618745059</td>\n",
              "      <td>Ex-Sailor Pardoned By Trump Says He’s SUING Ob...</td>\n",
              "      <td>0</td>\n",
              "      <td>59</td>\n",
              "      <td>0</td>\n",
              "      <td>0</td>\n",
              "      <td>O</td>\n",
              "    </tr>\n",
              "  </tbody>\n",
              "</table>\n",
              "</div>"
            ],
            "text/plain": [
              "   index          id  ... end_prop                       prop\n",
              "0      0  7618745059  ...     1872               Whataboutism\n",
              "1      1  7618745059  ...     1976               Whataboutism\n",
              "2      2  7618745059  ...     2388  Causal_Oversimplification\n",
              "3      3  7618745059  ...     2782  Exaggeration,Minimisation\n",
              "4      4  7618745059  ...        0                          O\n",
              "\n",
              "[5 rows x 8 columns]"
            ]
          },
          "metadata": {
            "tags": []
          },
          "execution_count": 8
        }
      ]
    },
    {
      "cell_type": "code",
      "metadata": {
        "colab": {
          "base_uri": "https://localhost:8080/"
        },
        "id": "UCqpOawyX6G-",
        "outputId": "30d033a4-e6c5-4d58-ea63-a59e0e9aaa2e"
      },
      "source": [
        "print(\"Size of train set is: \", df.shape[0])"
      ],
      "execution_count": 9,
      "outputs": [
        {
          "output_type": "stream",
          "text": [
            "Size of train set is:  15752\n"
          ],
          "name": "stdout"
        }
      ]
    },
    {
      "cell_type": "code",
      "metadata": {
        "id": "L_h1CPHAhAGn"
      },
      "source": [
        "#we make the test set\n",
        "dataset_test=make_dataset(Path('/content/drive/My Drive/DSP/data/protechn_corpus_eval/test'))\n"
      ],
      "execution_count": 10,
      "outputs": []
    },
    {
      "cell_type": "code",
      "metadata": {
        "colab": {
          "base_uri": "https://localhost:8080/",
          "height": 198
        },
        "id": "Ia2Nf_HjRz0z",
        "outputId": "37159358-2a75-4849-a76c-7a6d230ebc24"
      },
      "source": [
        "\n",
        "#test dataframe\n",
        "empty=[]\n",
        "for i in dataset_test:\n",
        "    \n",
        "    temp=DataFrame(i, columns=['id', 'full_sent', 'start_sent', 'end_sent', 'start_prop', 'end_prop','prop', 'ex1', 'ex2' ])\n",
        "    empty.append(temp)\n",
        "\n",
        "df_test=pd.concat(empty)  \n",
        "df_test = df_test.drop(['ex1'],axis =1).drop(['ex2'],axis =1)\n",
        "df_test.prop.value_counts()\n",
        "df_test=df_test.reset_index()\n",
        "#del df['index']\n",
        "\n",
        "df_test.head()\n"
      ],
      "execution_count": 11,
      "outputs": [
        {
          "output_type": "execute_result",
          "data": {
            "text/html": [
              "<div>\n",
              "<style scoped>\n",
              "    .dataframe tbody tr th:only-of-type {\n",
              "        vertical-align: middle;\n",
              "    }\n",
              "\n",
              "    .dataframe tbody tr th {\n",
              "        vertical-align: top;\n",
              "    }\n",
              "\n",
              "    .dataframe thead th {\n",
              "        text-align: right;\n",
              "    }\n",
              "</style>\n",
              "<table border=\"1\" class=\"dataframe\">\n",
              "  <thead>\n",
              "    <tr style=\"text-align: right;\">\n",
              "      <th></th>\n",
              "      <th>index</th>\n",
              "      <th>id</th>\n",
              "      <th>full_sent</th>\n",
              "      <th>start_sent</th>\n",
              "      <th>end_sent</th>\n",
              "      <th>start_prop</th>\n",
              "      <th>end_prop</th>\n",
              "      <th>prop</th>\n",
              "    </tr>\n",
              "  </thead>\n",
              "  <tbody>\n",
              "    <tr>\n",
              "      <th>0</th>\n",
              "      <td>0</td>\n",
              "      <td>111111133</td>\n",
              "      <td>CNN in turn dropped its lawsuit on the matter,...</td>\n",
              "      <td>301</td>\n",
              "      <td>415</td>\n",
              "      <td>358</td>\n",
              "      <td>367</td>\n",
              "      <td>Loaded_Language</td>\n",
              "    </tr>\n",
              "    <tr>\n",
              "      <th>1</th>\n",
              "      <td>1</td>\n",
              "      <td>111111133</td>\n",
              "      <td>But while it yielded to Mr. Acosta — whose tes...</td>\n",
              "      <td>417</td>\n",
              "      <td>673</td>\n",
              "      <td>460</td>\n",
              "      <td>465</td>\n",
              "      <td>Loaded_Language</td>\n",
              "    </tr>\n",
              "    <tr>\n",
              "      <th>2</th>\n",
              "      <td>2</td>\n",
              "      <td>111111133</td>\n",
              "      <td>But while it yielded to Mr. Acosta — whose tes...</td>\n",
              "      <td>417</td>\n",
              "      <td>673</td>\n",
              "      <td>504</td>\n",
              "      <td>507</td>\n",
              "      <td>Loaded_Language</td>\n",
              "    </tr>\n",
              "    <tr>\n",
              "      <th>3</th>\n",
              "      <td>3</td>\n",
              "      <td>111111133</td>\n",
              "      <td>The White House sought to blame Mr. Acosta for...</td>\n",
              "      <td>967</td>\n",
              "      <td>1167</td>\n",
              "      <td>1070</td>\n",
              "      <td>1077</td>\n",
              "      <td>Loaded_Language</td>\n",
              "    </tr>\n",
              "    <tr>\n",
              "      <th>4</th>\n",
              "      <td>4</td>\n",
              "      <td>111111133</td>\n",
              "      <td>Codifying the behavior of journalists struck s...</td>\n",
              "      <td>1168</td>\n",
              "      <td>1391</td>\n",
              "      <td>1224</td>\n",
              "      <td>1244</td>\n",
              "      <td>Loaded_Language</td>\n",
              "    </tr>\n",
              "  </tbody>\n",
              "</table>\n",
              "</div>"
            ],
            "text/plain": [
              "   index         id  ... end_prop             prop\n",
              "0      0  111111133  ...      367  Loaded_Language\n",
              "1      1  111111133  ...      465  Loaded_Language\n",
              "2      2  111111133  ...      507  Loaded_Language\n",
              "3      3  111111133  ...     1077  Loaded_Language\n",
              "4      4  111111133  ...     1244  Loaded_Language\n",
              "\n",
              "[5 rows x 8 columns]"
            ]
          },
          "metadata": {
            "tags": []
          },
          "execution_count": 11
        }
      ]
    },
    {
      "cell_type": "code",
      "metadata": {
        "id": "Z_OGabHvSCjN",
        "colab": {
          "base_uri": "https://localhost:8080/"
        },
        "outputId": "58a94932-da80-42ca-bc14-4461d52a7daa"
      },
      "source": [
        "print(\"Size of test set is: \", df_test.shape[0])"
      ],
      "execution_count": 12,
      "outputs": [
        {
          "output_type": "stream",
          "text": [
            "Size of test set is:  4490\n"
          ],
          "name": "stdout"
        }
      ]
    },
    {
      "cell_type": "code",
      "metadata": {
        "colab": {
          "base_uri": "https://localhost:8080/",
          "height": 35
        },
        "id": "VJQMbhgRZs5E",
        "outputId": "16b5a2ee-0520-4b73-95b8-f03525348e99"
      },
      "source": [
        "\"\"\"\n",
        "#Check the index\n",
        "df=df.reset_index()\n",
        "df.drop(['index'], axis=1)\n",
        "\n",
        "print(df.iloc[15750:15760])\"\"\""
      ],
      "execution_count": 13,
      "outputs": [
        {
          "output_type": "execute_result",
          "data": {
            "application/vnd.google.colaboratory.intrinsic+json": {
              "type": "string"
            },
            "text/plain": [
              "\"\\n#Check the index\\ndf=df.reset_index()\\ndf.drop(['index'], axis=1)\\n\\nprint(df.iloc[15750:15760])\""
            ]
          },
          "metadata": {
            "tags": []
          },
          "execution_count": 13
        }
      ]
    },
    {
      "cell_type": "markdown",
      "metadata": {
        "id": "DXl53KcBeR0b"
      },
      "source": [
        "\n",
        "####Defining a new column (called 'label') to turn string labels into integer labels by using a defined label dictionary that maps each propaganda technique to an integer representing that class."
      ]
    },
    {
      "cell_type": "code",
      "metadata": {
        "id": "tR-6tEnkA1-o"
      },
      "source": [
        "#We code the labels to integers\n",
        "\"\"\"\n",
        "possible_labels=df.prop.unique()\n",
        "label_dict={}\n",
        "for index, possible_label in enumerate(possible_labels):\n",
        "    label_dict[possible_label]=index\n",
        "print(label_dict)\n",
        "\"\"\"\n",
        "label_dict={'O': 0, 'Black-and-White_Fallacy': 1, 'Loaded_Language': 2, 'Flag-Waving': 3, \n",
        " 'Name_Calling,Labeling': 4, 'Slogans': 5, 'Causal_Oversimplification': 6, 'Whataboutism': 7,\n",
        " 'Exaggeration,Minimisation': 8, 'Doubt': 9, 'Appeal_to_Authority': 10, 'Repetition': 11, 'Appeal_to_fear-prejudice': 12,\n",
        " 'Thought-terminating_Cliches': 13, 'Bandwagon': 14, 'Red_Herring': 15, 'Reductio_ad_hitlerum': 16,\n",
        " 'Obfuscation,Intentional_Vagueness,Confusion': 17, 'Straw_Men': 18}\n",
        "\n",
        "label_dict\n",
        "#For both test and train set\n",
        "df['label']=df.prop.replace(label_dict)\n",
        "df_test['label']=df_test.prop.replace(label_dict)\n"
      ],
      "execution_count": 17,
      "outputs": []
    },
    {
      "cell_type": "code",
      "metadata": {
        "id": "ylk-Og8hWXjL",
        "colab": {
          "base_uri": "https://localhost:8080/",
          "height": 198
        },
        "outputId": "65b47cd0-c39f-40b3-bcca-f258abf14d01"
      },
      "source": [
        "df.head()"
      ],
      "execution_count": 18,
      "outputs": [
        {
          "output_type": "execute_result",
          "data": {
            "text/html": [
              "<div>\n",
              "<style scoped>\n",
              "    .dataframe tbody tr th:only-of-type {\n",
              "        vertical-align: middle;\n",
              "    }\n",
              "\n",
              "    .dataframe tbody tr th {\n",
              "        vertical-align: top;\n",
              "    }\n",
              "\n",
              "    .dataframe thead th {\n",
              "        text-align: right;\n",
              "    }\n",
              "</style>\n",
              "<table border=\"1\" class=\"dataframe\">\n",
              "  <thead>\n",
              "    <tr style=\"text-align: right;\">\n",
              "      <th></th>\n",
              "      <th>index</th>\n",
              "      <th>id</th>\n",
              "      <th>full_sent</th>\n",
              "      <th>start_sent</th>\n",
              "      <th>end_sent</th>\n",
              "      <th>start_prop</th>\n",
              "      <th>end_prop</th>\n",
              "      <th>prop</th>\n",
              "      <th>binary</th>\n",
              "      <th>sentence_length</th>\n",
              "      <th>prop_length</th>\n",
              "      <th>label</th>\n",
              "    </tr>\n",
              "  </thead>\n",
              "  <tbody>\n",
              "    <tr>\n",
              "      <th>0</th>\n",
              "      <td>0</td>\n",
              "      <td>7618745059</td>\n",
              "      <td>“They interpreted the law in my case to say it...</td>\n",
              "      <td>1695</td>\n",
              "      <td>1873</td>\n",
              "      <td>1831</td>\n",
              "      <td>1872</td>\n",
              "      <td>Whataboutism</td>\n",
              "      <td>10</td>\n",
              "      <td>178</td>\n",
              "      <td>41</td>\n",
              "      <td>7</td>\n",
              "    </tr>\n",
              "    <tr>\n",
              "      <th>1</th>\n",
              "      <td>1</td>\n",
              "      <td>7618745059</td>\n",
              "      <td>Two guys on my ship did the same thing and wer...</td>\n",
              "      <td>1905</td>\n",
              "      <td>1977</td>\n",
              "      <td>1925</td>\n",
              "      <td>1976</td>\n",
              "      <td>Whataboutism</td>\n",
              "      <td>10</td>\n",
              "      <td>72</td>\n",
              "      <td>51</td>\n",
              "      <td>7</td>\n",
              "    </tr>\n",
              "    <tr>\n",
              "      <th>2</th>\n",
              "      <td>2</td>\n",
              "      <td>7618745059</td>\n",
              "      <td>“They used me as an example because of [the ba...</td>\n",
              "      <td>2312</td>\n",
              "      <td>2454</td>\n",
              "      <td>2312</td>\n",
              "      <td>2388</td>\n",
              "      <td>Causal_Oversimplification</td>\n",
              "      <td>10</td>\n",
              "      <td>142</td>\n",
              "      <td>76</td>\n",
              "      <td>6</td>\n",
              "    </tr>\n",
              "    <tr>\n",
              "      <th>3</th>\n",
              "      <td>3</td>\n",
              "      <td>7618745059</td>\n",
              "      <td>The government actively destroyed his life an ...</td>\n",
              "      <td>2710</td>\n",
              "      <td>2819</td>\n",
              "      <td>2725</td>\n",
              "      <td>2782</td>\n",
              "      <td>Exaggeration,Minimisation</td>\n",
              "      <td>10</td>\n",
              "      <td>109</td>\n",
              "      <td>57</td>\n",
              "      <td>8</td>\n",
              "    </tr>\n",
              "    <tr>\n",
              "      <th>4</th>\n",
              "      <td>4</td>\n",
              "      <td>7618745059</td>\n",
              "      <td>Ex-Sailor Pardoned By Trump Says He’s SUING Ob...</td>\n",
              "      <td>0</td>\n",
              "      <td>59</td>\n",
              "      <td>0</td>\n",
              "      <td>0</td>\n",
              "      <td>O</td>\n",
              "      <td>10</td>\n",
              "      <td>59</td>\n",
              "      <td>0</td>\n",
              "      <td>0</td>\n",
              "    </tr>\n",
              "  </tbody>\n",
              "</table>\n",
              "</div>"
            ],
            "text/plain": [
              "   index          id  ... prop_length  label\n",
              "0      0  7618745059  ...          41      7\n",
              "1      1  7618745059  ...          51      7\n",
              "2      2  7618745059  ...          76      6\n",
              "3      3  7618745059  ...          57      8\n",
              "4      4  7618745059  ...           0      0\n",
              "\n",
              "[5 rows x 12 columns]"
            ]
          },
          "metadata": {
            "tags": []
          },
          "execution_count": 18
        }
      ]
    },
    {
      "cell_type": "code",
      "metadata": {
        "colab": {
          "base_uri": "https://localhost:8080/"
        },
        "id": "0CKGiCf2pEpB",
        "outputId": "570498a7-4446-4c49-dd79-af22c6341ef9"
      },
      "source": [
        "df.shape[0]"
      ],
      "execution_count": 19,
      "outputs": [
        {
          "output_type": "execute_result",
          "data": {
            "text/plain": [
              "15752"
            ]
          },
          "metadata": {
            "tags": []
          },
          "execution_count": 19
        }
      ]
    },
    {
      "cell_type": "markdown",
      "metadata": {
        "id": "ZncQKa1ieqQY"
      },
      "source": [
        "####Adding a new column (called 'binary') for propaganda vs. non propaganda sentences. "
      ]
    },
    {
      "cell_type": "code",
      "metadata": {
        "id": "4_aacIuAI0Ny"
      },
      "source": [
        "df['binary']=10\n",
        "#test\n",
        "#df.at[1,'binary']=10\n",
        "for i in range (0, df.shape[0]):\n",
        "    if df.iloc[i]['label']==0  :\n",
        "        \n",
        "        df.at[i, 'binary']= 0 \n",
        "    else:\n",
        "        #False\n",
        "        df.at[i, 'binary']= 1 \n"
      ],
      "execution_count": 20,
      "outputs": []
    },
    {
      "cell_type": "markdown",
      "metadata": {
        "id": "zmKqO9USil8-"
      },
      "source": [
        "For the purpose of  exploratory data analysis, and since we have the start and ending indice of full sentences as well as propaganda token, we can drive the length of sentences and propaganda tokens in two new columns ('sentence_length' and 'prop_length')."
      ]
    },
    {
      "cell_type": "code",
      "metadata": {
        "id": "xpWlR62bOChb"
      },
      "source": [
        "#we find length of sentence strings\n",
        "df['sentence_length']=0\n",
        "for i in range (0, df.shape[0]):\n",
        "    df.at[i,'sentence_length']=df.iloc[i]['end_sent']-df.iloc[i]['start_sent'] \n",
        "        \n",
        "        \n",
        " #we find length of propaganda token strings  \n",
        "df['prop_length']=0\n",
        "for i in range (0, df.shape[0]):\n",
        "    df.at[i,'prop_length']=df.iloc[i]['end_prop']-df.iloc[i]['start_prop'] \n",
        "        "
      ],
      "execution_count": 21,
      "outputs": []
    },
    {
      "cell_type": "code",
      "metadata": {
        "id": "8BvEBggl6FrQ",
        "colab": {
          "base_uri": "https://localhost:8080/",
          "height": 198
        },
        "outputId": "029b3830-bf6c-44ea-c437-8b299da46a9f"
      },
      "source": [
        "#df=pd.read_csv(Path(\"/content/export-train-seq\"))\n",
        "df.head()\n"
      ],
      "execution_count": 22,
      "outputs": [
        {
          "output_type": "execute_result",
          "data": {
            "text/html": [
              "<div>\n",
              "<style scoped>\n",
              "    .dataframe tbody tr th:only-of-type {\n",
              "        vertical-align: middle;\n",
              "    }\n",
              "\n",
              "    .dataframe tbody tr th {\n",
              "        vertical-align: top;\n",
              "    }\n",
              "\n",
              "    .dataframe thead th {\n",
              "        text-align: right;\n",
              "    }\n",
              "</style>\n",
              "<table border=\"1\" class=\"dataframe\">\n",
              "  <thead>\n",
              "    <tr style=\"text-align: right;\">\n",
              "      <th></th>\n",
              "      <th>index</th>\n",
              "      <th>id</th>\n",
              "      <th>full_sent</th>\n",
              "      <th>start_sent</th>\n",
              "      <th>end_sent</th>\n",
              "      <th>start_prop</th>\n",
              "      <th>end_prop</th>\n",
              "      <th>prop</th>\n",
              "      <th>binary</th>\n",
              "      <th>sentence_length</th>\n",
              "      <th>prop_length</th>\n",
              "      <th>label</th>\n",
              "    </tr>\n",
              "  </thead>\n",
              "  <tbody>\n",
              "    <tr>\n",
              "      <th>0</th>\n",
              "      <td>0</td>\n",
              "      <td>7618745059</td>\n",
              "      <td>“They interpreted the law in my case to say it...</td>\n",
              "      <td>1695</td>\n",
              "      <td>1873</td>\n",
              "      <td>1831</td>\n",
              "      <td>1872</td>\n",
              "      <td>Whataboutism</td>\n",
              "      <td>1</td>\n",
              "      <td>178</td>\n",
              "      <td>41</td>\n",
              "      <td>7</td>\n",
              "    </tr>\n",
              "    <tr>\n",
              "      <th>1</th>\n",
              "      <td>1</td>\n",
              "      <td>7618745059</td>\n",
              "      <td>Two guys on my ship did the same thing and wer...</td>\n",
              "      <td>1905</td>\n",
              "      <td>1977</td>\n",
              "      <td>1925</td>\n",
              "      <td>1976</td>\n",
              "      <td>Whataboutism</td>\n",
              "      <td>1</td>\n",
              "      <td>72</td>\n",
              "      <td>51</td>\n",
              "      <td>7</td>\n",
              "    </tr>\n",
              "    <tr>\n",
              "      <th>2</th>\n",
              "      <td>2</td>\n",
              "      <td>7618745059</td>\n",
              "      <td>“They used me as an example because of [the ba...</td>\n",
              "      <td>2312</td>\n",
              "      <td>2454</td>\n",
              "      <td>2312</td>\n",
              "      <td>2388</td>\n",
              "      <td>Causal_Oversimplification</td>\n",
              "      <td>1</td>\n",
              "      <td>142</td>\n",
              "      <td>76</td>\n",
              "      <td>6</td>\n",
              "    </tr>\n",
              "    <tr>\n",
              "      <th>3</th>\n",
              "      <td>3</td>\n",
              "      <td>7618745059</td>\n",
              "      <td>The government actively destroyed his life an ...</td>\n",
              "      <td>2710</td>\n",
              "      <td>2819</td>\n",
              "      <td>2725</td>\n",
              "      <td>2782</td>\n",
              "      <td>Exaggeration,Minimisation</td>\n",
              "      <td>1</td>\n",
              "      <td>109</td>\n",
              "      <td>57</td>\n",
              "      <td>8</td>\n",
              "    </tr>\n",
              "    <tr>\n",
              "      <th>4</th>\n",
              "      <td>4</td>\n",
              "      <td>7618745059</td>\n",
              "      <td>Ex-Sailor Pardoned By Trump Says He’s SUING Ob...</td>\n",
              "      <td>0</td>\n",
              "      <td>59</td>\n",
              "      <td>0</td>\n",
              "      <td>0</td>\n",
              "      <td>O</td>\n",
              "      <td>0</td>\n",
              "      <td>59</td>\n",
              "      <td>0</td>\n",
              "      <td>0</td>\n",
              "    </tr>\n",
              "  </tbody>\n",
              "</table>\n",
              "</div>"
            ],
            "text/plain": [
              "   index          id  ... prop_length  label\n",
              "0      0  7618745059  ...          41      7\n",
              "1      1  7618745059  ...          51      7\n",
              "2      2  7618745059  ...          76      6\n",
              "3      3  7618745059  ...          57      8\n",
              "4      4  7618745059  ...           0      0\n",
              "\n",
              "[5 rows x 12 columns]"
            ]
          },
          "metadata": {
            "tags": []
          },
          "execution_count": 22
        }
      ]
    },
    {
      "cell_type": "code",
      "metadata": {
        "colab": {
          "base_uri": "https://localhost:8080/",
          "height": 198
        },
        "id": "i8Tn5eABBzBk",
        "outputId": "934d7c43-0443-4bfa-8826-c2cab3fbc798"
      },
      "source": [
        "df_test.head()"
      ],
      "execution_count": 23,
      "outputs": [
        {
          "output_type": "execute_result",
          "data": {
            "text/html": [
              "<div>\n",
              "<style scoped>\n",
              "    .dataframe tbody tr th:only-of-type {\n",
              "        vertical-align: middle;\n",
              "    }\n",
              "\n",
              "    .dataframe tbody tr th {\n",
              "        vertical-align: top;\n",
              "    }\n",
              "\n",
              "    .dataframe thead th {\n",
              "        text-align: right;\n",
              "    }\n",
              "</style>\n",
              "<table border=\"1\" class=\"dataframe\">\n",
              "  <thead>\n",
              "    <tr style=\"text-align: right;\">\n",
              "      <th></th>\n",
              "      <th>index</th>\n",
              "      <th>id</th>\n",
              "      <th>full_sent</th>\n",
              "      <th>start_sent</th>\n",
              "      <th>end_sent</th>\n",
              "      <th>start_prop</th>\n",
              "      <th>end_prop</th>\n",
              "      <th>prop</th>\n",
              "      <th>label</th>\n",
              "    </tr>\n",
              "  </thead>\n",
              "  <tbody>\n",
              "    <tr>\n",
              "      <th>0</th>\n",
              "      <td>0</td>\n",
              "      <td>111111133</td>\n",
              "      <td>CNN in turn dropped its lawsuit on the matter,...</td>\n",
              "      <td>301</td>\n",
              "      <td>415</td>\n",
              "      <td>358</td>\n",
              "      <td>367</td>\n",
              "      <td>Loaded_Language</td>\n",
              "      <td>2</td>\n",
              "    </tr>\n",
              "    <tr>\n",
              "      <th>1</th>\n",
              "      <td>1</td>\n",
              "      <td>111111133</td>\n",
              "      <td>But while it yielded to Mr. Acosta — whose tes...</td>\n",
              "      <td>417</td>\n",
              "      <td>673</td>\n",
              "      <td>460</td>\n",
              "      <td>465</td>\n",
              "      <td>Loaded_Language</td>\n",
              "      <td>2</td>\n",
              "    </tr>\n",
              "    <tr>\n",
              "      <th>2</th>\n",
              "      <td>2</td>\n",
              "      <td>111111133</td>\n",
              "      <td>But while it yielded to Mr. Acosta — whose tes...</td>\n",
              "      <td>417</td>\n",
              "      <td>673</td>\n",
              "      <td>504</td>\n",
              "      <td>507</td>\n",
              "      <td>Loaded_Language</td>\n",
              "      <td>2</td>\n",
              "    </tr>\n",
              "    <tr>\n",
              "      <th>3</th>\n",
              "      <td>3</td>\n",
              "      <td>111111133</td>\n",
              "      <td>The White House sought to blame Mr. Acosta for...</td>\n",
              "      <td>967</td>\n",
              "      <td>1167</td>\n",
              "      <td>1070</td>\n",
              "      <td>1077</td>\n",
              "      <td>Loaded_Language</td>\n",
              "      <td>2</td>\n",
              "    </tr>\n",
              "    <tr>\n",
              "      <th>4</th>\n",
              "      <td>4</td>\n",
              "      <td>111111133</td>\n",
              "      <td>Codifying the behavior of journalists struck s...</td>\n",
              "      <td>1168</td>\n",
              "      <td>1391</td>\n",
              "      <td>1224</td>\n",
              "      <td>1244</td>\n",
              "      <td>Loaded_Language</td>\n",
              "      <td>2</td>\n",
              "    </tr>\n",
              "  </tbody>\n",
              "</table>\n",
              "</div>"
            ],
            "text/plain": [
              "   index         id  ...             prop  label\n",
              "0      0  111111133  ...  Loaded_Language      2\n",
              "1      1  111111133  ...  Loaded_Language      2\n",
              "2      2  111111133  ...  Loaded_Language      2\n",
              "3      3  111111133  ...  Loaded_Language      2\n",
              "4      4  111111133  ...  Loaded_Language      2\n",
              "\n",
              "[5 rows x 9 columns]"
            ]
          },
          "metadata": {
            "tags": []
          },
          "execution_count": 23
        }
      ]
    },
    {
      "cell_type": "markdown",
      "metadata": {
        "id": "q7cXsbW4Xwgg"
      },
      "source": [
        "####For the purpose of sequence tagging a subset dataframe is formed from those sentences which hold a propaganda technique"
      ]
    },
    {
      "cell_type": "code",
      "metadata": {
        "id": "BF6lRdI7EMuB"
      },
      "source": [
        "%matplotlib notebook\n",
        "%matplotlib inline"
      ],
      "execution_count": 24,
      "outputs": []
    },
    {
      "cell_type": "code",
      "metadata": {
        "id": "3nSjTQY4Ofep",
        "colab": {
          "base_uri": "https://localhost:8080/",
          "height": 644
        },
        "outputId": "c9754bb1-bb66-48ec-b9b2-093dcd50c255"
      },
      "source": [
        "\n",
        "import seaborn as sns\n",
        "import matplotlib.pyplot as plt\n",
        "\n",
        "plt.subplots(figsize=(7,6), dpi=100)\n",
        "sns.distplot( df['sentence_length'] , color=\"dodgerblue\", label=\"sentence_length\")\n",
        "#sns.distplot( df.loc[df.species=='virginica', \"sepal_length\"] , color=\"orange\", label=\"virginica\")\n",
        "#sns.distplot( df.loc[df.species=='versicolor', \"sepal_length\"] , color=\"deeppink\", label=\"versicolor\")\n",
        "sns.distplot( df['prop_length'] , color=\"deeppink\",  label=\"propaganda_length\")\n",
        "\n",
        "plt.gca().set(title='Length of strings', xlabel='Length_of_string')\n",
        "\n",
        "#plt.title('Length of strings', xlabel='length')\n",
        "plt.legend();\n",
        "plt.show();      \n",
        "        "
      ],
      "execution_count": 29,
      "outputs": [
        {
          "output_type": "stream",
          "text": [
            "/usr/local/lib/python3.6/dist-packages/seaborn/distributions.py:2551: FutureWarning: `distplot` is a deprecated function and will be removed in a future version. Please adapt your code to use either `displot` (a figure-level function with similar flexibility) or `histplot` (an axes-level function for histograms).\n",
            "  warnings.warn(msg, FutureWarning)\n",
            "/usr/local/lib/python3.6/dist-packages/seaborn/distributions.py:2551: FutureWarning: `distplot` is a deprecated function and will be removed in a future version. Please adapt your code to use either `displot` (a figure-level function with similar flexibility) or `histplot` (an axes-level function for histograms).\n",
            "  warnings.warn(msg, FutureWarning)\n"
          ],
          "name": "stderr"
        },
        {
          "output_type": "display_data",
          "data": {
            "image/png": "[encoded data removed]",
            "text/plain": [
              "<Figure size 700x600 with 1 Axes>"
            ]
          },
          "metadata": {
            "tags": [],
            "needs_background": "light"
          }
        }
      ]
    },
    {
      "cell_type": "code",
      "metadata": {
        "id": "pwtxljzNPjVm",
        "colab": {
          "base_uri": "https://localhost:8080/",
          "height": 295
        },
        "outputId": "fa0d471d-7d51-454b-8d1d-a697a3b2c8b2"
      },
      "source": [
        "\n",
        "plt.hist(df['sentence_length'], color=\"dodgerblue\", label=\"sentence_length\")\n",
        "plt.gca().set(title='Length of sentences', xlabel='Length', ylabel='Frequency')\n",
        "\n",
        "#plt.title('Length of sentences')\n",
        "plt.show()"
      ],
      "execution_count": 31,
      "outputs": [
        {
          "output_type": "display_data",
          "data": {
            "image/png": "[encoded data removed]",
            "text/plain": [
              "<Figure size 432x288 with 1 Axes>"
            ]
          },
          "metadata": {
            "tags": [],
            "needs_background": "light"
          }
        }
      ]
    },
    {
      "cell_type": "code",
      "metadata": {
        "id": "m2HQQ593P92w",
        "colab": {
          "base_uri": "https://localhost:8080/",
          "height": 295
        },
        "outputId": "78922a8a-a137-48d6-ef59-443f185d739e"
      },
      "source": [
        "\n",
        "plt.hist(df['prop_length'], color=\"deeppink\")\n",
        "plt.gca().set(title='Length of propaganda', xlabel='Length', ylabel='Frequency')\n",
        "#plt.title('Length of propaganda')\n",
        "plt.show()\n"
      ],
      "execution_count": null,
      "outputs": [
        {
          "output_type": "display_data",
          "data": {
            "image/png": "[encoded data removed]",
            "text/plain": [
              "<Figure size 432x288 with 1 Axes>"
            ]
          },
          "metadata": {
            "tags": [],
            "needs_background": "light"
          }
        }
      ]
    },
    {
      "cell_type": "code",
      "metadata": {
        "colab": {
          "base_uri": "https://localhost:8080/",
          "height": 295
        },
        "id": "Yk8mbiybgH8W",
        "outputId": "970ee0eb-5abd-4fc9-bf2c-5d9ba76c63c9"
      },
      "source": [
        "\n",
        "plt.hist(df['sentence_length'], color=\"dodgerblue\", label=\"sentence_length\",alpha=0.7)\n",
        "\n",
        "plt.hist(df['prop_length'], color=\"deeppink\", alpha=0.3)\n",
        "plt.legend()\n",
        "\n",
        "plt.gca().set(title='Length of sentences vs. propaganda spans', xlabel=' String length', ylabel='Frequency')\n",
        "#plt.title('Length of sentences vs. propaganda spans')\n",
        "plt.show()"
      ],
      "execution_count": 58,
      "outputs": [
        {
          "output_type": "display_data",
          "data": {
            "image/png": "[encoded data removed]",
            "text/plain": [
              "<Figure size 432x288 with 1 Axes>"
            ]
          },
          "metadata": {
            "tags": [],
            "needs_background": "light"
          }
        }
      ]
    },
    {
      "cell_type": "code",
      "metadata": {
        "id": "iqOeDSEETalc",
        "colab": {
          "base_uri": "https://localhost:8080/"
        },
        "outputId": "3bb1fe3a-f561-4c13-972d-29747134de66"
      },
      "source": [
        "from prettytable import PrettyTable\n",
        "table = PrettyTable()\n",
        "table.field_names = ['Attributes', 'Measures [string length]']\n",
        "table.add_row(['Max of sentence length', df['sentence_length'].max()])\n",
        "table.add_row(['Min of sentence length', df['sentence_length'].min()])\n",
        "table.add_row(['Mean of sentence length', df['sentence_length'].mean()])\n",
        "table.add_row([' ', ' '])\n",
        "table.add_row(['Max of propaganda length', df['prop_length'].max()])\n",
        "table.add_row(['Min of propaganda length', df['prop_length'].min()])\n",
        "table.add_row(['Mean of propaganda length', df['prop_length'].mean()])\n",
        "\n",
        "print(table)"
      ],
      "execution_count": null,
      "outputs": [
        {
          "output_type": "stream",
          "text": [
            "+---------------------------+--------------------------+\n",
            "|         Attributes        | Measures [string length] |\n",
            "+---------------------------+--------------------------+\n",
            "|   Max of sentence length  |           817            |\n",
            "|   Min of sentence length  |            1             |\n",
            "|  Mean of sentence length  |    131.66404266124937    |\n",
            "|                           |                          |\n",
            "|  Max of propaganda length |           430            |\n",
            "|  Min of propaganda length |            0             |\n",
            "| Mean of propaganda length |    15.778821736922296    |\n",
            "+---------------------------+--------------------------+\n"
          ],
          "name": "stdout"
        }
      ]
    },
    {
      "cell_type": "markdown",
      "metadata": {
        "id": "yXNZob-U9lBS"
      },
      "source": [
        "###Preprocessing: tokenizing, cleaning and nemricalizing."
      ]
    },
    {
      "cell_type": "code",
      "metadata": {
        "id": "R7IF55GX8bUj",
        "colab": {
          "base_uri": "https://localhost:8080/",
          "height": 70
        },
        "outputId": "c1d6b917-d25c-4706-8080-fcb1d8fbe6d6"
      },
      "source": [
        "    \n",
        "import re \n",
        "\"\"\"\n",
        "def clean(test):\n",
        "    \n",
        "     return re.sub(r'''\n",
        "               [0123456789,.;“”*:-`/\"%@#–?!~|&_$()]+  # Accept one or more copies of punctuation\n",
        "               \\ *           # plus zero or more copies of a space,\n",
        "               ''',\n",
        "               ' ',          # and replace it with a single space\n",
        "               test, flags=re.VERBOSE).replace('[',' ').replace(']',' ').replace('“', ' ').replace('-', ' ').replace(\"'\", ' ') \n",
        "\n",
        "       \"\"\"    \n",
        "            "
      ],
      "execution_count": null,
      "outputs": [
        {
          "output_type": "execute_result",
          "data": {
            "application/vnd.google.colaboratory.intrinsic+json": {
              "type": "string"
            },
            "text/plain": [
              "'\\ndef clean(test):\\n\\n return re.sub(r\\'\\'\\'\\n           [0123456789,.;“”*:-`/\"%@#–?!~|&_$()]+  # Accept one or more copies of punctuation\\n           \\\\ *           # plus zero or more copies of a space,\\n           \\'\\'\\',\\n           \\' \\',          # and replace it with a single space\\n           test, flags=re.VERBOSE).replace(\\'[\\',\\' \\').replace(\\']\\',\\' \\').replace(\\'“\\', \\' \\').replace(\\'-\\', \\' \\').replace(\"\\'\", \\' \\') \\n\\n   '"
            ]
          },
          "metadata": {
            "tags": []
          },
          "execution_count": 26
        }
      ]
    },
    {
      "cell_type": "code",
      "metadata": {
        "id": "zGleduV0oqSJ"
      },
      "source": [
        "def clean(test_str):\n",
        "  # initializing punctuations string  \n",
        "  punc = '''!()-[]{};:`“”'\"\\|,+=<>./?@#$%^&*_~'''\n",
        "  \n",
        "# Removing punctuations in string \n",
        "# Using loop + punctuation string \n",
        "  for ele in test_str:  \n",
        "    if ele in punc:  \n",
        "        test_str = test_str.replace(ele, \" \")  \n",
        "\n",
        "  return test_str"
      ],
      "execution_count": null,
      "outputs": []
    },
    {
      "cell_type": "code",
      "metadata": {
        "id": "wMB6YshSBj3B"
      },
      "source": [
        "#example of cleaning text\n",
        "a=\"this']'=,“i`|-+s? 100%notw“orking 'I am .tired!` )([])]I*/+:;-like_fruit...and milk'\""
      ],
      "execution_count": null,
      "outputs": []
    },
    {
      "cell_type": "code",
      "metadata": {
        "colab": {
          "base_uri": "https://localhost:8080/"
        },
        "id": "DbQMT0ToBn1l",
        "outputId": "15fe0b44-efc4-48e8-c920-0cf46ee9c106"
      },
      "source": [
        "#we apply clean function\n",
        "b=clean(a)\n",
        "print(b)"
      ],
      "execution_count": null,
      "outputs": [
        {
          "output_type": "stream",
          "text": [
            "this      i    s  100 notw orking  I am  tired         I      like fruit   and milk \n"
          ],
          "name": "stdout"
        }
      ]
    },
    {
      "cell_type": "markdown",
      "metadata": {
        "id": "lFdoyAo9beaL"
      },
      "source": [
        "###In this part a function for tagging is defined such that  words that are  parts of the string of a certain propaganda technique  are tagged as that technique and the rest of words in that sentence are tagged as none. "
      ]
    },
    {
      "cell_type": "code",
      "metadata": {
        "id": "emaHXW5c8Mv3"
      },
      "source": [
        "def label_a_sequence(only_prop_df):  \n",
        "  all_tagged=[]\n",
        "  \"\"\"Pad token is 12121\"\"\"\n",
        "\n",
        "  for i in range (0, len(only_prop_df)):\n",
        "      #number of training example in one tsv file-length of each tsv dataframe\n",
        "      #length= list_data[i].shape[0]\n",
        "      #temp= nltk.sent_tokenize(s1[i])\n",
        "          \n",
        "      sentstart= only_prop_df.iloc[i][3]\n",
        "      sentend= only_prop_df.iloc[i][4]\n",
        "      propstart= only_prop_df.iloc[i][5]\n",
        "      propend= only_prop_df.iloc[i][6]\n",
        "      #label\n",
        "      propclass=only_prop_df.iloc[i][8]\n",
        "      count=0\n",
        "      if propstart !=sentstart:\n",
        "          #begin=df.iloc[i][4]\n",
        "          #end=df.iloc[i][5]\n",
        "          if propend !=sentend:\n",
        "              begin= propstart-sentstart\n",
        "              #proplength=propend_propstart   this is the length of the propaganda token\n",
        "              end=propend-propstart+begin\n",
        "              #beginstring.append(only_prop_df.iloc[i][2][:begin])\n",
        "              length1=len(clean(only_prop_df.iloc[i][2][:begin]).split())\n",
        "              begintag=[0]*length1\n",
        "              \n",
        "              #this is the substring that should be tagged\n",
        "              length2=len(clean(only_prop_df.iloc[i][2][begin:end]).split())\n",
        "              #midstring.append(clean(only_prop_df.iloc[i][2][begin:end]).split()\n",
        "              midtag=[propclass]*length2\n",
        "\n",
        "              \n",
        "              length3=len(clean(only_prop_df.iloc[i][2][end:]).split())\n",
        "              endtag=[0]*length3\n",
        "              \n",
        "              all_tagged.append(begintag+midtag+endtag)\n",
        "                    \n",
        "          else:\n",
        "              \n",
        "              begin= propstart-sentstart\n",
        "              #proplength=propend_propstart   this is the length of the propaganda token\n",
        "              #end=propend-propstart+begin\n",
        "              length1=len(clean(only_prop_df.iloc[i][2][:begin]).split())\n",
        "              begintag=[0]*length1\n",
        "              # this is what should be tagged\n",
        "              midstring=[]  \n",
        "              length2=len(clean(only_prop_df.iloc[i][2][begin:]).split())\n",
        "              midtag=[propclass]*length2\n",
        "              \n",
        "              all_tagged.append(begintag+midtag)\n",
        "\n",
        "              \n",
        "      else:\n",
        "          \n",
        "          if  propend !=sentend:\n",
        "              \n",
        "                      \n",
        "              #begin= propstart-sentstart\n",
        "              begin=0\n",
        "              #proplength=propend_propstart   this is the length of the propaganda token\n",
        "              end=propend-propstart\n",
        "              #this is the substring that should be tagged\n",
        "              length1=len(clean(only_prop_df.iloc[i][2][:end]).split())\n",
        "              begintag=[propclass]*length1\n",
        "              \n",
        "              length2=len(clean(only_prop_df.iloc[i][2][end:]).split())\n",
        "              endtag=[0]*length2\n",
        "              all_tagged.append(begintag+endtag)\n",
        "\n",
        "          else:  \n",
        "                        \n",
        "              length= len(clean(only_prop_df.iloc[i][2]).split())\n",
        "              tag=[propclass]*length\n",
        "              all_tagged.append(tag)\n",
        "  return all_tagged\n",
        "\n",
        "\n",
        "          "
      ],
      "execution_count": null,
      "outputs": []
    },
    {
      "cell_type": "code",
      "metadata": {
        "id": "xWf4k5iZ2Zzc"
      },
      "source": [
        "#we tag all sentences in train set\n",
        "all_tagged=label_a_sequence(df)"
      ],
      "execution_count": null,
      "outputs": []
    },
    {
      "cell_type": "code",
      "metadata": {
        "id": "hHrblMQA8jIz",
        "colab": {
          "base_uri": "https://localhost:8080/"
        },
        "outputId": "8995eebb-a5a4-4c62-f9ca-c7a985e91de6"
      },
      "source": [
        "print(\"The first  sentence is: \", df.iloc[0][\"full_sent\"])\n",
        "print(\"The first  sentence propaganda is: \", df.iloc[0][\"prop\"])\n",
        "print(\"The first tagged sentence is: \", all_tagged[0])\n",
        "print(\"The size of all taged sentences from training set is:\", len(all_tagged))\n",
        "assert len(all_tagged)==(len(df))"
      ],
      "execution_count": null,
      "outputs": [
        {
          "output_type": "stream",
          "text": [
            "The first  sentence is:  “They interpreted the law in my case to say it was criminal,” Saucier told Fox News, referring to prosecuting authorities in his case, “but they didn’t prosecute Hillary Clinton.\n",
            "The first  sentence propaganda is:  Whataboutism\n",
            "The first tagged sentence is:  [0, 0, 0, 0, 0, 0, 0, 0, 0, 0, 0, 0, 0, 0, 0, 0, 0, 0, 0, 0, 0, 0, 0, 7, 7, 7, 7, 7, 7]\n",
            "The size of all taged sentences from training set is: 15752\n"
          ],
          "name": "stdout"
        }
      ]
    },
    {
      "cell_type": "code",
      "metadata": {
        "id": "Bb7-pZZR9Xr_"
      },
      "source": [
        "#we tag all sentences in the test set\n",
        "#repeat the same process for test set\n",
        "all_tagged_test=label_a_sequence(df_test)\n"
      ],
      "execution_count": null,
      "outputs": []
    },
    {
      "cell_type": "markdown",
      "metadata": {
        "id": "uBeXwStxcLaK"
      },
      "source": [
        "###The tag_map corresponds to one of the possible tags a word can have. The cell below highlights the  classes that will be predicting. "
      ]
    },
    {
      "cell_type": "code",
      "metadata": {
        "id": "WB0oi01f86L-",
        "colab": {
          "base_uri": "https://localhost:8080/"
        },
        "outputId": "e573ce64-f3f6-42f4-d45e-fdbf2e3079f1"
      },
      "source": [
        "tag_map= {'0': 0, 'Black-and-White_Fallacy': 1, 'Loaded_Language': 2, 'Flag-Waving': 3,\n",
        "  'Name_Calling,Labeling': 4, 'Slogans': 5, 'Causal_Oversimplification': 6, 'Whataboutism': 7, 'Exaggeration,Minimisation': 8,\n",
        "  'Doubt': 9, 'Appeal_to_Authority': 10, 'Repetition': 11, 'Appeal_to_fear-prejudice': 12, 'Thought-terminating_Cliches': 13,\n",
        "  'Bandwagon': 14, 'Red_Herring': 15, 'Reductio_ad_hitlerum': 16, 'Obfuscation,Intentional_Vagueness,Confusion': 17, 'Straw_Men': 18}\n",
        " \n",
        " \n",
        "full_sent= df['full_sent'].tolist()\n",
        "full_sent_test= df_test['full_sent'].tolist()\n",
        "\n",
        "print(\"tag_map is: \", tag_map)\n",
        " "
      ],
      "execution_count": null,
      "outputs": [
        {
          "output_type": "stream",
          "text": [
            "tag_map is:  {'0': 0, 'Black-and-White_Fallacy': 1, 'Loaded_Language': 2, 'Flag-Waving': 3, 'Name_Calling,Labeling': 4, 'Slogans': 5, 'Causal_Oversimplification': 6, 'Whataboutism': 7, 'Exaggeration,Minimisation': 8, 'Doubt': 9, 'Appeal_to_Authority': 10, 'Repetition': 11, 'Appeal_to_fear-prejudice': 12, 'Thought-terminating_Cliches': 13, 'Bandwagon': 14, 'Red_Herring': 15, 'Reductio_ad_hitlerum': 16, 'Obfuscation,Intentional_Vagueness,Confusion': 17, 'Straw_Men': 18}\n"
          ],
          "name": "stdout"
        }
      ]
    },
    {
      "cell_type": "code",
      "metadata": {
        "id": "awG4JEp_9Fkt"
      },
      "source": [
        "from string import punctuation\n"
      ],
      "execution_count": null,
      "outputs": []
    },
    {
      "cell_type": "markdown",
      "metadata": {
        "id": "ilU8hgtbcm9h"
      },
      "source": [
        "###Vocab_to_int is a dictionary that translates a word string to a unique number. Given a sentence,then it is possible to  represent it as an array of numbers translating with this dictionary."
      ]
    },
    {
      "cell_type": "markdown",
      "metadata": {
        "id": "22SknMsvfR-g"
      },
      "source": [
        "###We will create an index mapping dictionary in such a way that the frequently occurring words are assigned lower indexes.  Counter method from Collections library is used for this purpose. \n"
      ]
    },
    {
      "cell_type": "code",
      "metadata": {
        "id": "1emcnNW498YI"
      },
      "source": [
        "#we build up the vocabulary from texts of both train and test set\n",
        "full_sent_test_and_train=full_sent+full_sent_test"
      ],
      "execution_count": null,
      "outputs": []
    },
    {
      "cell_type": "code",
      "metadata": {
        "colab": {
          "base_uri": "https://localhost:8080/"
        },
        "id": "5KVfUAoK-jbs",
        "outputId": "a77962c9-4651-470b-97b6-6e59f2c014e7"
      },
      "source": [
        "for i in range(0,len(full_sent_test_and_train)):\n",
        "    \n",
        "    \n",
        "    full_sent_test_and_train[i]=full_sent_test_and_train[i].lower()\n",
        "    full_sent_test_and_train[i]=clean(full_sent_test_and_train[i])\n",
        "    \n",
        "    \n",
        "    \n",
        "#with space\n",
        "all_text2 = ' '.join([c for c in full_sent_test_and_train if c not in punctuation])\n",
        "#without space\n",
        "all_text2 = ''.join([c for c in all_text2 if c not in punctuation])    \n",
        " \n",
        "all_text2 = all_text2.split('\\n')\n",
        "all_text2 = ' '.join(all_text2)\n",
        "words2=all_text2.split()\n",
        "from collections import Counter\n",
        "\n",
        "counts = Counter(words2)\n",
        "vocab = sorted(counts, key=counts.get, reverse=True)\n",
        "\n",
        "#print(vocab)\n",
        "vocab_to_int = {word2: ii for ii, word2 in enumerate(vocab, 1)}\n",
        "#print(vocab_to_int)\n",
        "print('vocab[\"at\"]:', vocab_to_int[\"at\"])\n"
      ],
      "execution_count": null,
      "outputs": [
        {
          "output_type": "stream",
          "text": [
            "vocab[\"at\"]: 24\n"
          ],
          "name": "stdout"
        }
      ]
    },
    {
      "cell_type": "code",
      "metadata": {
        "id": "Tysz41GjItR1"
      },
      "source": [
        "#(full_sent_test_and_train[1800]"
      ],
      "execution_count": null,
      "outputs": []
    },
    {
      "cell_type": "code",
      "metadata": {
        "id": "GYBaQ7sB4hoQ"
      },
      "source": [
        "#later when testing on a new data set some words might be unique and not exist in our already set dictionary\n",
        "vocab_to_int['UNK']=1220022"
      ],
      "execution_count": null,
      "outputs": []
    },
    {
      "cell_type": "markdown",
      "metadata": {
        "id": "d_wsGc6tHJ8N"
      },
      "source": [
        "###Next we numericalize each sentence in the training set"
      ]
    },
    {
      "cell_type": "code",
      "metadata": {
        "id": "yMto9hDwl-u5"
      },
      "source": [
        "full_sent=full_sent_test_and_train[:15752]\n"
      ],
      "execution_count": null,
      "outputs": []
    },
    {
      "cell_type": "code",
      "metadata": {
        "id": "UfEpXWWLB8cY"
      },
      "source": [
        "full_sent_split=[]\n",
        "for i in range(0, len(df)):\n",
        "    full_sent_split.append(full_sent[i].split())\n",
        "    \n",
        "full_sent_ints = [] \n",
        "\n",
        "for i in range(len(df)):     \n",
        "    full_sent_ints.append([vocab_to_int[word] for word in full_sent_split[i]])\n",
        "    "
      ],
      "execution_count": null,
      "outputs": []
    },
    {
      "cell_type": "code",
      "metadata": {
        "id": "-4llwyzZHS8u",
        "colab": {
          "base_uri": "https://localhost:8080/"
        },
        "outputId": "887a3546-b368-496e-d46b-39e93b4dd78a"
      },
      "source": [
        "print(\"The first numericalized sentence in the train set is: \", full_sent_ints[0])\n",
        "print(\"Its tag is: \", all_tagged[0])\n",
        "assert (len (all_tagged) == len (full_sent_ints))\n",
        "assert (len (all_tagged[0]) == len (full_sent_ints[0]))\n",
        "\n"
      ],
      "execution_count": null,
      "outputs": [
        {
          "output_type": "stream",
          "text": [
            "The first numericalized sentence in the train set is:  [27, 5428, 1, 129, 6, 90, 130, 2, 142, 11, 12, 358, 971, 102, 537, 115, 2803, 2, 3771, 288, 6, 20, 130, 30, 27, 427, 2477, 377, 158]\n",
            "Its tag is:  [0, 0, 0, 0, 0, 0, 0, 0, 0, 0, 0, 0, 0, 0, 0, 0, 0, 0, 0, 0, 0, 0, 0, 7, 7, 7, 7, 7, 7]\n"
          ],
          "name": "stdout"
        }
      ]
    },
    {
      "cell_type": "code",
      "metadata": {
        "id": "RT_Go6hZzgth"
      },
      "source": [
        "#We apply the same procedure for test set\n",
        "full_sent_test=full_sent_test_and_train[15752:]\n",
        "full_sent_split_test=[]\n",
        "for i in range(0, len(df_test)):\n",
        "    full_sent_split_test.append(full_sent_test[i].split())\n",
        "    \n",
        "full_sent_ints_test = [] \n",
        "\n",
        "for i in range(len(df_test)):     \n",
        "    full_sent_ints_test.append([vocab_to_int[word] for word in full_sent_split_test[i]])"
      ],
      "execution_count": null,
      "outputs": []
    },
    {
      "cell_type": "code",
      "metadata": {
        "colab": {
          "base_uri": "https://localhost:8080/"
        },
        "id": "0FodxvUAz99B",
        "outputId": "5376e6a4-9af1-476b-9df8-860794fde477"
      },
      "source": [
        "print(\"The first numericalized sentence in the test set is: \", full_sent_ints_test[0])\n",
        "print(\"Its tag is: \", all_tagged_test[0])\n",
        "assert (len (all_tagged_test) == len (full_sent_ints_test))\n",
        "assert (len (all_tagged_test[0]) == len (full_sent_ints_test[0]))"
      ],
      "execution_count": null,
      "outputs": [
        {
          "output_type": "stream",
          "text": [
            "The first numericalized sentence in the test set is:  [408, 6, 1061, 3688, 73, 758, 10, 1, 366, 42, 39, 19475, 86, 5, 2788, 3, 170, 8636, 6, 1, 38, 1271]\n",
            "Its tag is:  [0, 0, 0, 0, 0, 0, 0, 0, 0, 0, 0, 2, 0, 0, 0, 0, 0, 0, 0, 0, 0, 0]\n"
          ],
          "name": "stdout"
        }
      ]
    },
    {
      "cell_type": "markdown",
      "metadata": {
        "id": "65PJI4ADJ8kv"
      },
      "source": [
        "####Now that the sentences are cleaned, tokenized and numericalized it is possible to count average number of words and add this to the intuition about exploratory data analysis of the training set."
      ]
    },
    {
      "cell_type": "code",
      "metadata": {
        "id": "72Wg0hJVNvr0"
      },
      "source": [
        "#SENTENCE VS. SEQUENCE\n",
        "\"\"\" We find length of each inner list which correspnds to number of words in each sentence \"\"\"\n",
        "length_of_sentences=[]\n",
        "for i in range (len (full_sent_ints)):\n",
        "  length_of_sentences.append(len(full_sent_ints[i]))\n",
        "\n",
        "\"\"\" We find length of each inner list which correspnds to number of words in each SEQUENCE \"\"\"\n",
        "length_of_sequence=[]\n",
        "for i in range (len (all_tagged)):\n",
        "  length_of_sequence.append(len(all_tagged[i])-all_tagged[i].count(0))"
      ],
      "execution_count": null,
      "outputs": []
    },
    {
      "cell_type": "code",
      "metadata": {
        "id": "dA3ztIJ_KJ-r",
        "colab": {
          "base_uri": "https://localhost:8080/"
        },
        "outputId": "0c7ceca1-68fc-4738-b401-23b897f1909d"
      },
      "source": [
        "from prettytable import PrettyTable\n",
        "from statistics import mean \n",
        "\n",
        "table = PrettyTable()\n",
        "table.field_names = ['Attributes', 'Measures [ Word Count]']\n",
        "table.add_row(['Max number of words in a sentence', max(length_of_sentences)])\n",
        "table.add_row(['Min number of words in a sentence', min(length_of_sentences)])\n",
        "table.add_row(['Average number of words in a sentence', mean(length_of_sentences)])\n",
        "table.add_row([' ', ' '])\n",
        "table.add_row(['Max number of words in a propaganda sequence', max(length_of_sequence)])\n",
        "table.add_row(['Min number of words in a propaganda sequence', min(length_of_sequence)])\n",
        "table.add_row(['Average number of words in propaganda sequence', mean(length_of_sequence)])\n",
        "\n",
        "print(table)"
      ],
      "execution_count": null,
      "outputs": [
        {
          "output_type": "stream",
          "text": [
            "+------------------------------------------------+------------------------+\n",
            "|                   Attributes                   | Measures [ Word Count] |\n",
            "+------------------------------------------------+------------------------+\n",
            "|       Max number of words in a sentence        |          129           |\n",
            "|       Min number of words in a sentence        |           0            |\n",
            "|     Average number of words in a sentence      |   22.248031995937023   |\n",
            "|                                                |                        |\n",
            "|  Max number of words in a propaganda sequence  |           81           |\n",
            "|  Min number of words in a propaganda sequence  |           0            |\n",
            "| Average number of words in propaganda sequence |   2.643854748603352    |\n",
            "+------------------------------------------------+------------------------+\n"
          ],
          "name": "stdout"
        }
      ]
    },
    {
      "cell_type": "code",
      "metadata": {
        "id": "lCQ2jx-2YYEs",
        "colab": {
          "base_uri": "https://localhost:8080/",
          "height": 644
        },
        "outputId": "15527de0-feec-4b01-d418-c43132476d53"
      },
      "source": [
        "import seaborn as sns\n",
        "import matplotlib.pyplot as plt\n",
        "\n",
        "plt.subplots(figsize=(7,6), dpi=100)\n",
        "sns.distplot( length_of_sentences , color=\"dodgerblue\", label=\"sentence_length\")\n",
        "#sns.distplot( df.loc[df.species=='virginica', \"sepal_length\"] , color=\"orange\", label=\"virginica\")\n",
        "#sns.distplot( df.loc[df.species=='versicolor', \"sepal_length\"] , color=\"deeppink\", label=\"versicolor\")\n",
        "sns.distplot( length_of_sequence , color=\"deeppink\",  label=\"propaganda_length\")\n",
        "\n",
        "#plt.title('Number of words')\n",
        "plt.gca().set(title='Number of words', xlabel='Word_count')\n",
        "\n",
        "plt.legend();\n",
        "plt.show();      \n",
        "        "
      ],
      "execution_count": null,
      "outputs": [
        {
          "output_type": "stream",
          "text": [
            "/usr/local/lib/python3.6/dist-packages/seaborn/distributions.py:2551: FutureWarning: `distplot` is a deprecated function and will be removed in a future version. Please adapt your code to use either `displot` (a figure-level function with similar flexibility) or `histplot` (an axes-level function for histograms).\n",
            "  warnings.warn(msg, FutureWarning)\n",
            "/usr/local/lib/python3.6/dist-packages/seaborn/distributions.py:2551: FutureWarning: `distplot` is a deprecated function and will be removed in a future version. Please adapt your code to use either `displot` (a figure-level function with similar flexibility) or `histplot` (an axes-level function for histograms).\n",
            "  warnings.warn(msg, FutureWarning)\n"
          ],
          "name": "stderr"
        },
        {
          "output_type": "display_data",
          "data": {
            "image/png": "[encoded data removed]",
            "text/plain": [
              "<Figure size 700x600 with 1 Axes>"
            ]
          },
          "metadata": {
            "tags": [],
            "needs_background": "light"
          }
        }
      ]
    },
    {
      "cell_type": "code",
      "metadata": {
        "id": "uCbnVjUtY8bu",
        "colab": {
          "base_uri": "https://localhost:8080/",
          "height": 296
        },
        "outputId": "a3542e18-33ca-4916-f29f-7e780eace51a"
      },
      "source": [
        "import matplotlib.pyplot as plt\n",
        "plt.hist(length_of_sentences, color=\"dodgerblue\")\n",
        "#plt.title('Word count in sentences')\n",
        "plt.gca().set(title='Word count in sentences', xlabel='Word_count', ylabel='Frequency')\n",
        "\n",
        "plt.show()"
      ],
      "execution_count": null,
      "outputs": [
        {
          "output_type": "display_data",
          "data": {
            "image/png": "[encoded data removed]",
            "text/plain": [
              "<Figure size 432x288 with 1 Axes>"
            ]
          },
          "metadata": {
            "tags": [],
            "needs_background": "light"
          }
        }
      ]
    },
    {
      "cell_type": "code",
      "metadata": {
        "id": "9_Ym_YAyZZEK",
        "colab": {
          "base_uri": "https://localhost:8080/",
          "height": 296
        },
        "outputId": "67876706-315c-4777-d249-d6113c67419c"
      },
      "source": [
        "import matplotlib.pyplot as plt\n",
        "plt.hist(length_of_sequence, color=\"deeppink\")\n",
        "#plt.title('Word count in propaganda tokens')\n",
        "plt.gca().set(title='Word count in propaganda tokens', xlabel='Word_count', ylabel='Frequency')\n",
        "\n",
        "plt.show()"
      ],
      "execution_count": null,
      "outputs": [
        {
          "output_type": "display_data",
          "data": {
            "image/png": "[encoded data removed]",
            "text/plain": [
              "<Figure size 432x288 with 1 Axes>"
            ]
          },
          "metadata": {
            "tags": [],
            "needs_background": "light"
          }
        }
      ]
    },
    {
      "cell_type": "markdown",
      "metadata": {
        "id": "5XZFLbTxDD8g"
      },
      "source": [
        "#### We now perform the same preprocess steps for test data set. "
      ]
    },
    {
      "cell_type": "code",
      "metadata": {
        "id": "RGoE_ciiLB1u",
        "colab": {
          "base_uri": "https://localhost:8080/",
          "height": 105
        },
        "outputId": "c1033909-b4ec-465a-d3e8-9be7f4c36acc"
      },
      "source": [
        "\"\"\"\n",
        "empty_test=[]\n",
        "for i in dataset_test:\n",
        "    \n",
        "    temp=DataFrame(i, columns=['id', 'full_sent', 'start_sent', 'end_sent', 'start_prop', 'end_prop','prop', 'ex1', 'ex2' ])\n",
        "    empty_test.append(temp)\n",
        "\n",
        "df_test=pd.concat(empty_test)  \n",
        "df_test= df_test.drop(['ex1'],axis =1).drop(['ex2'],axis =1)\n",
        "df_test.prop.value_counts()\n",
        "df_test=df_test.reset_index()\n",
        "#del df_test['index']\n",
        "\n",
        "df_test.head()\n",
        "\n",
        "df_test['label']=df_test.prop.replace(label_dict)\n",
        "df_test['binary']=10\n",
        "#df_test.at[1,'binary']=11\n",
        "\n",
        "for i in range (0, 4490):\n",
        "    if (df_test.iloc[i]['label']==0 ) :\n",
        "        \n",
        "        df_test.at[i, 'binary']= 0 \n",
        "    else:\n",
        "        #False\n",
        "        df_test.at[i, 'binary']= 1 \n",
        "#df_test.head(15)\"\"\""
      ],
      "execution_count": null,
      "outputs": [
        {
          "output_type": "execute_result",
          "data": {
            "application/vnd.google.colaboratory.intrinsic+json": {
              "type": "string"
            },
            "text/plain": [
              "\"\\nempty_test=[]\\nfor i in dataset_test:\\n    \\n    temp=DataFrame(i, columns=['id', 'full_sent', 'start_sent', 'end_sent', 'start_prop', 'end_prop','prop', 'ex1', 'ex2' ])\\n    empty_test.append(temp)\\n\\ndf_test=pd.concat(empty_test)  \\ndf_test= df_test.drop(['ex1'],axis =1).drop(['ex2'],axis =1)\\ndf_test.prop.value_counts()\\ndf_test=df_test.reset_index()\\n#del df_test['index']\\n\\ndf_test.head()\\n\\ndf_test['label']=df_test.prop.replace(label_dict)\\ndf_test['binary']=10\\n#df_test.at[1,'binary']=11\\n\\nfor i in range (0, 4490):\\n    if (df_test.iloc[i]['label']==0 ) :\\n        \\n        df_test.at[i, 'binary']= 0 \\n    else:\\n        #False\\n        df_test.at[i, 'binary']= 1 \\n#df_test.head(15)\""
            ]
          },
          "metadata": {
            "tags": []
          },
          "execution_count": 52
        }
      ]
    },
    {
      "cell_type": "code",
      "metadata": {
        "id": "SdEKKCShJHiL"
      },
      "source": [
        "vocab=vocab_to_int\n",
        "#we drive validation set as a small part of train set\n",
        "tag_map=tag_map\n",
        "#the first 12000 \n",
        "t_sentences=full_sent_ints[:12000]\n",
        "t_labels=all_tagged[:12000]\n",
        "t_size=len(t_labels)\n",
        "#from 12000 onwards\n",
        "v_sentences=full_sent_ints[12000:]\n",
        "v_labels=all_tagged[12000:]\n",
        "v_size=len(v_labels)\n",
        "\n",
        "\n",
        "#test set\n",
        "test_sentences=full_sent_ints_test\n",
        "test_labels=all_tagged_test\n",
        "test_size=len(test_labels)\n",
        "\n"
      ],
      "execution_count": null,
      "outputs": []
    },
    {
      "cell_type": "code",
      "metadata": {
        "id": "EFWlbplxXMD4",
        "colab": {
          "base_uri": "https://localhost:8080/"
        },
        "outputId": "7a239aa3-278b-4c68-f0f6-85be0c951128"
      },
      "source": [
        "print(\"the first sentence in train set is:\", t_sentences[1])\n",
        "print(\"its corresponding tagged label is: \", t_labels[1])\n",
        "print(\"size of train set is: \", t_size)"
      ],
      "execution_count": null,
      "outputs": [
        {
          "output_type": "stream",
          "text": [
            "the first sentence in train set is: [100, 3397, 10, 90, 4273, 96, 1, 159, 411, 4, 2133, 1572, 13, 1786]\n",
            "its corresponding tagged label is:  [0, 0, 0, 0, 0, 7, 7, 7, 7, 7, 7, 7, 7, 7]\n",
            "size of train set is:  12000\n"
          ],
          "name": "stdout"
        }
      ]
    },
    {
      "cell_type": "code",
      "metadata": {
        "id": "36xarsLOMlgw",
        "colab": {
          "base_uri": "https://localhost:8080/"
        },
        "outputId": "e2254deb-6f83-41a8-9eee-4ae944ada629"
      },
      "source": [
        "# Exploring information about the data\n",
        "print('The number of outputs in tag_map is: ', len(tag_map))\n",
        "# The number of vocabulary tokens (including <PAD>)\n",
        "g_vocab_size = len(vocab)\n",
        "print(f\"Num of vocabulary words: {g_vocab_size}\")\n",
        "print('The vocab size is:', len(vocab))\n",
        "print('The training size is: ', t_size)\n",
        "print('The validation size is: ', v_size)\n",
        "print('The test size is: ', test_size)\n",
        "\n",
        "print('An example of the first sentence is: ', t_sentences[0])\n",
        "print('An example of its corresponding label is: ', t_labels[0])"
      ],
      "execution_count": null,
      "outputs": [
        {
          "output_type": "stream",
          "text": [
            "The number of outputs in tag_map is:  19\n",
            "Num of vocabulary words: 20738\n",
            "The vocab size is: 20738\n",
            "The training size is:  12000\n",
            "The validation size is:  3752\n",
            "The test size is:  4490\n",
            "An example of the first sentence is:  [27, 5428, 1, 129, 6, 90, 130, 2, 142, 11, 12, 358, 971, 102, 537, 115, 2803, 2, 3771, 288, 6, 20, 130, 30, 27, 427, 2477, 377, 158]\n",
            "An example of its corresponding label is:  [0, 0, 0, 0, 0, 0, 0, 0, 0, 0, 0, 0, 0, 0, 0, 0, 0, 0, 0, 0, 0, 0, 0, 7, 7, 7, 7, 7, 7]\n"
          ],
          "name": "stdout"
        }
      ]
    },
    {
      "cell_type": "markdown",
      "metadata": {
        "id": "2yDLWh26BXKk"
      },
      "source": [
        "In python, a generator is a function that behaves like an iterator. It will return the next item. In many AI applications it is useful to have a data generator. Here is a link to read more about it https://wiki.python.org/moin/Generators.\n",
        "\n",
        "\n"
      ]
    },
    {
      "cell_type": "code",
      "metadata": {
        "id": "uuhonyDbIbkL"
      },
      "source": [
        "# data_generator behaves like an iterator; it will return the next item \n",
        "def data_generator(batch_size, x, y, pad, shuffle=False, verbose=False):\n",
        "    '''\n",
        "      Output:\n",
        "        a tuple containing 2 elements:\n",
        "        X - np.ndarray of dim (batch_size, max_len) of padded sentences\n",
        "        Y - np.ndarray of dim (batch_size, max_len) of tags associated with the sentences in X\n",
        "    '''\n",
        "    \n",
        "    # count the number of lines in data_lines\n",
        "    num_lines = len(x)\n",
        "    \n",
        "    # create an array with the indexes of data_lines that can be shuffled\n",
        "    lines_index = [*range(num_lines)]\n",
        "    \n",
        "    # shuffle the indexes if shuffle is set to True\n",
        "    if shuffle:\n",
        "        rnd.shuffle(lines_index)\n",
        "    \n",
        "    index = 0 # tracks current location in x, y\n",
        "    while True:\n",
        "        buffer_x = [0] * batch_size # Temporal array to store the raw x data for this batch\n",
        "        buffer_y = [0] * batch_size \n",
        "                \n",
        "        \n",
        "        \n",
        "        # Find maximum length of sentences in x[index : index + batch_size] for this batch. \n",
        "        max_len = 0\n",
        "        for i in range(batch_size):\n",
        "            if index >= num_lines:\n",
        "                index = 0\n",
        "                if shuffle:\n",
        "                    rnd.shuffle(lines_index)\n",
        "            \n",
        "            # The current position is obtained using `lines_index[index]`\n",
        "            buffer_x[i] = x[lines_index[index]]\n",
        "            \n",
        "            # Store the y value at the current position into the buffer_y\n",
        "            buffer_y[i] = y[lines_index[index]]\n",
        "            \n",
        "            lenx = len(x[lines_index[index]])     #length of current x[]\n",
        "            if lenx > max_len:\n",
        "                max_len = lenx                   #max_len tracks longest x[]\n",
        "            \n",
        "            # increment index by one\n",
        "            index += 1\n",
        "\n",
        "\n",
        "        # create X,Y, NumPy arrays of size (batch_size, max_len)\n",
        "        X = np.full((batch_size, max_len), pad)\n",
        "        Y = np.full((batch_size, max_len), pad)\n",
        "\n",
        "        # copy values from lists to NumPy arrays. \n",
        "        for i in range(batch_size):\n",
        "            # get the example (sentence as a tensor)\n",
        "            x_i = buffer_x[i]\n",
        "            \n",
        "            # similarly, get the example's labels\n",
        "            # in `buffer_y` at the `i` index\n",
        "            y_i = buffer_y[i]\n",
        "            \n",
        "            # Walk through each word in x_i\n",
        "            for j in range(len(x_i)):\n",
        "                # store the word in x_i at position j into X\n",
        "                X[i, j] = x_i[j]\n",
        "                \n",
        "                # store the label in y_i at position j into Y\n",
        "                Y[i, j] = y_i[j]\n",
        "\n",
        "        if verbose: print(\"index=\", index)\n",
        "        yield((X,Y))"
      ],
      "execution_count": null,
      "outputs": []
    },
    {
      "cell_type": "code",
      "metadata": {
        "id": "Z2SDsuy4Jeu9",
        "colab": {
          "base_uri": "https://localhost:8080/"
        },
        "outputId": "f061fd81-46bd-42cb-81da-6457917fcd40"
      },
      "source": [
        "batch_size = 5\n",
        "mini_sentences = t_sentences[0: 8]\n",
        "mini_labels = t_labels[0: 8]\n",
        "dg = data_generator(batch_size, mini_sentences, mini_labels, 18270, shuffle=False, verbose=True)\n",
        "X1, Y1 = next(dg)\n",
        "X2, Y2 = next(dg)\n",
        "print(Y1.shape, X1.shape, Y2.shape, X2.shape)\n",
        "print(X1[0][:], \"\\n\", Y1[0][:])"
      ],
      "execution_count": null,
      "outputs": [
        {
          "output_type": "stream",
          "text": [
            "index= 5\n",
            "index= 2\n",
            "(5, 29) (5, 29) (5, 32) (5, 32)\n",
            "[  27 5428    1  129    6   90  130    2  142   11   12  358  971  102\n",
            "  537  115 2803    2 3771  288    6   20  130   30   27  427 2477  377\n",
            "  158] \n",
            " [0 0 0 0 0 0 0 0 0 0 0 0 0 0 0 0 0 0 0 0 0 0 0 7 7 7 7 7 7]\n"
          ],
          "name": "stdout"
        }
      ]
    },
    {
      "cell_type": "code",
      "metadata": {
        "id": "MZb4dxnjN2VJ"
      },
      "source": [
        "\n",
        "def SeqLabelModel(vocab_size=18264, d_model=50, tags=tag_map):\n",
        "    '''\n",
        "      Input: \n",
        "        vocab_size - integer containing the size of the vocabulary\n",
        "        d_model - integer describing the embedding size\n",
        "      Output:\n",
        "        model - a serial model\n",
        "    '''\n",
        "    model = tl.Serial(\n",
        "        tl.Embedding(vocab_size, d_model), # Embedding layer\n",
        "     tl.LSTM(d_model), # LSTM layer\n",
        "      tl.Dense(len(tags)), # Dense layer with len(tags) units\n",
        "      tl.LogSoftmax()# LogSoftmax layer\n",
        "      )\n",
        "    return model"
      ],
      "execution_count": null,
      "outputs": []
    },
    {
      "cell_type": "code",
      "metadata": {
        "id": "8mtqivyzN3Ux",
        "colab": {
          "base_uri": "https://localhost:8080/"
        },
        "outputId": "e52516f9-3c13-4108-da05-ad1f5339e7f6"
      },
      "source": [
        "# initializing the model\n",
        "model = SeqLabelModel()\n",
        "# display the model\n",
        "print(model)"
      ],
      "execution_count": null,
      "outputs": [
        {
          "output_type": "stream",
          "text": [
            "Serial[\n",
            "  Embedding_18264_50\n",
            "  LSTM_50\n",
            "  Dense_19\n",
            "  LogSoftmax\n",
            "]\n"
          ],
          "name": "stdout"
        }
      ]
    },
    {
      "cell_type": "code",
      "metadata": {
        "id": "dI-u1zzJN7ft"
      },
      "source": [
        "from trax.supervised import training\n",
        "\n",
        "rnd.seed(33)\n",
        "\n",
        "batch_size = 64\n",
        "\n",
        "# Create training data, mask pad id=12121 for training\n",
        "train_generator = trax.supervised.inputs.add_loss_weights(\n",
        "    data_generator(batch_size, t_sentences, t_labels, 12121, True),\n",
        "    id_to_mask=12121)\n",
        "\n",
        "# Create validation data, mask pad id=12121 for training\n",
        "eval_generator = trax.supervised.inputs.add_loss_weights(\n",
        "    data_generator(batch_size, v_sentences, v_labels, 12121, True),\n",
        "    id_to_mask=12121)"
      ],
      "execution_count": null,
      "outputs": []
    },
    {
      "cell_type": "code",
      "metadata": {
        "id": "UqbRofSaOGFd"
      },
      "source": [
        "# train_model\n",
        "def train_model(SeqLabelModel, train_generator, eval_generator, train_steps=1, output_dir='model'):\n",
        "    '''\n",
        "    Input: \n",
        "        SeqLabelModel - the model you are building\n",
        "        train_generator - The data generator for training examples\n",
        "        eval_generator - The data generator for validation examples,\n",
        "        train_steps - number of training steps\n",
        "        output_dir - folder to save your model\n",
        "    Output:\n",
        "        training_loop - a trax supervised training Loop\n",
        "    '''\n",
        "    train_task = training.TrainTask(\n",
        "      train_generator, # A train data generator\n",
        "      loss_layer = tl.CrossEntropyLoss(), # A cross-entropy loss function\n",
        "      optimizer = trax.optimizers.Adam(0.01),  # The adam optimizer\n",
        "    )\n",
        "\n",
        "    eval_task = training.EvalTask(\n",
        "      labeled_data = eval_generator, # A labeled data generator\n",
        "      metrics = [tl.CrossEntropyLoss(), tl.Accuracy()], # Evaluate with cross-entropy loss and accuracy\n",
        "      n_eval_batches = 10 # Number of batches to use on each evaluation\n",
        "    )\n",
        "\n",
        "    training_loop = training.Loop(\n",
        "        SeqLabelModel, # A model to train\n",
        "        train_task, # A train task\n",
        "        eval_task = eval_task, # The evaluation task\n",
        "        output_dir = output_dir) # The output directory\n",
        "\n",
        "    # Train with train_steps\n",
        "    training_loop.run(n_steps = train_steps)\n",
        "    return training_loop"
      ],
      "execution_count": null,
      "outputs": []
    },
    {
      "cell_type": "code",
      "metadata": {
        "id": "2d4yGVRhTqRa",
        "colab": {
          "base_uri": "https://localhost:8080/"
        },
        "outputId": "02b82c18-b184-454d-985a-0e37c3c1bac6"
      },
      "source": [
        "train_steps = 100            \n",
        "!rm -f 'model/model.pkl.gz'  # Remove old model.pkl if it exists\n",
        "\n",
        "# Train the model\n",
        "training_loop = train_model(SeqLabelModel(), train_generator, eval_generator, train_steps)"
      ],
      "execution_count": null,
      "outputs": [
        {
          "output_type": "stream",
          "text": [
            "Step      1: train CrossEntropyLoss |  3.06568480\n",
            "Step      1: eval  CrossEntropyLoss |  2.08408246\n",
            "Step      1: eval          Accuracy |  0.77309259\n",
            "Step    100: train CrossEntropyLoss |  0.68353373\n",
            "Step    100: eval  CrossEntropyLoss |  0.68265871\n",
            "Step    100: eval          Accuracy |  0.87625013\n"
          ],
          "name": "stdout"
        }
      ]
    },
    {
      "cell_type": "code",
      "metadata": {
        "id": "SP4sf6Lphtxr"
      },
      "source": [
        "# loading in a pretrained model..\n",
        "model = SeqLabelModel()\n",
        "model.init(trax.shapes.ShapeDtype((1, 1), dtype=np.int32))\n",
        "\n",
        "# Load the pretrained model\n",
        "model.init_from_file('/content/model/model.pkl.gz', weights_only=True)"
      ],
      "execution_count": null,
      "outputs": []
    },
    {
      "cell_type": "code",
      "metadata": {
        "id": "bhpfOubkTwzo",
        "colab": {
          "base_uri": "https://localhost:8080/"
        },
        "outputId": "4348c83f-0a76-44ab-e9f1-bc721b66d54e"
      },
      "source": [
        "#Example of a comparision on a matrix \n",
        "a = np.array([1, 2, 3, 4])\n",
        "a == 2"
      ],
      "execution_count": null,
      "outputs": [
        {
          "output_type": "execute_result",
          "data": {
            "text/plain": [
              "array([False,  True, False, False])"
            ]
          },
          "metadata": {
            "tags": []
          },
          "execution_count": 70
        }
      ]
    },
    {
      "cell_type": "code",
      "metadata": {
        "id": "yFdVTASKU81i",
        "colab": {
          "base_uri": "https://localhost:8080/"
        },
        "outputId": "f49ff402-3b4b-48ac-842a-73052ed5a2c2"
      },
      "source": [
        "# create the evaluation inputs\n",
        "x, y = next(data_generator(len(test_sentences), test_sentences, test_labels, 18270))\n",
        "print(\"input shapes\", x.shape, y.shape)"
      ],
      "execution_count": null,
      "outputs": [
        {
          "output_type": "stream",
          "text": [
            "input shapes (4490, 110) (4490, 110)\n"
          ],
          "name": "stdout"
        }
      ]
    },
    {
      "cell_type": "code",
      "metadata": {
        "id": "nyjHMNQniB-k",
        "colab": {
          "base_uri": "https://localhost:8080/"
        },
        "outputId": "1c1a1b14-37f4-414c-9782-77fb3e5b659a"
      },
      "source": [
        "# sample prediction\n",
        "tmp_pred = model(x)\n",
        "print(type(tmp_pred))\n",
        "print(f\"tmp_pred has shape: {tmp_pred.shape}\")"
      ],
      "execution_count": null,
      "outputs": [
        {
          "output_type": "stream",
          "text": [
            "<class 'jax.interpreters.xla.DeviceArray'>\n",
            "tmp_pred has shape: (4490, 110, 19)\n"
          ],
          "name": "stdout"
        }
      ]
    },
    {
      "cell_type": "code",
      "metadata": {
        "id": "jblsKCq2VfnG"
      },
      "source": [
        "#  evaluate_prediction\n",
        "def evaluate_prediction(pred, labels, pad):\n",
        "    \"\"\"\n",
        "    Inputs:\n",
        "        pred: prediction array with shape \n",
        "            (num examples, max sentence length in batch, num of classes)\n",
        "        labels: array of size (batch_size, seq_len)\n",
        "        pad: integer representing pad character\n",
        "    Outputs:\n",
        "        accuracy: float\n",
        "    \"\"\"\n",
        "    outputs = np.argmax(pred, axis=2)\n",
        "    print(\"outputs shape:\", outputs.shape)\n",
        "\n",
        "    mask = labels !=pad\n",
        "    print(\"mask shape:\", mask.shape, \"mask[0][20:30]:\", mask[0][20:30])\n",
        "    accuracy = np.sum(outputs == labels) / float(np.sum(mask))\n",
        "    return accuracy"
      ],
      "execution_count": null,
      "outputs": []
    },
    {
      "cell_type": "code",
      "metadata": {
        "id": "JNQ2c0nsVgZ0",
        "colab": {
          "base_uri": "https://localhost:8080/"
        },
        "outputId": "f244999a-c0fa-4c1a-948d-9d83d204f19c"
      },
      "source": [
        "accuracy = evaluate_prediction(model(x), y, 12121)\n",
        "print(\"accuracy: \", accuracy)"
      ],
      "execution_count": null,
      "outputs": [
        {
          "output_type": "stream",
          "text": [
            "outputs shape: (4490, 110)\n",
            "mask shape: (4490, 110) mask[0][20:30]: [ True  True  True  True  True  True  True  True  True  True]\n",
            "accuracy:  0.17039685\n"
          ],
          "name": "stdout"
        }
      ]
    },
    {
      "cell_type": "code",
      "metadata": {
        "id": "5F6DCv-E3XoN"
      },
      "source": [
        "# This is the function  test our own sentence.\n",
        "def predict(sentence, model, vocab, tag_map):\n",
        "    s = [vocab[token] if token in vocab else vocab['UNK'] for token in sentence.split(' ')]\n",
        "    batch_data = np.ones((1, len(s)))\n",
        "    batch_data[0][:] = s\n",
        "    sentence = np.array(batch_data).astype(int)\n",
        "    output = model(sentence)\n",
        "    outputs = np.argmax(output, axis=2)\n",
        "    labels = list(tag_map.keys())\n",
        "    pred = []\n",
        "    for i in range(len(outputs[0])):\n",
        "        idx = outputs[0][i] \n",
        "        pred_label = labels[idx]\n",
        "        pred.append(pred_label)\n",
        "    return pred"
      ],
      "execution_count": null,
      "outputs": []
    },
    {
      "cell_type": "code",
      "metadata": {
        "colab": {
          "base_uri": "https://localhost:8080/"
        },
        "id": "KOvsWRBV43Xf",
        "outputId": "8e7eeba1-a34c-4c06-8a2b-fdecec4d0075"
      },
      "source": [
        "# Try the output for the introduction example\n",
        "sentence = \"Police, law and government must very much decide about this\"\n",
        "s = [vocab[token] if token in vocab else vocab['UNK'] for token in sentence.split(' ')]\n",
        "predictions = predict(sentence, model, vocab, tag_map)\n",
        "for a,b in zip(sentence.split(' '), predictions):\n",
        "    if b != 'O':\n",
        "        print(a,b)"
      ],
      "execution_count": null,
      "outputs": [
        {
          "output_type": "stream",
          "text": [
            "Police, 0\n",
            "law 0\n",
            "and 0\n",
            "government 0\n",
            "must 0\n",
            "very 0\n",
            "much 0\n",
            "decide 0\n",
            "about 0\n",
            "this 0\n"
          ],
          "name": "stdout"
        }
      ]
    },
    {
      "cell_type": "code",
      "metadata": {
        "id": "dt21gjUUgPFq"
      },
      "source": [
        "\n",
        "prediction=np.argmax(model(x), axis=2)"
      ],
      "execution_count": null,
      "outputs": []
    },
    {
      "cell_type": "code",
      "metadata": {
        "colab": {
          "base_uri": "https://localhost:8080/"
        },
        "id": "8EGOViTdgmtC",
        "outputId": "aa2abec8-77b4-4e58-f2cc-6ec4007a052f"
      },
      "source": [
        "print(prediction[110])\n",
        "print(\"length of prediction vector is: \", len(prediction))\n",
        "print(\"length of each item in prediction vector is: \",len(prediction[0]))"
      ],
      "execution_count": null,
      "outputs": [
        {
          "output_type": "stream",
          "text": [
            "[0 0 0 0 0 0 0 0 0 0 0 0 0 0 0 0 0 0 0 0 0 0 0 0 0 0 0 0 0 0 0 0 0 0 0 0 0\n",
            " 0 0 0 0 0 0 0 0 0 0 0 0 0 0 0 0 0 0 0 0 0 0 0 0 0 0 0 0 0 0 0 0 0 0 0 0 0\n",
            " 0 0 0 0 0 0 0 0 0 0 0 0 0 0 0 0 0 0 0 0 0 0 0 0 0 0 0 0 0 0 0 0 0 0 0 0]\n",
            "length of prediction vector is:  4490\n",
            "length of each item in prediction vector is:  110\n"
          ],
          "name": "stdout"
        }
      ]
    },
    {
      "cell_type": "code",
      "metadata": {
        "colab": {
          "base_uri": "https://localhost:8080/"
        },
        "id": "rVwkcgoBgpoF",
        "outputId": "3f997cdc-4caa-4236-db9e-4273b49c452e"
      },
      "source": [
        "print(y[0])\n",
        "print(\"length of the true tagged labels is: \", len(y))\n",
        "print(\"length of each item in prediction vector is: \",len(y[0]))\n",
        "#18270 is our padd token"
      ],
      "execution_count": null,
      "outputs": [
        {
          "output_type": "stream",
          "text": [
            "[    0     0     0     0     0     0     0     0     0     0     0     2\n",
            "     0     0     0     0     0     0     0     0     0     0 18270 18270\n",
            " 18270 18270 18270 18270 18270 18270 18270 18270 18270 18270 18270 18270\n",
            " 18270 18270 18270 18270 18270 18270 18270 18270 18270 18270 18270 18270\n",
            " 18270 18270 18270 18270 18270 18270 18270 18270 18270 18270 18270 18270\n",
            " 18270 18270 18270 18270 18270 18270 18270 18270 18270 18270 18270 18270\n",
            " 18270 18270 18270 18270 18270 18270 18270 18270 18270 18270 18270 18270\n",
            " 18270 18270 18270 18270 18270 18270 18270 18270 18270 18270 18270 18270\n",
            " 18270 18270 18270 18270 18270 18270 18270 18270 18270 18270 18270 18270\n",
            " 18270 18270]\n",
            "length of the true tagged labels is:  4490\n",
            "length of each item in prediction vector is:  110\n"
          ],
          "name": "stdout"
        }
      ]
    },
    {
      "cell_type": "code",
      "metadata": {
        "colab": {
          "base_uri": "https://localhost:8080/"
        },
        "id": "Jo8FDHaGjXs8",
        "outputId": "49b1176b-e70e-4b65-9ea6-327bd9380c61"
      },
      "source": [
        "ys=y.tolist()\n",
        "#count the padd length in the first element of true labels\n",
        "ys[0].count(18270)\n"
      ],
      "execution_count": null,
      "outputs": [
        {
          "output_type": "execute_result",
          "data": {
            "text/plain": [
              "88"
            ]
          },
          "metadata": {
            "tags": []
          },
          "execution_count": 164
        }
      ]
    },
    {
      "cell_type": "code",
      "metadata": {
        "id": "rcwgM84NlcY3"
      },
      "source": [
        "predictions=prediction.tolist()"
      ],
      "execution_count": null,
      "outputs": []
    },
    {
      "cell_type": "code",
      "metadata": {
        "id": "BothzXGEBqXF"
      },
      "source": [
        "true_class=[]\n",
        "predicted_class=[]\n",
        "for i in range (len(ys)):\n",
        "        padcount=ys[i].count(18270)\n",
        "        count=0\n",
        "        temp=ys[i][:110-padcount]\n",
        "        if (len(temp)==0):\n",
        "          true_class.append(0)\n",
        "        else:\n",
        "          true_class.append(max(temp))\n",
        "        \n",
        "        predicted_class.append(max(predictions[i]))"
      ],
      "execution_count": null,
      "outputs": []
    },
    {
      "cell_type": "code",
      "metadata": {
        "colab": {
          "base_uri": "https://localhost:8080/"
        },
        "id": "7sTK2xZVDeju",
        "outputId": "330965ae-daef-4a15-ef50-10ea04849d5b"
      },
      "source": [
        "print(len(true_class))\n",
        "print(len(predicted_class))"
      ],
      "execution_count": null,
      "outputs": [
        {
          "output_type": "stream",
          "text": [
            "4490\n",
            "4490\n"
          ],
          "name": "stdout"
        }
      ]
    },
    {
      "cell_type": "code",
      "metadata": {
        "colab": {
          "base_uri": "https://localhost:8080/"
        },
        "id": "RL-cIfM8EU9S",
        "outputId": "92d12dfe-a87f-4ea1-d690-6e9b3e2768ee"
      },
      "source": [
        "from sklearn.metrics import precision_recall_fscore_support as score\n",
        "\n",
        "#predicted = [1,2,3,4,5,1,2,1,1,4,5] \n",
        "#y_test = [1,2,3,4,5,1,2,1,1,4,1]\n",
        "\n",
        "precision, recall, fscore, support = score(true_class, predicted_class)\n",
        "\n",
        "#print('precision: {}'.format(precision))\n",
        "#print('recall: {}'.format(recall))\n",
        "#print('fscore: {}'.format(fscore))\n",
        "#print('support: {}'.format(support))\n"
      ],
      "execution_count": null,
      "outputs": [
        {
          "output_type": "stream",
          "text": [
            "/usr/local/lib/python3.6/dist-packages/sklearn/metrics/_classification.py:1272: UndefinedMetricWarning: Precision and F-score are ill-defined and being set to 0.0 in labels with no predicted samples. Use `zero_division` parameter to control this behavior.\n",
            "  _warn_prf(average, modifier, msg_start, len(result))\n"
          ],
          "name": "stderr"
        }
      ]
    },
    {
      "cell_type": "code",
      "metadata": {
        "id": "dFJ-16MFEkn0"
      },
      "source": [
        "df1 = pd.DataFrame({ 'precision': precision, 'recall':recall, 'Fscore':fscore, 'support':support })\n"
      ],
      "execution_count": null,
      "outputs": []
    },
    {
      "cell_type": "code",
      "metadata": {
        "colab": {
          "base_uri": "https://localhost:8080/"
        },
        "id": "Ktwyv03xEsW7",
        "outputId": "963d4111-b93c-4d39-e0eb-eb677edfc9e1"
      },
      "source": [
        "from tabulate import tabulate\n",
        "\n",
        "print(tabulate(df1, headers='keys', tablefmt='psql'))"
      ],
      "execution_count": null,
      "outputs": [
        {
          "output_type": "stream",
          "text": [
            "+----+-------------+----------+----------+-----------+\n",
            "|    |   precision |   recall |   Fscore |   support |\n",
            "|----+-------------+----------+----------+-----------|\n",
            "|  0 |    0.669042 |        1 | 0.801708 |      3004 |\n",
            "|  1 |    0        |        0 | 0        |        26 |\n",
            "|  2 |    0        |        0 | 0        |       435 |\n",
            "|  3 |    0        |        0 | 0        |        96 |\n",
            "|  4 |    0        |        0 | 0        |       209 |\n",
            "|  5 |    0        |        0 | 0        |        36 |\n",
            "|  6 |    0        |        0 | 0        |        33 |\n",
            "|  7 |    0        |        0 | 0        |        25 |\n",
            "|  8 |    0        |        0 | 0        |        99 |\n",
            "|  9 |    0        |        0 | 0        |        89 |\n",
            "| 10 |    0        |        0 | 0        |        56 |\n",
            "| 11 |    0        |        0 | 0        |       194 |\n",
            "| 12 |    0        |        0 | 0        |       130 |\n",
            "| 13 |    0        |        0 | 0        |        20 |\n",
            "| 14 |    0        |        0 | 0        |         4 |\n",
            "| 15 |    0        |        0 | 0        |        15 |\n",
            "| 16 |    0        |        0 | 0        |        11 |\n",
            "| 17 |    0        |        0 | 0        |         6 |\n",
            "| 18 |    0        |        0 | 0        |         2 |\n",
            "+----+-------------+----------+----------+-----------+\n"
          ],
          "name": "stdout"
        }
      ]
    },
    {
      "cell_type": "code",
      "metadata": {
        "id": "_eNOHT10gIAr"
      },
      "source": [
        "compare_ys_and_predictions=[]\n",
        "for i in range (len(ys)):\n",
        "        padcount=ys[i].count(18270)\n",
        "        count=0\n",
        "        for k in range (110-padcount):\n",
        "          #increase count the total number of equal elements in predictions and ys(true tags) \n",
        "          \n",
        "          if ys[i][k]==predictions[i][k]:\n",
        "            count +=1\n",
        "         #check if  every single element in one  prediction is equal to every single elemement  in corresponding ys(true tags) return 1\n",
        "        if count ==110-padcount:\n",
        "          \n",
        "            compare_ys_and_predictions.append(1)\n",
        "        else:\n",
        "            compare_ys_and_predictions.append(0)\n"
      ],
      "execution_count": null,
      "outputs": []
    },
    {
      "cell_type": "code",
      "metadata": {
        "colab": {
          "base_uri": "https://localhost:8080/"
        },
        "id": "Y69DPuWbm581",
        "outputId": "6d19a27d-312c-47e9-d958-4626e90b1799"
      },
      "source": [
        "assert(len(compare_ys_and_predictions)==len(ys)==len(predictions))\n",
        "print(compare_ys_and_predictions[0])\n",
        "print(len(compare_ys_and_predictions))\n",
        "#compare_ys_and_predictions.count(0)\n",
        "print(\"number of times predictions and true tagss are equal in every element: \", compare_ys_and_predictions.count(1))"
      ],
      "execution_count": null,
      "outputs": [
        {
          "output_type": "stream",
          "text": [
            "0\n",
            "4490\n",
            "number of times predictions and true tagss are equal in every element:  3004\n"
          ],
          "name": "stdout"
        }
      ]
    },
    {
      "cell_type": "markdown",
      "metadata": {
        "id": "ixffs80Otgw8"
      },
      "source": [
        "We can therefore form two binary lists in which 3004 elements are equal and the rest are not. "
      ]
    },
    {
      "cell_type": "code",
      "metadata": {
        "id": "XcgU88wopMWt"
      },
      "source": [
        "true_vals=[1]*4490\n",
        "pred=[1]*4490"
      ],
      "execution_count": null,
      "outputs": []
    },
    {
      "cell_type": "code",
      "metadata": {
        "id": "auWnFz52pVKq"
      },
      "source": [
        "for i in range (1486):\n",
        "  true_vals[i]=0"
      ],
      "execution_count": null,
      "outputs": []
    },
    {
      "cell_type": "code",
      "metadata": {
        "colab": {
          "base_uri": "https://localhost:8080/"
        },
        "id": "ueNChu0FpunX",
        "outputId": "7720111d-127a-4294-9d0d-d24a21a25013"
      },
      "source": [
        "true_vals.count(0)"
      ],
      "execution_count": null,
      "outputs": [
        {
          "output_type": "execute_result",
          "data": {
            "text/plain": [
              "1486"
            ]
          },
          "metadata": {
            "tags": []
          },
          "execution_count": 198
        }
      ]
    },
    {
      "cell_type": "code",
      "metadata": {
        "colab": {
          "base_uri": "https://localhost:8080/"
        },
        "id": "23vZkXxQplcm",
        "outputId": "54f81ee2-06c1-4585-e6ed-46b5c1af8a5f"
      },
      "source": [
        "from sklearn.metrics import precision_recall_fscore_support as score\n",
        "\n",
        "#predicted = [1,2,3,4,5,1,2,1,1,4,5] \n",
        "#y_test = [1,2,3,4,5,1,2,1,1,4,1]\n",
        "\n",
        "precision, recall, fscore, support = score(true_vals, pred)\n",
        "\n",
        "#print('precision: {}'.format(precision))\n",
        "#print('recall: {}'.format(recall))\n",
        "#print('fscore: {}'.format(fscore))\n",
        "#print('support: {}'.format(support))\n"
      ],
      "execution_count": null,
      "outputs": [
        {
          "output_type": "stream",
          "text": [
            "/usr/local/lib/python3.6/dist-packages/sklearn/metrics/_classification.py:1272: UndefinedMetricWarning: Precision and F-score are ill-defined and being set to 0.0 in labels with no predicted samples. Use `zero_division` parameter to control this behavior.\n",
            "  _warn_prf(average, modifier, msg_start, len(result))\n"
          ],
          "name": "stderr"
        }
      ]
    },
    {
      "cell_type": "code",
      "metadata": {
        "id": "Y-SaMrNrqCUr"
      },
      "source": [
        "df1 = pd.DataFrame({ 'precision': precision, 'recall':recall, 'Fscore':fscore, 'support':support })\n",
        "\n",
        "\n"
      ],
      "execution_count": null,
      "outputs": []
    },
    {
      "cell_type": "code",
      "metadata": {
        "colab": {
          "base_uri": "https://localhost:8080/",
          "height": 108
        },
        "id": "bj4BOV2EqGhU",
        "outputId": "e82e68df-d669-42a6-dce7-99f5c2531d50"
      },
      "source": [
        "df1.head()"
      ],
      "execution_count": null,
      "outputs": [
        {
          "output_type": "execute_result",
          "data": {
            "text/html": [
              "<div>\n",
              "<style scoped>\n",
              "    .dataframe tbody tr th:only-of-type {\n",
              "        vertical-align: middle;\n",
              "    }\n",
              "\n",
              "    .dataframe tbody tr th {\n",
              "        vertical-align: top;\n",
              "    }\n",
              "\n",
              "    .dataframe thead th {\n",
              "        text-align: right;\n",
              "    }\n",
              "</style>\n",
              "<table border=\"1\" class=\"dataframe\">\n",
              "  <thead>\n",
              "    <tr style=\"text-align: right;\">\n",
              "      <th></th>\n",
              "      <th>precision</th>\n",
              "      <th>recall</th>\n",
              "      <th>Fscore</th>\n",
              "      <th>support</th>\n",
              "    </tr>\n",
              "  </thead>\n",
              "  <tbody>\n",
              "    <tr>\n",
              "      <th>0</th>\n",
              "      <td>0.000000</td>\n",
              "      <td>0.0</td>\n",
              "      <td>0.000000</td>\n",
              "      <td>1486</td>\n",
              "    </tr>\n",
              "    <tr>\n",
              "      <th>1</th>\n",
              "      <td>0.669042</td>\n",
              "      <td>1.0</td>\n",
              "      <td>0.801708</td>\n",
              "      <td>3004</td>\n",
              "    </tr>\n",
              "  </tbody>\n",
              "</table>\n",
              "</div>"
            ],
            "text/plain": [
              "   precision  recall    Fscore  support\n",
              "0   0.000000     0.0  0.000000     1486\n",
              "1   0.669042     1.0  0.801708     3004"
            ]
          },
          "metadata": {
            "tags": []
          },
          "execution_count": 201
        }
      ]
    },
    {
      "cell_type": "code",
      "metadata": {
        "colab": {
          "base_uri": "https://localhost:8080/"
        },
        "id": "aR_hcW4XqT5Y",
        "outputId": "d307244e-66a9-47f7-a952-a2814d248dc5"
      },
      "source": [
        "from tabulate import tabulate\n",
        "\n",
        "print(tabulate(df1, headers='keys', tablefmt='psql'))"
      ],
      "execution_count": null,
      "outputs": [
        {
          "output_type": "stream",
          "text": [
            "+----+-------------+----------+----------+-----------+\n",
            "|    |   precision |   recall |   Fscore |   support |\n",
            "|----+-------------+----------+----------+-----------|\n",
            "|  0 |    0        |        0 | 0        |      6262 |\n",
            "|  1 |    0.417597 |        1 | 0.589162 |      4490 |\n",
            "+----+-------------+----------+----------+-----------+\n"
          ],
          "name": "stdout"
        }
      ]
    }
  ]
}