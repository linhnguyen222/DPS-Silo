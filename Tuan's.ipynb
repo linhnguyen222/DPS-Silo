{
  "nbformat": 4,
  "nbformat_minor": 0,
  "metadata": {
    "kernelspec": {
      "display_name": "Python 3",
      "language": "python",
      "name": "python3"
    },
    "language_info": {
      "codemirror_mode": {
        "name": "ipython",
        "version": 3
      },
      "file_extension": ".py",
      "mimetype": "text/x-python",
      "name": "python",
      "nbconvert_exporter": "python",
      "pygments_lexer": "ipython3",
      "version": "3.7.6"
    },
    "colab": {
      "name": "Project.ipynb",
      "provenance": [],
      "include_colab_link": true
    }
  },
  "cells": [
    {
      "cell_type": "markdown",
      "metadata": {
        "id": "view-in-github",
        "colab_type": "text"
      },
      "source": [
        "<a href=\"https://colab.research.google.com/github/linhnguyen222/DPS-Silo/blob/master/Tuan's.ipynb\" target=\"_parent\"><img src=\"https://colab.research.google.com/assets/colab-badge.svg\" alt=\"Open In Colab\"/></a>"
      ]
    },
    {
      "cell_type": "code",
      "metadata": {
        "id": "dCELgwSICljC",
        "colab_type": "code",
        "colab": {}
      },
      "source": [
        "import numpy as np\n",
        "import pandas as pd\n",
        "import matplotlib.pyplot as plt\n",
        "import nltk\n",
        "from nltk.corpus import stopwords\n",
        "from wordcloud import WordCloud, STOPWORDS, ImageColorGenerator\n",
        "from collections import Counter\n",
        "import re\n",
        "from nltk.tokenize import WhitespaceTokenizer\n",
        "from tqdm.auto import tqdm"
      ],
      "execution_count": null,
      "outputs": []
    },
    {
      "cell_type": "code",
      "metadata": {
        "id": "1zkhSpRSCljM",
        "colab_type": "code",
        "colab": {}
      },
      "source": [
        "import glob\n",
        "train_files = glob.glob('data_propoganda/data/protechn_corpus_eval/train/*')\n",
        "train_label_files = [f for f in train_files if 'labels'  in f]\n",
        "train_text_files = [f for f in train_files if 'labels' not in f]\n",
        "\n",
        "test_files = glob.glob('data_propoganda/data/protechn_corpus_eval/test/*')\n",
        "test_label_files = [f for f in test_files if 'labels'  in f][:-1]# random out-of-place file at the end.\n",
        "test_text_files = [f for f in test_files if 'labels' not in f]\n",
        "\n",
        "dev_files = glob.glob('data_propoganda/data/protechn_corpus_eval/dev/*')\n",
        "dev_label_files = [f for f in dev_files if 'labels'  in f]\n",
        "dev_text_files = [f for f in dev_files if 'labels' not in f]"
      ],
      "execution_count": null,
      "outputs": []
    },
    {
      "cell_type": "code",
      "metadata": {
        "id": "NHUU2981CljV",
        "colab_type": "code",
        "colab": {},
        "outputId": "1e48c568-b1b0-43ff-d4fa-df36cd50ade9"
      },
      "source": [
        "def load_df(label_files,text_files):\n",
        "    df = pd.DataFrame(columns = ['ID','Prop','begin','end'])\n",
        "    for i in range(len(label_files)):\n",
        "        df1 = pd.read_csv(label_files[i],sep='\\t',names = ['ID','Prop','begin','end'])\n",
        "        with open(text_files[i],encoding='utf8') as f:\n",
        "            text = f.read()\n",
        "        text2 = []\n",
        "        for x,y in zip(df1.begin,df1.end):\n",
        "            text2.append(text[x:y])\n",
        "        df1['text'] = text2\n",
        "        df = df.append(df1,ignore_index=True)\n",
        "    return df\n",
        "dev_df = load_df(dev_label_files,dev_text_files)\n",
        "\n",
        "test_df = load_df(test_label_files,test_text_files)\n",
        "train_df = load_df(train_label_files,train_text_files)\n",
        "train_df"
      ],
      "execution_count": null,
      "outputs": [
        {
          "output_type": "execute_result",
          "data": {
            "text/html": [
              "<div>\n",
              "<style scoped>\n",
              "    .dataframe tbody tr th:only-of-type {\n",
              "        vertical-align: middle;\n",
              "    }\n",
              "\n",
              "    .dataframe tbody tr th {\n",
              "        vertical-align: top;\n",
              "    }\n",
              "\n",
              "    .dataframe thead th {\n",
              "        text-align: right;\n",
              "    }\n",
              "</style>\n",
              "<table border=\"1\" class=\"dataframe\">\n",
              "  <thead>\n",
              "    <tr style=\"text-align: right;\">\n",
              "      <th></th>\n",
              "      <th>ID</th>\n",
              "      <th>Prop</th>\n",
              "      <th>begin</th>\n",
              "      <th>end</th>\n",
              "      <th>text</th>\n",
              "    </tr>\n",
              "  </thead>\n",
              "  <tbody>\n",
              "    <tr>\n",
              "      <th>0</th>\n",
              "      <td>111111112</td>\n",
              "      <td>Slogans</td>\n",
              "      <td>191</td>\n",
              "      <td>221</td>\n",
              "      <td>Stop Islamization of America.\\n</td>\n",
              "    </tr>\n",
              "    <tr>\n",
              "      <th>1</th>\n",
              "      <td>111111112</td>\n",
              "      <td>Black-and-White_Fallacy</td>\n",
              "      <td>476</td>\n",
              "      <td>556</td>\n",
              "      <td>We condemn all those whose behaviours and view...</td>\n",
              "    </tr>\n",
              "    <tr>\n",
              "      <th>2</th>\n",
              "      <td>111111112</td>\n",
              "      <td>Slogans</td>\n",
              "      <td>785</td>\n",
              "      <td>798</td>\n",
              "      <td>Defeat Jihad\"</td>\n",
              "    </tr>\n",
              "    <tr>\n",
              "      <th>3</th>\n",
              "      <td>111111112</td>\n",
              "      <td>Loaded_Language</td>\n",
              "      <td>958</td>\n",
              "      <td>1015</td>\n",
              "      <td>the nation that gave the world the Magna Carta...</td>\n",
              "    </tr>\n",
              "    <tr>\n",
              "      <th>4</th>\n",
              "      <td>111111112</td>\n",
              "      <td>Flag-Waving</td>\n",
              "      <td>1456</td>\n",
              "      <td>1536</td>\n",
              "      <td>The UK should never become a stage for inflamm...</td>\n",
              "    </tr>\n",
              "    <tr>\n",
              "      <th>...</th>\n",
              "      <td>...</td>\n",
              "      <td>...</td>\n",
              "      <td>...</td>\n",
              "      <td>...</td>\n",
              "      <td>...</td>\n",
              "    </tr>\n",
              "    <tr>\n",
              "      <th>5109</th>\n",
              "      <td>999001621</td>\n",
              "      <td>Loaded_Language</td>\n",
              "      <td>5057</td>\n",
              "      <td>5061</td>\n",
              "      <td>sham</td>\n",
              "    </tr>\n",
              "    <tr>\n",
              "      <th>5110</th>\n",
              "      <td>999001621</td>\n",
              "      <td>Name_Calling,Labeling</td>\n",
              "      <td>7492</td>\n",
              "      <td>7518</td>\n",
              "      <td>evidently completely false</td>\n",
              "    </tr>\n",
              "    <tr>\n",
              "      <th>5111</th>\n",
              "      <td>999001621</td>\n",
              "      <td>Name_Calling,Labeling</td>\n",
              "      <td>8524</td>\n",
              "      <td>8545</td>\n",
              "      <td>Russian collaborators</td>\n",
              "    </tr>\n",
              "    <tr>\n",
              "      <th>5112</th>\n",
              "      <td>999001621</td>\n",
              "      <td>Reductio_ad_hitlerum</td>\n",
              "      <td>10098</td>\n",
              "      <td>10204</td>\n",
              "      <td>We have previously shown that the Guardian eve...</td>\n",
              "    </tr>\n",
              "    <tr>\n",
              "      <th>5113</th>\n",
              "      <td>999001621</td>\n",
              "      <td>Whataboutism</td>\n",
              "      <td>10353</td>\n",
              "      <td>10408</td>\n",
              "      <td>Unfortunately other 'western' media are not mu...</td>\n",
              "    </tr>\n",
              "  </tbody>\n",
              "</table>\n",
              "<p>5114 rows × 5 columns</p>\n",
              "</div>"
            ],
            "text/plain": [
              "             ID                     Prop  begin    end  \\\n",
              "0     111111112                  Slogans    191    221   \n",
              "1     111111112  Black-and-White_Fallacy    476    556   \n",
              "2     111111112                  Slogans    785    798   \n",
              "3     111111112          Loaded_Language    958   1015   \n",
              "4     111111112              Flag-Waving   1456   1536   \n",
              "...         ...                      ...    ...    ...   \n",
              "5109  999001621          Loaded_Language   5057   5061   \n",
              "5110  999001621    Name_Calling,Labeling   7492   7518   \n",
              "5111  999001621    Name_Calling,Labeling   8524   8545   \n",
              "5112  999001621     Reductio_ad_hitlerum  10098  10204   \n",
              "5113  999001621             Whataboutism  10353  10408   \n",
              "\n",
              "                                                   text  \n",
              "0                       Stop Islamization of America.\\n  \n",
              "1     We condemn all those whose behaviours and view...  \n",
              "2                                         Defeat Jihad\"  \n",
              "3     the nation that gave the world the Magna Carta...  \n",
              "4     The UK should never become a stage for inflamm...  \n",
              "...                                                 ...  \n",
              "5109                                               sham  \n",
              "5110                         evidently completely false  \n",
              "5111                              Russian collaborators  \n",
              "5112  We have previously shown that the Guardian eve...  \n",
              "5113  Unfortunately other 'western' media are not mu...  \n",
              "\n",
              "[5114 rows x 5 columns]"
            ]
          },
          "metadata": {
            "tags": []
          },
          "execution_count": 4
        }
      ]
    },
    {
      "cell_type": "code",
      "metadata": {
        "id": "NC9lDpRnCljh",
        "colab_type": "code",
        "colab": {},
        "outputId": "88f8f694-c1be-4133-d52c-cd134181f31d"
      },
      "source": [
        "counts = train_df.Prop.value_counts()\n",
        "counts"
      ],
      "execution_count": null,
      "outputs": [
        {
          "output_type": "execute_result",
          "data": {
            "text/plain": [
              "Loaded_Language                                1811\n",
              "Name_Calling,Labeling                           931\n",
              "Repetition                                      456\n",
              "Doubt                                           423\n",
              "Exaggeration,Minimisation                       398\n",
              "Flag-Waving                                     206\n",
              "Appeal_to_fear-prejudice                        187\n",
              "Causal_Oversimplification                       170\n",
              "Slogans                                         120\n",
              "Black-and-White_Fallacy                          97\n",
              "Appeal_to_Authority                              91\n",
              "Thought-terminating_Cliches                      70\n",
              "Whataboutism                                     55\n",
              "Reductio_ad_hitlerum                             44\n",
              "Red_Herring                                      24\n",
              "Straw_Men                                        11\n",
              "Obfuscation,Intentional_Vagueness,Confusion      10\n",
              "Bandwagon                                        10\n",
              "Name: Prop, dtype: int64"
            ]
          },
          "metadata": {
            "tags": []
          },
          "execution_count": 5
        }
      ]
    },
    {
      "cell_type": "code",
      "metadata": {
        "id": "nLUFAXViCljp",
        "colab_type": "code",
        "colab": {}
      },
      "source": [
        "import matplotlib as mpl\n",
        "mpl.rcParams['figure.figsize'] = [12,6]"
      ],
      "execution_count": null,
      "outputs": []
    },
    {
      "cell_type": "code",
      "metadata": {
        "id": "U2dPbY6MCljy",
        "colab_type": "code",
        "colab": {},
        "outputId": "acfb99ee-e7b1-48c8-c3ea-e2c048edc432"
      },
      "source": [
        "plt.bar(counts.index,counts.values)\n",
        "plt.xticks(rotation=90)\n",
        "plt.show()"
      ],
      "execution_count": null,
      "outputs": [
        {
          "output_type": "display_data",
          "data": {
            "image/png": "[encoded data removed]",
            "text/plain": [
              "<Figure size 864x432 with 1 Axes>"
            ]
          },
          "metadata": {
            "tags": [],
            "needs_background": "light"
          }
        }
      ]
    },
    {
      "cell_type": "code",
      "metadata": {
        "id": "vBF2iNJsClj9",
        "colab_type": "code",
        "colab": {},
        "outputId": "6e167480-605f-44e7-97e7-997b7da417d9"
      },
      "source": [
        "display(train_df.describe())\n",
        "display(train_df.info())"
      ],
      "execution_count": null,
      "outputs": [
        {
          "output_type": "display_data",
          "data": {
            "text/html": [
              "<div>\n",
              "<style scoped>\n",
              "    .dataframe tbody tr th:only-of-type {\n",
              "        vertical-align: middle;\n",
              "    }\n",
              "\n",
              "    .dataframe tbody tr th {\n",
              "        vertical-align: top;\n",
              "    }\n",
              "\n",
              "    .dataframe thead th {\n",
              "        text-align: right;\n",
              "    }\n",
              "</style>\n",
              "<table border=\"1\" class=\"dataframe\">\n",
              "  <thead>\n",
              "    <tr style=\"text-align: right;\">\n",
              "      <th></th>\n",
              "      <th>ID</th>\n",
              "      <th>Prop</th>\n",
              "      <th>begin</th>\n",
              "      <th>end</th>\n",
              "      <th>text</th>\n",
              "    </tr>\n",
              "  </thead>\n",
              "  <tbody>\n",
              "    <tr>\n",
              "      <th>count</th>\n",
              "      <td>5114</td>\n",
              "      <td>5114</td>\n",
              "      <td>5114</td>\n",
              "      <td>5114</td>\n",
              "      <td>5114</td>\n",
              "    </tr>\n",
              "    <tr>\n",
              "      <th>unique</th>\n",
              "      <td>281</td>\n",
              "      <td>18</td>\n",
              "      <td>3908</td>\n",
              "      <td>3852</td>\n",
              "      <td>4465</td>\n",
              "    </tr>\n",
              "    <tr>\n",
              "      <th>top</th>\n",
              "      <td>783702663</td>\n",
              "      <td>Loaded_Language</td>\n",
              "      <td>0</td>\n",
              "      <td>3534</td>\n",
              "      <td>Satan</td>\n",
              "    </tr>\n",
              "    <tr>\n",
              "      <th>freq</th>\n",
              "      <td>231</td>\n",
              "      <td>1811</td>\n",
              "      <td>23</td>\n",
              "      <td>5</td>\n",
              "      <td>21</td>\n",
              "    </tr>\n",
              "  </tbody>\n",
              "</table>\n",
              "</div>"
            ],
            "text/plain": [
              "               ID             Prop  begin   end   text\n",
              "count        5114             5114   5114  5114   5114\n",
              "unique        281               18   3908  3852   4465\n",
              "top     783702663  Loaded_Language      0  3534  Satan\n",
              "freq          231             1811     23     5     21"
            ]
          },
          "metadata": {
            "tags": []
          }
        },
        {
          "output_type": "stream",
          "text": [
            "<class 'pandas.core.frame.DataFrame'>\n",
            "RangeIndex: 5114 entries, 0 to 5113\n",
            "Data columns (total 5 columns):\n",
            " #   Column  Non-Null Count  Dtype \n",
            "---  ------  --------------  ----- \n",
            " 0   ID      5114 non-null   object\n",
            " 1   Prop    5114 non-null   object\n",
            " 2   begin   5114 non-null   object\n",
            " 3   end     5114 non-null   object\n",
            " 4   text    5114 non-null   object\n",
            "dtypes: object(5)\n",
            "memory usage: 199.9+ KB\n"
          ],
          "name": "stdout"
        },
        {
          "output_type": "display_data",
          "data": {
            "text/plain": [
              "None"
            ]
          },
          "metadata": {
            "tags": []
          }
        }
      ]
    },
    {
      "cell_type": "code",
      "metadata": {
        "id": "JBnaWLbvClkY",
        "colab_type": "code",
        "colab": {}
      },
      "source": [
        "stop_words = stopwords.words('english')\n",
        "\n",
        "def draw_wordcloud(prop):\n",
        "    prop_text = train_df[train_df.Prop == prop]\n",
        "    full_text =\" \".join([i for i in prop_text.text.values])\n",
        "    for char in \"-.,\\n''\":\n",
        "        full_text=full_text.replace(char,' ')\n",
        "    full_text=full_text.lower()\n",
        "    wordcloud = WordCloud(stopwords=stop_words,max_font_size=50, max_words=100, background_color=\"black\").generate(full_text)\n",
        "    plt.figure(figsize=[12,12])\n",
        "    plt.imshow(wordcloud, interpolation=\"bilinear\")\n",
        "    plt.axis(\"off\")\n",
        "    plt.show()"
      ],
      "execution_count": null,
      "outputs": []
    },
    {
      "cell_type": "code",
      "metadata": {
        "id": "CwMOVo_jClki",
        "colab_type": "code",
        "colab": {}
      },
      "source": [
        "def display_10common(prop):\n",
        "    prop_text = train_df[train_df.Prop == prop]\n",
        "    full_text =\" \".join([i for i in prop_text.text.values])\n",
        "    for char in \"-.,\\n''\":\n",
        "        full_text=full_text.replace(char,' ')\n",
        "    full_text=full_text.lower()\n",
        "    word_list = full_text.split()\n",
        "    word_list = [w for w in word_list if w not in stop_words]\n",
        "    print(Counter(word_list).most_common(10))"
      ],
      "execution_count": null,
      "outputs": []
    },
    {
      "cell_type": "code",
      "metadata": {
        "id": "N6CoumhBClkp",
        "colab_type": "code",
        "colab": {},
        "outputId": "5ccbc066-23f8-4867-82fc-2881e404d877"
      },
      "source": [
        "display_10common('Repetition')"
      ],
      "execution_count": null,
      "outputs": [
        {
          "output_type": "stream",
          "text": [
            "[('autonomy', 23), ('muslim', 14), ('trump', 13), ('influential', 10), ('satan', 9), ('know', 9), ('never', 8), ('church', 8), ('fruitful', 8), ('administration', 8)]\n"
          ],
          "name": "stdout"
        }
      ]
    },
    {
      "cell_type": "code",
      "metadata": {
        "scrolled": true,
        "id": "Qv5jeWs4Clk2",
        "colab_type": "code",
        "colab": {},
        "outputId": "00471bed-f62e-4789-816c-f81601eaf4e5"
      },
      "source": [
        "draw_wordcloud('Loaded_Language')"
      ],
      "execution_count": null,
      "outputs": [
        {
          "output_type": "display_data",
          "data": {
            "image/png": "[encoded data removed]",
            "text/plain": [
              "<Figure size 864x864 with 1 Axes>"
            ]
          },
          "metadata": {
            "tags": [],
            "needs_background": "light"
          }
        }
      ]
    },
    {
      "cell_type": "code",
      "metadata": {
        "id": "Wim4gMz4CllP",
        "colab_type": "code",
        "colab": {}
      },
      "source": [
        "def preprocess_text(txt):\n",
        "    text = re.sub(\"@(\\w+)\", \" \", txt)\n",
        "    text = re.sub(\"#(\\w+)\", \" \", text)\n",
        "    #only take letters\n",
        "    text = re.sub(r'[^a-zA-Z?!.,\\n ]','',text)\n",
        "    \n",
        "    return text"
      ],
      "execution_count": null,
      "outputs": []
    },
    {
      "cell_type": "code",
      "metadata": {
        "scrolled": true,
        "id": "Ih7kgN9rClll",
        "colab_type": "code",
        "colab": {},
        "outputId": "839c54e0-102e-418a-8249-624a2b1001ef"
      },
      "source": [
        "train_df['length'] = train_df.text.str.split()\n",
        "train_df['length'] = train_df.length.apply(lambda i: len(i))\n",
        "print('Average length of a propaganda senetence: ',np.average(train_df.length.values))"
      ],
      "execution_count": null,
      "outputs": [
        {
          "output_type": "stream",
          "text": [
            "Average length of a propaganda senetence:  8.031482205709816\n"
          ],
          "name": "stdout"
        }
      ]
    },
    {
      "cell_type": "code",
      "metadata": {
        "id": "JDWHAP83Clls",
        "colab_type": "code",
        "colab": {},
        "outputId": "ced6f91d-c376-4e51-8758-0ae18a0d7f48"
      },
      "source": [
        "len(dev_text_files)"
      ],
      "execution_count": null,
      "outputs": [
        {
          "output_type": "execute_result",
          "data": {
            "text/plain": [
              "57"
            ]
          },
          "metadata": {
            "tags": []
          },
          "execution_count": 15
        }
      ]
    },
    {
      "cell_type": "code",
      "metadata": {
        "scrolled": false,
        "id": "vdQ1YQcyCll0",
        "colab_type": "code",
        "colab": {}
      },
      "source": [
        "def prepare_full_sent(text_files):\n",
        "    size = len(text_files)\n",
        "    if size > 250:\n",
        "        set_ = 'train'\n",
        "    elif size <250 and size > 90:\n",
        "        set_ = 'test' \n",
        "    else: \n",
        "        set_ = 'dev'\n",
        "    id_sent = {}\n",
        "    id_idx ={}\n",
        "    for text_file in tqdm(text_files):\n",
        "\n",
        "            id = text_file.replace('article','').replace('.txt','').replace('data_propoganda/data/protechn_corpus_eval/{}\\\\'.format(set_),'')\n",
        "            with open(text_file,encoding='utf8') as f:\n",
        "                txt = f.read()\n",
        "            #txt = preprocess_text(txt)\n",
        "            sents = nltk.tokenize.sent_tokenize(txt)\n",
        "            id_sent[id] = sents\n",
        "            idxs =[]\n",
        "\n",
        "            for sent in sents:\n",
        "                length = len(sent)\n",
        "                a = txt.find(sent)\n",
        "                idxs.append((a,a+length))\n",
        "\n",
        "            id_idx[id] = idxs\n",
        "    return id_sent,id_idx\n",
        "\n",
        "\n",
        "\n",
        "\n"
      ],
      "execution_count": null,
      "outputs": []
    },
    {
      "cell_type": "code",
      "metadata": {
        "id": "VjOt2H5ECll6",
        "colab_type": "code",
        "colab": {}
      },
      "source": [
        "def find_matching_sentence(doc,begin,end,id_sent,id_idx):\n",
        "    spans = id_idx[str(doc)]\n",
        "    for offset,end_1 in spans:\n",
        "        if offset<=begin and end_1>=end:\n",
        "            idx = spans.index((offset,end_1))\n",
        "            return id_sent[str(doc)][idx]\n",
        "        else:\n",
        "            continue\n"
      ],
      "execution_count": null,
      "outputs": []
    },
    {
      "cell_type": "code",
      "metadata": {
        "id": "aqkFG9VUClmB",
        "colab_type": "code",
        "colab": {}
      },
      "source": [
        "def create_final_df(df,set_ = 'train'):\n",
        "    if set_ =='train':\n",
        "        dict_sent,dict_idx = prepare_full_sent(train_text_files)\n",
        "    elif set_ == 'test':\n",
        "        dict_sent,dict_idx = prepare_full_sent(test_text_files)\n",
        "    else:\n",
        "        dict_sent,dict_idx = prepare_full_sent(dev_text_files)\n",
        "    df['xtra_strings'] = df.text.str.count('(\\n)')\n",
        "    df['new_end'] = df.end-df.xtra_strings*2\n",
        "    df['full_sent'] = [find_matching_sentence(doc,begin,end,dict_sent,dict_idx) for doc,begin,end in df[['ID','begin','new_end']].values]\n",
        "    df.loc[[val is None for val in df.full_sent ],'full_sent'] = df[[val is None for val in df.full_sent ]].text\n",
        "    #completed df\n",
        "    full_df = df.copy()\n",
        "    full_df = full_df[['ID','Prop','begin','new_end','text','full_sent']]\n",
        "    return full_df"
      ],
      "execution_count": null,
      "outputs": []
    },
    {
      "cell_type": "code",
      "metadata": {
        "scrolled": true,
        "id": "2DWD7lkdClmH",
        "colab_type": "code",
        "colab": {
          "referenced_widgets": [
            "27e5fb3d7b5c4d018c4de0260b4e976f"
          ]
        },
        "outputId": "6f368088-c50d-4ae0-87d9-12cf6ad86cd3"
      },
      "source": [
        "train_full_df = create_final_df(train_df)"
      ],
      "execution_count": null,
      "outputs": [
        {
          "output_type": "display_data",
          "data": {
            "application/vnd.jupyter.widget-view+json": {
              "model_id": "27e5fb3d7b5c4d018c4de0260b4e976f",
              "version_major": 2,
              "version_minor": 0
            },
            "text/plain": [
              "HBox(children=(FloatProgress(value=0.0, max=293.0), HTML(value='')))"
            ]
          },
          "metadata": {
            "tags": []
          }
        },
        {
          "output_type": "stream",
          "text": [
            "\n"
          ],
          "name": "stdout"
        }
      ]
    },
    {
      "cell_type": "code",
      "metadata": {
        "id": "s-TT6Wl3ClmP",
        "colab_type": "code",
        "colab": {
          "referenced_widgets": [
            "859b572848bb4a79bd5517762566a080"
          ]
        },
        "outputId": "b76113f9-cfdb-432e-9f46-1b8ff270d004"
      },
      "source": [
        "test_full_df = create_final_df(test_df,'test')"
      ],
      "execution_count": null,
      "outputs": [
        {
          "output_type": "display_data",
          "data": {
            "application/vnd.jupyter.widget-view+json": {
              "model_id": "859b572848bb4a79bd5517762566a080",
              "version_major": 2,
              "version_minor": 0
            },
            "text/plain": [
              "HBox(children=(FloatProgress(value=0.0, max=101.0), HTML(value='')))"
            ]
          },
          "metadata": {
            "tags": []
          }
        },
        {
          "output_type": "stream",
          "text": [
            "\n"
          ],
          "name": "stdout"
        }
      ]
    },
    {
      "cell_type": "code",
      "metadata": {
        "id": "TemQvUrdClmV",
        "colab_type": "code",
        "colab": {},
        "outputId": "85cf560a-27e3-499f-d948-fd7e250f3b0a"
      },
      "source": [
        "train_full_df.full_sent.values"
      ],
      "execution_count": null,
      "outputs": [
        {
          "output_type": "execute_result",
          "data": {
            "text/plain": [
              "array(['Pamela Geller and Robert Spencer co-founded anti-Muslim group Stop Islamization of America.',\n",
              "       'He added: \"We condemn all those whose behaviours and views run counter to our shared values and will not stand for extremism in any form.\"',\n",
              "       '\\'Right decision\\'\\nMs Geller, of the Atlas Shrugs blog, and Mr Spencer, of Jihad Watch, are also co-founders of the American Freedom Defense Initiative, best known for a pro-Israel \"Defeat Jihad\" poster campaign on the New York subway.',\n",
              "       ..., 'It smeared Assange and Snowden as Russian collaborators.',\n",
              "       'We have previously shown that the Guardian even uses fascist propaganda tropes to smear the Russian people.',\n",
              "       \"Unfortunately other 'western' media are not much better.\"],\n",
              "      dtype=object)"
            ]
          },
          "metadata": {
            "tags": []
          },
          "execution_count": 118
        }
      ]
    },
    {
      "cell_type": "code",
      "metadata": {
        "id": "ei_kLLoGClmb",
        "colab_type": "code",
        "colab": {},
        "outputId": "47505f03-de68-43da-a4a4-ec2d1ea17614"
      },
      "source": [
        "txt = open('data_propoganda/data/protechn_corpus_eval/train/article111111112.txt',encoding='utf8').read()\n",
        "re.findall('\\n{2}',txt)"
      ],
      "execution_count": null,
      "outputs": [
        {
          "output_type": "execute_result",
          "data": {
            "text/plain": [
              "['\\n\\n',\n",
              " '\\n\\n',\n",
              " '\\n\\n',\n",
              " '\\n\\n',\n",
              " '\\n\\n',\n",
              " '\\n\\n',\n",
              " '\\n\\n',\n",
              " '\\n\\n',\n",
              " '\\n\\n',\n",
              " '\\n\\n',\n",
              " '\\n\\n',\n",
              " '\\n\\n',\n",
              " '\\n\\n',\n",
              " '\\n\\n',\n",
              " '\\n\\n',\n",
              " '\\n\\n',\n",
              " '\\n\\n',\n",
              " '\\n\\n',\n",
              " '\\n\\n',\n",
              " '\\n\\n']"
            ]
          },
          "metadata": {
            "tags": []
          },
          "execution_count": 63
        }
      ]
    },
    {
      "cell_type": "code",
      "metadata": {
        "id": "iTJyXhS7Clmi",
        "colab_type": "code",
        "colab": {},
        "outputId": "b7707903-74c9-4b54-a2a3-28597a73418e"
      },
      "source": [
        "train_full_df"
      ],
      "execution_count": null,
      "outputs": [
        {
          "output_type": "execute_result",
          "data": {
            "text/html": [
              "<div>\n",
              "<style scoped>\n",
              "    .dataframe tbody tr th:only-of-type {\n",
              "        vertical-align: middle;\n",
              "    }\n",
              "\n",
              "    .dataframe tbody tr th {\n",
              "        vertical-align: top;\n",
              "    }\n",
              "\n",
              "    .dataframe thead th {\n",
              "        text-align: right;\n",
              "    }\n",
              "</style>\n",
              "<table border=\"1\" class=\"dataframe\">\n",
              "  <thead>\n",
              "    <tr style=\"text-align: right;\">\n",
              "      <th></th>\n",
              "      <th>ID</th>\n",
              "      <th>Prop</th>\n",
              "      <th>begin</th>\n",
              "      <th>new_end</th>\n",
              "      <th>text</th>\n",
              "      <th>full_sent</th>\n",
              "    </tr>\n",
              "  </thead>\n",
              "  <tbody>\n",
              "    <tr>\n",
              "      <th>0</th>\n",
              "      <td>111111112</td>\n",
              "      <td>Slogans</td>\n",
              "      <td>191</td>\n",
              "      <td>219</td>\n",
              "      <td>Stop Islamization of America.\\n</td>\n",
              "      <td>Pamela Geller and Robert Spencer co-founded an...</td>\n",
              "    </tr>\n",
              "    <tr>\n",
              "      <th>1</th>\n",
              "      <td>111111112</td>\n",
              "      <td>Black-and-White_Fallacy</td>\n",
              "      <td>476</td>\n",
              "      <td>556</td>\n",
              "      <td>We condemn all those whose behaviours and view...</td>\n",
              "      <td>He added: \"We condemn all those whose behaviou...</td>\n",
              "    </tr>\n",
              "    <tr>\n",
              "      <th>2</th>\n",
              "      <td>111111112</td>\n",
              "      <td>Slogans</td>\n",
              "      <td>785</td>\n",
              "      <td>798</td>\n",
              "      <td>Defeat Jihad\"</td>\n",
              "      <td>'Right decision'\\nMs Geller, of the Atlas Shru...</td>\n",
              "    </tr>\n",
              "    <tr>\n",
              "      <th>3</th>\n",
              "      <td>111111112</td>\n",
              "      <td>Loaded_Language</td>\n",
              "      <td>958</td>\n",
              "      <td>1013</td>\n",
              "      <td>the nation that gave the world the Magna Carta...</td>\n",
              "      <td>On both of their blogs the pair called their b...</td>\n",
              "    </tr>\n",
              "    <tr>\n",
              "      <th>4</th>\n",
              "      <td>111111112</td>\n",
              "      <td>Flag-Waving</td>\n",
              "      <td>1456</td>\n",
              "      <td>1534</td>\n",
              "      <td>The UK should never become a stage for inflamm...</td>\n",
              "      <td>The UK should never become a stage for inflamm...</td>\n",
              "    </tr>\n",
              "    <tr>\n",
              "      <th>...</th>\n",
              "      <td>...</td>\n",
              "      <td>...</td>\n",
              "      <td>...</td>\n",
              "      <td>...</td>\n",
              "      <td>...</td>\n",
              "      <td>...</td>\n",
              "    </tr>\n",
              "    <tr>\n",
              "      <th>5109</th>\n",
              "      <td>999001621</td>\n",
              "      <td>Loaded_Language</td>\n",
              "      <td>5057</td>\n",
              "      <td>5061</td>\n",
              "      <td>sham</td>\n",
              "      <td>Harding earlier wrote a book about Edward Snow...</td>\n",
              "    </tr>\n",
              "    <tr>\n",
              "      <th>5110</th>\n",
              "      <td>999001621</td>\n",
              "      <td>Name_Calling,Labeling</td>\n",
              "      <td>7492</td>\n",
              "      <td>7518</td>\n",
              "      <td>evidently completely false</td>\n",
              "      <td>This defensive Guardian claim is, like its sto...</td>\n",
              "    </tr>\n",
              "    <tr>\n",
              "      <th>5111</th>\n",
              "      <td>999001621</td>\n",
              "      <td>Name_Calling,Labeling</td>\n",
              "      <td>8524</td>\n",
              "      <td>8545</td>\n",
              "      <td>Russian collaborators</td>\n",
              "      <td>It smeared Assange and Snowden as Russian coll...</td>\n",
              "    </tr>\n",
              "    <tr>\n",
              "      <th>5112</th>\n",
              "      <td>999001621</td>\n",
              "      <td>Reductio_ad_hitlerum</td>\n",
              "      <td>10098</td>\n",
              "      <td>10204</td>\n",
              "      <td>We have previously shown that the Guardian eve...</td>\n",
              "      <td>We have previously shown that the Guardian eve...</td>\n",
              "    </tr>\n",
              "    <tr>\n",
              "      <th>5113</th>\n",
              "      <td>999001621</td>\n",
              "      <td>Whataboutism</td>\n",
              "      <td>10353</td>\n",
              "      <td>10408</td>\n",
              "      <td>Unfortunately other 'western' media are not mu...</td>\n",
              "      <td>Unfortunately other 'western' media are not mu...</td>\n",
              "    </tr>\n",
              "  </tbody>\n",
              "</table>\n",
              "<p>5114 rows × 6 columns</p>\n",
              "</div>"
            ],
            "text/plain": [
              "             ID                     Prop  begin new_end  \\\n",
              "0     111111112                  Slogans    191     219   \n",
              "1     111111112  Black-and-White_Fallacy    476     556   \n",
              "2     111111112                  Slogans    785     798   \n",
              "3     111111112          Loaded_Language    958    1013   \n",
              "4     111111112              Flag-Waving   1456    1534   \n",
              "...         ...                      ...    ...     ...   \n",
              "5109  999001621          Loaded_Language   5057    5061   \n",
              "5110  999001621    Name_Calling,Labeling   7492    7518   \n",
              "5111  999001621    Name_Calling,Labeling   8524    8545   \n",
              "5112  999001621     Reductio_ad_hitlerum  10098   10204   \n",
              "5113  999001621             Whataboutism  10353   10408   \n",
              "\n",
              "                                                   text  \\\n",
              "0                       Stop Islamization of America.\\n   \n",
              "1     We condemn all those whose behaviours and view...   \n",
              "2                                         Defeat Jihad\"   \n",
              "3     the nation that gave the world the Magna Carta...   \n",
              "4     The UK should never become a stage for inflamm...   \n",
              "...                                                 ...   \n",
              "5109                                               sham   \n",
              "5110                         evidently completely false   \n",
              "5111                              Russian collaborators   \n",
              "5112  We have previously shown that the Guardian eve...   \n",
              "5113  Unfortunately other 'western' media are not mu...   \n",
              "\n",
              "                                              full_sent  \n",
              "0     Pamela Geller and Robert Spencer co-founded an...  \n",
              "1     He added: \"We condemn all those whose behaviou...  \n",
              "2     'Right decision'\\nMs Geller, of the Atlas Shru...  \n",
              "3     On both of their blogs the pair called their b...  \n",
              "4     The UK should never become a stage for inflamm...  \n",
              "...                                                 ...  \n",
              "5109  Harding earlier wrote a book about Edward Snow...  \n",
              "5110  This defensive Guardian claim is, like its sto...  \n",
              "5111  It smeared Assange and Snowden as Russian coll...  \n",
              "5112  We have previously shown that the Guardian eve...  \n",
              "5113  Unfortunately other 'western' media are not mu...  \n",
              "\n",
              "[5114 rows x 6 columns]"
            ]
          },
          "metadata": {
            "tags": []
          },
          "execution_count": 65
        }
      ]
    },
    {
      "cell_type": "code",
      "metadata": {
        "id": "AyFJl21PClmn",
        "colab_type": "code",
        "colab": {},
        "outputId": "b3bf80ed-520f-4858-d1a9-d5e7e852a0b7"
      },
      "source": [
        "os.getcwd()"
      ],
      "execution_count": null,
      "outputs": [
        {
          "output_type": "execute_result",
          "data": {
            "text/plain": [
              "'C:\\\\Users\\\\Tuan Nguyen\\\\jupyter'"
            ]
          },
          "metadata": {
            "tags": []
          },
          "execution_count": 68
        }
      ]
    },
    {
      "cell_type": "code",
      "metadata": {
        "id": "9fmMKa3xClms",
        "colab_type": "code",
        "colab": {},
        "outputId": "96316235-aed3-4eb1-a8c3-4d3b6829f4e8"
      },
      "source": [
        "SLC_label  =glob.glob('datasets/train-labels-SLC/*')\n",
        "SLC_txt = glob.glob('datasets/train-articles/*')\n",
        "len(SLC_label) == len(SLC_txt)"
      ],
      "execution_count": null,
      "outputs": [
        {
          "output_type": "execute_result",
          "data": {
            "text/plain": [
              "True"
            ]
          },
          "metadata": {
            "tags": []
          },
          "execution_count": 153
        }
      ]
    },
    {
      "cell_type": "code",
      "metadata": {
        "scrolled": true,
        "id": "Sg8vZQ9qClmz",
        "colab_type": "code",
        "colab": {
          "referenced_widgets": [
            "f3ba38c7cdf24d3eb5fc44f4499c5040"
          ]
        },
        "outputId": "9cdb66d0-18f9-484f-964d-5db27fea99df"
      },
      "source": [
        "slc_df = pd.DataFrame(columns = ['ID','line_number','class','text'])\n",
        "for i in tqdm(range(len(SLC_label))):\n",
        "    df_temp = pd.read_csv(SLC_label[i],sep='\\t',names=['ID','line_number','class','text'])\n",
        "    with open(SLC_txt[i],encoding='utf8') as f:\n",
        "        txt = f.read()\n",
        "    break_up = txt.rstrip().split('\\n')\n",
        "    df_temp['text'] = break_up\n",
        "    slc_df = pd.concat([slc_df,df_temp],axis=0,ignore_index=True)"
      ],
      "execution_count": null,
      "outputs": [
        {
          "output_type": "display_data",
          "data": {
            "application/vnd.jupyter.widget-view+json": {
              "model_id": "f3ba38c7cdf24d3eb5fc44f4499c5040",
              "version_major": 2,
              "version_minor": 0
            },
            "text/plain": [
              "HBox(children=(FloatProgress(value=0.0, max=350.0), HTML(value='')))"
            ]
          },
          "metadata": {
            "tags": []
          }
        },
        {
          "output_type": "stream",
          "text": [
            "\n"
          ],
          "name": "stdout"
        }
      ]
    },
    {
      "cell_type": "code",
      "metadata": {
        "scrolled": true,
        "id": "Gt6k8KrxClm5",
        "colab_type": "code",
        "colab": {},
        "outputId": "682be864-9ccf-445e-a3ff-1ce4004ce11b"
      },
      "source": [
        "slc_df"
      ],
      "execution_count": null,
      "outputs": [
        {
          "output_type": "execute_result",
          "data": {
            "text/html": [
              "<div>\n",
              "<style scoped>\n",
              "    .dataframe tbody tr th:only-of-type {\n",
              "        vertical-align: middle;\n",
              "    }\n",
              "\n",
              "    .dataframe tbody tr th {\n",
              "        vertical-align: top;\n",
              "    }\n",
              "\n",
              "    .dataframe thead th {\n",
              "        text-align: right;\n",
              "    }\n",
              "</style>\n",
              "<table border=\"1\" class=\"dataframe\">\n",
              "  <thead>\n",
              "    <tr style=\"text-align: right;\">\n",
              "      <th></th>\n",
              "      <th>ID</th>\n",
              "      <th>line_number</th>\n",
              "      <th>class</th>\n",
              "      <th>text</th>\n",
              "    </tr>\n",
              "  </thead>\n",
              "  <tbody>\n",
              "    <tr>\n",
              "      <th>0</th>\n",
              "      <td>111111112</td>\n",
              "      <td>1</td>\n",
              "      <td>non-propaganda</td>\n",
              "      <td>US bloggers banned from entering UK</td>\n",
              "    </tr>\n",
              "    <tr>\n",
              "      <th>1</th>\n",
              "      <td>111111112</td>\n",
              "      <td>2</td>\n",
              "      <td>non-propaganda</td>\n",
              "      <td></td>\n",
              "    </tr>\n",
              "    <tr>\n",
              "      <th>2</th>\n",
              "      <td>111111112</td>\n",
              "      <td>3</td>\n",
              "      <td>non-propaganda</td>\n",
              "      <td>Two prominent US bloggers have been banned fro...</td>\n",
              "    </tr>\n",
              "    <tr>\n",
              "      <th>3</th>\n",
              "      <td>111111112</td>\n",
              "      <td>4</td>\n",
              "      <td>non-propaganda</td>\n",
              "      <td></td>\n",
              "    </tr>\n",
              "    <tr>\n",
              "      <th>4</th>\n",
              "      <td>111111112</td>\n",
              "      <td>5</td>\n",
              "      <td>propaganda</td>\n",
              "      <td>Pamela Geller and Robert Spencer co-founded an...</td>\n",
              "    </tr>\n",
              "    <tr>\n",
              "      <th>...</th>\n",
              "      <td>...</td>\n",
              "      <td>...</td>\n",
              "      <td>...</td>\n",
              "      <td>...</td>\n",
              "    </tr>\n",
              "    <tr>\n",
              "      <th>16960</th>\n",
              "      <td>999001970</td>\n",
              "      <td>22</td>\n",
              "      <td>non-propaganda</td>\n",
              "      <td>“I really dislike when people who are older sa...</td>\n",
              "    </tr>\n",
              "    <tr>\n",
              "      <th>16961</th>\n",
              "      <td>999001970</td>\n",
              "      <td>23</td>\n",
              "      <td>non-propaganda</td>\n",
              "      <td>Obviously the world is not a safe space but ju...</td>\n",
              "    </tr>\n",
              "    <tr>\n",
              "      <th>16962</th>\n",
              "      <td>999001970</td>\n",
              "      <td>24</td>\n",
              "      <td>propaganda</td>\n",
              "      <td>“When older generations say you need to stop b...</td>\n",
              "    </tr>\n",
              "    <tr>\n",
              "      <th>16963</th>\n",
              "      <td>999001970</td>\n",
              "      <td>25</td>\n",
              "      <td>propaganda</td>\n",
              "      <td>Patel is 32.</td>\n",
              "    </tr>\n",
              "    <tr>\n",
              "      <th>16964</th>\n",
              "      <td>999001970</td>\n",
              "      <td>26</td>\n",
              "      <td>propaganda</td>\n",
              "      <td>I'm sure Patel felt very, like, accepted.</td>\n",
              "    </tr>\n",
              "  </tbody>\n",
              "</table>\n",
              "<p>16965 rows × 4 columns</p>\n",
              "</div>"
            ],
            "text/plain": [
              "              ID line_number           class  \\\n",
              "0      111111112           1  non-propaganda   \n",
              "1      111111112           2  non-propaganda   \n",
              "2      111111112           3  non-propaganda   \n",
              "3      111111112           4  non-propaganda   \n",
              "4      111111112           5      propaganda   \n",
              "...          ...         ...             ...   \n",
              "16960  999001970          22  non-propaganda   \n",
              "16961  999001970          23  non-propaganda   \n",
              "16962  999001970          24      propaganda   \n",
              "16963  999001970          25      propaganda   \n",
              "16964  999001970          26      propaganda   \n",
              "\n",
              "                                                    text  \n",
              "0                    US bloggers banned from entering UK  \n",
              "1                                                         \n",
              "2      Two prominent US bloggers have been banned fro...  \n",
              "3                                                         \n",
              "4      Pamela Geller and Robert Spencer co-founded an...  \n",
              "...                                                  ...  \n",
              "16960  “I really dislike when people who are older sa...  \n",
              "16961  Obviously the world is not a safe space but ju...  \n",
              "16962  “When older generations say you need to stop b...  \n",
              "16963                                       Patel is 32.  \n",
              "16964          I'm sure Patel felt very, like, accepted.  \n",
              "\n",
              "[16965 rows x 4 columns]"
            ]
          },
          "metadata": {
            "tags": []
          },
          "execution_count": 164
        }
      ]
    },
    {
      "cell_type": "code",
      "metadata": {
        "id": "90UaJLpEClm-",
        "colab_type": "code",
        "colab": {}
      },
      "source": [
        "kek = [a=='' for a in slc_df.text.values]"
      ],
      "execution_count": null,
      "outputs": []
    },
    {
      "cell_type": "code",
      "metadata": {
        "id": "6AVdob-3ClnG",
        "colab_type": "code",
        "colab": {},
        "outputId": "9527f908-e2d6-4c68-b01f-21edfe4533e0"
      },
      "source": [
        "slc_df[kek]"
      ],
      "execution_count": null,
      "outputs": [
        {
          "output_type": "execute_result",
          "data": {
            "text/html": [
              "<div>\n",
              "<style scoped>\n",
              "    .dataframe tbody tr th:only-of-type {\n",
              "        vertical-align: middle;\n",
              "    }\n",
              "\n",
              "    .dataframe tbody tr th {\n",
              "        vertical-align: top;\n",
              "    }\n",
              "\n",
              "    .dataframe thead th {\n",
              "        text-align: right;\n",
              "    }\n",
              "</style>\n",
              "<table border=\"1\" class=\"dataframe\">\n",
              "  <thead>\n",
              "    <tr style=\"text-align: right;\">\n",
              "      <th></th>\n",
              "      <th>ID</th>\n",
              "      <th>line_number</th>\n",
              "      <th>class</th>\n",
              "      <th>text</th>\n",
              "    </tr>\n",
              "  </thead>\n",
              "  <tbody>\n",
              "    <tr>\n",
              "      <th>1</th>\n",
              "      <td>111111112</td>\n",
              "      <td>2</td>\n",
              "      <td>non-propaganda</td>\n",
              "      <td></td>\n",
              "    </tr>\n",
              "    <tr>\n",
              "      <th>3</th>\n",
              "      <td>111111112</td>\n",
              "      <td>4</td>\n",
              "      <td>non-propaganda</td>\n",
              "      <td></td>\n",
              "    </tr>\n",
              "    <tr>\n",
              "      <th>5</th>\n",
              "      <td>111111112</td>\n",
              "      <td>6</td>\n",
              "      <td>non-propaganda</td>\n",
              "      <td></td>\n",
              "    </tr>\n",
              "    <tr>\n",
              "      <th>7</th>\n",
              "      <td>111111112</td>\n",
              "      <td>8</td>\n",
              "      <td>non-propaganda</td>\n",
              "      <td></td>\n",
              "    </tr>\n",
              "    <tr>\n",
              "      <th>9</th>\n",
              "      <td>111111112</td>\n",
              "      <td>10</td>\n",
              "      <td>non-propaganda</td>\n",
              "      <td></td>\n",
              "    </tr>\n",
              "    <tr>\n",
              "      <th>...</th>\n",
              "      <td>...</td>\n",
              "      <td>...</td>\n",
              "      <td>...</td>\n",
              "      <td>...</td>\n",
              "    </tr>\n",
              "    <tr>\n",
              "      <th>16660</th>\n",
              "      <td>999001297</td>\n",
              "      <td>2</td>\n",
              "      <td>non-propaganda</td>\n",
              "      <td></td>\n",
              "    </tr>\n",
              "    <tr>\n",
              "      <th>16704</th>\n",
              "      <td>999001619</td>\n",
              "      <td>2</td>\n",
              "      <td>non-propaganda</td>\n",
              "      <td></td>\n",
              "    </tr>\n",
              "    <tr>\n",
              "      <th>16807</th>\n",
              "      <td>999001621</td>\n",
              "      <td>2</td>\n",
              "      <td>non-propaganda</td>\n",
              "      <td></td>\n",
              "    </tr>\n",
              "    <tr>\n",
              "      <th>16896</th>\n",
              "      <td>999001621</td>\n",
              "      <td>91</td>\n",
              "      <td>non-propaganda</td>\n",
              "      <td></td>\n",
              "    </tr>\n",
              "    <tr>\n",
              "      <th>16940</th>\n",
              "      <td>999001970</td>\n",
              "      <td>2</td>\n",
              "      <td>non-propaganda</td>\n",
              "      <td></td>\n",
              "    </tr>\n",
              "  </tbody>\n",
              "</table>\n",
              "<p>668 rows × 4 columns</p>\n",
              "</div>"
            ],
            "text/plain": [
              "              ID line_number           class text\n",
              "1      111111112           2  non-propaganda     \n",
              "3      111111112           4  non-propaganda     \n",
              "5      111111112           6  non-propaganda     \n",
              "7      111111112           8  non-propaganda     \n",
              "9      111111112          10  non-propaganda     \n",
              "...          ...         ...             ...  ...\n",
              "16660  999001297           2  non-propaganda     \n",
              "16704  999001619           2  non-propaganda     \n",
              "16807  999001621           2  non-propaganda     \n",
              "16896  999001621          91  non-propaganda     \n",
              "16940  999001970           2  non-propaganda     \n",
              "\n",
              "[668 rows x 4 columns]"
            ]
          },
          "metadata": {
            "tags": []
          },
          "execution_count": 179
        }
      ]
    },
    {
      "cell_type": "code",
      "metadata": {
        "id": "k2WSxvuEClnL",
        "colab_type": "code",
        "colab": {}
      },
      "source": [
        "mask = [not f for f in kek]"
      ],
      "execution_count": null,
      "outputs": []
    },
    {
      "cell_type": "code",
      "metadata": {
        "id": "c_6_ra9cClnQ",
        "colab_type": "code",
        "colab": {},
        "outputId": "9507ead8-9a66-4e7c-f918-8f150def0288"
      },
      "source": [
        "slc_df[mask]"
      ],
      "execution_count": null,
      "outputs": [
        {
          "output_type": "execute_result",
          "data": {
            "text/html": [
              "<div>\n",
              "<style scoped>\n",
              "    .dataframe tbody tr th:only-of-type {\n",
              "        vertical-align: middle;\n",
              "    }\n",
              "\n",
              "    .dataframe tbody tr th {\n",
              "        vertical-align: top;\n",
              "    }\n",
              "\n",
              "    .dataframe thead th {\n",
              "        text-align: right;\n",
              "    }\n",
              "</style>\n",
              "<table border=\"1\" class=\"dataframe\">\n",
              "  <thead>\n",
              "    <tr style=\"text-align: right;\">\n",
              "      <th></th>\n",
              "      <th>ID</th>\n",
              "      <th>line_number</th>\n",
              "      <th>class</th>\n",
              "      <th>text</th>\n",
              "    </tr>\n",
              "  </thead>\n",
              "  <tbody>\n",
              "    <tr>\n",
              "      <th>0</th>\n",
              "      <td>111111112</td>\n",
              "      <td>1</td>\n",
              "      <td>non-propaganda</td>\n",
              "      <td>US bloggers banned from entering UK</td>\n",
              "    </tr>\n",
              "    <tr>\n",
              "      <th>2</th>\n",
              "      <td>111111112</td>\n",
              "      <td>3</td>\n",
              "      <td>non-propaganda</td>\n",
              "      <td>Two prominent US bloggers have been banned fro...</td>\n",
              "    </tr>\n",
              "    <tr>\n",
              "      <th>4</th>\n",
              "      <td>111111112</td>\n",
              "      <td>5</td>\n",
              "      <td>propaganda</td>\n",
              "      <td>Pamela Geller and Robert Spencer co-founded an...</td>\n",
              "    </tr>\n",
              "    <tr>\n",
              "      <th>6</th>\n",
              "      <td>111111112</td>\n",
              "      <td>7</td>\n",
              "      <td>non-propaganda</td>\n",
              "      <td>They were due to speak at an English Defence L...</td>\n",
              "    </tr>\n",
              "    <tr>\n",
              "      <th>8</th>\n",
              "      <td>111111112</td>\n",
              "      <td>9</td>\n",
              "      <td>non-propaganda</td>\n",
              "      <td>A government spokesman said individuals whose ...</td>\n",
              "    </tr>\n",
              "    <tr>\n",
              "      <th>...</th>\n",
              "      <td>...</td>\n",
              "      <td>...</td>\n",
              "      <td>...</td>\n",
              "      <td>...</td>\n",
              "    </tr>\n",
              "    <tr>\n",
              "      <th>16960</th>\n",
              "      <td>999001970</td>\n",
              "      <td>22</td>\n",
              "      <td>non-propaganda</td>\n",
              "      <td>“I really dislike when people who are older sa...</td>\n",
              "    </tr>\n",
              "    <tr>\n",
              "      <th>16961</th>\n",
              "      <td>999001970</td>\n",
              "      <td>23</td>\n",
              "      <td>non-propaganda</td>\n",
              "      <td>Obviously the world is not a safe space but ju...</td>\n",
              "    </tr>\n",
              "    <tr>\n",
              "      <th>16962</th>\n",
              "      <td>999001970</td>\n",
              "      <td>24</td>\n",
              "      <td>propaganda</td>\n",
              "      <td>“When older generations say you need to stop b...</td>\n",
              "    </tr>\n",
              "    <tr>\n",
              "      <th>16963</th>\n",
              "      <td>999001970</td>\n",
              "      <td>25</td>\n",
              "      <td>propaganda</td>\n",
              "      <td>Patel is 32.</td>\n",
              "    </tr>\n",
              "    <tr>\n",
              "      <th>16964</th>\n",
              "      <td>999001970</td>\n",
              "      <td>26</td>\n",
              "      <td>propaganda</td>\n",
              "      <td>I'm sure Patel felt very, like, accepted.</td>\n",
              "    </tr>\n",
              "  </tbody>\n",
              "</table>\n",
              "<p>16297 rows × 4 columns</p>\n",
              "</div>"
            ],
            "text/plain": [
              "              ID line_number           class  \\\n",
              "0      111111112           1  non-propaganda   \n",
              "2      111111112           3  non-propaganda   \n",
              "4      111111112           5      propaganda   \n",
              "6      111111112           7  non-propaganda   \n",
              "8      111111112           9  non-propaganda   \n",
              "...          ...         ...             ...   \n",
              "16960  999001970          22  non-propaganda   \n",
              "16961  999001970          23  non-propaganda   \n",
              "16962  999001970          24      propaganda   \n",
              "16963  999001970          25      propaganda   \n",
              "16964  999001970          26      propaganda   \n",
              "\n",
              "                                                    text  \n",
              "0                    US bloggers banned from entering UK  \n",
              "2      Two prominent US bloggers have been banned fro...  \n",
              "4      Pamela Geller and Robert Spencer co-founded an...  \n",
              "6      They were due to speak at an English Defence L...  \n",
              "8      A government spokesman said individuals whose ...  \n",
              "...                                                  ...  \n",
              "16960  “I really dislike when people who are older sa...  \n",
              "16961  Obviously the world is not a safe space but ju...  \n",
              "16962  “When older generations say you need to stop b...  \n",
              "16963                                       Patel is 32.  \n",
              "16964          I'm sure Patel felt very, like, accepted.  \n",
              "\n",
              "[16297 rows x 4 columns]"
            ]
          },
          "metadata": {
            "tags": []
          },
          "execution_count": 195
        }
      ]
    },
    {
      "cell_type": "code",
      "metadata": {
        "id": "oPp4OX6mClnv",
        "colab_type": "code",
        "colab": {}
      },
      "source": [
        "slc_df_f = slc_df_f[mask].reset_index(drop=True)"
      ],
      "execution_count": null,
      "outputs": []
    },
    {
      "cell_type": "code",
      "metadata": {
        "id": "7-53bRg-Cln0",
        "colab_type": "code",
        "colab": {}
      },
      "source": [
        "slc_df_f.to_csv('SLC_task.csv',index=False)"
      ],
      "execution_count": null,
      "outputs": []
    },
    {
      "cell_type": "code",
      "metadata": {
        "id": "1Ew4V_2sCln5",
        "colab_type": "code",
        "colab": {},
        "outputId": "f2219ffb-3af0-4d39-a722-d4273f2e5f26"
      },
      "source": [
        "pd.read_csv('SLC_task.csv')"
      ],
      "execution_count": null,
      "outputs": [
        {
          "output_type": "execute_result",
          "data": {
            "text/html": [
              "<div>\n",
              "<style scoped>\n",
              "    .dataframe tbody tr th:only-of-type {\n",
              "        vertical-align: middle;\n",
              "    }\n",
              "\n",
              "    .dataframe tbody tr th {\n",
              "        vertical-align: top;\n",
              "    }\n",
              "\n",
              "    .dataframe thead th {\n",
              "        text-align: right;\n",
              "    }\n",
              "</style>\n",
              "<table border=\"1\" class=\"dataframe\">\n",
              "  <thead>\n",
              "    <tr style=\"text-align: right;\">\n",
              "      <th></th>\n",
              "      <th>ID</th>\n",
              "      <th>text</th>\n",
              "      <th>class</th>\n",
              "    </tr>\n",
              "  </thead>\n",
              "  <tbody>\n",
              "    <tr>\n",
              "      <th>0</th>\n",
              "      <td>111111112</td>\n",
              "      <td>US bloggers banned from entering UK</td>\n",
              "      <td>non-propaganda</td>\n",
              "    </tr>\n",
              "    <tr>\n",
              "      <th>1</th>\n",
              "      <td>111111112</td>\n",
              "      <td>Two prominent US bloggers have been banned from entering the UK, the Home Office has said.</td>\n",
              "      <td>non-propaganda</td>\n",
              "    </tr>\n",
              "    <tr>\n",
              "      <th>2</th>\n",
              "      <td>111111112</td>\n",
              "      <td>Pamela Geller and Robert Spencer co-founded anti-Muslim group Stop Islamization of America.</td>\n",
              "      <td>propaganda</td>\n",
              "    </tr>\n",
              "    <tr>\n",
              "      <th>3</th>\n",
              "      <td>111111112</td>\n",
              "      <td>They were due to speak at an English Defence League march in Woolwich, where Drummer Lee Rigby was killed.</td>\n",
              "      <td>non-propaganda</td>\n",
              "    </tr>\n",
              "    <tr>\n",
              "      <th>4</th>\n",
              "      <td>111111112</td>\n",
              "      <td>A government spokesman said individuals whose presence \"is not conducive to the public good\" could be excluded by the home secretary.</td>\n",
              "      <td>non-propaganda</td>\n",
              "    </tr>\n",
              "    <tr>\n",
              "      <th>...</th>\n",
              "      <td>...</td>\n",
              "      <td>...</td>\n",
              "      <td>...</td>\n",
              "    </tr>\n",
              "    <tr>\n",
              "      <th>16292</th>\n",
              "      <td>999001970</td>\n",
              "      <td>“I really dislike when people who are older say that our generation needs to be exposed to the real world.</td>\n",
              "      <td>non-propaganda</td>\n",
              "    </tr>\n",
              "    <tr>\n",
              "      <th>16293</th>\n",
              "      <td>999001970</td>\n",
              "      <td>Obviously the world is not a safe space but just accepting that it’s not and continuing to perpetuate the un-safeness of it… is saying that it can’t be changed,” said Jao.</td>\n",
              "      <td>non-propaganda</td>\n",
              "    </tr>\n",
              "    <tr>\n",
              "      <th>16294</th>\n",
              "      <td>999001970</td>\n",
              "      <td>“When older generations say you need to stop being so sensitive, it’s like undermining what our generation is trying to do in accepting others and making it safer.”</td>\n",
              "      <td>propaganda</td>\n",
              "    </tr>\n",
              "    <tr>\n",
              "      <th>16295</th>\n",
              "      <td>999001970</td>\n",
              "      <td>Patel is 32.</td>\n",
              "      <td>propaganda</td>\n",
              "    </tr>\n",
              "    <tr>\n",
              "      <th>16296</th>\n",
              "      <td>999001970</td>\n",
              "      <td>I'm sure Patel felt very, like, accepted.</td>\n",
              "      <td>propaganda</td>\n",
              "    </tr>\n",
              "  </tbody>\n",
              "</table>\n",
              "<p>16297 rows × 3 columns</p>\n",
              "</div>"
            ],
            "text/plain": [
              "              ID  \\\n",
              "0      111111112   \n",
              "1      111111112   \n",
              "2      111111112   \n",
              "3      111111112   \n",
              "4      111111112   \n",
              "...          ...   \n",
              "16292  999001970   \n",
              "16293  999001970   \n",
              "16294  999001970   \n",
              "16295  999001970   \n",
              "16296  999001970   \n",
              "\n",
              "                                                                                                                                                                              text  \\\n",
              "0      US bloggers banned from entering UK                                                                                                                                           \n",
              "1      Two prominent US bloggers have been banned from entering the UK, the Home Office has said.                                                                                    \n",
              "2      Pamela Geller and Robert Spencer co-founded anti-Muslim group Stop Islamization of America.                                                                                   \n",
              "3      They were due to speak at an English Defence League march in Woolwich, where Drummer Lee Rigby was killed.                                                                    \n",
              "4      A government spokesman said individuals whose presence \"is not conducive to the public good\" could be excluded by the home secretary.                                         \n",
              "...                                                                                                                                      ...                                         \n",
              "16292  “I really dislike when people who are older say that our generation needs to be exposed to the real world.                                                                    \n",
              "16293  Obviously the world is not a safe space but just accepting that it’s not and continuing to perpetuate the un-safeness of it… is saying that it can’t be changed,” said Jao.   \n",
              "16294  “When older generations say you need to stop being so sensitive, it’s like undermining what our generation is trying to do in accepting others and making it safer.”          \n",
              "16295  Patel is 32.                                                                                                                                                                  \n",
              "16296  I'm sure Patel felt very, like, accepted.                                                                                                                                     \n",
              "\n",
              "                class  \n",
              "0      non-propaganda  \n",
              "1      non-propaganda  \n",
              "2      propaganda      \n",
              "3      non-propaganda  \n",
              "4      non-propaganda  \n",
              "...               ...  \n",
              "16292  non-propaganda  \n",
              "16293  non-propaganda  \n",
              "16294  propaganda      \n",
              "16295  propaganda      \n",
              "16296  propaganda      \n",
              "\n",
              "[16297 rows x 3 columns]"
            ]
          },
          "metadata": {
            "tags": []
          },
          "execution_count": 221
        }
      ]
    },
    {
      "cell_type": "code",
      "metadata": {
        "id": "pWYx38p0Cln_",
        "colab_type": "code",
        "colab": {},
        "outputId": "af9dd448-dcf5-4155-d5d7-40941c5feb81"
      },
      "source": [
        "pd.read_csv('SLC_task.csv')"
      ],
      "execution_count": null,
      "outputs": [
        {
          "output_type": "execute_result",
          "data": {
            "text/html": [
              "<div>\n",
              "<style scoped>\n",
              "    .dataframe tbody tr th:only-of-type {\n",
              "        vertical-align: middle;\n",
              "    }\n",
              "\n",
              "    .dataframe tbody tr th {\n",
              "        vertical-align: top;\n",
              "    }\n",
              "\n",
              "    .dataframe thead th {\n",
              "        text-align: right;\n",
              "    }\n",
              "</style>\n",
              "<table border=\"1\" class=\"dataframe\">\n",
              "  <thead>\n",
              "    <tr style=\"text-align: right;\">\n",
              "      <th></th>\n",
              "      <th>Unnamed: 0</th>\n",
              "      <th>ID</th>\n",
              "      <th>text</th>\n",
              "      <th>class</th>\n",
              "    </tr>\n",
              "  </thead>\n",
              "  <tbody>\n",
              "    <tr>\n",
              "      <th>0</th>\n",
              "      <td>0</td>\n",
              "      <td>111111112</td>\n",
              "      <td>US bloggers banned from entering UK</td>\n",
              "      <td>non-propaganda</td>\n",
              "    </tr>\n",
              "    <tr>\n",
              "      <th>1</th>\n",
              "      <td>1</td>\n",
              "      <td>111111112</td>\n",
              "      <td>Two prominent US bloggers have been banned from entering the UK, the Home Office has said.</td>\n",
              "      <td>non-propaganda</td>\n",
              "    </tr>\n",
              "    <tr>\n",
              "      <th>2</th>\n",
              "      <td>2</td>\n",
              "      <td>111111112</td>\n",
              "      <td>Pamela Geller and Robert Spencer co-founded anti-Muslim group Stop Islamization of America.</td>\n",
              "      <td>propaganda</td>\n",
              "    </tr>\n",
              "    <tr>\n",
              "      <th>3</th>\n",
              "      <td>3</td>\n",
              "      <td>111111112</td>\n",
              "      <td>They were due to speak at an English Defence League march in Woolwich, where Drummer Lee Rigby was killed.</td>\n",
              "      <td>non-propaganda</td>\n",
              "    </tr>\n",
              "    <tr>\n",
              "      <th>4</th>\n",
              "      <td>4</td>\n",
              "      <td>111111112</td>\n",
              "      <td>A government spokesman said individuals whose presence \"is not conducive to the public good\" could be excluded by the home secretary.</td>\n",
              "      <td>non-propaganda</td>\n",
              "    </tr>\n",
              "    <tr>\n",
              "      <th>...</th>\n",
              "      <td>...</td>\n",
              "      <td>...</td>\n",
              "      <td>...</td>\n",
              "      <td>...</td>\n",
              "    </tr>\n",
              "    <tr>\n",
              "      <th>16292</th>\n",
              "      <td>16292</td>\n",
              "      <td>999001970</td>\n",
              "      <td>“I really dislike when people who are older say that our generation needs to be exposed to the real world.</td>\n",
              "      <td>non-propaganda</td>\n",
              "    </tr>\n",
              "    <tr>\n",
              "      <th>16293</th>\n",
              "      <td>16293</td>\n",
              "      <td>999001970</td>\n",
              "      <td>Obviously the world is not a safe space but just accepting that it’s not and continuing to perpetuate the un-safeness of it… is saying that it can’t be changed,” said Jao.</td>\n",
              "      <td>non-propaganda</td>\n",
              "    </tr>\n",
              "    <tr>\n",
              "      <th>16294</th>\n",
              "      <td>16294</td>\n",
              "      <td>999001970</td>\n",
              "      <td>“When older generations say you need to stop being so sensitive, it’s like undermining what our generation is trying to do in accepting others and making it safer.”</td>\n",
              "      <td>propaganda</td>\n",
              "    </tr>\n",
              "    <tr>\n",
              "      <th>16295</th>\n",
              "      <td>16295</td>\n",
              "      <td>999001970</td>\n",
              "      <td>Patel is 32.</td>\n",
              "      <td>propaganda</td>\n",
              "    </tr>\n",
              "    <tr>\n",
              "      <th>16296</th>\n",
              "      <td>16296</td>\n",
              "      <td>999001970</td>\n",
              "      <td>I'm sure Patel felt very, like, accepted.</td>\n",
              "      <td>propaganda</td>\n",
              "    </tr>\n",
              "  </tbody>\n",
              "</table>\n",
              "<p>16297 rows × 4 columns</p>\n",
              "</div>"
            ],
            "text/plain": [
              "       Unnamed: 0         ID  \\\n",
              "0      0           111111112   \n",
              "1      1           111111112   \n",
              "2      2           111111112   \n",
              "3      3           111111112   \n",
              "4      4           111111112   \n",
              "...   ..                 ...   \n",
              "16292  16292       999001970   \n",
              "16293  16293       999001970   \n",
              "16294  16294       999001970   \n",
              "16295  16295       999001970   \n",
              "16296  16296       999001970   \n",
              "\n",
              "                                                                                                                                                                              text  \\\n",
              "0      US bloggers banned from entering UK                                                                                                                                           \n",
              "1      Two prominent US bloggers have been banned from entering the UK, the Home Office has said.                                                                                    \n",
              "2      Pamela Geller and Robert Spencer co-founded anti-Muslim group Stop Islamization of America.                                                                                   \n",
              "3      They were due to speak at an English Defence League march in Woolwich, where Drummer Lee Rigby was killed.                                                                    \n",
              "4      A government spokesman said individuals whose presence \"is not conducive to the public good\" could be excluded by the home secretary.                                         \n",
              "...                                                                                                                                      ...                                         \n",
              "16292  “I really dislike when people who are older say that our generation needs to be exposed to the real world.                                                                    \n",
              "16293  Obviously the world is not a safe space but just accepting that it’s not and continuing to perpetuate the un-safeness of it… is saying that it can’t be changed,” said Jao.   \n",
              "16294  “When older generations say you need to stop being so sensitive, it’s like undermining what our generation is trying to do in accepting others and making it safer.”          \n",
              "16295  Patel is 32.                                                                                                                                                                  \n",
              "16296  I'm sure Patel felt very, like, accepted.                                                                                                                                     \n",
              "\n",
              "                class  \n",
              "0      non-propaganda  \n",
              "1      non-propaganda  \n",
              "2      propaganda      \n",
              "3      non-propaganda  \n",
              "4      non-propaganda  \n",
              "...               ...  \n",
              "16292  non-propaganda  \n",
              "16293  non-propaganda  \n",
              "16294  propaganda      \n",
              "16295  propaganda      \n",
              "16296  propaganda      \n",
              "\n",
              "[16297 rows x 4 columns]"
            ]
          },
          "metadata": {
            "tags": []
          },
          "execution_count": 214
        }
      ]
    },
    {
      "cell_type": "code",
      "metadata": {
        "id": "mPZVrfZnCloW",
        "colab_type": "code",
        "colab": {}
      },
      "source": [
        ""
      ],
      "execution_count": null,
      "outputs": []
    },
    {
      "cell_type": "code",
      "metadata": {
        "id": "WrB33SkTCloc",
        "colab_type": "code",
        "colab": {}
      },
      "source": [
        ""
      ],
      "execution_count": null,
      "outputs": []
    },
    {
      "cell_type": "code",
      "metadata": {
        "id": "24jmMneaCloi",
        "colab_type": "code",
        "colab": {}
      },
      "source": [
        ""
      ],
      "execution_count": null,
      "outputs": []
    },
    {
      "cell_type": "code",
      "metadata": {
        "id": "G2E_DhGEClop",
        "colab_type": "code",
        "colab": {}
      },
      "source": [
        ""
      ],
      "execution_count": null,
      "outputs": []
    },
    {
      "cell_type": "code",
      "metadata": {
        "id": "hC-besqyClow",
        "colab_type": "code",
        "colab": {}
      },
      "source": [
        ""
      ],
      "execution_count": null,
      "outputs": []
    },
    {
      "cell_type": "code",
      "metadata": {
        "id": "BoBhSNskClo2",
        "colab_type": "code",
        "colab": {}
      },
      "source": [
        ""
      ],
      "execution_count": null,
      "outputs": []
    },
    {
      "cell_type": "code",
      "metadata": {
        "id": "BzTbWwJ9Clo-",
        "colab_type": "code",
        "colab": {}
      },
      "source": [
        ""
      ],
      "execution_count": null,
      "outputs": []
    },
    {
      "cell_type": "code",
      "metadata": {
        "id": "bU4O7HGMClpC",
        "colab_type": "code",
        "colab": {}
      },
      "source": [
        ""
      ],
      "execution_count": null,
      "outputs": []
    },
    {
      "cell_type": "code",
      "metadata": {
        "id": "hQnwo8G6ClpH",
        "colab_type": "code",
        "colab": {}
      },
      "source": [
        ""
      ],
      "execution_count": null,
      "outputs": []
    }
  ]
}