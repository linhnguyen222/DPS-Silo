{
  "nbformat": 4,
  "nbformat_minor": 0,
  "metadata": {
    "colab": {
      "name": "SeqTagMulticlass_Luna.ipynb",
      "provenance": [],
      "collapsed_sections": [],
      "machine_shape": "hm",
      "authorship_tag": "ABX9TyOfowOEkDwwwGN9sHoU0XSE",
      "include_colab_link": true
    },
    "kernelspec": {
      "name": "python3",
      "display_name": "Python 3"
    },
    "accelerator": "GPU"
  },
  "cells": [
    {
      "cell_type": "markdown",
      "metadata": {
        "id": "view-in-github",
        "colab_type": "text"
      },
      "source": [
        "<a href=\"https://colab.research.google.com/github/linhnguyen222/DPS-Silo/blob/master/SeqTagMulticlass_Luna.ipynb\" target=\"_parent\"><img src=\"https://colab.research.google.com/assets/colab-badge.svg\" alt=\"Open In Colab\"/></a>"
      ]
    },
    {
      "cell_type": "markdown",
      "metadata": {
        "id": "dhCLMONDlKuI"
      },
      "source": [
        "Multi-class Sequence Tagging"
      ]
    },
    {
      "cell_type": "code",
      "metadata": {
        "id": "cUWlk0prGfb-",
        "outputId": "2e8e1e90-c7b3-448a-debd-ecd9c3cdce0d",
        "colab": {
          "base_uri": "https://localhost:8080/"
        }
      },
      "source": [
        "from psutil import virtual_memory\n",
        "ram_gb = virtual_memory().total / 1e9\n",
        "print('Your runtime has {:.1f} gigabytes of available RAM\\n'.format(ram_gb))\n",
        "\n",
        "if ram_gb < 20:\n",
        "  print('To enable a high-RAM runtime, select the Runtime > \"Change runtime type\"')\n",
        "  print('menu, and then select High-RAM in the Runtime shape dropdown. Then, ')\n",
        "  print('re-execute this cell.')\n",
        "else:\n",
        "  print('You are using a high-RAM runtime!')"
      ],
      "execution_count": 3,
      "outputs": [
        {
          "output_type": "stream",
          "text": [
            "Your runtime has 27.4 gigabytes of available RAM\n",
            "\n",
            "You are using a high-RAM runtime!\n"
          ],
          "name": "stdout"
        }
      ]
    },
    {
      "cell_type": "code",
      "metadata": {
        "id": "81nDPb7ZGiZ_"
      },
      "source": [
        "gpu_info = !nvidia-smi\n",
        "gpu_info = '\\n'.join(gpu_info)\n",
        "if gpu_info.find('failed') >= 0:\n",
        "  print('Select the Runtime > \"Change runtime type\" menu to enable a GPU accelerator, ')\n",
        "  print('and then re-execute this cell.')\n",
        "else:\n",
        "  print(gpu_info)"
      ],
      "execution_count": null,
      "outputs": []
    },
    {
      "cell_type": "code",
      "metadata": {
        "id": "-2I7zW1qJ57m",
        "outputId": "ba4f5c2b-ff52-4b69-fe46-9428ef6485da",
        "colab": {
          "base_uri": "https://localhost:8080/"
        }
      },
      "source": [
        "!pip -q install trax==1.3.1\n",
        "\n",
        "import trax \n",
        "from trax import layers as tl\n",
        "import os \n",
        "import numpy as np\n",
        "import pandas as pd\n",
        "from pathlib import Path\n",
        "\n",
        "\n",
        "#from pytorch_pretrained_bert import BertTokenizer\n",
        "import torch\n",
        "from pandas import DataFrame\n",
        "import random as rnd\n",
        "\n",
        "# set random seeds to make this notebook easier to replicate\n",
        "trax.supervised.trainer_lib.init_random_number_generators(33)"
      ],
      "execution_count": 1,
      "outputs": [
        {
          "output_type": "stream",
          "text": [
            "\u001b[K     |████████████████████████████████| 348kB 2.8MB/s \n",
            "\u001b[K     |████████████████████████████████| 1.5MB 13.2MB/s \n",
            "\u001b[K     |████████████████████████████████| 174kB 16.9MB/s \n",
            "\u001b[K     |████████████████████████████████| 2.6MB 17.8MB/s \n",
            "\u001b[K     |████████████████████████████████| 5.3MB 38.3MB/s \n",
            "\u001b[K     |████████████████████████████████| 655kB 50.0MB/s \n",
            "\u001b[K     |████████████████████████████████| 983kB 46.1MB/s \n",
            "\u001b[K     |████████████████████████████████| 81kB 8.9MB/s \n",
            "\u001b[K     |████████████████████████████████| 348kB 54.9MB/s \n",
            "\u001b[K     |████████████████████████████████| 194kB 47.1MB/s \n",
            "\u001b[K     |████████████████████████████████| 368kB 51.5MB/s \n",
            "\u001b[K     |████████████████████████████████| 358kB 55.2MB/s \n",
            "\u001b[K     |████████████████████████████████| 1.1MB 54.7MB/s \n",
            "\u001b[K     |████████████████████████████████| 1.3MB 43.3MB/s \n",
            "\u001b[K     |████████████████████████████████| 71kB 8.0MB/s \n",
            "\u001b[K     |████████████████████████████████| 3.6MB 46.6MB/s \n",
            "\u001b[K     |████████████████████████████████| 51kB 6.5MB/s \n",
            "\u001b[K     |████████████████████████████████| 245kB 45.4MB/s \n",
            "\u001b[K     |████████████████████████████████| 890kB 44.1MB/s \n",
            "\u001b[K     |████████████████████████████████| 2.9MB 48.0MB/s \n",
            "\u001b[?25h  Building wheel for pypng (setup.py) ... \u001b[?25l\u001b[?25hdone\n",
            "  Building wheel for bz2file (setup.py) ... \u001b[?25l\u001b[?25hdone\n",
            "  Building wheel for sacremoses (setup.py) ... \u001b[?25l\u001b[?25hdone\n",
            "\u001b[31mERROR: kfac 0.2.3 has requirement tensorflow-probability==0.8, but you'll have tensorflow-probability 0.7.0 which is incompatible.\u001b[0m\n",
            "\u001b[31mERROR: transformers 3.5.0 has requirement sentencepiece==0.1.91, but you'll have sentencepiece 0.1.94 which is incompatible.\u001b[0m\n"
          ],
          "name": "stdout"
        },
        {
          "output_type": "execute_result",
          "data": {
            "text/plain": [
              "DeviceArray([ 0, 33], dtype=uint32)"
            ]
          },
          "metadata": {
            "tags": []
          },
          "execution_count": 1
        }
      ]
    },
    {
      "cell_type": "code",
      "metadata": {
        "id": "iD7i2z5wGnq2",
        "outputId": "e0643464-f8ab-4cc9-9c66-d819774afedf",
        "colab": {
          "base_uri": "https://localhost:8080/"
        }
      },
      "source": [
        "from google.colab import drive\n",
        "# drive.mount('/content/drive')\n",
        "drive.mount(\"/content/drive\", force_remount=True)\n",
        "traindirectory = '/content/drive/My Drive/DSP/data/protechn_corpus_eval/train'\n",
        "testdirectory = '/content/drive/My Drive/DSP/data/protechn_corpus_eval/test'\n",
        "devdirectory = '/content/drive/My Drive/DSP/data/protechn_corpus_eval/dev'"
      ],
      "execution_count": 4,
      "outputs": [
        {
          "output_type": "stream",
          "text": [
            "Mounted at /content/drive\n"
          ],
          "name": "stdout"
        }
      ]
    },
    {
      "cell_type": "code",
      "metadata": {
        "id": "bJojhYR3GvpL"
      },
      "source": [
        "def read_data(directory):\n",
        "    ids = []\n",
        "    texts = []\n",
        "    labels = []\n",
        "    for f in directory.glob('*.txt'):\n",
        "        id = f.name.replace('article', '').replace('.txt','')\n",
        "        ids.append(id)\n",
        "        texts.append(f.read_text())\n",
        "        labels.append(parse_label(f.as_posix().replace('.txt', '.labels.tsv')))\n",
        "    # labels can be empty \n",
        "    return ids, texts, labels\n",
        "\n",
        "def clean_text(articles, ids):\n",
        "    texts = []\n",
        "    for article, id in zip(articles, ids):\n",
        "        sentences = article.split('\\n')\n",
        "        start = 0\n",
        "        end = -1\n",
        "        res = []\n",
        "        for sentence in sentences:\n",
        "           start = end + 1\n",
        "           end = start + len(sentence)  # length of sequence \n",
        "           if sentence != \"\": # if not empty line\n",
        "               res.append([id, sentence, start, end])\n",
        "        texts.append(res)\n",
        "    return texts\n",
        "\n",
        "\n",
        "def make_dataset(directory):\n",
        "    ids, texts, labels = read_data(directory)\n",
        "    texts = clean_text(texts, ids)\n",
        "    res = []\n",
        "    for text, label in zip(texts, labels):\n",
        "        # making positive examples\n",
        "        tmp = [] \n",
        "        pos_ind = [0] * len(text)\n",
        "        for l in label:\n",
        "            for i, sen in enumerate(text):\n",
        "                if l[0] >= sen[2] and l[0] < sen[3] and l[1] > sen[3]:\n",
        "                    l[4] = 1\n",
        "                    tmp.append(sen + [l[0], sen[3], l[2], l[3], l[4]])\n",
        "                    pos_ind[i] = 1\n",
        "                    l[0] = sen[3] + 1\n",
        "                elif l[0] != l[1] and l[0] >= sen[2] and l[0] < sen[3] and l[1] <= sen[3]: \n",
        "                    tmp.append(sen + l)\n",
        "                    pos_ind[i] = 1\n",
        "        # making negative examples\n",
        "        dummy = [0, 0, 'O', 0, 0]\n",
        "        for k, sen in enumerate(text):\n",
        "            if pos_ind[k] != 1:\n",
        "                tmp.append(sen+dummy)\n",
        "        res.append(tmp)     \n",
        "    return res"
      ],
      "execution_count": 5,
      "outputs": []
    },
    {
      "cell_type": "code",
      "metadata": {
        "id": "vJUHkt2YG6hf"
      },
      "source": [
        "def parse_label(label_path):\n",
        "    labels = []\n",
        "    f= Path(label_path)\n",
        "    \n",
        "    if not f.exists():\n",
        "        return labels\n",
        "\n",
        "    for line in open(label_path):\n",
        "        parts = line.strip().split('\\t')\n",
        "        labels.append([int(parts[2]), int(parts[3]), parts[1], 0, 0])\n",
        "    labels = sorted(labels) \n",
        "\n",
        "    if labels:\n",
        "        length = max([label[1] for label in labels]) \n",
        "        visit = np.zeros(length)\n",
        "        res = []\n",
        "        for label in labels:\n",
        "            if sum(visit[label[0]:label[1]]):\n",
        "                label[3] = 1\n",
        "            else:\n",
        "               visit[label[0]:label[1]] = 1\n",
        "            res.append(label)\n",
        "        return res \n",
        "    else:\n",
        "        return labels"
      ],
      "execution_count": 6,
      "outputs": []
    },
    {
      "cell_type": "code",
      "metadata": {
        "id": "yQuzpVmVHGFL"
      },
      "source": [
        "dataset=make_dataset(Path('/content/drive/My Drive/DSP/data/protechn_corpus_eval/train'))\n"
      ],
      "execution_count": 7,
      "outputs": []
    },
    {
      "cell_type": "code",
      "metadata": {
        "id": "fyBwoiuOHOvL",
        "outputId": "0326c3f0-98c0-49ac-b1a3-d971336c1347",
        "colab": {
          "base_uri": "https://localhost:8080/",
          "height": 198
        }
      },
      "source": [
        "empty=[]\n",
        "for i in dataset:\n",
        "    \n",
        "    temp=DataFrame(i, columns=['id', 'full_sent', 'start_sent', 'end_sent', 'start_prop', 'end_prop','prop', 'ex1', 'ex2' ])\n",
        "    empty.append(temp)\n",
        "\n",
        "df=pd.concat(empty)  \n",
        "df = df.drop(['ex1'],axis =1).drop(['ex2'],axis =1)\n",
        "df.prop.value_counts()\n",
        "df=df.reset_index()\n",
        "#del df['index']\n",
        "\n",
        "df.head()\n"
      ],
      "execution_count": 74,
      "outputs": [
        {
          "output_type": "execute_result",
          "data": {
            "text/html": [
              "<div>\n",
              "<style scoped>\n",
              "    .dataframe tbody tr th:only-of-type {\n",
              "        vertical-align: middle;\n",
              "    }\n",
              "\n",
              "    .dataframe tbody tr th {\n",
              "        vertical-align: top;\n",
              "    }\n",
              "\n",
              "    .dataframe thead th {\n",
              "        text-align: right;\n",
              "    }\n",
              "</style>\n",
              "<table border=\"1\" class=\"dataframe\">\n",
              "  <thead>\n",
              "    <tr style=\"text-align: right;\">\n",
              "      <th></th>\n",
              "      <th>index</th>\n",
              "      <th>id</th>\n",
              "      <th>full_sent</th>\n",
              "      <th>start_sent</th>\n",
              "      <th>end_sent</th>\n",
              "      <th>start_prop</th>\n",
              "      <th>end_prop</th>\n",
              "      <th>prop</th>\n",
              "    </tr>\n",
              "  </thead>\n",
              "  <tbody>\n",
              "    <tr>\n",
              "      <th>0</th>\n",
              "      <td>0</td>\n",
              "      <td>7618745059</td>\n",
              "      <td>“They interpreted the law in my case to say it...</td>\n",
              "      <td>1695</td>\n",
              "      <td>1873</td>\n",
              "      <td>1831</td>\n",
              "      <td>1872</td>\n",
              "      <td>Whataboutism</td>\n",
              "    </tr>\n",
              "    <tr>\n",
              "      <th>1</th>\n",
              "      <td>1</td>\n",
              "      <td>7618745059</td>\n",
              "      <td>Two guys on my ship did the same thing and wer...</td>\n",
              "      <td>1905</td>\n",
              "      <td>1977</td>\n",
              "      <td>1925</td>\n",
              "      <td>1976</td>\n",
              "      <td>Whataboutism</td>\n",
              "    </tr>\n",
              "    <tr>\n",
              "      <th>2</th>\n",
              "      <td>2</td>\n",
              "      <td>7618745059</td>\n",
              "      <td>“They used me as an example because of [the ba...</td>\n",
              "      <td>2312</td>\n",
              "      <td>2454</td>\n",
              "      <td>2312</td>\n",
              "      <td>2388</td>\n",
              "      <td>Causal_Oversimplification</td>\n",
              "    </tr>\n",
              "    <tr>\n",
              "      <th>3</th>\n",
              "      <td>3</td>\n",
              "      <td>7618745059</td>\n",
              "      <td>The government actively destroyed his life an ...</td>\n",
              "      <td>2710</td>\n",
              "      <td>2819</td>\n",
              "      <td>2725</td>\n",
              "      <td>2782</td>\n",
              "      <td>Exaggeration,Minimisation</td>\n",
              "    </tr>\n",
              "    <tr>\n",
              "      <th>4</th>\n",
              "      <td>4</td>\n",
              "      <td>7618745059</td>\n",
              "      <td>Ex-Sailor Pardoned By Trump Says He’s SUING Ob...</td>\n",
              "      <td>0</td>\n",
              "      <td>59</td>\n",
              "      <td>0</td>\n",
              "      <td>0</td>\n",
              "      <td>O</td>\n",
              "    </tr>\n",
              "  </tbody>\n",
              "</table>\n",
              "</div>"
            ],
            "text/plain": [
              "   index          id  ... end_prop                       prop\n",
              "0      0  7618745059  ...     1872               Whataboutism\n",
              "1      1  7618745059  ...     1976               Whataboutism\n",
              "2      2  7618745059  ...     2388  Causal_Oversimplification\n",
              "3      3  7618745059  ...     2782  Exaggeration,Minimisation\n",
              "4      4  7618745059  ...        0                          O\n",
              "\n",
              "[5 rows x 8 columns]"
            ]
          },
          "metadata": {
            "tags": []
          },
          "execution_count": 74
        }
      ]
    },
    {
      "cell_type": "code",
      "metadata": {
        "id": "tR-6tEnkA1-o"
      },
      "source": [
        "#We code the labels to integers\n",
        "\"\"\"\n",
        "possible_labels=df.prop.unique()\n",
        "label_dict={}\n",
        "for index, possible_label in enumerate(possible_labels):\n",
        "    label_dict[possible_label]=index\n",
        "print(label_dict)\n",
        "\"\"\"\n",
        "label_dict={'O': 0, 'Black-and-White_Fallacy': 1, 'Loaded_Language': 2, 'Flag-Waving': 3, \n",
        " 'Name_Calling,Labeling': 4, 'Slogans': 5, 'Causal_Oversimplification': 6, 'Whataboutism': 7,\n",
        " 'Exaggeration,Minimisation': 8, 'Doubt': 9, 'Appeal_to_Authority': 10, 'Repetition': 11, 'Appeal_to_fear-prejudice': 12,\n",
        " 'Thought-terminating_Cliches': 13, 'Bandwagon': 14, 'Red_Herring': 15, 'Reductio_ad_hitlerum': 16,\n",
        " 'Obfuscation,Intentional_Vagueness,Confusion': 17, 'Straw_Men': 18}\n",
        "\n",
        "label_dict\n",
        "df['label']=df.prop.replace(label_dict)\n"
      ],
      "execution_count": 75,
      "outputs": []
    },
    {
      "cell_type": "code",
      "metadata": {
        "id": "ylk-Og8hWXjL",
        "outputId": "92493ba7-7e88-4235-9a16-e3a9b855900e",
        "colab": {
          "base_uri": "https://localhost:8080/",
          "height": 198
        }
      },
      "source": [
        "df.head()"
      ],
      "execution_count": 12,
      "outputs": [
        {
          "output_type": "execute_result",
          "data": {
            "text/html": [
              "<div>\n",
              "<style scoped>\n",
              "    .dataframe tbody tr th:only-of-type {\n",
              "        vertical-align: middle;\n",
              "    }\n",
              "\n",
              "    .dataframe tbody tr th {\n",
              "        vertical-align: top;\n",
              "    }\n",
              "\n",
              "    .dataframe thead th {\n",
              "        text-align: right;\n",
              "    }\n",
              "</style>\n",
              "<table border=\"1\" class=\"dataframe\">\n",
              "  <thead>\n",
              "    <tr style=\"text-align: right;\">\n",
              "      <th></th>\n",
              "      <th>id</th>\n",
              "      <th>full_sent</th>\n",
              "      <th>start_sent</th>\n",
              "      <th>end_sent</th>\n",
              "      <th>start_prop</th>\n",
              "      <th>end_prop</th>\n",
              "      <th>prop</th>\n",
              "      <th>label</th>\n",
              "    </tr>\n",
              "  </thead>\n",
              "  <tbody>\n",
              "    <tr>\n",
              "      <th>0</th>\n",
              "      <td>7618745059</td>\n",
              "      <td>“They interpreted the law in my case to say it...</td>\n",
              "      <td>1695</td>\n",
              "      <td>1873</td>\n",
              "      <td>1831</td>\n",
              "      <td>1872</td>\n",
              "      <td>Whataboutism</td>\n",
              "      <td>7</td>\n",
              "    </tr>\n",
              "    <tr>\n",
              "      <th>1</th>\n",
              "      <td>7618745059</td>\n",
              "      <td>Two guys on my ship did the same thing and wer...</td>\n",
              "      <td>1905</td>\n",
              "      <td>1977</td>\n",
              "      <td>1925</td>\n",
              "      <td>1976</td>\n",
              "      <td>Whataboutism</td>\n",
              "      <td>7</td>\n",
              "    </tr>\n",
              "    <tr>\n",
              "      <th>2</th>\n",
              "      <td>7618745059</td>\n",
              "      <td>“They used me as an example because of [the ba...</td>\n",
              "      <td>2312</td>\n",
              "      <td>2454</td>\n",
              "      <td>2312</td>\n",
              "      <td>2388</td>\n",
              "      <td>Causal_Oversimplification</td>\n",
              "      <td>6</td>\n",
              "    </tr>\n",
              "    <tr>\n",
              "      <th>3</th>\n",
              "      <td>7618745059</td>\n",
              "      <td>The government actively destroyed his life an ...</td>\n",
              "      <td>2710</td>\n",
              "      <td>2819</td>\n",
              "      <td>2725</td>\n",
              "      <td>2782</td>\n",
              "      <td>Exaggeration,Minimisation</td>\n",
              "      <td>8</td>\n",
              "    </tr>\n",
              "    <tr>\n",
              "      <th>4</th>\n",
              "      <td>7618745059</td>\n",
              "      <td>Ex-Sailor Pardoned By Trump Says He’s SUING Ob...</td>\n",
              "      <td>0</td>\n",
              "      <td>59</td>\n",
              "      <td>0</td>\n",
              "      <td>0</td>\n",
              "      <td>O</td>\n",
              "      <td>0</td>\n",
              "    </tr>\n",
              "  </tbody>\n",
              "</table>\n",
              "</div>"
            ],
            "text/plain": [
              "           id  ... label\n",
              "0  7618745059  ...     7\n",
              "1  7618745059  ...     7\n",
              "2  7618745059  ...     6\n",
              "3  7618745059  ...     8\n",
              "4  7618745059  ...     0\n",
              "\n",
              "[5 rows x 8 columns]"
            ]
          },
          "metadata": {
            "tags": []
          },
          "execution_count": 12
        }
      ]
    },
    {
      "cell_type": "code",
      "metadata": {
        "id": "4_aacIuAI0Ny"
      },
      "source": [
        "df['binary']=10\n",
        "#test\n",
        "#df.at[1,'binary']=10\n",
        "#this works\n",
        "for i in range (0, 15752):\n",
        "    if df.iloc[i]['label']==0  :\n",
        "        \n",
        "        df.at[i, 'binary']= 0 \n",
        "    else:\n",
        "        #False\n",
        "        df.at[i, 'binary']= 1 \n"
      ],
      "execution_count": 76,
      "outputs": []
    },
    {
      "cell_type": "code",
      "metadata": {
        "id": "xpWlR62bOChb"
      },
      "source": [
        "#we find length of sentence strings\n",
        "df['sentence_length']=0\n",
        "for i in range (0, 15752):\n",
        "    df.at[i,'sentence_length']=df.iloc[i]['end_sent']-df.iloc[i]['start_sent'] \n",
        "        \n",
        "        \n",
        " #we find length of propaganda token strings  \n",
        "df['prop_length']=0\n",
        "for i in range (0, 15752):\n",
        "    df.at[i,'prop_length']=df.iloc[i]['end_prop']-df.iloc[i]['start_prop'] \n",
        "        "
      ],
      "execution_count": 77,
      "outputs": []
    },
    {
      "cell_type": "code",
      "metadata": {
        "id": "8BvEBggl6FrQ",
        "outputId": "929a3a4c-4d40-4417-e827-9907007a3f31",
        "colab": {
          "base_uri": "https://localhost:8080/",
          "height": 285
        }
      },
      "source": [
        "#df=pd.read_csv(Path(\"/content/export-train-seq\"))\n",
        "df.head()"
      ],
      "execution_count": 78,
      "outputs": [
        {
          "output_type": "execute_result",
          "data": {
            "text/html": [
              "<div>\n",
              "<style scoped>\n",
              "    .dataframe tbody tr th:only-of-type {\n",
              "        vertical-align: middle;\n",
              "    }\n",
              "\n",
              "    .dataframe tbody tr th {\n",
              "        vertical-align: top;\n",
              "    }\n",
              "\n",
              "    .dataframe thead th {\n",
              "        text-align: right;\n",
              "    }\n",
              "</style>\n",
              "<table border=\"1\" class=\"dataframe\">\n",
              "  <thead>\n",
              "    <tr style=\"text-align: right;\">\n",
              "      <th></th>\n",
              "      <th>index</th>\n",
              "      <th>id</th>\n",
              "      <th>full_sent</th>\n",
              "      <th>start_sent</th>\n",
              "      <th>end_sent</th>\n",
              "      <th>start_prop</th>\n",
              "      <th>end_prop</th>\n",
              "      <th>prop</th>\n",
              "      <th>label</th>\n",
              "      <th>binary</th>\n",
              "      <th>sentence_length</th>\n",
              "      <th>prop_length</th>\n",
              "    </tr>\n",
              "  </thead>\n",
              "  <tbody>\n",
              "    <tr>\n",
              "      <th>0</th>\n",
              "      <td>0</td>\n",
              "      <td>7618745059</td>\n",
              "      <td>“They interpreted the law in my case to say it...</td>\n",
              "      <td>1695</td>\n",
              "      <td>1873</td>\n",
              "      <td>1831</td>\n",
              "      <td>1872</td>\n",
              "      <td>Whataboutism</td>\n",
              "      <td>7</td>\n",
              "      <td>1</td>\n",
              "      <td>178</td>\n",
              "      <td>41</td>\n",
              "    </tr>\n",
              "    <tr>\n",
              "      <th>1</th>\n",
              "      <td>1</td>\n",
              "      <td>7618745059</td>\n",
              "      <td>Two guys on my ship did the same thing and wer...</td>\n",
              "      <td>1905</td>\n",
              "      <td>1977</td>\n",
              "      <td>1925</td>\n",
              "      <td>1976</td>\n",
              "      <td>Whataboutism</td>\n",
              "      <td>7</td>\n",
              "      <td>1</td>\n",
              "      <td>72</td>\n",
              "      <td>51</td>\n",
              "    </tr>\n",
              "    <tr>\n",
              "      <th>2</th>\n",
              "      <td>2</td>\n",
              "      <td>7618745059</td>\n",
              "      <td>“They used me as an example because of [the ba...</td>\n",
              "      <td>2312</td>\n",
              "      <td>2454</td>\n",
              "      <td>2312</td>\n",
              "      <td>2388</td>\n",
              "      <td>Causal_Oversimplification</td>\n",
              "      <td>6</td>\n",
              "      <td>1</td>\n",
              "      <td>142</td>\n",
              "      <td>76</td>\n",
              "    </tr>\n",
              "    <tr>\n",
              "      <th>3</th>\n",
              "      <td>3</td>\n",
              "      <td>7618745059</td>\n",
              "      <td>The government actively destroyed his life an ...</td>\n",
              "      <td>2710</td>\n",
              "      <td>2819</td>\n",
              "      <td>2725</td>\n",
              "      <td>2782</td>\n",
              "      <td>Exaggeration,Minimisation</td>\n",
              "      <td>8</td>\n",
              "      <td>1</td>\n",
              "      <td>109</td>\n",
              "      <td>57</td>\n",
              "    </tr>\n",
              "    <tr>\n",
              "      <th>4</th>\n",
              "      <td>4</td>\n",
              "      <td>7618745059</td>\n",
              "      <td>Ex-Sailor Pardoned By Trump Says He’s SUING Ob...</td>\n",
              "      <td>0</td>\n",
              "      <td>59</td>\n",
              "      <td>0</td>\n",
              "      <td>0</td>\n",
              "      <td>O</td>\n",
              "      <td>0</td>\n",
              "      <td>0</td>\n",
              "      <td>59</td>\n",
              "      <td>0</td>\n",
              "    </tr>\n",
              "  </tbody>\n",
              "</table>\n",
              "</div>"
            ],
            "text/plain": [
              "   index          id  ... sentence_length  prop_length\n",
              "0      0  7618745059  ...             178           41\n",
              "1      1  7618745059  ...              72           51\n",
              "2      2  7618745059  ...             142           76\n",
              "3      3  7618745059  ...             109           57\n",
              "4      4  7618745059  ...              59            0\n",
              "\n",
              "[5 rows x 12 columns]"
            ]
          },
          "metadata": {
            "tags": []
          },
          "execution_count": 78
        }
      ]
    },
    {
      "cell_type": "markdown",
      "metadata": {
        "id": "q7cXsbW4Xwgg"
      },
      "source": [
        "For the purpose of sequence tagging a subset dataframe is formed from those sentences which hold a propaganda technique"
      ]
    },
    {
      "cell_type": "code",
      "metadata": {
        "id": "3nSjTQY4Ofep",
        "outputId": "c2d3b152-f5f1-47c8-e787-699b2698e06b",
        "colab": {
          "base_uri": "https://localhost:8080/",
          "height": 644
        }
      },
      "source": [
        "\n",
        "import seaborn as sns\n",
        "import matplotlib.pyplot as plt\n",
        "\n",
        "plt.subplots(figsize=(7,6), dpi=100)\n",
        "sns.distplot( df['prop_length'] , color=\"dodgerblue\", label=\"sentence_length\")\n",
        "#sns.distplot( df.loc[df.species=='virginica', \"sepal_length\"] , color=\"orange\", label=\"virginica\")\n",
        "#sns.distplot( df.loc[df.species=='versicolor', \"sepal_length\"] , color=\"deeppink\", label=\"versicolor\")\n",
        "sns.distplot( df['sentence_length'] , color=\"deeppink\",  label=\"propaganda_length\")\n",
        "\n",
        "plt.title('Length of strings')\n",
        "plt.legend();        \n",
        "        "
      ],
      "execution_count": 79,
      "outputs": [
        {
          "output_type": "stream",
          "text": [
            "/usr/local/lib/python3.6/dist-packages/seaborn/distributions.py:2551: FutureWarning: `distplot` is a deprecated function and will be removed in a future version. Please adapt your code to use either `displot` (a figure-level function with similar flexibility) or `histplot` (an axes-level function for histograms).\n",
            "  warnings.warn(msg, FutureWarning)\n",
            "/usr/local/lib/python3.6/dist-packages/seaborn/distributions.py:2551: FutureWarning: `distplot` is a deprecated function and will be removed in a future version. Please adapt your code to use either `displot` (a figure-level function with similar flexibility) or `histplot` (an axes-level function for histograms).\n",
            "  warnings.warn(msg, FutureWarning)\n"
          ],
          "name": "stderr"
        },
        {
          "output_type": "display_data",
          "data": {
            "image/png": "[encoded data removed]",
            "text/plain": [
              "<Figure size 700x600 with 1 Axes>"
            ]
          },
          "metadata": {
            "tags": [],
            "needs_background": "light"
          }
        }
      ]
    },
    {
      "cell_type": "code",
      "metadata": {
        "id": "pwtxljzNPjVm",
        "outputId": "0ae4daaa-4654-4d89-e140-45b4f226005f",
        "colab": {
          "base_uri": "https://localhost:8080/",
          "height": 281
        }
      },
      "source": [
        "\n",
        "import matplotlib.pyplot as plt\n",
        "plt.hist(df['sentence_length'], color=\"dodgerblue\")\n",
        "plt.title('Length of sentences')\n",
        "plt.show()"
      ],
      "execution_count": 80,
      "outputs": [
        {
          "output_type": "display_data",
          "data": {
            "image/png": "[encoded data removed]",
            "text/plain": [
              "<Figure size 432x288 with 1 Axes>"
            ]
          },
          "metadata": {
            "tags": [],
            "needs_background": "light"
          }
        }
      ]
    },
    {
      "cell_type": "code",
      "metadata": {
        "id": "m2HQQ593P92w",
        "outputId": "35f43043-8480-40ed-95c1-3bdd68e2cf2a",
        "colab": {
          "base_uri": "https://localhost:8080/",
          "height": 281
        }
      },
      "source": [
        "\n",
        "import matplotlib.pyplot as plt\n",
        "plt.hist(df['prop_length'], color=\"dodgerblue\")\n",
        "plt.title('Length of propaganda')\n",
        "plt.show()\n"
      ],
      "execution_count": 81,
      "outputs": [
        {
          "output_type": "display_data",
          "data": {
            "image/png": "[encoded data removed]",
            "text/plain": [
              "<Figure size 432x288 with 1 Axes>"
            ]
          },
          "metadata": {
            "tags": [],
            "needs_background": "light"
          }
        }
      ]
    },
    {
      "cell_type": "code",
      "metadata": {
        "id": "iqOeDSEETalc",
        "outputId": "88ce4378-2470-4777-c717-8dd3566b1cf2",
        "colab": {
          "base_uri": "https://localhost:8080/"
        }
      },
      "source": [
        "from prettytable import PrettyTable\n",
        "table = PrettyTable()\n",
        "table.field_names = ['Attributes', 'Measures']\n",
        "table.add_row(['Max of sentence length', df['sentence_length'].max()])\n",
        "table.add_row(['Max of propaganda length', df['prop_length'].max()])\n",
        "table.add_row(['Mean of sentence length', df['sentence_length'].mean()])\n",
        "table.add_row(['Mean of propaganda length', df['prop_length'].mean()])\n",
        "table.add_row(['Min of sentence length', df['sentence_length'].min()])\n",
        "table.add_row(['Min of propaganda length', df['prop_length'].min()])\n",
        "print(table)"
      ],
      "execution_count": 82,
      "outputs": [
        {
          "output_type": "stream",
          "text": [
            "+---------------------------+--------------------+\n",
            "|         Attributes        |      Measures      |\n",
            "+---------------------------+--------------------+\n",
            "|   Max of sentence length  |        817         |\n",
            "|  Max of propaganda length |        430         |\n",
            "|  Mean of sentence length  | 131.66404266124937 |\n",
            "| Mean of propaganda length | 15.778821736922296 |\n",
            "|   Min of sentence length  |         1          |\n",
            "|  Min of propaganda length |         0          |\n",
            "+---------------------------+--------------------+\n"
          ],
          "name": "stdout"
        }
      ]
    },
    {
      "cell_type": "code",
      "metadata": {
        "id": "Dm82twf0XjE2"
      },
      "source": [
        "#Now we make the exact same dataframe for test and validation folders \n",
        "dataset_test=make_dataset(Path('/content/drive/My Drive/DSP/data/protechn_corpus_eval/test'))\n",
        "dataset_dev=make_dataset(Path('/content/drive/My Drive/DSP/data/protechn_corpus_eval/dev'))"
      ],
      "execution_count": 56,
      "outputs": []
    },
    {
      "cell_type": "code",
      "metadata": {
        "id": "YrhSfVFuZE7u"
      },
      "source": [
        "#make test set\n",
        "empty_test=[]\n",
        "for i in dataset_test:\n",
        "    \n",
        "    temp=DataFrame(i, columns=['id', 'full_sent', 'start_sent', 'end_sent', 'start_prop', 'end_prop','prop', 'ex1', 'ex2' ])\n",
        "    empty_test.append(temp)\n",
        "\n",
        "df_test=pd.concat(empty_test)  \n",
        "df_test = df_test.drop(['ex1'],axis =1).drop(['ex2'],axis =1)\n",
        "df_test.head()\n",
        "df_test.prop.value_counts()\n",
        "df_test=df_test.reset_index()\n",
        "#del df_test['index']\n",
        "\n",
        "label_dict\n",
        "df_test['label']=df_test.prop.replace(label_dict)\n",
        "df_test['binary']=10\n",
        "#df_test.at[1,'binary']=11\n",
        "\n",
        "for i in range (0, 4490):\n",
        "    if (df_test.iloc[i]['label']==0 ) :\n",
        "        \n",
        "        df_test.at[i, 'binary']= 0 \n",
        "    else:\n",
        "        #False\n",
        "        df_test.at[i, 'binary']= 1 \n",
        "#df_test.head(15)"
      ],
      "execution_count": 83,
      "outputs": []
    },
    {
      "cell_type": "code",
      "metadata": {
        "id": "7qTDK5EO8RjT",
        "outputId": "63719a13-0285-4ed3-9d94-158979eedd91",
        "colab": {
          "base_uri": "https://localhost:8080/"
        }
      },
      "source": [
        "only_prop_df=df[(df[\"binary\"] == 1)]\n",
        "print(\"size of train is: \", only_prop_df.shape[0])\n",
        "test_only_prop_df=df_test[(df_test[\"binary\"] == 1)]\n",
        "print(\"size of test is: \", test_only_prop_df.shape[0])"
      ],
      "execution_count": 84,
      "outputs": [
        {
          "output_type": "stream",
          "text": [
            "size of train is:  5415\n",
            "size of test is:  1490\n"
          ],
          "name": "stdout"
        }
      ]
    },
    {
      "cell_type": "code",
      "metadata": {
        "id": "R7IF55GX8bUj"
      },
      "source": [
        "    \n",
        "      \n",
        "def clean(test):\n",
        "    \n",
        "     return re.sub(r'''\n",
        "               [,.;“”*:`/\"@#-?!&_$()]+  # Accept one or more copies of punctuation\n",
        "               \\ *           # plus zero or more copies of a space,\n",
        "               ''',\n",
        "               \" \",          # and replace it with a single space\n",
        "               test, flags=re.VERBOSE).replace('[','').replace(']','')  \n",
        "\n",
        "           \n",
        "            "
      ],
      "execution_count": 85,
      "outputs": []
    },
    {
      "cell_type": "code",
      "metadata": {
        "id": "8hBziaZ58ffP"
      },
      "source": [
        "import re"
      ],
      "execution_count": 86,
      "outputs": []
    },
    {
      "cell_type": "markdown",
      "metadata": {
        "id": "lFdoyAo9beaL"
      },
      "source": [
        "In this part each sentence is tagged such that words that signal a string of propaganda technique  are tagged as that technique and the rest of words in that sentence are tagged as none. "
      ]
    },
    {
      "cell_type": "code",
      "metadata": {
        "id": "emaHXW5c8Mv3"
      },
      "source": [
        "all_tagged=[]\n",
        "\"\"\"Pad token is 21\"\"\"\n",
        "\n",
        "for i in range (0, 5415):\n",
        "    #number of training example in one tsv file-length of each tsv dataframe\n",
        "    #length= list_data[i].shape[0]\n",
        "    #temp= nltk.sent_tokenize(s1[i])\n",
        "        \n",
        "    sentstart= only_prop_df.iloc[i][3]\n",
        "    sentend= only_prop_df.iloc[i][4]\n",
        "    propstart= only_prop_df.iloc[i][5]\n",
        "    propend= only_prop_df.iloc[i][6]\n",
        "    #label\n",
        "    propclass=only_prop_df.iloc[i][8]\n",
        "    count=0\n",
        "    if propstart !=sentstart:\n",
        "        #begin=df.iloc[i][4]\n",
        "        #end=df.iloc[i][5]\n",
        "        if propend !=sentend:\n",
        "            begin= propstart-sentstart\n",
        "            #proplength=propend_propstart   this is the length of the propaganda token\n",
        "            end=propend-propstart+begin\n",
        "            #beginstring.append(only_prop_df.iloc[i][2][:begin])\n",
        "            length1=len(clean(only_prop_df.iloc[i][2][:begin]).split())\n",
        "            begintag=[0]*length1\n",
        "            \n",
        "            #this is the substring that should be tagged\n",
        "            length2=len(clean(only_prop_df.iloc[i][2][begin:end]).split())\n",
        "            #midstring.append(clean(only_prop_df.iloc[i][2][begin:end]).split()\n",
        "            midtag=[propclass]*length2\n",
        "\n",
        "            \n",
        "            length3=len(clean(only_prop_df.iloc[i][2][end:]).split())\n",
        "            endtag=[0]*length3\n",
        "            \n",
        "            all_tagged.append(begintag+midtag+endtag)\n",
        "                  \n",
        "        else:\n",
        "            \n",
        "            begin= propstart-sentstart\n",
        "            #proplength=propend_propstart   this is the length of the propaganda token\n",
        "            #end=propend-propstart+begin\n",
        "            length1=len(clean(only_prop_df.iloc[i][2][:begin]).split())\n",
        "            begintag=[0]*length1\n",
        "            # this is what should be tagged\n",
        "            midstring=[]  \n",
        "            length2=len(clean(only_prop_df.iloc[i][2][begin:]).split())\n",
        "            midtag=[propclass]*length2\n",
        "            \n",
        "            all_tagged.append(begintag+midtag)\n",
        "\n",
        "            \n",
        "    else:\n",
        "        \n",
        "        if  propend !=sentend:\n",
        "            \n",
        "                    \n",
        "            #begin= propstart-sentstart\n",
        "            begin=0\n",
        "            #proplength=propend_propstart   this is the length of the propaganda token\n",
        "            end=propend-propstart\n",
        "            #this is the substring that should be tagged\n",
        "            length1=len(clean(only_prop_df.iloc[i][2][:end]).split())\n",
        "            begintag=[propclass]*length1\n",
        "            \n",
        "            length2=len(clean(only_prop_df.iloc[i][2][end:]).split())\n",
        "            endtag=[0]*length2\n",
        "            all_tagged.append(begintag+endtag)\n",
        "\n",
        "        else:  \n",
        "                       \n",
        "            length= len(clean(only_prop_df.iloc[i][2]).split())\n",
        "            tag=[propclass]*length\n",
        "            all_tagged.append(tag)\n",
        "\n",
        "\n",
        "        "
      ],
      "execution_count": 87,
      "outputs": []
    },
    {
      "cell_type": "code",
      "metadata": {
        "id": "hHrblMQA8jIz",
        "outputId": "20f4d380-fcdd-466c-d4fd-8347ea662753",
        "colab": {
          "base_uri": "https://localhost:8080/"
        }
      },
      "source": [
        "print(all_tagged[0])\n",
        "print(\"size of all taged sentences from training set is:\", len(all_tagged))\n",
        "assert len(all_tagged)==(len(only_prop_df))"
      ],
      "execution_count": 88,
      "outputs": [
        {
          "output_type": "stream",
          "text": [
            "[0, 0, 0, 0, 0, 0, 0, 0, 0, 0, 0, 0, 0, 0, 0, 0, 0, 0, 0, 0, 0, 0, 0, 7, 7, 7, 7, 7, 7]\n",
            "size of all taged sentences from training set is: 5415\n"
          ],
          "name": "stdout"
        }
      ]
    },
    {
      "cell_type": "markdown",
      "metadata": {
        "id": "uBeXwStxcLaK"
      },
      "source": [
        "The tag_map corresponds to one of the possible tags a word can have. The cell below highlights the  classes that will be predicting. "
      ]
    },
    {
      "cell_type": "code",
      "metadata": {
        "id": "WB0oi01f86L-",
        "outputId": "380b4a64-75ed-47a5-8e16-86e26a3678bf",
        "colab": {
          "base_uri": "https://localhost:8080/"
        }
      },
      "source": [
        "tag_map= {'0': 0, 'Black-and-White_Fallacy': 1, 'Loaded_Language': 2, 'Flag-Waving': 3,\n",
        "  'Name_Calling,Labeling': 4, 'Slogans': 5, 'Causal_Oversimplification': 6, 'Whataboutism': 7, 'Exaggeration,Minimisation': 8,\n",
        "  'Doubt': 9, 'Appeal_to_Authority': 10, 'Repetition': 11, 'Appeal_to_fear-prejudice': 12, 'Thought-terminating_Cliches': 13,\n",
        "  'Bandwagon': 14, 'Red_Herring': 15, 'Reductio_ad_hitlerum': 16, 'Obfuscation,Intentional_Vagueness,Confusion': 17, 'Straw_Men': 18}\n",
        " \n",
        " \n",
        "full_sent= only_prop_df['full_sent'].tolist()\n",
        "print(tag_map)\n",
        " "
      ],
      "execution_count": 89,
      "outputs": [
        {
          "output_type": "stream",
          "text": [
            "{'0': 0, 'Black-and-White_Fallacy': 1, 'Loaded_Language': 2, 'Flag-Waving': 3, 'Name_Calling,Labeling': 4, 'Slogans': 5, 'Causal_Oversimplification': 6, 'Whataboutism': 7, 'Exaggeration,Minimisation': 8, 'Doubt': 9, 'Appeal_to_Authority': 10, 'Repetition': 11, 'Appeal_to_fear-prejudice': 12, 'Thought-terminating_Cliches': 13, 'Bandwagon': 14, 'Red_Herring': 15, 'Reductio_ad_hitlerum': 16, 'Obfuscation,Intentional_Vagueness,Confusion': 17, 'Straw_Men': 18}\n"
          ],
          "name": "stdout"
        }
      ]
    },
    {
      "cell_type": "code",
      "metadata": {
        "id": "awG4JEp_9Fkt"
      },
      "source": [
        "from string import punctuation\n"
      ],
      "execution_count": 90,
      "outputs": []
    },
    {
      "cell_type": "markdown",
      "metadata": {
        "id": "ilU8hgtbcm9h"
      },
      "source": [
        "vocab_to_int is a dictionary that translates a word string to a unique number. Given a sentence,then it is possible to  represent it as an array of numbers translating with this dictionary."
      ]
    },
    {
      "cell_type": "markdown",
      "metadata": {
        "id": "22SknMsvfR-g"
      },
      "source": [
        "We will create an index mapping dictionary in such a way that the frequently occurring words are assigned lower indexes.  Counter method from Collections library is used for this purpose. \n"
      ]
    },
    {
      "cell_type": "code",
      "metadata": {
        "id": "iO8FW5oZ8-Ti",
        "outputId": "3986cb9d-05c0-4504-d256-d90856efed45",
        "colab": {
          "base_uri": "https://localhost:8080/"
        }
      },
      "source": [
        "for i in range(0,5415):\n",
        "    \n",
        "    \n",
        "    full_sent[i]=full_sent[i].lower()\n",
        "    full_sent[i]=clean(full_sent[i])\n",
        "    \n",
        "    \n",
        "#with space\n",
        "all_text2 = ' '.join([c for c in full_sent if c not in punctuation])\n",
        "#without space\n",
        "all_text2 = ''.join([c for c in all_text2 if c not in punctuation])    \n",
        " \n",
        "all_text2 = all_text2.split('\\n')\n",
        "all_text2 = ' '.join(all_text2)\n",
        "words2=all_text2.split()\n",
        "from collections import Counter\n",
        "\n",
        "counts = Counter(words2)\n",
        "vocab = sorted(counts, key=counts.get, reverse=True)\n",
        "\n",
        "#print(vocab)\n",
        "vocab_to_int = {word2: ii for ii, word2 in enumerate(vocab, 1)}\n",
        "#print(vocab_to_int)\n",
        "print('vocab[\"at\"]:', vocab_to_int[\"at\"])\n"
      ],
      "execution_count": 91,
      "outputs": [
        {
          "output_type": "stream",
          "text": [
            "vocab[\"at\"]: 28\n"
          ],
          "name": "stdout"
        }
      ]
    },
    {
      "cell_type": "code",
      "metadata": {
        "id": "UfEpXWWLB8cY"
      },
      "source": [
        "full_sent_split=[]\n",
        "for i in range(0, 5415):\n",
        "    full_sent_split.append(full_sent[i].split())\n",
        "    \n",
        "full_sent_ints = [] \n",
        "\n",
        "for i in range(5415):     \n",
        "    full_sent_ints.append([vocab_to_int[word] for word in full_sent_split[i]])\n",
        "    "
      ],
      "execution_count": 92,
      "outputs": []
    },
    {
      "cell_type": "code",
      "metadata": {
        "id": "GU9-PceYJkzb",
        "outputId": "f91d49ce-a340-40bb-89a9-c0e0f6439694",
        "colab": {
          "base_uri": "https://localhost:8080/"
        }
      },
      "source": [
        "print(len(full_sent_ints))\n",
        "print(len(all_tagged))"
      ],
      "execution_count": 93,
      "outputs": [
        {
          "output_type": "stream",
          "text": [
            "5415\n",
            "5415\n"
          ],
          "name": "stdout"
        }
      ]
    },
    {
      "cell_type": "code",
      "metadata": {
        "id": "SdEKKCShJHiL"
      },
      "source": [
        "vocab=vocab_to_int\n",
        "tag_map=tag_map\n",
        "t_sentences=full_sent_ints[:4500]\n",
        "t_labels=all_tagged[:4500]\n",
        "t_size=len(t_labels)\n",
        "v_sentences=full_sent_ints[4500:5000]\n",
        "v_labels=all_tagged[4500:5000]\n",
        "v_size=len(v_labels)\n",
        "test_sentences=full_sent_ints[5000:]\n",
        "test_labels=all_tagged[5000:]\n",
        "test_size=len(test_labels)\n",
        "\n"
      ],
      "execution_count": 94,
      "outputs": []
    },
    {
      "cell_type": "code",
      "metadata": {
        "id": "EFWlbplxXMD4",
        "outputId": "b05aefa5-c7dc-4d5e-8b44-a2d6a2305ce4",
        "colab": {
          "base_uri": "https://localhost:8080/"
        }
      },
      "source": [
        "print(t_sentences[1])\n",
        "print(t_labels[1])\n",
        "print(t_size)"
      ],
      "execution_count": 95,
      "outputs": [
        {
          "output_type": "stream",
          "text": [
            "[121, 2308, 13, 87, 3901, 107, 1, 173, 258, 4, 1726, 962, 10, 1303]\n",
            "[0, 0, 0, 0, 0, 7, 7, 7, 7, 7, 7, 7, 7, 7]\n",
            "4500\n"
          ],
          "name": "stdout"
        }
      ]
    },
    {
      "cell_type": "code",
      "metadata": {
        "id": "36xarsLOMlgw",
        "outputId": "0d3769f9-913c-40e3-ffe0-8cc233e47938",
        "colab": {
          "base_uri": "https://localhost:8080/"
        }
      },
      "source": [
        "# Exploring information about the data\n",
        "print('The number of outputs in tag_map is: ', len(tag_map))\n",
        "# The number of vocabulary tokens (including <PAD>)\n",
        "g_vocab_size = len(vocab)\n",
        "print(f\"Num of vocabulary words: {g_vocab_size}\")\n",
        "print('The vocab size is:', len(vocab))\n",
        "print('The training size is: ', t_size)\n",
        "print('The validation size is: ', v_size)\n",
        "print('An example of the first sentence is: ', t_sentences[0])\n",
        "print('An example of its corresponding label is: ', t_labels[0])"
      ],
      "execution_count": 96,
      "outputs": [
        {
          "output_type": "stream",
          "text": [
            "The number of outputs in tag_map is:  19\n",
            "Num of vocabulary words: 11665\n",
            "The vocab size is: 11665\n",
            "The training size is:  4500\n",
            "The validation size is:  500\n",
            "An example of the first sentence is:  [25, 3899, 1, 138, 6, 87, 146, 3, 177, 11, 17, 244, 1234, 120, 884, 159, 2065, 3, 3900, 307, 6, 16, 146, 30, 25, 620, 2899, 308, 147]\n",
            "An example of its corresponding label is:  [0, 0, 0, 0, 0, 0, 0, 0, 0, 0, 0, 0, 0, 0, 0, 0, 0, 0, 0, 0, 0, 0, 0, 7, 7, 7, 7, 7, 7]\n"
          ],
          "name": "stdout"
        }
      ]
    },
    {
      "cell_type": "code",
      "metadata": {
        "id": "uuhonyDbIbkL"
      },
      "source": [
        "# data_generator behaves like an iterator; it will return the next item \n",
        "def data_generator(batch_size, x, y, pad, shuffle=False, verbose=False):\n",
        "    '''\n",
        "      Output:\n",
        "        a tuple containing 2 elements:\n",
        "        X - np.ndarray of dim (batch_size, max_len) of padded sentences\n",
        "        Y - np.ndarray of dim (batch_size, max_len) of tags associated with the sentences in X\n",
        "    '''\n",
        "    \n",
        "    # count the number of lines in data_lines\n",
        "    num_lines = len(x)\n",
        "    \n",
        "    # create an array with the indexes of data_lines that can be shuffled\n",
        "    lines_index = [*range(num_lines)]\n",
        "    \n",
        "    # shuffle the indexes if shuffle is set to True\n",
        "    if shuffle:\n",
        "        rnd.shuffle(lines_index)\n",
        "    \n",
        "    index = 0 # tracks current location in x, y\n",
        "    while True:\n",
        "        buffer_x = [0] * batch_size # Temporal array to store the raw x data for this batch\n",
        "        buffer_y = [0] * batch_size \n",
        "                \n",
        "        \n",
        "        \n",
        "        # Find maximum length of sentences in x[index : index + batch_size] for this batch. \n",
        "        max_len = 0\n",
        "        for i in range(batch_size):\n",
        "            if index >= num_lines:\n",
        "                index = 0\n",
        "                if shuffle:\n",
        "                    rnd.shuffle(lines_index)\n",
        "            \n",
        "            # The current position is obtained using `lines_index[index]`\n",
        "            buffer_x[i] = x[lines_index[index]]\n",
        "            \n",
        "            # Store the y value at the current position into the buffer_y\n",
        "            buffer_y[i] = y[lines_index[index]]\n",
        "            \n",
        "            lenx = len(x[lines_index[index]])     #length of current x[]\n",
        "            if lenx > max_len:\n",
        "                max_len = lenx                   #max_len tracks longest x[]\n",
        "            \n",
        "            # increment index by one\n",
        "            index += 1\n",
        "\n",
        "\n",
        "        # create X,Y, NumPy arrays of size (batch_size, max_len)\n",
        "        X = np.full((batch_size, max_len), pad)\n",
        "        Y = np.full((batch_size, max_len), pad)\n",
        "\n",
        "        # copy values from lists to NumPy arrays. \n",
        "        for i in range(batch_size):\n",
        "            # get the example (sentence as a tensor)\n",
        "            x_i = buffer_x[i]\n",
        "            \n",
        "            # similarly, get the example's labels\n",
        "            # in `buffer_y` at the `i` index\n",
        "            y_i = buffer_y[i]\n",
        "            \n",
        "            # Walk through each word in x_i\n",
        "            for j in range(len(x_i)):\n",
        "                # store the word in x_i at position j into X\n",
        "                X[i, j] = x_i[j]\n",
        "                \n",
        "                # store the label in y_i at position j into Y\n",
        "                Y[i, j] = y_i[j]\n",
        "\n",
        "        if verbose: print(\"index=\", index)\n",
        "        yield((X,Y))"
      ],
      "execution_count": 97,
      "outputs": []
    },
    {
      "cell_type": "code",
      "metadata": {
        "id": "Z2SDsuy4Jeu9",
        "outputId": "75e6fbce-b22f-4564-a036-7f1da7b14339",
        "colab": {
          "base_uri": "https://localhost:8080/"
        }
      },
      "source": [
        "batch_size = 5\n",
        "mini_sentences = t_sentences[0: 8]\n",
        "mini_labels = t_labels[0: 8]\n",
        "dg = data_generator(batch_size, mini_sentences, mini_labels, 12121, shuffle=False, verbose=True)\n",
        "X1, Y1 = next(dg)\n",
        "X2, Y2 = next(dg)\n",
        "print(Y1.shape, X1.shape, Y2.shape, X2.shape)\n",
        "print(X1[0][:], \"\\n\", Y1[0][:])"
      ],
      "execution_count": 98,
      "outputs": [
        {
          "output_type": "stream",
          "text": [
            "index= 5\n",
            "index= 2\n",
            "(5, 39) (5, 39) (5, 33) (5, 33)\n",
            "[   25  3899     1   138     6    87   146     3   177    11    17   244\n",
            "  1234   120   884   159  2065     3  3900   307     6    16   146    30\n",
            "    25   620  2899   308   147 12121 12121 12121 12121 12121 12121 12121\n",
            " 12121 12121 12121] \n",
            " [    0     0     0     0     0     0     0     0     0     0     0     0\n",
            "     0     0     0     0     0     0     0     0     0     0     0     7\n",
            "     7     7     7     7     7 12121 12121 12121 12121 12121 12121 12121\n",
            " 12121 12121 12121]\n"
          ],
          "name": "stdout"
        }
      ]
    },
    {
      "cell_type": "code",
      "metadata": {
        "id": "MZb4dxnjN2VJ"
      },
      "source": [
        "\n",
        "def NER(vocab_size=35181, d_model=50, tags=tag_map):\n",
        "    '''\n",
        "      Input: \n",
        "        vocab_size - integer containing the size of the vocabulary\n",
        "        d_model - integer describing the embedding size\n",
        "      Output:\n",
        "        model - a serial model\n",
        "    '''\n",
        "    model = tl.Serial(\n",
        "        tl.Embedding(vocab_size, d_model), # Embedding layer\n",
        "     tl.LSTM(d_model), # LSTM layer\n",
        "      tl.Dense(len(tags)), # Dense layer with len(tags) units\n",
        "      tl.LogSoftmax()# LogSoftmax layer\n",
        "      )\n",
        "    return model"
      ],
      "execution_count": 99,
      "outputs": []
    },
    {
      "cell_type": "code",
      "metadata": {
        "id": "8mtqivyzN3Ux",
        "outputId": "fb1034f3-9628-45a2-cb47-bf741c1313a0",
        "colab": {
          "base_uri": "https://localhost:8080/"
        }
      },
      "source": [
        "# initializing the model\n",
        "model = NER()\n",
        "# display the model\n",
        "print(model)"
      ],
      "execution_count": 100,
      "outputs": [
        {
          "output_type": "stream",
          "text": [
            "Serial[\n",
            "  Embedding_35181_50\n",
            "  LSTM_50\n",
            "  Dense_19\n",
            "  LogSoftmax\n",
            "]\n"
          ],
          "name": "stdout"
        }
      ]
    },
    {
      "cell_type": "code",
      "metadata": {
        "id": "dI-u1zzJN7ft"
      },
      "source": [
        "from trax.supervised import training\n",
        "\n",
        "rnd.seed(33)\n",
        "\n",
        "batch_size = 64\n",
        "\n",
        "# Create training data, mask pad id=12121 for training\n",
        "train_generator = trax.supervised.inputs.add_loss_weights(\n",
        "    data_generator(batch_size, t_sentences, t_labels, 12121, True),\n",
        "    id_to_mask=12121)\n",
        "\n",
        "# Create validation data, mask pad id=12121 for training\n",
        "eval_generator = trax.supervised.inputs.add_loss_weights(\n",
        "    data_generator(batch_size, v_sentences, v_labels, 12121, True),\n",
        "    id_to_mask=12121)"
      ],
      "execution_count": 101,
      "outputs": []
    },
    {
      "cell_type": "code",
      "metadata": {
        "id": "UqbRofSaOGFd"
      },
      "source": [
        "# train_model\n",
        "def train_model(NER, train_generator, eval_generator, train_steps=1, output_dir='model'):\n",
        "    '''\n",
        "    Input: \n",
        "        NER - the model you are building\n",
        "        train_generator - The data generator for training examples\n",
        "        eval_generator - The data generator for validation examples,\n",
        "        train_steps - number of training steps\n",
        "        output_dir - folder to save your model\n",
        "    Output:\n",
        "        training_loop - a trax supervised training Loop\n",
        "    '''\n",
        "    train_task = training.TrainTask(\n",
        "      train_generator, # A train data generator\n",
        "      loss_layer = tl.CrossEntropyLoss(), # A cross-entropy loss function\n",
        "      optimizer = trax.optimizers.Adam(0.01),  # The adam optimizer\n",
        "    )\n",
        "\n",
        "    eval_task = training.EvalTask(\n",
        "      labeled_data = eval_generator, # A labeled data generator\n",
        "      metrics = [tl.CrossEntropyLoss(), tl.Accuracy()], # Evaluate with cross-entropy loss and accuracy\n",
        "      n_eval_batches = 10 # Number of batches to use on each evaluation\n",
        "    )\n",
        "\n",
        "    training_loop = training.Loop(\n",
        "        NER, # A model to train\n",
        "        train_task, # A train task\n",
        "        eval_task = eval_task, # The evaluation task\n",
        "        output_dir = output_dir) # The output directory\n",
        "\n",
        "    # Train with train_steps\n",
        "    training_loop.run(n_steps = train_steps)\n",
        "    return training_loop"
      ],
      "execution_count": 102,
      "outputs": []
    },
    {
      "cell_type": "code",
      "metadata": {
        "id": "2d4yGVRhTqRa",
        "outputId": "c1a59384-ef04-4086-8f84-29a6155040ad",
        "colab": {
          "base_uri": "https://localhost:8080/"
        }
      },
      "source": [
        "train_steps = 100            \n",
        "!rm -f 'model/model.pkl.gz'  # Remove old model.pkl if it exists\n",
        "\n",
        "# Train the model\n",
        "training_loop = train_model(NER(), train_generator, eval_generator, train_steps)"
      ],
      "execution_count": 103,
      "outputs": [
        {
          "output_type": "stream",
          "text": [
            "Step      1: train CrossEntropyLoss |  2.87387681\n",
            "Step      1: eval  CrossEntropyLoss |  2.10846030\n",
            "Step      1: eval          Accuracy |  0.67738598\n",
            "Step    100: train CrossEntropyLoss |  1.25575161\n",
            "Step    100: eval  CrossEntropyLoss |  1.35793239\n",
            "Step    100: eval          Accuracy |  0.69012842\n"
          ],
          "name": "stdout"
        }
      ]
    },
    {
      "cell_type": "code",
      "metadata": {
        "id": "SP4sf6Lphtxr"
      },
      "source": [
        "# loading in a pretrained model..\n",
        "model = NER()\n",
        "model.init(trax.shapes.ShapeDtype((1, 1), dtype=np.int32))\n",
        "\n",
        "# Load the pretrained model\n",
        "model.init_from_file('/content/model/model.pkl.gz', weights_only=True)"
      ],
      "execution_count": 104,
      "outputs": []
    },
    {
      "cell_type": "code",
      "metadata": {
        "id": "bhpfOubkTwzo",
        "outputId": "89f2d1a1-8056-4789-c10e-f799cdb903d4",
        "colab": {
          "base_uri": "https://localhost:8080/"
        }
      },
      "source": [
        "#Example of a comparision on a matrix \n",
        "a = np.array([1, 2, 3, 4])\n",
        "a == 2"
      ],
      "execution_count": 105,
      "outputs": [
        {
          "output_type": "execute_result",
          "data": {
            "text/plain": [
              "array([False,  True, False, False])"
            ]
          },
          "metadata": {
            "tags": []
          },
          "execution_count": 105
        }
      ]
    },
    {
      "cell_type": "code",
      "metadata": {
        "id": "yFdVTASKU81i",
        "outputId": "10a03241-6c4d-4209-ea3b-cbbc7d76e4ef",
        "colab": {
          "base_uri": "https://localhost:8080/"
        }
      },
      "source": [
        "# create the evaluation inputs\n",
        "x, y = next(data_generator(len(test_sentences), test_sentences, test_labels, 12121))\n",
        "print(\"input shapes\", x.shape, y.shape)"
      ],
      "execution_count": 106,
      "outputs": [
        {
          "output_type": "stream",
          "text": [
            "input shapes (415, 81) (415, 81)\n"
          ],
          "name": "stdout"
        }
      ]
    },
    {
      "cell_type": "code",
      "metadata": {
        "id": "nyjHMNQniB-k",
        "outputId": "c2412e27-e09f-43e4-8145-a1d0e11799c6",
        "colab": {
          "base_uri": "https://localhost:8080/"
        }
      },
      "source": [
        "# sample prediction\n",
        "tmp_pred = model(x)\n",
        "print(type(tmp_pred))\n",
        "print(f\"tmp_pred has shape: {tmp_pred.shape}\")"
      ],
      "execution_count": 107,
      "outputs": [
        {
          "output_type": "stream",
          "text": [
            "<class 'jax.interpreters.xla.DeviceArray'>\n",
            "tmp_pred has shape: (415, 81, 19)\n"
          ],
          "name": "stdout"
        }
      ]
    },
    {
      "cell_type": "code",
      "metadata": {
        "id": "jblsKCq2VfnG"
      },
      "source": [
        "#  evaluate_prediction\n",
        "def evaluate_prediction(pred, labels, pad):\n",
        "    \"\"\"\n",
        "    Inputs:\n",
        "        pred: prediction array with shape \n",
        "            (num examples, max sentence length in batch, num of classes)\n",
        "        labels: array of size (batch_size, seq_len)\n",
        "        pad: integer representing pad character\n",
        "    Outputs:\n",
        "        accuracy: float\n",
        "    \"\"\"\n",
        "    outputs = np.argmax(pred, axis=2)\n",
        "    print(\"outputs shape:\", outputs.shape)\n",
        "\n",
        "    mask = labels !=pad\n",
        "    print(\"mask shape:\", mask.shape, \"mask[0][20:30]:\", mask[0][20:30])\n",
        "    accuracy = np.sum(outputs == labels) / float(np.sum(mask))\n",
        "    return accuracy"
      ],
      "execution_count": 108,
      "outputs": []
    },
    {
      "cell_type": "code",
      "metadata": {
        "id": "JNQ2c0nsVgZ0",
        "outputId": "6d055801-1446-42cd-8fe9-0f0e93d4efde",
        "colab": {
          "base_uri": "https://localhost:8080/"
        }
      },
      "source": [
        "accuracy = evaluate_prediction(model(x), y, 12121)\n",
        "print(\"accuracy: \", accuracy)"
      ],
      "execution_count": 109,
      "outputs": [
        {
          "output_type": "stream",
          "text": [
            "outputs shape: (415, 81)\n",
            "mask shape: (415, 81) mask[0][20:30]: [ True  True  True  True  True  True  True  True  True  True]\n",
            "accuracy:  0.6982142857142857\n"
          ],
          "name": "stdout"
        }
      ]
    },
    {
      "cell_type": "code",
      "metadata": {
        "id": "d8rhvgKolmkN"
      },
      "source": [
        "# Try the output for the introduction example\n",
        "#sentence_for_Appeal_to_authority = \"Only police and law knows about this\"\n",
        "#sentence_for_Doubt = \"We are unsure as this is unclear how to be done\"\n",
        "\n",
        "sentence_for_exageration = \"This policy is terribly very wrong\"\n",
        "#s = [vocab[token] if token in vocab else vocab['UNK'] for token in sentence.split(' ')]\n"
      ],
      "execution_count": 110,
      "outputs": []
    },
    {
      "cell_type": "code",
      "metadata": {
        "id": "VBWVNqVco1bi",
        "outputId": "3d3b4d47-2349-4931-fab6-e3c7984ae789",
        "colab": {
          "base_uri": "https://localhost:8080/"
        }
      },
      "source": [
        "from string import punctuation\n",
        "\n",
        "def tokenize_sentence(test_sen):\n",
        "    test_sen = test_sen.lower() # lowercase\n",
        "    # get rid of punctuation\n",
        "    test_text = ''.join([c for c in test_sen if c not in punctuation])\n",
        "\n",
        "    # splitting by spaces\n",
        "    test_words = test_text.split()\n",
        "\n",
        "    # tokens\n",
        "    test_ints = []\n",
        "    test_ints.append([vocab_to_int[word] for word in test_words])\n",
        "\n",
        "    return test_ints\n",
        "\n",
        "# test code and generate tokenized review\n",
        "test_sent = tokenize_sentence(sentence_for_exageration)\n",
        "print(test_sent)"
      ],
      "execution_count": 111,
      "outputs": [
        {
          "output_type": "stream",
          "text": [
            "[[14, 624, 8, 7639, 103, 793]]\n"
          ],
          "name": "stdout"
        }
      ]
    }
  ]
}